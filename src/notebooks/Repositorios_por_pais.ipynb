{
 "cells": [
  {
   "cell_type": "code",
   "execution_count": 1,
   "metadata": {},
   "outputs": [],
   "source": [
    "import numpy as np\n",
    "import pandas as pd\n",
    "import matplotlib.pyplot as plt\n",
    "import seaborn as sns\n"
   ]
  },
  {
   "cell_type": "code",
   "execution_count": 2,
   "metadata": {},
   "outputs": [],
   "source": [
    "\n",
    "\n",
    "df_7 = pd.read_csv('data/info2/repositories.csv')\n",
    "fuente_7 = \"https://github.com/github/innovationgraph/tree/main\"\n",
    "\n",
    "\n",
    "# fuente_7 =  https://github.com/madnight/githut\n",
    "# ..."
   ]
  },
  {
   "cell_type": "markdown",
   "metadata": {},
   "source": [
    "Muestra mediante un head() los principales datasets con los que vas a trabajar"
   ]
  },
  {
   "cell_type": "code",
   "execution_count": 3,
   "metadata": {},
   "outputs": [
    {
     "data": {
      "application/vnd.microsoft.datawrangler.viewer.v0+json": {
       "columns": [
        {
         "name": "index",
         "rawType": "int64",
         "type": "integer"
        },
        {
         "name": "repositories",
         "rawType": "int64",
         "type": "integer"
        },
        {
         "name": "iso2_code",
         "rawType": "object",
         "type": "unknown"
        },
        {
         "name": "year",
         "rawType": "int64",
         "type": "integer"
        },
        {
         "name": "quarter",
         "rawType": "int64",
         "type": "integer"
        }
       ],
       "conversionMethod": "pd.DataFrame",
       "ref": "5fd9cf12-c452-4383-ac3f-a2309b4edf90",
       "rows": [
        [
         "0",
         "30669781",
         "US",
         "2020",
         "1"
        ],
        [
         "1",
         "20179087",
         "CN",
         "2020",
         "1"
        ],
        [
         "2",
         "17912888",
         "EU",
         "2020",
         "1"
        ],
        [
         "3",
         "9254535",
         "IN",
         "2020",
         "1"
        ],
        [
         "4",
         "4171705",
         "GB",
         "2020",
         "1"
        ],
        [
         "5",
         "3602025",
         "BR",
         "2020",
         "1"
        ],
        [
         "6",
         "3453638",
         "DE",
         "2020",
         "1"
        ],
        [
         "7",
         "3241750",
         "CA",
         "2020",
         "1"
        ],
        [
         "8",
         "3057681",
         "RU",
         "2020",
         "1"
        ],
        [
         "9",
         "2891946",
         "FR",
         "2020",
         "1"
        ],
        [
         "10",
         "2814553",
         "JP",
         "2020",
         "1"
        ],
        [
         "11",
         "1925215",
         "KR",
         "2020",
         "1"
        ],
        [
         "12",
         "1913481",
         "HK",
         "2020",
         "1"
        ],
        [
         "13",
         "1744385",
         "ES",
         "2020",
         "1"
        ],
        [
         "14",
         "1645127",
         "ID",
         "2020",
         "1"
        ],
        [
         "15",
         "1637559",
         "UA",
         "2020",
         "1"
        ],
        [
         "16",
         "1631400",
         "AU",
         "2020",
         "1"
        ],
        [
         "17",
         "1490080",
         "PL",
         "2020",
         "1"
        ],
        [
         "18",
         "1467690",
         "NL",
         "2020",
         "1"
        ],
        [
         "19",
         "1384527",
         "VN",
         "2020",
         "1"
        ],
        [
         "20",
         "1204885",
         "TW",
         "2020",
         "1"
        ],
        [
         "21",
         "1089820",
         "MX",
         "2020",
         "1"
        ],
        [
         "22",
         "941289",
         "SG",
         "2020",
         "1"
        ],
        [
         "23",
         "874565",
         "IT",
         "2020",
         "1"
        ],
        [
         "24",
         "863354",
         "SE",
         "2020",
         "1"
        ],
        [
         "25",
         "772897",
         "TR",
         "2020",
         "1"
        ],
        [
         "26",
         "678828",
         "CO",
         "2020",
         "1"
        ],
        [
         "27",
         "651461",
         "CH",
         "2020",
         "1"
        ],
        [
         "28",
         "642600",
         "TH",
         "2020",
         "1"
        ],
        [
         "29",
         "630912",
         "PH",
         "2020",
         "1"
        ],
        [
         "30",
         "613903",
         "IL",
         "2020",
         "1"
        ],
        [
         "31",
         "608445",
         "AR",
         "2020",
         "1"
        ],
        [
         "32",
         "588881",
         "BD",
         "2020",
         "1"
        ],
        [
         "33",
         "552638",
         "BE",
         "2020",
         "1"
        ],
        [
         "34",
         "512056",
         "PK",
         "2020",
         "1"
        ],
        [
         "35",
         "473269",
         "IE",
         "2020",
         "1"
        ],
        [
         "36",
         "470719",
         "BY",
         "2020",
         "1"
        ],
        [
         "37",
         "464407",
         "NG",
         "2020",
         "1"
        ],
        [
         "38",
         "445335",
         "DK",
         "2020",
         "1"
        ],
        [
         "39",
         "440201",
         "RO",
         "2020",
         "1"
        ],
        [
         "40",
         "432883",
         "EG",
         "2020",
         "1"
        ],
        [
         "41",
         "418955",
         "FI",
         "2020",
         "1"
        ],
        [
         "42",
         "417881",
         "ZA",
         "2020",
         "1"
        ],
        [
         "43",
         "411862",
         "CZ",
         "2020",
         "1"
        ],
        [
         "44",
         "411307",
         "PT",
         "2020",
         "1"
        ],
        [
         "45",
         "399306",
         "NZ",
         "2020",
         "1"
        ],
        [
         "46",
         "388901",
         "NO",
         "2020",
         "1"
        ],
        [
         "47",
         "385216",
         "MY",
         "2020",
         "1"
        ],
        [
         "48",
         "362975",
         "AT",
         "2020",
         "1"
        ],
        [
         "49",
         "356948",
         "PE",
         "2020",
         "1"
        ]
       ],
       "shape": {
        "columns": 4,
        "rows": 4250
       }
      },
      "text/html": [
       "<div>\n",
       "<style scoped>\n",
       "    .dataframe tbody tr th:only-of-type {\n",
       "        vertical-align: middle;\n",
       "    }\n",
       "\n",
       "    .dataframe tbody tr th {\n",
       "        vertical-align: top;\n",
       "    }\n",
       "\n",
       "    .dataframe thead th {\n",
       "        text-align: right;\n",
       "    }\n",
       "</style>\n",
       "<table border=\"1\" class=\"dataframe\">\n",
       "  <thead>\n",
       "    <tr style=\"text-align: right;\">\n",
       "      <th></th>\n",
       "      <th>repositories</th>\n",
       "      <th>iso2_code</th>\n",
       "      <th>year</th>\n",
       "      <th>quarter</th>\n",
       "    </tr>\n",
       "  </thead>\n",
       "  <tbody>\n",
       "    <tr>\n",
       "      <th>0</th>\n",
       "      <td>30669781</td>\n",
       "      <td>US</td>\n",
       "      <td>2020</td>\n",
       "      <td>1</td>\n",
       "    </tr>\n",
       "    <tr>\n",
       "      <th>1</th>\n",
       "      <td>20179087</td>\n",
       "      <td>CN</td>\n",
       "      <td>2020</td>\n",
       "      <td>1</td>\n",
       "    </tr>\n",
       "    <tr>\n",
       "      <th>2</th>\n",
       "      <td>17912888</td>\n",
       "      <td>EU</td>\n",
       "      <td>2020</td>\n",
       "      <td>1</td>\n",
       "    </tr>\n",
       "    <tr>\n",
       "      <th>3</th>\n",
       "      <td>9254535</td>\n",
       "      <td>IN</td>\n",
       "      <td>2020</td>\n",
       "      <td>1</td>\n",
       "    </tr>\n",
       "    <tr>\n",
       "      <th>4</th>\n",
       "      <td>4171705</td>\n",
       "      <td>GB</td>\n",
       "      <td>2020</td>\n",
       "      <td>1</td>\n",
       "    </tr>\n",
       "    <tr>\n",
       "      <th>...</th>\n",
       "      <td>...</td>\n",
       "      <td>...</td>\n",
       "      <td>...</td>\n",
       "      <td>...</td>\n",
       "    </tr>\n",
       "    <tr>\n",
       "      <th>4245</th>\n",
       "      <td>141</td>\n",
       "      <td>SH</td>\n",
       "      <td>2024</td>\n",
       "      <td>3</td>\n",
       "    </tr>\n",
       "    <tr>\n",
       "      <th>4246</th>\n",
       "      <td>128</td>\n",
       "      <td>CK</td>\n",
       "      <td>2024</td>\n",
       "      <td>3</td>\n",
       "    </tr>\n",
       "    <tr>\n",
       "      <th>4247</th>\n",
       "      <td>115</td>\n",
       "      <td>KI</td>\n",
       "      <td>2024</td>\n",
       "      <td>3</td>\n",
       "    </tr>\n",
       "    <tr>\n",
       "      <th>4248</th>\n",
       "      <td>104</td>\n",
       "      <td>MS</td>\n",
       "      <td>2024</td>\n",
       "      <td>3</td>\n",
       "    </tr>\n",
       "    <tr>\n",
       "      <th>4249</th>\n",
       "      <td>102</td>\n",
       "      <td>MH</td>\n",
       "      <td>2024</td>\n",
       "      <td>3</td>\n",
       "    </tr>\n",
       "  </tbody>\n",
       "</table>\n",
       "<p>4250 rows × 4 columns</p>\n",
       "</div>"
      ],
      "text/plain": [
       "      repositories iso2_code  year  quarter\n",
       "0         30669781        US  2020        1\n",
       "1         20179087        CN  2020        1\n",
       "2         17912888        EU  2020        1\n",
       "3          9254535        IN  2020        1\n",
       "4          4171705        GB  2020        1\n",
       "...            ...       ...   ...      ...\n",
       "4245           141        SH  2024        3\n",
       "4246           128        CK  2024        3\n",
       "4247           115        KI  2024        3\n",
       "4248           104        MS  2024        3\n",
       "4249           102        MH  2024        3\n",
       "\n",
       "[4250 rows x 4 columns]"
      ]
     },
     "execution_count": 3,
     "metadata": {},
     "output_type": "execute_result"
    }
   ],
   "source": [
    "df_7"
   ]
  },
  {
   "cell_type": "code",
   "execution_count": 4,
   "metadata": {},
   "outputs": [
    {
     "data": {
      "application/vnd.microsoft.datawrangler.viewer.v0+json": {
       "columns": [
        {
         "name": "index",
         "rawType": "int64",
         "type": "integer"
        },
        {
         "name": "repositories",
         "rawType": "int64",
         "type": "integer"
        },
        {
         "name": "iso2_code",
         "rawType": "object",
         "type": "string"
        },
        {
         "name": "year",
         "rawType": "int64",
         "type": "integer"
        },
        {
         "name": "quarter",
         "rawType": "int64",
         "type": "integer"
        }
       ],
       "conversionMethod": "pd.DataFrame",
       "ref": "9f8487f9-add4-4f5c-ac3c-f7a2c4b3c254",
       "rows": [
        [
         "0",
         "30669781",
         "US",
         "2020",
         "1"
        ],
        [
         "1",
         "20179087",
         "CN",
         "2020",
         "1"
        ],
        [
         "2",
         "17912888",
         "EU",
         "2020",
         "1"
        ],
        [
         "3",
         "9254535",
         "IN",
         "2020",
         "1"
        ],
        [
         "4",
         "4171705",
         "GB",
         "2020",
         "1"
        ]
       ],
       "shape": {
        "columns": 4,
        "rows": 5
       }
      },
      "text/html": [
       "<div>\n",
       "<style scoped>\n",
       "    .dataframe tbody tr th:only-of-type {\n",
       "        vertical-align: middle;\n",
       "    }\n",
       "\n",
       "    .dataframe tbody tr th {\n",
       "        vertical-align: top;\n",
       "    }\n",
       "\n",
       "    .dataframe thead th {\n",
       "        text-align: right;\n",
       "    }\n",
       "</style>\n",
       "<table border=\"1\" class=\"dataframe\">\n",
       "  <thead>\n",
       "    <tr style=\"text-align: right;\">\n",
       "      <th></th>\n",
       "      <th>repositories</th>\n",
       "      <th>iso2_code</th>\n",
       "      <th>year</th>\n",
       "      <th>quarter</th>\n",
       "    </tr>\n",
       "  </thead>\n",
       "  <tbody>\n",
       "    <tr>\n",
       "      <th>0</th>\n",
       "      <td>30669781</td>\n",
       "      <td>US</td>\n",
       "      <td>2020</td>\n",
       "      <td>1</td>\n",
       "    </tr>\n",
       "    <tr>\n",
       "      <th>1</th>\n",
       "      <td>20179087</td>\n",
       "      <td>CN</td>\n",
       "      <td>2020</td>\n",
       "      <td>1</td>\n",
       "    </tr>\n",
       "    <tr>\n",
       "      <th>2</th>\n",
       "      <td>17912888</td>\n",
       "      <td>EU</td>\n",
       "      <td>2020</td>\n",
       "      <td>1</td>\n",
       "    </tr>\n",
       "    <tr>\n",
       "      <th>3</th>\n",
       "      <td>9254535</td>\n",
       "      <td>IN</td>\n",
       "      <td>2020</td>\n",
       "      <td>1</td>\n",
       "    </tr>\n",
       "    <tr>\n",
       "      <th>4</th>\n",
       "      <td>4171705</td>\n",
       "      <td>GB</td>\n",
       "      <td>2020</td>\n",
       "      <td>1</td>\n",
       "    </tr>\n",
       "  </tbody>\n",
       "</table>\n",
       "</div>"
      ],
      "text/plain": [
       "   repositories iso2_code  year  quarter\n",
       "0      30669781        US  2020        1\n",
       "1      20179087        CN  2020        1\n",
       "2      17912888        EU  2020        1\n",
       "3       9254535        IN  2020        1\n",
       "4       4171705        GB  2020        1"
      ]
     },
     "execution_count": 4,
     "metadata": {},
     "output_type": "execute_result"
    }
   ],
   "source": [
    "df_7.head()"
   ]
  },
  {
   "cell_type": "code",
   "execution_count": 5,
   "metadata": {},
   "outputs": [
    {
     "data": {
      "application/vnd.microsoft.datawrangler.viewer.v0+json": {
       "columns": [
        {
         "name": "index",
         "rawType": "int64",
         "type": "integer"
        },
        {
         "name": "year",
         "rawType": "int64",
         "type": "integer"
        },
        {
         "name": "quarter",
         "rawType": "int64",
         "type": "integer"
        },
        {
         "name": "iso2_code",
         "rawType": "object",
         "type": "string"
        },
        {
         "name": "repositories",
         "rawType": "int64",
         "type": "integer"
        }
       ],
       "conversionMethod": "pd.DataFrame",
       "ref": "c672bb54-e92c-4af1-a297-4b18c291c656",
       "rows": [
        [
         "0",
         "2020",
         "1",
         "AD",
         "2109"
        ],
        [
         "1",
         "2020",
         "1",
         "AE",
         "169705"
        ],
        [
         "2",
         "2020",
         "1",
         "AF",
         "7235"
        ],
        [
         "3",
         "2020",
         "1",
         "AG",
         "665"
        ],
        [
         "4",
         "2020",
         "1",
         "AL",
         "36827"
        ],
        [
         "5",
         "2020",
         "1",
         "AM",
         "80828"
        ],
        [
         "6",
         "2020",
         "1",
         "AO",
         "9905"
        ],
        [
         "7",
         "2020",
         "1",
         "AQ",
         "112"
        ],
        [
         "8",
         "2020",
         "1",
         "AR",
         "608445"
        ],
        [
         "9",
         "2020",
         "1",
         "AT",
         "362975"
        ],
        [
         "10",
         "2020",
         "1",
         "AU",
         "1631400"
        ],
        [
         "11",
         "2020",
         "1",
         "AW",
         "899"
        ],
        [
         "12",
         "2020",
         "1",
         "AX",
         "582"
        ],
        [
         "13",
         "2020",
         "1",
         "AZ",
         "54656"
        ],
        [
         "14",
         "2020",
         "1",
         "BA",
         "56586"
        ],
        [
         "15",
         "2020",
         "1",
         "BB",
         "5049"
        ],
        [
         "16",
         "2020",
         "1",
         "BD",
         "588881"
        ],
        [
         "17",
         "2020",
         "1",
         "BE",
         "552638"
        ],
        [
         "18",
         "2020",
         "1",
         "BF",
         "3051"
        ],
        [
         "19",
         "2020",
         "1",
         "BG",
         "279984"
        ],
        [
         "20",
         "2020",
         "1",
         "BH",
         "11829"
        ],
        [
         "21",
         "2020",
         "1",
         "BI",
         "1579"
        ],
        [
         "22",
         "2020",
         "1",
         "BJ",
         "8359"
        ],
        [
         "23",
         "2020",
         "1",
         "BM",
         "3012"
        ],
        [
         "24",
         "2020",
         "1",
         "BN",
         "4385"
        ],
        [
         "25",
         "2020",
         "1",
         "BO",
         "83547"
        ],
        [
         "26",
         "2020",
         "1",
         "BQ",
         "288"
        ],
        [
         "27",
         "2020",
         "1",
         "BR",
         "3602025"
        ],
        [
         "28",
         "2020",
         "1",
         "BS",
         "2408"
        ],
        [
         "29",
         "2020",
         "1",
         "BT",
         "2183"
        ],
        [
         "30",
         "2020",
         "1",
         "BW",
         "4686"
        ],
        [
         "31",
         "2020",
         "1",
         "BY",
         "470719"
        ],
        [
         "32",
         "2020",
         "1",
         "BZ",
         "1712"
        ],
        [
         "33",
         "2020",
         "1",
         "CA",
         "3241750"
        ],
        [
         "34",
         "2020",
         "1",
         "CD",
         "8304"
        ],
        [
         "35",
         "2020",
         "1",
         "CG",
         "1037"
        ],
        [
         "36",
         "2020",
         "1",
         "CH",
         "651461"
        ],
        [
         "37",
         "2020",
         "1",
         "CI",
         "22849"
        ],
        [
         "38",
         "2020",
         "1",
         "CL",
         "353627"
        ],
        [
         "39",
         "2020",
         "1",
         "CM",
         "35227"
        ],
        [
         "40",
         "2020",
         "1",
         "CN",
         "20179087"
        ],
        [
         "41",
         "2020",
         "1",
         "CO",
         "678828"
        ],
        [
         "42",
         "2020",
         "1",
         "CR",
         "117394"
        ],
        [
         "43",
         "2020",
         "1",
         "CU",
         "11573"
        ],
        [
         "44",
         "2020",
         "1",
         "CV",
         "2303"
        ],
        [
         "45",
         "2020",
         "1",
         "CW",
         "2414"
        ],
        [
         "46",
         "2020",
         "1",
         "CY",
         "32398"
        ],
        [
         "47",
         "2020",
         "1",
         "CZ",
         "411862"
        ],
        [
         "48",
         "2020",
         "1",
         "DE",
         "3453638"
        ],
        [
         "49",
         "2020",
         "1",
         "DJ",
         "724"
        ]
       ],
       "shape": {
        "columns": 4,
        "rows": 4231
       }
      },
      "text/html": [
       "<div>\n",
       "<style scoped>\n",
       "    .dataframe tbody tr th:only-of-type {\n",
       "        vertical-align: middle;\n",
       "    }\n",
       "\n",
       "    .dataframe tbody tr th {\n",
       "        vertical-align: top;\n",
       "    }\n",
       "\n",
       "    .dataframe thead th {\n",
       "        text-align: right;\n",
       "    }\n",
       "</style>\n",
       "<table border=\"1\" class=\"dataframe\">\n",
       "  <thead>\n",
       "    <tr style=\"text-align: right;\">\n",
       "      <th></th>\n",
       "      <th>year</th>\n",
       "      <th>quarter</th>\n",
       "      <th>iso2_code</th>\n",
       "      <th>repositories</th>\n",
       "    </tr>\n",
       "  </thead>\n",
       "  <tbody>\n",
       "    <tr>\n",
       "      <th>0</th>\n",
       "      <td>2020</td>\n",
       "      <td>1</td>\n",
       "      <td>AD</td>\n",
       "      <td>2109</td>\n",
       "    </tr>\n",
       "    <tr>\n",
       "      <th>1</th>\n",
       "      <td>2020</td>\n",
       "      <td>1</td>\n",
       "      <td>AE</td>\n",
       "      <td>169705</td>\n",
       "    </tr>\n",
       "    <tr>\n",
       "      <th>2</th>\n",
       "      <td>2020</td>\n",
       "      <td>1</td>\n",
       "      <td>AF</td>\n",
       "      <td>7235</td>\n",
       "    </tr>\n",
       "    <tr>\n",
       "      <th>3</th>\n",
       "      <td>2020</td>\n",
       "      <td>1</td>\n",
       "      <td>AG</td>\n",
       "      <td>665</td>\n",
       "    </tr>\n",
       "    <tr>\n",
       "      <th>4</th>\n",
       "      <td>2020</td>\n",
       "      <td>1</td>\n",
       "      <td>AL</td>\n",
       "      <td>36827</td>\n",
       "    </tr>\n",
       "    <tr>\n",
       "      <th>...</th>\n",
       "      <td>...</td>\n",
       "      <td>...</td>\n",
       "      <td>...</td>\n",
       "      <td>...</td>\n",
       "    </tr>\n",
       "    <tr>\n",
       "      <th>4226</th>\n",
       "      <td>2024</td>\n",
       "      <td>3</td>\n",
       "      <td>YE</td>\n",
       "      <td>111175</td>\n",
       "    </tr>\n",
       "    <tr>\n",
       "      <th>4227</th>\n",
       "      <td>2024</td>\n",
       "      <td>3</td>\n",
       "      <td>YT</td>\n",
       "      <td>1208</td>\n",
       "    </tr>\n",
       "    <tr>\n",
       "      <th>4228</th>\n",
       "      <td>2024</td>\n",
       "      <td>3</td>\n",
       "      <td>ZA</td>\n",
       "      <td>1275250</td>\n",
       "    </tr>\n",
       "    <tr>\n",
       "      <th>4229</th>\n",
       "      <td>2024</td>\n",
       "      <td>3</td>\n",
       "      <td>ZM</td>\n",
       "      <td>59395</td>\n",
       "    </tr>\n",
       "    <tr>\n",
       "      <th>4230</th>\n",
       "      <td>2024</td>\n",
       "      <td>3</td>\n",
       "      <td>ZW</td>\n",
       "      <td>85796</td>\n",
       "    </tr>\n",
       "  </tbody>\n",
       "</table>\n",
       "<p>4231 rows × 4 columns</p>\n",
       "</div>"
      ],
      "text/plain": [
       "      year  quarter iso2_code  repositories\n",
       "0     2020        1        AD          2109\n",
       "1     2020        1        AE        169705\n",
       "2     2020        1        AF          7235\n",
       "3     2020        1        AG           665\n",
       "4     2020        1        AL         36827\n",
       "...    ...      ...       ...           ...\n",
       "4226  2024        3        YE        111175\n",
       "4227  2024        3        YT          1208\n",
       "4228  2024        3        ZA       1275250\n",
       "4229  2024        3        ZM         59395\n",
       "4230  2024        3        ZW         85796\n",
       "\n",
       "[4231 rows x 4 columns]"
      ]
     },
     "execution_count": 5,
     "metadata": {},
     "output_type": "execute_result"
    }
   ],
   "source": [
    "df_7_grouped =df_7.groupby(['year', \"quarter\",'iso2_code'])['repositories'].sum().reset_index()\n",
    "df_7_grouped"
   ]
  },
  {
   "cell_type": "code",
   "execution_count": 6,
   "metadata": {},
   "outputs": [
    {
     "data": {
      "application/vnd.microsoft.datawrangler.viewer.v0+json": {
       "columns": [
        {
         "name": "index",
         "rawType": "int64",
         "type": "integer"
        },
        {
         "name": "year",
         "rawType": "int64",
         "type": "integer"
        },
        {
         "name": "quarter",
         "rawType": "int64",
         "type": "integer"
        },
        {
         "name": "iso2_code",
         "rawType": "object",
         "type": "string"
        },
        {
         "name": "repositories",
         "rawType": "int64",
         "type": "integer"
        }
       ],
       "conversionMethod": "pd.DataFrame",
       "ref": "f8ca7b93-8628-4c93-97a9-35130c20cb0b",
       "rows": [
        [
         "199",
         "2020",
         "1",
         "US",
         "30669781"
        ],
        [
         "40",
         "2020",
         "1",
         "CN",
         "20179087"
        ],
        [
         "59",
         "2020",
         "1",
         "EU",
         "17912888"
        ],
        [
         "91",
         "2020",
         "1",
         "IN",
         "9254535"
        ],
        [
         "66",
         "2020",
         "1",
         "GB",
         "4171705"
        ],
        [
         "27",
         "2020",
         "1",
         "BR",
         "3602025"
        ],
        [
         "48",
         "2020",
         "1",
         "DE",
         "3453638"
        ],
        [
         "33",
         "2020",
         "1",
         "CA",
         "3241750"
        ],
        [
         "164",
         "2020",
         "1",
         "RU",
         "3057681"
        ],
        [
         "64",
         "2020",
         "1",
         "FR",
         "2891946"
        ],
        [
         "99",
         "2020",
         "1",
         "JP",
         "2814553"
        ],
        [
         "105",
         "2020",
         "1",
         "KR",
         "1925215"
        ],
        [
         "82",
         "2020",
         "1",
         "HK",
         "1913481"
        ],
        [
         "57",
         "2020",
         "1",
         "ES",
         "1744385"
        ],
        [
         "87",
         "2020",
         "1",
         "ID",
         "1645127"
        ],
        [
         "197",
         "2020",
         "1",
         "UA",
         "1637559"
        ],
        [
         "10",
         "2020",
         "1",
         "AU",
         "1631400"
        ],
        [
         "155",
         "2020",
         "1",
         "PL",
         "1490080"
        ],
        [
         "144",
         "2020",
         "1",
         "NL",
         "1467690"
        ],
        [
         "206",
         "2020",
         "1",
         "VN",
         "1384527"
        ],
        [
         "195",
         "2020",
         "1",
         "TW",
         "1204885"
        ],
        [
         "137",
         "2020",
         "1",
         "MX",
         "1089820"
        ],
        [
         "171",
         "2020",
         "1",
         "SG",
         "941289"
        ],
        [
         "95",
         "2020",
         "1",
         "IT",
         "874565"
        ],
        [
         "170",
         "2020",
         "1",
         "SE",
         "863354"
        ],
        [
         "193",
         "2020",
         "1",
         "TR",
         "772897"
        ],
        [
         "41",
         "2020",
         "1",
         "CO",
         "678828"
        ],
        [
         "36",
         "2020",
         "1",
         "CH",
         "651461"
        ],
        [
         "188",
         "2020",
         "1",
         "TH",
         "642600"
        ],
        [
         "153",
         "2020",
         "1",
         "PH",
         "630912"
        ],
        [
         "89",
         "2020",
         "1",
         "IL",
         "613903"
        ],
        [
         "8",
         "2020",
         "1",
         "AR",
         "608445"
        ],
        [
         "16",
         "2020",
         "1",
         "BD",
         "588881"
        ],
        [
         "17",
         "2020",
         "1",
         "BE",
         "552638"
        ],
        [
         "154",
         "2020",
         "1",
         "PK",
         "512056"
        ],
        [
         "88",
         "2020",
         "1",
         "IE",
         "473269"
        ],
        [
         "31",
         "2020",
         "1",
         "BY",
         "470719"
        ],
        [
         "142",
         "2020",
         "1",
         "NG",
         "464407"
        ],
        [
         "50",
         "2020",
         "1",
         "DK",
         "445335"
        ],
        [
         "162",
         "2020",
         "1",
         "RO",
         "440201"
        ],
        [
         "56",
         "2020",
         "1",
         "EG",
         "432883"
        ],
        [
         "60",
         "2020",
         "1",
         "FI",
         "418955"
        ],
        [
         "211",
         "2020",
         "1",
         "ZA",
         "417881"
        ],
        [
         "47",
         "2020",
         "1",
         "CZ",
         "411862"
        ],
        [
         "158",
         "2020",
         "1",
         "PT",
         "411307"
        ],
        [
         "147",
         "2020",
         "1",
         "NZ",
         "399306"
        ],
        [
         "145",
         "2020",
         "1",
         "NO",
         "388901"
        ],
        [
         "138",
         "2020",
         "1",
         "MY",
         "385216"
        ],
        [
         "9",
         "2020",
         "1",
         "AT",
         "362975"
        ],
        [
         "150",
         "2020",
         "1",
         "PE",
         "356948"
        ]
       ],
       "shape": {
        "columns": 4,
        "rows": 4231
       }
      },
      "text/html": [
       "<div>\n",
       "<style scoped>\n",
       "    .dataframe tbody tr th:only-of-type {\n",
       "        vertical-align: middle;\n",
       "    }\n",
       "\n",
       "    .dataframe tbody tr th {\n",
       "        vertical-align: top;\n",
       "    }\n",
       "\n",
       "    .dataframe thead th {\n",
       "        text-align: right;\n",
       "    }\n",
       "</style>\n",
       "<table border=\"1\" class=\"dataframe\">\n",
       "  <thead>\n",
       "    <tr style=\"text-align: right;\">\n",
       "      <th></th>\n",
       "      <th>year</th>\n",
       "      <th>quarter</th>\n",
       "      <th>iso2_code</th>\n",
       "      <th>repositories</th>\n",
       "    </tr>\n",
       "  </thead>\n",
       "  <tbody>\n",
       "    <tr>\n",
       "      <th>199</th>\n",
       "      <td>2020</td>\n",
       "      <td>1</td>\n",
       "      <td>US</td>\n",
       "      <td>30669781</td>\n",
       "    </tr>\n",
       "    <tr>\n",
       "      <th>40</th>\n",
       "      <td>2020</td>\n",
       "      <td>1</td>\n",
       "      <td>CN</td>\n",
       "      <td>20179087</td>\n",
       "    </tr>\n",
       "    <tr>\n",
       "      <th>59</th>\n",
       "      <td>2020</td>\n",
       "      <td>1</td>\n",
       "      <td>EU</td>\n",
       "      <td>17912888</td>\n",
       "    </tr>\n",
       "    <tr>\n",
       "      <th>91</th>\n",
       "      <td>2020</td>\n",
       "      <td>1</td>\n",
       "      <td>IN</td>\n",
       "      <td>9254535</td>\n",
       "    </tr>\n",
       "    <tr>\n",
       "      <th>66</th>\n",
       "      <td>2020</td>\n",
       "      <td>1</td>\n",
       "      <td>GB</td>\n",
       "      <td>4171705</td>\n",
       "    </tr>\n",
       "    <tr>\n",
       "      <th>...</th>\n",
       "      <td>...</td>\n",
       "      <td>...</td>\n",
       "      <td>...</td>\n",
       "      <td>...</td>\n",
       "    </tr>\n",
       "    <tr>\n",
       "      <th>4185</th>\n",
       "      <td>2024</td>\n",
       "      <td>3</td>\n",
       "      <td>SH</td>\n",
       "      <td>141</td>\n",
       "    </tr>\n",
       "    <tr>\n",
       "      <th>4042</th>\n",
       "      <td>2024</td>\n",
       "      <td>3</td>\n",
       "      <td>CK</td>\n",
       "      <td>128</td>\n",
       "    </tr>\n",
       "    <tr>\n",
       "      <th>4110</th>\n",
       "      <td>2024</td>\n",
       "      <td>3</td>\n",
       "      <td>KI</td>\n",
       "      <td>115</td>\n",
       "    </tr>\n",
       "    <tr>\n",
       "      <th>4143</th>\n",
       "      <td>2024</td>\n",
       "      <td>3</td>\n",
       "      <td>MS</td>\n",
       "      <td>104</td>\n",
       "    </tr>\n",
       "    <tr>\n",
       "      <th>4134</th>\n",
       "      <td>2024</td>\n",
       "      <td>3</td>\n",
       "      <td>MH</td>\n",
       "      <td>102</td>\n",
       "    </tr>\n",
       "  </tbody>\n",
       "</table>\n",
       "<p>4231 rows × 4 columns</p>\n",
       "</div>"
      ],
      "text/plain": [
       "      year  quarter iso2_code  repositories\n",
       "199   2020        1        US      30669781\n",
       "40    2020        1        CN      20179087\n",
       "59    2020        1        EU      17912888\n",
       "91    2020        1        IN       9254535\n",
       "66    2020        1        GB       4171705\n",
       "...    ...      ...       ...           ...\n",
       "4185  2024        3        SH           141\n",
       "4042  2024        3        CK           128\n",
       "4110  2024        3        KI           115\n",
       "4143  2024        3        MS           104\n",
       "4134  2024        3        MH           102\n",
       "\n",
       "[4231 rows x 4 columns]"
      ]
     },
     "execution_count": 6,
     "metadata": {},
     "output_type": "execute_result"
    }
   ],
   "source": [
    "df_7_grouped_sorted = df_7_grouped.sort_values(by=['year', \"quarter\",'repositories'], ascending=[True, True, False])\n",
    "df_7_grouped_sorted"
   ]
  },
  {
   "cell_type": "code",
   "execution_count": 7,
   "metadata": {},
   "outputs": [
    {
     "data": {
      "text/plain": [
       "array(['US', 'CN', 'EU', 'IN', 'GB', 'BR', 'DE', 'CA', 'RU', 'FR', 'JP',\n",
       "       'KR', 'HK', 'ES', 'ID', 'UA', 'AU', 'PL', 'NL', 'VN', 'TW', 'MX',\n",
       "       'SG', 'IT', 'SE', 'TR', 'CO', 'CH', 'TH', 'PH', 'IL', 'AR', 'BD',\n",
       "       'BE', 'PK', 'IE', 'BY', 'NG', 'DK', 'RO', 'EG', 'FI', 'ZA', 'CZ',\n",
       "       'PT', 'NZ', 'NO', 'MY', 'AT', 'PE', 'CL', 'KE', 'HU', 'BG', 'IR',\n",
       "       'LK', 'GR', 'RS', 'SA', 'NP', 'MA', 'AE', 'TN', 'EC', 'LT', 'KZ',\n",
       "       'EE', 'HR', 'CR', 'SK', 'VE', 'DZ', 'SI', 'GT', 'GH', 'LV', 'BO',\n",
       "       'AM', 'DO', 'KH', 'MM', 'UY', 'UG', 'MD', 'JO', 'SV', 'BA', 'AZ',\n",
       "       'IQ', 'UZ', 'GE', 'IS', 'KG', 'LU', 'PS', 'HN', 'LB', 'MK', 'AL',\n",
       "       'CM', 'ET', 'TZ', 'CY', 'YE', 'PR', 'PY', 'SN', 'RW', 'KW', 'PA',\n",
       "       'JM', 'MT', 'QA', 'ZW', 'CI', 'NI', 'MU', 'MN', 'MO', 'MG', 'HT',\n",
       "       'SY', 'SD', 'OM', 'TT', 'BH', 'CU', 'ZM', 'ME', 'MZ', 'AO', 'RE',\n",
       "       'LY', 'BJ', 'CD', 'LA', 'AF', 'TG', 'TJ', 'BB', 'MV', 'BW', 'SO',\n",
       "       'BN', 'MW', 'NC', 'GP', 'BF', 'BM', 'IM', 'PF', 'JE', 'ML', 'CW',\n",
       "       'BS', 'SL', 'GA', 'CV', 'KY', 'BT', 'MQ', 'AD', 'GY', 'MR', 'GM',\n",
       "       'FJ', 'GU', 'LR', 'BZ', 'MC', 'SR', 'GN', 'BI', 'NE', 'GI', 'FO',\n",
       "       'LI', 'PG', 'SZ', 'LS', 'GG', 'CG', 'SC', 'LC', 'AW', 'GD', 'GF',\n",
       "       'VI', 'TL', 'DJ', 'SM', 'AG', 'TM', 'TC', 'VC', 'AX', 'SB', 'KN',\n",
       "       'SX', 'VG', 'SS', 'YT', 'DM', 'GL', 'BQ', 'TD', 'MP', 'VU', 'WS',\n",
       "       'KM', 'GQ', 'FM', 'ST', 'AQ', 'AI', 'ER', 'TO', 'CK', 'GW', 'PW',\n",
       "       'CF', 'MF', 'PM', 'XK', 'AS', 'MS', 'BL', 'KI', 'MH', 'VA', 'SH'],\n",
       "      dtype=object)"
      ]
     },
     "execution_count": 7,
     "metadata": {},
     "output_type": "execute_result"
    }
   ],
   "source": [
    "df_7_grouped_sorted[\"iso2_code\"].unique()"
   ]
  },
  {
   "cell_type": "code",
   "execution_count": null,
   "metadata": {},
   "outputs": [],
   "source": []
  },
  {
   "cell_type": "code",
   "execution_count": 8,
   "metadata": {},
   "outputs": [
    {
     "name": "stdout",
     "output_type": "stream",
     "text": [
      "<class 'pandas.core.frame.DataFrame'>\n",
      "Index: 4231 entries, 199 to 4134\n",
      "Data columns (total 4 columns):\n",
      " #   Column        Non-Null Count  Dtype \n",
      "---  ------        --------------  ----- \n",
      " 0   year          4231 non-null   int64 \n",
      " 1   quarter       4231 non-null   int64 \n",
      " 2   iso2_code     4231 non-null   object\n",
      " 3   repositories  4231 non-null   int64 \n",
      "dtypes: int64(3), object(1)\n",
      "memory usage: 165.3+ KB\n"
     ]
    }
   ],
   "source": [
    "df_7_grouped_sorted.info()"
   ]
  },
  {
   "cell_type": "code",
   "execution_count": 9,
   "metadata": {},
   "outputs": [],
   "source": [
    "# Eliminamos la agrupación de valores en Europa,  ya que estos también estaban representados mediante los países independientes que lo componen. Por lo que estarían duplicados.\n",
    "\n",
    "df_7_grouped_sorted_clean= df_7_grouped_sorted[df_7_grouped_sorted[\"iso2_code\"] != \"EU\"]  # Removes rows where iso2_code is 'US'"
   ]
  },
  {
   "cell_type": "code",
   "execution_count": 10,
   "metadata": {},
   "outputs": [
    {
     "data": {
      "application/vnd.microsoft.datawrangler.viewer.v0+json": {
       "columns": [
        {
         "name": "index",
         "rawType": "int64",
         "type": "integer"
        },
        {
         "name": "year",
         "rawType": "int64",
         "type": "integer"
        },
        {
         "name": "quarter",
         "rawType": "int64",
         "type": "integer"
        },
        {
         "name": "iso2_code",
         "rawType": "object",
         "type": "string"
        },
        {
         "name": "repositories",
         "rawType": "int64",
         "type": "integer"
        }
       ],
       "conversionMethod": "pd.DataFrame",
       "ref": "61ca9995-27d7-4f7d-8384-0458e80500b5",
       "rows": [
        [
         "199",
         "2020",
         "1",
         "US",
         "30669781"
        ],
        [
         "40",
         "2020",
         "1",
         "CN",
         "20179087"
        ],
        [
         "91",
         "2020",
         "1",
         "IN",
         "9254535"
        ],
        [
         "66",
         "2020",
         "1",
         "GB",
         "4171705"
        ],
        [
         "27",
         "2020",
         "1",
         "BR",
         "3602025"
        ],
        [
         "48",
         "2020",
         "1",
         "DE",
         "3453638"
        ],
        [
         "33",
         "2020",
         "1",
         "CA",
         "3241750"
        ],
        [
         "164",
         "2020",
         "1",
         "RU",
         "3057681"
        ],
        [
         "64",
         "2020",
         "1",
         "FR",
         "2891946"
        ],
        [
         "99",
         "2020",
         "1",
         "JP",
         "2814553"
        ],
        [
         "105",
         "2020",
         "1",
         "KR",
         "1925215"
        ],
        [
         "82",
         "2020",
         "1",
         "HK",
         "1913481"
        ],
        [
         "57",
         "2020",
         "1",
         "ES",
         "1744385"
        ],
        [
         "87",
         "2020",
         "1",
         "ID",
         "1645127"
        ],
        [
         "197",
         "2020",
         "1",
         "UA",
         "1637559"
        ],
        [
         "10",
         "2020",
         "1",
         "AU",
         "1631400"
        ],
        [
         "155",
         "2020",
         "1",
         "PL",
         "1490080"
        ],
        [
         "144",
         "2020",
         "1",
         "NL",
         "1467690"
        ],
        [
         "206",
         "2020",
         "1",
         "VN",
         "1384527"
        ],
        [
         "195",
         "2020",
         "1",
         "TW",
         "1204885"
        ],
        [
         "137",
         "2020",
         "1",
         "MX",
         "1089820"
        ],
        [
         "171",
         "2020",
         "1",
         "SG",
         "941289"
        ],
        [
         "95",
         "2020",
         "1",
         "IT",
         "874565"
        ],
        [
         "170",
         "2020",
         "1",
         "SE",
         "863354"
        ],
        [
         "193",
         "2020",
         "1",
         "TR",
         "772897"
        ],
        [
         "41",
         "2020",
         "1",
         "CO",
         "678828"
        ],
        [
         "36",
         "2020",
         "1",
         "CH",
         "651461"
        ],
        [
         "188",
         "2020",
         "1",
         "TH",
         "642600"
        ],
        [
         "153",
         "2020",
         "1",
         "PH",
         "630912"
        ],
        [
         "89",
         "2020",
         "1",
         "IL",
         "613903"
        ],
        [
         "8",
         "2020",
         "1",
         "AR",
         "608445"
        ],
        [
         "16",
         "2020",
         "1",
         "BD",
         "588881"
        ],
        [
         "17",
         "2020",
         "1",
         "BE",
         "552638"
        ],
        [
         "154",
         "2020",
         "1",
         "PK",
         "512056"
        ],
        [
         "88",
         "2020",
         "1",
         "IE",
         "473269"
        ],
        [
         "31",
         "2020",
         "1",
         "BY",
         "470719"
        ],
        [
         "142",
         "2020",
         "1",
         "NG",
         "464407"
        ],
        [
         "50",
         "2020",
         "1",
         "DK",
         "445335"
        ],
        [
         "162",
         "2020",
         "1",
         "RO",
         "440201"
        ],
        [
         "56",
         "2020",
         "1",
         "EG",
         "432883"
        ],
        [
         "60",
         "2020",
         "1",
         "FI",
         "418955"
        ],
        [
         "211",
         "2020",
         "1",
         "ZA",
         "417881"
        ],
        [
         "47",
         "2020",
         "1",
         "CZ",
         "411862"
        ],
        [
         "158",
         "2020",
         "1",
         "PT",
         "411307"
        ],
        [
         "147",
         "2020",
         "1",
         "NZ",
         "399306"
        ],
        [
         "145",
         "2020",
         "1",
         "NO",
         "388901"
        ],
        [
         "138",
         "2020",
         "1",
         "MY",
         "385216"
        ],
        [
         "9",
         "2020",
         "1",
         "AT",
         "362975"
        ],
        [
         "150",
         "2020",
         "1",
         "PE",
         "356948"
        ],
        [
         "38",
         "2020",
         "1",
         "CL",
         "353627"
        ]
       ],
       "shape": {
        "columns": 4,
        "rows": 4212
       }
      },
      "text/html": [
       "<div>\n",
       "<style scoped>\n",
       "    .dataframe tbody tr th:only-of-type {\n",
       "        vertical-align: middle;\n",
       "    }\n",
       "\n",
       "    .dataframe tbody tr th {\n",
       "        vertical-align: top;\n",
       "    }\n",
       "\n",
       "    .dataframe thead th {\n",
       "        text-align: right;\n",
       "    }\n",
       "</style>\n",
       "<table border=\"1\" class=\"dataframe\">\n",
       "  <thead>\n",
       "    <tr style=\"text-align: right;\">\n",
       "      <th></th>\n",
       "      <th>year</th>\n",
       "      <th>quarter</th>\n",
       "      <th>iso2_code</th>\n",
       "      <th>repositories</th>\n",
       "    </tr>\n",
       "  </thead>\n",
       "  <tbody>\n",
       "    <tr>\n",
       "      <th>199</th>\n",
       "      <td>2020</td>\n",
       "      <td>1</td>\n",
       "      <td>US</td>\n",
       "      <td>30669781</td>\n",
       "    </tr>\n",
       "    <tr>\n",
       "      <th>40</th>\n",
       "      <td>2020</td>\n",
       "      <td>1</td>\n",
       "      <td>CN</td>\n",
       "      <td>20179087</td>\n",
       "    </tr>\n",
       "    <tr>\n",
       "      <th>91</th>\n",
       "      <td>2020</td>\n",
       "      <td>1</td>\n",
       "      <td>IN</td>\n",
       "      <td>9254535</td>\n",
       "    </tr>\n",
       "    <tr>\n",
       "      <th>66</th>\n",
       "      <td>2020</td>\n",
       "      <td>1</td>\n",
       "      <td>GB</td>\n",
       "      <td>4171705</td>\n",
       "    </tr>\n",
       "    <tr>\n",
       "      <th>27</th>\n",
       "      <td>2020</td>\n",
       "      <td>1</td>\n",
       "      <td>BR</td>\n",
       "      <td>3602025</td>\n",
       "    </tr>\n",
       "    <tr>\n",
       "      <th>...</th>\n",
       "      <td>...</td>\n",
       "      <td>...</td>\n",
       "      <td>...</td>\n",
       "      <td>...</td>\n",
       "    </tr>\n",
       "    <tr>\n",
       "      <th>4185</th>\n",
       "      <td>2024</td>\n",
       "      <td>3</td>\n",
       "      <td>SH</td>\n",
       "      <td>141</td>\n",
       "    </tr>\n",
       "    <tr>\n",
       "      <th>4042</th>\n",
       "      <td>2024</td>\n",
       "      <td>3</td>\n",
       "      <td>CK</td>\n",
       "      <td>128</td>\n",
       "    </tr>\n",
       "    <tr>\n",
       "      <th>4110</th>\n",
       "      <td>2024</td>\n",
       "      <td>3</td>\n",
       "      <td>KI</td>\n",
       "      <td>115</td>\n",
       "    </tr>\n",
       "    <tr>\n",
       "      <th>4143</th>\n",
       "      <td>2024</td>\n",
       "      <td>3</td>\n",
       "      <td>MS</td>\n",
       "      <td>104</td>\n",
       "    </tr>\n",
       "    <tr>\n",
       "      <th>4134</th>\n",
       "      <td>2024</td>\n",
       "      <td>3</td>\n",
       "      <td>MH</td>\n",
       "      <td>102</td>\n",
       "    </tr>\n",
       "  </tbody>\n",
       "</table>\n",
       "<p>4212 rows × 4 columns</p>\n",
       "</div>"
      ],
      "text/plain": [
       "      year  quarter iso2_code  repositories\n",
       "199   2020        1        US      30669781\n",
       "40    2020        1        CN      20179087\n",
       "91    2020        1        IN       9254535\n",
       "66    2020        1        GB       4171705\n",
       "27    2020        1        BR       3602025\n",
       "...    ...      ...       ...           ...\n",
       "4185  2024        3        SH           141\n",
       "4042  2024        3        CK           128\n",
       "4110  2024        3        KI           115\n",
       "4143  2024        3        MS           104\n",
       "4134  2024        3        MH           102\n",
       "\n",
       "[4212 rows x 4 columns]"
      ]
     },
     "execution_count": 10,
     "metadata": {},
     "output_type": "execute_result"
    }
   ],
   "source": [
    "df_7_grouped_sorted_clean"
   ]
  },
  {
   "cell_type": "code",
   "execution_count": 11,
   "metadata": {},
   "outputs": [
    {
     "name": "stderr",
     "output_type": "stream",
     "text": [
      "C:\\Users\\guill\\AppData\\Local\\Temp\\ipykernel_4588\\1202022039.py:1: SettingWithCopyWarning: \n",
      "A value is trying to be set on a copy of a slice from a DataFrame.\n",
      "Try using .loc[row_indexer,col_indexer] = value instead\n",
      "\n",
      "See the caveats in the documentation: https://pandas.pydata.org/pandas-docs/stable/user_guide/indexing.html#returning-a-view-versus-a-copy\n",
      "  df_7_grouped_sorted_clean['indice'] = df_7_grouped_sorted_clean.groupby(['year',\"quarter\"]).cumcount() + 1\n"
     ]
    },
    {
     "data": {
      "application/vnd.microsoft.datawrangler.viewer.v0+json": {
       "columns": [
        {
         "name": "index",
         "rawType": "int64",
         "type": "integer"
        },
        {
         "name": "year",
         "rawType": "int64",
         "type": "integer"
        },
        {
         "name": "quarter",
         "rawType": "int64",
         "type": "integer"
        },
        {
         "name": "iso2_code",
         "rawType": "object",
         "type": "string"
        },
        {
         "name": "repositories",
         "rawType": "int64",
         "type": "integer"
        },
        {
         "name": "indice",
         "rawType": "int64",
         "type": "integer"
        }
       ],
       "conversionMethod": "pd.DataFrame",
       "ref": "ddd29a1d-1caa-4e98-9120-36a4d80dac07",
       "rows": [
        [
         "199",
         "2020",
         "1",
         "US",
         "30669781",
         "1"
        ],
        [
         "40",
         "2020",
         "1",
         "CN",
         "20179087",
         "2"
        ],
        [
         "91",
         "2020",
         "1",
         "IN",
         "9254535",
         "3"
        ],
        [
         "66",
         "2020",
         "1",
         "GB",
         "4171705",
         "4"
        ],
        [
         "27",
         "2020",
         "1",
         "BR",
         "3602025",
         "5"
        ],
        [
         "48",
         "2020",
         "1",
         "DE",
         "3453638",
         "6"
        ],
        [
         "33",
         "2020",
         "1",
         "CA",
         "3241750",
         "7"
        ],
        [
         "164",
         "2020",
         "1",
         "RU",
         "3057681",
         "8"
        ],
        [
         "64",
         "2020",
         "1",
         "FR",
         "2891946",
         "9"
        ],
        [
         "99",
         "2020",
         "1",
         "JP",
         "2814553",
         "10"
        ],
        [
         "105",
         "2020",
         "1",
         "KR",
         "1925215",
         "11"
        ],
        [
         "82",
         "2020",
         "1",
         "HK",
         "1913481",
         "12"
        ],
        [
         "57",
         "2020",
         "1",
         "ES",
         "1744385",
         "13"
        ],
        [
         "87",
         "2020",
         "1",
         "ID",
         "1645127",
         "14"
        ],
        [
         "197",
         "2020",
         "1",
         "UA",
         "1637559",
         "15"
        ],
        [
         "10",
         "2020",
         "1",
         "AU",
         "1631400",
         "16"
        ],
        [
         "155",
         "2020",
         "1",
         "PL",
         "1490080",
         "17"
        ],
        [
         "144",
         "2020",
         "1",
         "NL",
         "1467690",
         "18"
        ],
        [
         "206",
         "2020",
         "1",
         "VN",
         "1384527",
         "19"
        ],
        [
         "195",
         "2020",
         "1",
         "TW",
         "1204885",
         "20"
        ],
        [
         "137",
         "2020",
         "1",
         "MX",
         "1089820",
         "21"
        ],
        [
         "171",
         "2020",
         "1",
         "SG",
         "941289",
         "22"
        ],
        [
         "95",
         "2020",
         "1",
         "IT",
         "874565",
         "23"
        ],
        [
         "170",
         "2020",
         "1",
         "SE",
         "863354",
         "24"
        ],
        [
         "193",
         "2020",
         "1",
         "TR",
         "772897",
         "25"
        ],
        [
         "41",
         "2020",
         "1",
         "CO",
         "678828",
         "26"
        ],
        [
         "36",
         "2020",
         "1",
         "CH",
         "651461",
         "27"
        ],
        [
         "188",
         "2020",
         "1",
         "TH",
         "642600",
         "28"
        ],
        [
         "153",
         "2020",
         "1",
         "PH",
         "630912",
         "29"
        ],
        [
         "89",
         "2020",
         "1",
         "IL",
         "613903",
         "30"
        ],
        [
         "8",
         "2020",
         "1",
         "AR",
         "608445",
         "31"
        ],
        [
         "16",
         "2020",
         "1",
         "BD",
         "588881",
         "32"
        ],
        [
         "17",
         "2020",
         "1",
         "BE",
         "552638",
         "33"
        ],
        [
         "154",
         "2020",
         "1",
         "PK",
         "512056",
         "34"
        ],
        [
         "88",
         "2020",
         "1",
         "IE",
         "473269",
         "35"
        ],
        [
         "31",
         "2020",
         "1",
         "BY",
         "470719",
         "36"
        ],
        [
         "142",
         "2020",
         "1",
         "NG",
         "464407",
         "37"
        ],
        [
         "50",
         "2020",
         "1",
         "DK",
         "445335",
         "38"
        ],
        [
         "162",
         "2020",
         "1",
         "RO",
         "440201",
         "39"
        ],
        [
         "56",
         "2020",
         "1",
         "EG",
         "432883",
         "40"
        ],
        [
         "60",
         "2020",
         "1",
         "FI",
         "418955",
         "41"
        ],
        [
         "211",
         "2020",
         "1",
         "ZA",
         "417881",
         "42"
        ],
        [
         "47",
         "2020",
         "1",
         "CZ",
         "411862",
         "43"
        ],
        [
         "158",
         "2020",
         "1",
         "PT",
         "411307",
         "44"
        ],
        [
         "147",
         "2020",
         "1",
         "NZ",
         "399306",
         "45"
        ],
        [
         "145",
         "2020",
         "1",
         "NO",
         "388901",
         "46"
        ],
        [
         "138",
         "2020",
         "1",
         "MY",
         "385216",
         "47"
        ],
        [
         "9",
         "2020",
         "1",
         "AT",
         "362975",
         "48"
        ],
        [
         "150",
         "2020",
         "1",
         "PE",
         "356948",
         "49"
        ],
        [
         "38",
         "2020",
         "1",
         "CL",
         "353627",
         "50"
        ]
       ],
       "shape": {
        "columns": 5,
        "rows": 4212
       }
      },
      "text/html": [
       "<div>\n",
       "<style scoped>\n",
       "    .dataframe tbody tr th:only-of-type {\n",
       "        vertical-align: middle;\n",
       "    }\n",
       "\n",
       "    .dataframe tbody tr th {\n",
       "        vertical-align: top;\n",
       "    }\n",
       "\n",
       "    .dataframe thead th {\n",
       "        text-align: right;\n",
       "    }\n",
       "</style>\n",
       "<table border=\"1\" class=\"dataframe\">\n",
       "  <thead>\n",
       "    <tr style=\"text-align: right;\">\n",
       "      <th></th>\n",
       "      <th>year</th>\n",
       "      <th>quarter</th>\n",
       "      <th>iso2_code</th>\n",
       "      <th>repositories</th>\n",
       "      <th>indice</th>\n",
       "    </tr>\n",
       "  </thead>\n",
       "  <tbody>\n",
       "    <tr>\n",
       "      <th>199</th>\n",
       "      <td>2020</td>\n",
       "      <td>1</td>\n",
       "      <td>US</td>\n",
       "      <td>30669781</td>\n",
       "      <td>1</td>\n",
       "    </tr>\n",
       "    <tr>\n",
       "      <th>40</th>\n",
       "      <td>2020</td>\n",
       "      <td>1</td>\n",
       "      <td>CN</td>\n",
       "      <td>20179087</td>\n",
       "      <td>2</td>\n",
       "    </tr>\n",
       "    <tr>\n",
       "      <th>91</th>\n",
       "      <td>2020</td>\n",
       "      <td>1</td>\n",
       "      <td>IN</td>\n",
       "      <td>9254535</td>\n",
       "      <td>3</td>\n",
       "    </tr>\n",
       "    <tr>\n",
       "      <th>66</th>\n",
       "      <td>2020</td>\n",
       "      <td>1</td>\n",
       "      <td>GB</td>\n",
       "      <td>4171705</td>\n",
       "      <td>4</td>\n",
       "    </tr>\n",
       "    <tr>\n",
       "      <th>27</th>\n",
       "      <td>2020</td>\n",
       "      <td>1</td>\n",
       "      <td>BR</td>\n",
       "      <td>3602025</td>\n",
       "      <td>5</td>\n",
       "    </tr>\n",
       "    <tr>\n",
       "      <th>...</th>\n",
       "      <td>...</td>\n",
       "      <td>...</td>\n",
       "      <td>...</td>\n",
       "      <td>...</td>\n",
       "      <td>...</td>\n",
       "    </tr>\n",
       "    <tr>\n",
       "      <th>4185</th>\n",
       "      <td>2024</td>\n",
       "      <td>3</td>\n",
       "      <td>SH</td>\n",
       "      <td>141</td>\n",
       "      <td>225</td>\n",
       "    </tr>\n",
       "    <tr>\n",
       "      <th>4042</th>\n",
       "      <td>2024</td>\n",
       "      <td>3</td>\n",
       "      <td>CK</td>\n",
       "      <td>128</td>\n",
       "      <td>226</td>\n",
       "    </tr>\n",
       "    <tr>\n",
       "      <th>4110</th>\n",
       "      <td>2024</td>\n",
       "      <td>3</td>\n",
       "      <td>KI</td>\n",
       "      <td>115</td>\n",
       "      <td>227</td>\n",
       "    </tr>\n",
       "    <tr>\n",
       "      <th>4143</th>\n",
       "      <td>2024</td>\n",
       "      <td>3</td>\n",
       "      <td>MS</td>\n",
       "      <td>104</td>\n",
       "      <td>228</td>\n",
       "    </tr>\n",
       "    <tr>\n",
       "      <th>4134</th>\n",
       "      <td>2024</td>\n",
       "      <td>3</td>\n",
       "      <td>MH</td>\n",
       "      <td>102</td>\n",
       "      <td>229</td>\n",
       "    </tr>\n",
       "  </tbody>\n",
       "</table>\n",
       "<p>4212 rows × 5 columns</p>\n",
       "</div>"
      ],
      "text/plain": [
       "      year  quarter iso2_code  repositories  indice\n",
       "199   2020        1        US      30669781       1\n",
       "40    2020        1        CN      20179087       2\n",
       "91    2020        1        IN       9254535       3\n",
       "66    2020        1        GB       4171705       4\n",
       "27    2020        1        BR       3602025       5\n",
       "...    ...      ...       ...           ...     ...\n",
       "4185  2024        3        SH           141     225\n",
       "4042  2024        3        CK           128     226\n",
       "4110  2024        3        KI           115     227\n",
       "4143  2024        3        MS           104     228\n",
       "4134  2024        3        MH           102     229\n",
       "\n",
       "[4212 rows x 5 columns]"
      ]
     },
     "execution_count": 11,
     "metadata": {},
     "output_type": "execute_result"
    }
   ],
   "source": [
    "df_7_grouped_sorted_clean['indice'] = df_7_grouped_sorted_clean.groupby(['year',\"quarter\"]).cumcount() + 1\n",
    "df_7_grouped_sorted_clean"
   ]
  },
  {
   "cell_type": "code",
   "execution_count": 12,
   "metadata": {},
   "outputs": [
    {
     "name": "stderr",
     "output_type": "stream",
     "text": [
      "C:\\Users\\guill\\AppData\\Local\\Temp\\ipykernel_4588\\1618785653.py:1: SettingWithCopyWarning: \n",
      "A value is trying to be set on a copy of a slice from a DataFrame.\n",
      "Try using .loc[row_indexer,col_indexer] = value instead\n",
      "\n",
      "See the caveats in the documentation: https://pandas.pydata.org/pandas-docs/stable/user_guide/indexing.html#returning-a-view-versus-a-copy\n",
      "  df_7_grouped_sorted_clean[\"year_quarter\"] = df_7_grouped_sorted_clean[\"year\"].astype(\"str\") +\"-Q\"+  df_7_grouped_sorted_clean[\"quarter\"].astype(\"str\")\n"
     ]
    },
    {
     "data": {
      "application/vnd.microsoft.datawrangler.viewer.v0+json": {
       "columns": [
        {
         "name": "index",
         "rawType": "int64",
         "type": "integer"
        },
        {
         "name": "year",
         "rawType": "int64",
         "type": "integer"
        },
        {
         "name": "quarter",
         "rawType": "int64",
         "type": "integer"
        },
        {
         "name": "iso2_code",
         "rawType": "object",
         "type": "string"
        },
        {
         "name": "repositories",
         "rawType": "int64",
         "type": "integer"
        },
        {
         "name": "indice",
         "rawType": "int64",
         "type": "integer"
        },
        {
         "name": "year_quarter",
         "rawType": "object",
         "type": "string"
        }
       ],
       "conversionMethod": "pd.DataFrame",
       "ref": "59359f51-10fc-4522-a51b-3887511c2984",
       "rows": [
        [
         "199",
         "2020",
         "1",
         "US",
         "30669781",
         "1",
         "2020-Q1"
        ],
        [
         "40",
         "2020",
         "1",
         "CN",
         "20179087",
         "2",
         "2020-Q1"
        ],
        [
         "91",
         "2020",
         "1",
         "IN",
         "9254535",
         "3",
         "2020-Q1"
        ],
        [
         "66",
         "2020",
         "1",
         "GB",
         "4171705",
         "4",
         "2020-Q1"
        ],
        [
         "27",
         "2020",
         "1",
         "BR",
         "3602025",
         "5",
         "2020-Q1"
        ],
        [
         "48",
         "2020",
         "1",
         "DE",
         "3453638",
         "6",
         "2020-Q1"
        ],
        [
         "33",
         "2020",
         "1",
         "CA",
         "3241750",
         "7",
         "2020-Q1"
        ],
        [
         "164",
         "2020",
         "1",
         "RU",
         "3057681",
         "8",
         "2020-Q1"
        ],
        [
         "64",
         "2020",
         "1",
         "FR",
         "2891946",
         "9",
         "2020-Q1"
        ],
        [
         "99",
         "2020",
         "1",
         "JP",
         "2814553",
         "10",
         "2020-Q1"
        ],
        [
         "105",
         "2020",
         "1",
         "KR",
         "1925215",
         "11",
         "2020-Q1"
        ],
        [
         "82",
         "2020",
         "1",
         "HK",
         "1913481",
         "12",
         "2020-Q1"
        ],
        [
         "57",
         "2020",
         "1",
         "ES",
         "1744385",
         "13",
         "2020-Q1"
        ],
        [
         "87",
         "2020",
         "1",
         "ID",
         "1645127",
         "14",
         "2020-Q1"
        ],
        [
         "197",
         "2020",
         "1",
         "UA",
         "1637559",
         "15",
         "2020-Q1"
        ],
        [
         "10",
         "2020",
         "1",
         "AU",
         "1631400",
         "16",
         "2020-Q1"
        ],
        [
         "155",
         "2020",
         "1",
         "PL",
         "1490080",
         "17",
         "2020-Q1"
        ],
        [
         "144",
         "2020",
         "1",
         "NL",
         "1467690",
         "18",
         "2020-Q1"
        ],
        [
         "206",
         "2020",
         "1",
         "VN",
         "1384527",
         "19",
         "2020-Q1"
        ],
        [
         "195",
         "2020",
         "1",
         "TW",
         "1204885",
         "20",
         "2020-Q1"
        ],
        [
         "137",
         "2020",
         "1",
         "MX",
         "1089820",
         "21",
         "2020-Q1"
        ],
        [
         "171",
         "2020",
         "1",
         "SG",
         "941289",
         "22",
         "2020-Q1"
        ],
        [
         "95",
         "2020",
         "1",
         "IT",
         "874565",
         "23",
         "2020-Q1"
        ],
        [
         "170",
         "2020",
         "1",
         "SE",
         "863354",
         "24",
         "2020-Q1"
        ],
        [
         "193",
         "2020",
         "1",
         "TR",
         "772897",
         "25",
         "2020-Q1"
        ],
        [
         "41",
         "2020",
         "1",
         "CO",
         "678828",
         "26",
         "2020-Q1"
        ],
        [
         "36",
         "2020",
         "1",
         "CH",
         "651461",
         "27",
         "2020-Q1"
        ],
        [
         "188",
         "2020",
         "1",
         "TH",
         "642600",
         "28",
         "2020-Q1"
        ],
        [
         "153",
         "2020",
         "1",
         "PH",
         "630912",
         "29",
         "2020-Q1"
        ],
        [
         "89",
         "2020",
         "1",
         "IL",
         "613903",
         "30",
         "2020-Q1"
        ],
        [
         "8",
         "2020",
         "1",
         "AR",
         "608445",
         "31",
         "2020-Q1"
        ],
        [
         "16",
         "2020",
         "1",
         "BD",
         "588881",
         "32",
         "2020-Q1"
        ],
        [
         "17",
         "2020",
         "1",
         "BE",
         "552638",
         "33",
         "2020-Q1"
        ],
        [
         "154",
         "2020",
         "1",
         "PK",
         "512056",
         "34",
         "2020-Q1"
        ],
        [
         "88",
         "2020",
         "1",
         "IE",
         "473269",
         "35",
         "2020-Q1"
        ],
        [
         "31",
         "2020",
         "1",
         "BY",
         "470719",
         "36",
         "2020-Q1"
        ],
        [
         "142",
         "2020",
         "1",
         "NG",
         "464407",
         "37",
         "2020-Q1"
        ],
        [
         "50",
         "2020",
         "1",
         "DK",
         "445335",
         "38",
         "2020-Q1"
        ],
        [
         "162",
         "2020",
         "1",
         "RO",
         "440201",
         "39",
         "2020-Q1"
        ],
        [
         "56",
         "2020",
         "1",
         "EG",
         "432883",
         "40",
         "2020-Q1"
        ],
        [
         "60",
         "2020",
         "1",
         "FI",
         "418955",
         "41",
         "2020-Q1"
        ],
        [
         "211",
         "2020",
         "1",
         "ZA",
         "417881",
         "42",
         "2020-Q1"
        ],
        [
         "47",
         "2020",
         "1",
         "CZ",
         "411862",
         "43",
         "2020-Q1"
        ],
        [
         "158",
         "2020",
         "1",
         "PT",
         "411307",
         "44",
         "2020-Q1"
        ],
        [
         "147",
         "2020",
         "1",
         "NZ",
         "399306",
         "45",
         "2020-Q1"
        ],
        [
         "145",
         "2020",
         "1",
         "NO",
         "388901",
         "46",
         "2020-Q1"
        ],
        [
         "138",
         "2020",
         "1",
         "MY",
         "385216",
         "47",
         "2020-Q1"
        ],
        [
         "9",
         "2020",
         "1",
         "AT",
         "362975",
         "48",
         "2020-Q1"
        ],
        [
         "150",
         "2020",
         "1",
         "PE",
         "356948",
         "49",
         "2020-Q1"
        ],
        [
         "38",
         "2020",
         "1",
         "CL",
         "353627",
         "50",
         "2020-Q1"
        ]
       ],
       "shape": {
        "columns": 6,
        "rows": 4212
       }
      },
      "text/html": [
       "<div>\n",
       "<style scoped>\n",
       "    .dataframe tbody tr th:only-of-type {\n",
       "        vertical-align: middle;\n",
       "    }\n",
       "\n",
       "    .dataframe tbody tr th {\n",
       "        vertical-align: top;\n",
       "    }\n",
       "\n",
       "    .dataframe thead th {\n",
       "        text-align: right;\n",
       "    }\n",
       "</style>\n",
       "<table border=\"1\" class=\"dataframe\">\n",
       "  <thead>\n",
       "    <tr style=\"text-align: right;\">\n",
       "      <th></th>\n",
       "      <th>year</th>\n",
       "      <th>quarter</th>\n",
       "      <th>iso2_code</th>\n",
       "      <th>repositories</th>\n",
       "      <th>indice</th>\n",
       "      <th>year_quarter</th>\n",
       "    </tr>\n",
       "  </thead>\n",
       "  <tbody>\n",
       "    <tr>\n",
       "      <th>199</th>\n",
       "      <td>2020</td>\n",
       "      <td>1</td>\n",
       "      <td>US</td>\n",
       "      <td>30669781</td>\n",
       "      <td>1</td>\n",
       "      <td>2020-Q1</td>\n",
       "    </tr>\n",
       "    <tr>\n",
       "      <th>40</th>\n",
       "      <td>2020</td>\n",
       "      <td>1</td>\n",
       "      <td>CN</td>\n",
       "      <td>20179087</td>\n",
       "      <td>2</td>\n",
       "      <td>2020-Q1</td>\n",
       "    </tr>\n",
       "    <tr>\n",
       "      <th>91</th>\n",
       "      <td>2020</td>\n",
       "      <td>1</td>\n",
       "      <td>IN</td>\n",
       "      <td>9254535</td>\n",
       "      <td>3</td>\n",
       "      <td>2020-Q1</td>\n",
       "    </tr>\n",
       "    <tr>\n",
       "      <th>66</th>\n",
       "      <td>2020</td>\n",
       "      <td>1</td>\n",
       "      <td>GB</td>\n",
       "      <td>4171705</td>\n",
       "      <td>4</td>\n",
       "      <td>2020-Q1</td>\n",
       "    </tr>\n",
       "    <tr>\n",
       "      <th>27</th>\n",
       "      <td>2020</td>\n",
       "      <td>1</td>\n",
       "      <td>BR</td>\n",
       "      <td>3602025</td>\n",
       "      <td>5</td>\n",
       "      <td>2020-Q1</td>\n",
       "    </tr>\n",
       "    <tr>\n",
       "      <th>...</th>\n",
       "      <td>...</td>\n",
       "      <td>...</td>\n",
       "      <td>...</td>\n",
       "      <td>...</td>\n",
       "      <td>...</td>\n",
       "      <td>...</td>\n",
       "    </tr>\n",
       "    <tr>\n",
       "      <th>4185</th>\n",
       "      <td>2024</td>\n",
       "      <td>3</td>\n",
       "      <td>SH</td>\n",
       "      <td>141</td>\n",
       "      <td>225</td>\n",
       "      <td>2024-Q3</td>\n",
       "    </tr>\n",
       "    <tr>\n",
       "      <th>4042</th>\n",
       "      <td>2024</td>\n",
       "      <td>3</td>\n",
       "      <td>CK</td>\n",
       "      <td>128</td>\n",
       "      <td>226</td>\n",
       "      <td>2024-Q3</td>\n",
       "    </tr>\n",
       "    <tr>\n",
       "      <th>4110</th>\n",
       "      <td>2024</td>\n",
       "      <td>3</td>\n",
       "      <td>KI</td>\n",
       "      <td>115</td>\n",
       "      <td>227</td>\n",
       "      <td>2024-Q3</td>\n",
       "    </tr>\n",
       "    <tr>\n",
       "      <th>4143</th>\n",
       "      <td>2024</td>\n",
       "      <td>3</td>\n",
       "      <td>MS</td>\n",
       "      <td>104</td>\n",
       "      <td>228</td>\n",
       "      <td>2024-Q3</td>\n",
       "    </tr>\n",
       "    <tr>\n",
       "      <th>4134</th>\n",
       "      <td>2024</td>\n",
       "      <td>3</td>\n",
       "      <td>MH</td>\n",
       "      <td>102</td>\n",
       "      <td>229</td>\n",
       "      <td>2024-Q3</td>\n",
       "    </tr>\n",
       "  </tbody>\n",
       "</table>\n",
       "<p>4212 rows × 6 columns</p>\n",
       "</div>"
      ],
      "text/plain": [
       "      year  quarter iso2_code  repositories  indice year_quarter\n",
       "199   2020        1        US      30669781       1      2020-Q1\n",
       "40    2020        1        CN      20179087       2      2020-Q1\n",
       "91    2020        1        IN       9254535       3      2020-Q1\n",
       "66    2020        1        GB       4171705       4      2020-Q1\n",
       "27    2020        1        BR       3602025       5      2020-Q1\n",
       "...    ...      ...       ...           ...     ...          ...\n",
       "4185  2024        3        SH           141     225      2024-Q3\n",
       "4042  2024        3        CK           128     226      2024-Q3\n",
       "4110  2024        3        KI           115     227      2024-Q3\n",
       "4143  2024        3        MS           104     228      2024-Q3\n",
       "4134  2024        3        MH           102     229      2024-Q3\n",
       "\n",
       "[4212 rows x 6 columns]"
      ]
     },
     "execution_count": 12,
     "metadata": {},
     "output_type": "execute_result"
    }
   ],
   "source": [
    "df_7_grouped_sorted_clean[\"year_quarter\"] = df_7_grouped_sorted_clean[\"year\"].astype(\"str\") +\"-Q\"+  df_7_grouped_sorted_clean[\"quarter\"].astype(\"str\")\n",
    "df_7_grouped_sorted_clean"
   ]
  },
  {
   "cell_type": "code",
   "execution_count": 13,
   "metadata": {},
   "outputs": [
    {
     "data": {
      "application/vnd.microsoft.datawrangler.viewer.v0+json": {
       "columns": [
        {
         "name": "index",
         "rawType": "int64",
         "type": "integer"
        },
        {
         "name": "year",
         "rawType": "int64",
         "type": "integer"
        },
        {
         "name": "quarter",
         "rawType": "int64",
         "type": "integer"
        },
        {
         "name": "iso2_code",
         "rawType": "object",
         "type": "string"
        },
        {
         "name": "repositories",
         "rawType": "int64",
         "type": "integer"
        },
        {
         "name": "indice",
         "rawType": "int64",
         "type": "integer"
        },
        {
         "name": "year_quarter",
         "rawType": "object",
         "type": "string"
        }
       ],
       "conversionMethod": "pd.DataFrame",
       "ref": "8c30fbde-ceb5-4f90-a52c-31ccbf87b32f",
       "rows": [
        [
         "199",
         "2020",
         "1",
         "US",
         "30669781",
         "1",
         "2020-Q1"
        ],
        [
         "40",
         "2020",
         "1",
         "CN",
         "20179087",
         "2",
         "2020-Q1"
        ],
        [
         "91",
         "2020",
         "1",
         "IN",
         "9254535",
         "3",
         "2020-Q1"
        ],
        [
         "66",
         "2020",
         "1",
         "GB",
         "4171705",
         "4",
         "2020-Q1"
        ],
        [
         "27",
         "2020",
         "1",
         "BR",
         "3602025",
         "5",
         "2020-Q1"
        ],
        [
         "48",
         "2020",
         "1",
         "DE",
         "3453638",
         "6",
         "2020-Q1"
        ],
        [
         "33",
         "2020",
         "1",
         "CA",
         "3241750",
         "7",
         "2020-Q1"
        ],
        [
         "164",
         "2020",
         "1",
         "RU",
         "3057681",
         "8",
         "2020-Q1"
        ],
        [
         "64",
         "2020",
         "1",
         "FR",
         "2891946",
         "9",
         "2020-Q1"
        ],
        [
         "99",
         "2020",
         "1",
         "JP",
         "2814553",
         "10",
         "2020-Q1"
        ],
        [
         "415",
         "2020",
         "2",
         "US",
         "32228820",
         "1",
         "2020-Q2"
        ],
        [
         "254",
         "2020",
         "2",
         "CN",
         "20997584",
         "2",
         "2020-Q2"
        ],
        [
         "306",
         "2020",
         "2",
         "IN",
         "10503365",
         "3",
         "2020-Q2"
        ],
        [
         "281",
         "2020",
         "2",
         "GB",
         "4339230",
         "4",
         "2020-Q2"
        ],
        [
         "241",
         "2020",
         "2",
         "BR",
         "3977667",
         "5",
         "2020-Q2"
        ],
        [
         "262",
         "2020",
         "2",
         "DE",
         "3661059",
         "6",
         "2020-Q2"
        ],
        [
         "247",
         "2020",
         "2",
         "CA",
         "3477699",
         "7",
         "2020-Q2"
        ],
        [
         "379",
         "2020",
         "2",
         "RU",
         "3351449",
         "8",
         "2020-Q2"
        ],
        [
         "279",
         "2020",
         "2",
         "FR",
         "3087477",
         "9",
         "2020-Q2"
        ],
        [
         "314",
         "2020",
         "2",
         "JP",
         "3050731",
         "10",
         "2020-Q2"
        ],
        [
         "632",
         "2020",
         "3",
         "US",
         "33728467",
         "1",
         "2020-Q3"
        ],
        [
         "471",
         "2020",
         "3",
         "CN",
         "21399767",
         "2",
         "2020-Q3"
        ],
        [
         "523",
         "2020",
         "3",
         "IN",
         "11823607",
         "3",
         "2020-Q3"
        ],
        [
         "498",
         "2020",
         "3",
         "GB",
         "4483262",
         "4",
         "2020-Q3"
        ],
        [
         "457",
         "2020",
         "3",
         "BR",
         "4359081",
         "5",
         "2020-Q3"
        ],
        [
         "479",
         "2020",
         "3",
         "DE",
         "3843586",
         "6",
         "2020-Q3"
        ],
        [
         "463",
         "2020",
         "3",
         "CA",
         "3700698",
         "7",
         "2020-Q3"
        ],
        [
         "596",
         "2020",
         "3",
         "RU",
         "3589415",
         "8",
         "2020-Q3"
        ],
        [
         "531",
         "2020",
         "3",
         "JP",
         "3325888",
         "9",
         "2020-Q3"
        ],
        [
         "496",
         "2020",
         "3",
         "FR",
         "3201888",
         "10",
         "2020-Q3"
        ],
        [
         "851",
         "2020",
         "4",
         "US",
         "35235403",
         "1",
         "2020-Q4"
        ],
        [
         "689",
         "2020",
         "4",
         "CN",
         "22263274",
         "2",
         "2020-Q4"
        ],
        [
         "742",
         "2020",
         "4",
         "IN",
         "13198250",
         "3",
         "2020-Q4"
        ],
        [
         "716",
         "2020",
         "4",
         "GB",
         "4738244",
         "4",
         "2020-Q4"
        ],
        [
         "675",
         "2020",
         "4",
         "BR",
         "4698298",
         "5",
         "2020-Q4"
        ],
        [
         "697",
         "2020",
         "4",
         "DE",
         "4053857",
         "6",
         "2020-Q4"
        ],
        [
         "815",
         "2020",
         "4",
         "RU",
         "3899588",
         "7",
         "2020-Q4"
        ],
        [
         "681",
         "2020",
         "4",
         "CA",
         "3877017",
         "8",
         "2020-Q4"
        ],
        [
         "750",
         "2020",
         "4",
         "JP",
         "3527022",
         "9",
         "2020-Q4"
        ],
        [
         "714",
         "2020",
         "4",
         "FR",
         "3401534",
         "10",
         "2020-Q4"
        ],
        [
         "1070",
         "2021",
         "1",
         "US",
         "37022184",
         "1",
         "2021-Q1"
        ],
        [
         "909",
         "2021",
         "1",
         "CN",
         "22751931",
         "2",
         "2021-Q1"
        ],
        [
         "960",
         "2021",
         "1",
         "IN",
         "14556283",
         "3",
         "2021-Q1"
        ],
        [
         "894",
         "2021",
         "1",
         "BR",
         "5097515",
         "4",
         "2021-Q1"
        ],
        [
         "935",
         "2021",
         "1",
         "GB",
         "4954273",
         "5",
         "2021-Q1"
        ],
        [
         "917",
         "2021",
         "1",
         "DE",
         "4266647",
         "6",
         "2021-Q1"
        ],
        [
         "1034",
         "2021",
         "1",
         "RU",
         "4204548",
         "7",
         "2021-Q1"
        ],
        [
         "900",
         "2021",
         "1",
         "CA",
         "4129931",
         "8",
         "2021-Q1"
        ],
        [
         "968",
         "2021",
         "1",
         "JP",
         "3777695",
         "9",
         "2021-Q1"
        ],
        [
         "933",
         "2021",
         "1",
         "FR",
         "3603008",
         "10",
         "2021-Q1"
        ]
       ],
       "shape": {
        "columns": 6,
        "rows": 190
       }
      },
      "text/html": [
       "<div>\n",
       "<style scoped>\n",
       "    .dataframe tbody tr th:only-of-type {\n",
       "        vertical-align: middle;\n",
       "    }\n",
       "\n",
       "    .dataframe tbody tr th {\n",
       "        vertical-align: top;\n",
       "    }\n",
       "\n",
       "    .dataframe thead th {\n",
       "        text-align: right;\n",
       "    }\n",
       "</style>\n",
       "<table border=\"1\" class=\"dataframe\">\n",
       "  <thead>\n",
       "    <tr style=\"text-align: right;\">\n",
       "      <th></th>\n",
       "      <th>year</th>\n",
       "      <th>quarter</th>\n",
       "      <th>iso2_code</th>\n",
       "      <th>repositories</th>\n",
       "      <th>indice</th>\n",
       "      <th>year_quarter</th>\n",
       "    </tr>\n",
       "  </thead>\n",
       "  <tbody>\n",
       "    <tr>\n",
       "      <th>199</th>\n",
       "      <td>2020</td>\n",
       "      <td>1</td>\n",
       "      <td>US</td>\n",
       "      <td>30669781</td>\n",
       "      <td>1</td>\n",
       "      <td>2020-Q1</td>\n",
       "    </tr>\n",
       "    <tr>\n",
       "      <th>40</th>\n",
       "      <td>2020</td>\n",
       "      <td>1</td>\n",
       "      <td>CN</td>\n",
       "      <td>20179087</td>\n",
       "      <td>2</td>\n",
       "      <td>2020-Q1</td>\n",
       "    </tr>\n",
       "    <tr>\n",
       "      <th>91</th>\n",
       "      <td>2020</td>\n",
       "      <td>1</td>\n",
       "      <td>IN</td>\n",
       "      <td>9254535</td>\n",
       "      <td>3</td>\n",
       "      <td>2020-Q1</td>\n",
       "    </tr>\n",
       "    <tr>\n",
       "      <th>66</th>\n",
       "      <td>2020</td>\n",
       "      <td>1</td>\n",
       "      <td>GB</td>\n",
       "      <td>4171705</td>\n",
       "      <td>4</td>\n",
       "      <td>2020-Q1</td>\n",
       "    </tr>\n",
       "    <tr>\n",
       "      <th>27</th>\n",
       "      <td>2020</td>\n",
       "      <td>1</td>\n",
       "      <td>BR</td>\n",
       "      <td>3602025</td>\n",
       "      <td>5</td>\n",
       "      <td>2020-Q1</td>\n",
       "    </tr>\n",
       "    <tr>\n",
       "      <th>...</th>\n",
       "      <td>...</td>\n",
       "      <td>...</td>\n",
       "      <td>...</td>\n",
       "      <td>...</td>\n",
       "      <td>...</td>\n",
       "      <td>...</td>\n",
       "    </tr>\n",
       "    <tr>\n",
       "      <th>4072</th>\n",
       "      <td>2024</td>\n",
       "      <td>3</td>\n",
       "      <td>GB</td>\n",
       "      <td>9183908</td>\n",
       "      <td>6</td>\n",
       "      <td>2024-Q3</td>\n",
       "    </tr>\n",
       "    <tr>\n",
       "      <th>4106</th>\n",
       "      <td>2024</td>\n",
       "      <td>3</td>\n",
       "      <td>JP</td>\n",
       "      <td>8715809</td>\n",
       "      <td>7</td>\n",
       "      <td>2024-Q3</td>\n",
       "    </tr>\n",
       "    <tr>\n",
       "      <th>4177</th>\n",
       "      <td>2024</td>\n",
       "      <td>3</td>\n",
       "      <td>RU</td>\n",
       "      <td>8583507</td>\n",
       "      <td>8</td>\n",
       "      <td>2024-Q3</td>\n",
       "    </tr>\n",
       "    <tr>\n",
       "      <th>4053</th>\n",
       "      <td>2024</td>\n",
       "      <td>3</td>\n",
       "      <td>DE</td>\n",
       "      <td>8158633</td>\n",
       "      <td>9</td>\n",
       "      <td>2024-Q3</td>\n",
       "    </tr>\n",
       "    <tr>\n",
       "      <th>4036</th>\n",
       "      <td>2024</td>\n",
       "      <td>3</td>\n",
       "      <td>CA</td>\n",
       "      <td>8006320</td>\n",
       "      <td>10</td>\n",
       "      <td>2024-Q3</td>\n",
       "    </tr>\n",
       "  </tbody>\n",
       "</table>\n",
       "<p>190 rows × 6 columns</p>\n",
       "</div>"
      ],
      "text/plain": [
       "      year  quarter iso2_code  repositories  indice year_quarter\n",
       "199   2020        1        US      30669781       1      2020-Q1\n",
       "40    2020        1        CN      20179087       2      2020-Q1\n",
       "91    2020        1        IN       9254535       3      2020-Q1\n",
       "66    2020        1        GB       4171705       4      2020-Q1\n",
       "27    2020        1        BR       3602025       5      2020-Q1\n",
       "...    ...      ...       ...           ...     ...          ...\n",
       "4072  2024        3        GB       9183908       6      2024-Q3\n",
       "4106  2024        3        JP       8715809       7      2024-Q3\n",
       "4177  2024        3        RU       8583507       8      2024-Q3\n",
       "4053  2024        3        DE       8158633       9      2024-Q3\n",
       "4036  2024        3        CA       8006320      10      2024-Q3\n",
       "\n",
       "[190 rows x 6 columns]"
      ]
     },
     "execution_count": 13,
     "metadata": {},
     "output_type": "execute_result"
    }
   ],
   "source": [
    "df_7_lenguaje10 = df_7_grouped_sorted_clean[df_7_grouped_sorted_clean[\"indice\"] <= 10]\n",
    "df_7_lenguaje10"
   ]
  },
  {
   "cell_type": "code",
   "execution_count": null,
   "metadata": {},
   "outputs": [],
   "source": []
  },
  {
   "cell_type": "code",
   "execution_count": 14,
   "metadata": {},
   "outputs": [
    {
     "name": "stderr",
     "output_type": "stream",
     "text": [
      "C:\\Users\\guill\\AppData\\Local\\Temp\\ipykernel_4588\\3398381891.py:4: DeprecationWarning: DataFrameGroupBy.apply operated on the grouping columns. This behavior is deprecated, and in a future version of pandas the grouping columns will be excluded from the operation. Either pass `include_groups=False` to exclude the groupings or explicitly select the grouping columns after groupby to silence this warning.\n",
      "  latest_values = df_7_lenguaje10.groupby('iso2_code').apply(\n"
     ]
    },
    {
     "data": {
      "image/png": "[encoded data removed]",
      "text/plain": [
       "<Figure size 1400x700 with 1 Axes>"
      ]
     },
     "metadata": {},
     "output_type": "display_data"
    }
   ],
   "source": [
    "from matplotlib.ticker import FuncFormatter\n",
    "\n",
    "# Step 1: Obtener el valor máximo de 'repositories' al final de la serie temporal para cada país\n",
    "latest_values = df_7_lenguaje10.groupby('iso2_code').apply(\n",
    "    lambda x: x.loc[x['year_quarter'].idxmax(), 'repositories']\n",
    ").sort_values(ascending=False)\n",
    "\n",
    "# Step 2: Obtener el orden de los países basado en el valor máximo de 'repositories'\n",
    "ordered_iso2_codes = latest_values.index\n",
    "\n",
    "# Create a custom formatter function to display values in millions\n",
    "def millions(x, pos):\n",
    "    return f'{x * 1e-6:.1f}M'  # Divide by 1e6 to convert to millions and format to one decimal place\n",
    "\n",
    "# Create the line plot\n",
    "plt.figure(figsize=(14, 7))\n",
    "\n",
    "sns.lineplot(data=df_7_lenguaje10, x='year_quarter', y='repositories', hue='iso2_code', \n",
    "             linewidth=2, hue_order=ordered_iso2_codes)\n",
    "\n",
    "# Customize labels and title\n",
    "plt.xlabel('Año Trimestre')\n",
    "plt.ylabel('Número de repositorios (en millones)')\n",
    "plt.title('Evolución de repositorios en GitHub')\n",
    "\n",
    "# Rotate the x-tick labels for better readability\n",
    "plt.xticks(rotation=-45, ha='right')\n",
    "\n",
    "# Apply the custom y-axis formatter to display values in millions\n",
    "plt.gca().yaxis.set_major_formatter(FuncFormatter(millions))\n",
    "\n",
    "# Optional: Adjust the legend if needed\n",
    "plt.legend(title='Países', loc='upper left', bbox_to_anchor=(1.05, 1),prop={'size': 20})\n",
    "\n",
    "# Show gridlines for better visualization\n",
    "plt.grid(True, linestyle=\"--\", alpha=0.6)\n",
    "\n",
    "# Tight layout to prevent overlap\n",
    "plt.tight_layout()\n",
    "\n",
    "# Display the plot\n",
    "plt.show()"
   ]
  }
 ],
 "metadata": {
  "kernelspec": {
   "display_name": "Python 3",
   "language": "python",
   "name": "python3"
  },
  "language_info": {
   "codemirror_mode": {
    "name": "ipython",
    "version": 3
   },
   "file_extension": ".py",
   "mimetype": "text/x-python",
   "name": "python",
   "nbconvert_exporter": "python",
   "pygments_lexer": "ipython3",
   "version": "3.11.9"
  },
  "orig_nbformat": 4
 },
 "nbformat": 4,
 "nbformat_minor": 2
}
