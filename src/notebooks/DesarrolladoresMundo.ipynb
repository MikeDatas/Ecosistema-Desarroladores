{
 "cells": [
  {
   "cell_type": "code",
   "execution_count": 2,
   "metadata": {},
   "outputs": [],
   "source": [
    "import numpy as np\n",
    "import pandas as pd\n",
    "import matplotlib.pyplot as plt\n",
    "import seaborn as sns\n"
   ]
  },
  {
   "cell_type": "code",
   "execution_count": 3,
   "metadata": {},
   "outputs": [],
   "source": [
    "df_6 = pd.read_csv('data/info2/developers.csv')\n",
    "fuente_6 = \"https://github.com/github/innovationgraph/tree/main\"\n"
   ]
  },
  {
   "cell_type": "markdown",
   "metadata": {},
   "source": [
    "Muestra mediante un head() los principales datasets con los que vas a trabajar"
   ]
  },
  {
   "cell_type": "code",
   "execution_count": 4,
   "metadata": {},
   "outputs": [
    {
     "data": {
      "application/vnd.microsoft.datawrangler.viewer.v0+json": {
       "columns": [
        {
         "name": "index",
         "rawType": "int64",
         "type": "integer"
        },
        {
         "name": "developers",
         "rawType": "int64",
         "type": "integer"
        },
        {
         "name": "iso2_code",
         "rawType": "object",
         "type": "string"
        },
        {
         "name": "year",
         "rawType": "int64",
         "type": "integer"
        },
        {
         "name": "quarter",
         "rawType": "int64",
         "type": "integer"
        }
       ],
       "conversionMethod": "pd.DataFrame",
       "ref": "f4f0dbb4-e09c-4aec-9ffa-8b7d0c6fecd0",
       "rows": [
        [
         "0",
         "9763122",
         "US",
         "2020",
         "1"
        ],
        [
         "1",
         "6983489",
         "EU",
         "2020",
         "1"
        ],
        [
         "2",
         "5885036",
         "CN",
         "2020",
         "1"
        ],
        [
         "3",
         "4194257",
         "IN",
         "2020",
         "1"
        ],
        [
         "4",
         "1635516",
         "GB",
         "2020",
         "1"
        ]
       ],
       "shape": {
        "columns": 4,
        "rows": 5
       }
      },
      "text/html": [
       "<div>\n",
       "<style scoped>\n",
       "    .dataframe tbody tr th:only-of-type {\n",
       "        vertical-align: middle;\n",
       "    }\n",
       "\n",
       "    .dataframe tbody tr th {\n",
       "        vertical-align: top;\n",
       "    }\n",
       "\n",
       "    .dataframe thead th {\n",
       "        text-align: right;\n",
       "    }\n",
       "</style>\n",
       "<table border=\"1\" class=\"dataframe\">\n",
       "  <thead>\n",
       "    <tr style=\"text-align: right;\">\n",
       "      <th></th>\n",
       "      <th>developers</th>\n",
       "      <th>iso2_code</th>\n",
       "      <th>year</th>\n",
       "      <th>quarter</th>\n",
       "    </tr>\n",
       "  </thead>\n",
       "  <tbody>\n",
       "    <tr>\n",
       "      <th>0</th>\n",
       "      <td>9763122</td>\n",
       "      <td>US</td>\n",
       "      <td>2020</td>\n",
       "      <td>1</td>\n",
       "    </tr>\n",
       "    <tr>\n",
       "      <th>1</th>\n",
       "      <td>6983489</td>\n",
       "      <td>EU</td>\n",
       "      <td>2020</td>\n",
       "      <td>1</td>\n",
       "    </tr>\n",
       "    <tr>\n",
       "      <th>2</th>\n",
       "      <td>5885036</td>\n",
       "      <td>CN</td>\n",
       "      <td>2020</td>\n",
       "      <td>1</td>\n",
       "    </tr>\n",
       "    <tr>\n",
       "      <th>3</th>\n",
       "      <td>4194257</td>\n",
       "      <td>IN</td>\n",
       "      <td>2020</td>\n",
       "      <td>1</td>\n",
       "    </tr>\n",
       "    <tr>\n",
       "      <th>4</th>\n",
       "      <td>1635516</td>\n",
       "      <td>GB</td>\n",
       "      <td>2020</td>\n",
       "      <td>1</td>\n",
       "    </tr>\n",
       "  </tbody>\n",
       "</table>\n",
       "</div>"
      ],
      "text/plain": [
       "   developers iso2_code  year  quarter\n",
       "0     9763122        US  2020        1\n",
       "1     6983489        EU  2020        1\n",
       "2     5885036        CN  2020        1\n",
       "3     4194257        IN  2020        1\n",
       "4     1635516        GB  2020        1"
      ]
     },
     "execution_count": 4,
     "metadata": {},
     "output_type": "execute_result"
    }
   ],
   "source": [
    "df_6.head()"
   ]
  },
  {
   "cell_type": "code",
   "execution_count": 5,
   "metadata": {},
   "outputs": [],
   "source": [
    "df_6_M = df_6[df_6[\"iso2_code\"] != \"EU\"]"
   ]
  },
  {
   "cell_type": "code",
   "execution_count": 6,
   "metadata": {},
   "outputs": [
    {
     "data": {
      "application/vnd.microsoft.datawrangler.viewer.v0+json": {
       "columns": [
        {
         "name": "index",
         "rawType": "int64",
         "type": "integer"
        },
        {
         "name": "developers",
         "rawType": "int64",
         "type": "integer"
        },
        {
         "name": "iso2_code",
         "rawType": "object",
         "type": "unknown"
        },
        {
         "name": "year",
         "rawType": "int64",
         "type": "integer"
        },
        {
         "name": "quarter",
         "rawType": "int64",
         "type": "integer"
        }
       ],
       "conversionMethod": "pd.DataFrame",
       "ref": "626130e3-cbc4-4b22-8d5a-d19f22250289",
       "rows": [
        [
         "0",
         "9763122",
         "US",
         "2020",
         "1"
        ],
        [
         "2",
         "5885036",
         "CN",
         "2020",
         "1"
        ],
        [
         "3",
         "4194257",
         "IN",
         "2020",
         "1"
        ],
        [
         "4",
         "1635516",
         "GB",
         "2020",
         "1"
        ],
        [
         "5",
         "1400662",
         "BR",
         "2020",
         "1"
        ],
        [
         "6",
         "1319588",
         "DE",
         "2020",
         "1"
        ],
        [
         "7",
         "1283298",
         "RU",
         "2020",
         "1"
        ],
        [
         "8",
         "1134715",
         "CA",
         "2020",
         "1"
        ],
        [
         "9",
         "1128302",
         "JP",
         "2020",
         "1"
        ],
        [
         "10",
         "1067323",
         "FR",
         "2020",
         "1"
        ],
        [
         "11",
         "880038",
         "ID",
         "2020",
         "1"
        ],
        [
         "12",
         "761690",
         "KR",
         "2020",
         "1"
        ],
        [
         "13",
         "678548",
         "AU",
         "2020",
         "1"
        ],
        [
         "14",
         "650592",
         "ES",
         "2020",
         "1"
        ],
        [
         "15",
         "568562",
         "UA",
         "2020",
         "1"
        ],
        [
         "16",
         "565841",
         "NL",
         "2020",
         "1"
        ],
        [
         "17",
         "537945",
         "MX",
         "2020",
         "1"
        ],
        [
         "18",
         "531465",
         "PL",
         "2020",
         "1"
        ],
        [
         "19",
         "505532",
         "VN",
         "2020",
         "1"
        ],
        [
         "20",
         "480618",
         "TR",
         "2020",
         "1"
        ],
        [
         "21",
         "468484",
         "IT",
         "2020",
         "1"
        ],
        [
         "22",
         "414767",
         "TW",
         "2020",
         "1"
        ],
        [
         "23",
         "413692",
         "PH",
         "2020",
         "1"
        ],
        [
         "24",
         "401680",
         "HK",
         "2020",
         "1"
        ],
        [
         "25",
         "321505",
         "SE",
         "2020",
         "1"
        ],
        [
         "26",
         "317224",
         "PK",
         "2020",
         "1"
        ],
        [
         "27",
         "304181",
         "TH",
         "2020",
         "1"
        ],
        [
         "28",
         "302591",
         "SG",
         "2020",
         "1"
        ],
        [
         "29",
         "281269",
         "CO",
         "2020",
         "1"
        ],
        [
         "30",
         "280922",
         "AR",
         "2020",
         "1"
        ],
        [
         "31",
         "252164",
         "IL",
         "2020",
         "1"
        ],
        [
         "32",
         "236751",
         "EG",
         "2020",
         "1"
        ],
        [
         "33",
         "230371",
         "MY",
         "2020",
         "1"
        ],
        [
         "34",
         "218096",
         "CH",
         "2020",
         "1"
        ],
        [
         "35",
         "216516",
         "RO",
         "2020",
         "1"
        ],
        [
         "36",
         "215927",
         "BE",
         "2020",
         "1"
        ],
        [
         "37",
         "215789",
         "BD",
         "2020",
         "1"
        ],
        [
         "38",
         "210145",
         "IR",
         "2020",
         "1"
        ],
        [
         "39",
         "202767",
         "ZA",
         "2020",
         "1"
        ],
        [
         "40",
         "177756",
         "DK",
         "2020",
         "1"
        ],
        [
         "41",
         "173641",
         "NG",
         "2020",
         "1"
        ],
        [
         "42",
         "170627",
         "PT",
         "2020",
         "1"
        ],
        [
         "43",
         "166866",
         "SA",
         "2020",
         "1"
        ],
        [
         "44",
         "161209",
         "CL",
         "2020",
         "1"
        ],
        [
         "45",
         "158784",
         "NO",
         "2020",
         "1"
        ],
        [
         "46",
         "155721",
         "CZ",
         "2020",
         "1"
        ],
        [
         "47",
         "150672",
         "PE",
         "2020",
         "1"
        ],
        [
         "48",
         "148529",
         "BY",
         "2020",
         "1"
        ],
        [
         "49",
         "148081",
         "AT",
         "2020",
         "1"
        ],
        [
         "50",
         "145859",
         "IE",
         "2020",
         "1"
        ]
       ],
       "shape": {
        "columns": 4,
        "rows": 4264
       }
      },
      "text/html": [
       "<div>\n",
       "<style scoped>\n",
       "    .dataframe tbody tr th:only-of-type {\n",
       "        vertical-align: middle;\n",
       "    }\n",
       "\n",
       "    .dataframe tbody tr th {\n",
       "        vertical-align: top;\n",
       "    }\n",
       "\n",
       "    .dataframe thead th {\n",
       "        text-align: right;\n",
       "    }\n",
       "</style>\n",
       "<table border=\"1\" class=\"dataframe\">\n",
       "  <thead>\n",
       "    <tr style=\"text-align: right;\">\n",
       "      <th></th>\n",
       "      <th>developers</th>\n",
       "      <th>iso2_code</th>\n",
       "      <th>year</th>\n",
       "      <th>quarter</th>\n",
       "    </tr>\n",
       "  </thead>\n",
       "  <tbody>\n",
       "    <tr>\n",
       "      <th>0</th>\n",
       "      <td>9763122</td>\n",
       "      <td>US</td>\n",
       "      <td>2020</td>\n",
       "      <td>1</td>\n",
       "    </tr>\n",
       "    <tr>\n",
       "      <th>2</th>\n",
       "      <td>5885036</td>\n",
       "      <td>CN</td>\n",
       "      <td>2020</td>\n",
       "      <td>1</td>\n",
       "    </tr>\n",
       "    <tr>\n",
       "      <th>3</th>\n",
       "      <td>4194257</td>\n",
       "      <td>IN</td>\n",
       "      <td>2020</td>\n",
       "      <td>1</td>\n",
       "    </tr>\n",
       "    <tr>\n",
       "      <th>4</th>\n",
       "      <td>1635516</td>\n",
       "      <td>GB</td>\n",
       "      <td>2020</td>\n",
       "      <td>1</td>\n",
       "    </tr>\n",
       "    <tr>\n",
       "      <th>5</th>\n",
       "      <td>1400662</td>\n",
       "      <td>BR</td>\n",
       "      <td>2020</td>\n",
       "      <td>1</td>\n",
       "    </tr>\n",
       "    <tr>\n",
       "      <th>...</th>\n",
       "      <td>...</td>\n",
       "      <td>...</td>\n",
       "      <td>...</td>\n",
       "      <td>...</td>\n",
       "    </tr>\n",
       "    <tr>\n",
       "      <th>4278</th>\n",
       "      <td>212</td>\n",
       "      <td>MH</td>\n",
       "      <td>2024</td>\n",
       "      <td>3</td>\n",
       "    </tr>\n",
       "    <tr>\n",
       "      <th>4279</th>\n",
       "      <td>195</td>\n",
       "      <td>VA</td>\n",
       "      <td>2024</td>\n",
       "      <td>3</td>\n",
       "    </tr>\n",
       "    <tr>\n",
       "      <th>4280</th>\n",
       "      <td>190</td>\n",
       "      <td>KI</td>\n",
       "      <td>2024</td>\n",
       "      <td>3</td>\n",
       "    </tr>\n",
       "    <tr>\n",
       "      <th>4281</th>\n",
       "      <td>173</td>\n",
       "      <td>PM</td>\n",
       "      <td>2024</td>\n",
       "      <td>3</td>\n",
       "    </tr>\n",
       "    <tr>\n",
       "      <th>4282</th>\n",
       "      <td>157</td>\n",
       "      <td>CK</td>\n",
       "      <td>2024</td>\n",
       "      <td>3</td>\n",
       "    </tr>\n",
       "  </tbody>\n",
       "</table>\n",
       "<p>4264 rows × 4 columns</p>\n",
       "</div>"
      ],
      "text/plain": [
       "      developers iso2_code  year  quarter\n",
       "0        9763122        US  2020        1\n",
       "2        5885036        CN  2020        1\n",
       "3        4194257        IN  2020        1\n",
       "4        1635516        GB  2020        1\n",
       "5        1400662        BR  2020        1\n",
       "...          ...       ...   ...      ...\n",
       "4278         212        MH  2024        3\n",
       "4279         195        VA  2024        3\n",
       "4280         190        KI  2024        3\n",
       "4281         173        PM  2024        3\n",
       "4282         157        CK  2024        3\n",
       "\n",
       "[4264 rows x 4 columns]"
      ]
     },
     "execution_count": 6,
     "metadata": {},
     "output_type": "execute_result"
    }
   ],
   "source": [
    "df_6_M"
   ]
  },
  {
   "cell_type": "code",
   "execution_count": 7,
   "metadata": {},
   "outputs": [],
   "source": [
    "developers_M = df_6_M.groupby(['year', \"quarter\"])['developers'].sum().reset_index()"
   ]
  },
  {
   "cell_type": "code",
   "execution_count": 8,
   "metadata": {},
   "outputs": [
    {
     "data": {
      "application/vnd.microsoft.datawrangler.viewer.v0+json": {
       "columns": [
        {
         "name": "index",
         "rawType": "int64",
         "type": "integer"
        },
        {
         "name": "year",
         "rawType": "int64",
         "type": "integer"
        },
        {
         "name": "quarter",
         "rawType": "int64",
         "type": "integer"
        },
        {
         "name": "developers",
         "rawType": "int64",
         "type": "integer"
        }
       ],
       "conversionMethod": "pd.DataFrame",
       "ref": "bc73f7ba-0d4d-4dfe-85ac-1b3b3f9cf23e",
       "rows": [
        [
         "0",
         "2020",
         "1",
         "45478340"
        ],
        [
         "1",
         "2020",
         "2",
         "49504193"
        ],
        [
         "2",
         "2020",
         "3",
         "53248431"
        ],
        [
         "3",
         "2020",
         "4",
         "57102973"
        ],
        [
         "4",
         "2021",
         "1",
         "60958885"
        ],
        [
         "5",
         "2021",
         "2",
         "64820144"
        ],
        [
         "6",
         "2021",
         "3",
         "68834671"
        ],
        [
         "7",
         "2021",
         "4",
         "72973877"
        ],
        [
         "8",
         "2022",
         "1",
         "78157383"
        ],
        [
         "9",
         "2022",
         "2",
         "82925785"
        ],
        [
         "10",
         "2022",
         "3",
         "87669771"
        ],
        [
         "11",
         "2022",
         "4",
         "92469733"
        ],
        [
         "12",
         "2023",
         "1",
         "98055745"
        ],
        [
         "13",
         "2023",
         "2",
         "104004958"
        ],
        [
         "14",
         "2023",
         "3",
         "109933535"
        ],
        [
         "15",
         "2023",
         "4",
         "115546343"
        ],
        [
         "16",
         "2024",
         "1",
         "122294466"
        ],
        [
         "17",
         "2024",
         "2",
         "127678376"
        ],
        [
         "18",
         "2024",
         "3",
         "133336845"
        ]
       ],
       "shape": {
        "columns": 3,
        "rows": 19
       }
      },
      "text/html": [
       "<div>\n",
       "<style scoped>\n",
       "    .dataframe tbody tr th:only-of-type {\n",
       "        vertical-align: middle;\n",
       "    }\n",
       "\n",
       "    .dataframe tbody tr th {\n",
       "        vertical-align: top;\n",
       "    }\n",
       "\n",
       "    .dataframe thead th {\n",
       "        text-align: right;\n",
       "    }\n",
       "</style>\n",
       "<table border=\"1\" class=\"dataframe\">\n",
       "  <thead>\n",
       "    <tr style=\"text-align: right;\">\n",
       "      <th></th>\n",
       "      <th>year</th>\n",
       "      <th>quarter</th>\n",
       "      <th>developers</th>\n",
       "    </tr>\n",
       "  </thead>\n",
       "  <tbody>\n",
       "    <tr>\n",
       "      <th>0</th>\n",
       "      <td>2020</td>\n",
       "      <td>1</td>\n",
       "      <td>45478340</td>\n",
       "    </tr>\n",
       "    <tr>\n",
       "      <th>1</th>\n",
       "      <td>2020</td>\n",
       "      <td>2</td>\n",
       "      <td>49504193</td>\n",
       "    </tr>\n",
       "    <tr>\n",
       "      <th>2</th>\n",
       "      <td>2020</td>\n",
       "      <td>3</td>\n",
       "      <td>53248431</td>\n",
       "    </tr>\n",
       "    <tr>\n",
       "      <th>3</th>\n",
       "      <td>2020</td>\n",
       "      <td>4</td>\n",
       "      <td>57102973</td>\n",
       "    </tr>\n",
       "    <tr>\n",
       "      <th>4</th>\n",
       "      <td>2021</td>\n",
       "      <td>1</td>\n",
       "      <td>60958885</td>\n",
       "    </tr>\n",
       "    <tr>\n",
       "      <th>5</th>\n",
       "      <td>2021</td>\n",
       "      <td>2</td>\n",
       "      <td>64820144</td>\n",
       "    </tr>\n",
       "    <tr>\n",
       "      <th>6</th>\n",
       "      <td>2021</td>\n",
       "      <td>3</td>\n",
       "      <td>68834671</td>\n",
       "    </tr>\n",
       "    <tr>\n",
       "      <th>7</th>\n",
       "      <td>2021</td>\n",
       "      <td>4</td>\n",
       "      <td>72973877</td>\n",
       "    </tr>\n",
       "    <tr>\n",
       "      <th>8</th>\n",
       "      <td>2022</td>\n",
       "      <td>1</td>\n",
       "      <td>78157383</td>\n",
       "    </tr>\n",
       "    <tr>\n",
       "      <th>9</th>\n",
       "      <td>2022</td>\n",
       "      <td>2</td>\n",
       "      <td>82925785</td>\n",
       "    </tr>\n",
       "    <tr>\n",
       "      <th>10</th>\n",
       "      <td>2022</td>\n",
       "      <td>3</td>\n",
       "      <td>87669771</td>\n",
       "    </tr>\n",
       "    <tr>\n",
       "      <th>11</th>\n",
       "      <td>2022</td>\n",
       "      <td>4</td>\n",
       "      <td>92469733</td>\n",
       "    </tr>\n",
       "    <tr>\n",
       "      <th>12</th>\n",
       "      <td>2023</td>\n",
       "      <td>1</td>\n",
       "      <td>98055745</td>\n",
       "    </tr>\n",
       "    <tr>\n",
       "      <th>13</th>\n",
       "      <td>2023</td>\n",
       "      <td>2</td>\n",
       "      <td>104004958</td>\n",
       "    </tr>\n",
       "    <tr>\n",
       "      <th>14</th>\n",
       "      <td>2023</td>\n",
       "      <td>3</td>\n",
       "      <td>109933535</td>\n",
       "    </tr>\n",
       "    <tr>\n",
       "      <th>15</th>\n",
       "      <td>2023</td>\n",
       "      <td>4</td>\n",
       "      <td>115546343</td>\n",
       "    </tr>\n",
       "    <tr>\n",
       "      <th>16</th>\n",
       "      <td>2024</td>\n",
       "      <td>1</td>\n",
       "      <td>122294466</td>\n",
       "    </tr>\n",
       "    <tr>\n",
       "      <th>17</th>\n",
       "      <td>2024</td>\n",
       "      <td>2</td>\n",
       "      <td>127678376</td>\n",
       "    </tr>\n",
       "    <tr>\n",
       "      <th>18</th>\n",
       "      <td>2024</td>\n",
       "      <td>3</td>\n",
       "      <td>133336845</td>\n",
       "    </tr>\n",
       "  </tbody>\n",
       "</table>\n",
       "</div>"
      ],
      "text/plain": [
       "    year  quarter  developers\n",
       "0   2020        1    45478340\n",
       "1   2020        2    49504193\n",
       "2   2020        3    53248431\n",
       "3   2020        4    57102973\n",
       "4   2021        1    60958885\n",
       "5   2021        2    64820144\n",
       "6   2021        3    68834671\n",
       "7   2021        4    72973877\n",
       "8   2022        1    78157383\n",
       "9   2022        2    82925785\n",
       "10  2022        3    87669771\n",
       "11  2022        4    92469733\n",
       "12  2023        1    98055745\n",
       "13  2023        2   104004958\n",
       "14  2023        3   109933535\n",
       "15  2023        4   115546343\n",
       "16  2024        1   122294466\n",
       "17  2024        2   127678376\n",
       "18  2024        3   133336845"
      ]
     },
     "execution_count": 8,
     "metadata": {},
     "output_type": "execute_result"
    }
   ],
   "source": [
    "developers_M"
   ]
  },
  {
   "cell_type": "code",
   "execution_count": 9,
   "metadata": {},
   "outputs": [
    {
     "data": {
      "application/vnd.microsoft.datawrangler.viewer.v0+json": {
       "columns": [
        {
         "name": "index",
         "rawType": "int64",
         "type": "integer"
        },
        {
         "name": "year",
         "rawType": "int64",
         "type": "integer"
        },
        {
         "name": "quarter",
         "rawType": "int64",
         "type": "integer"
        },
        {
         "name": "developers",
         "rawType": "int64",
         "type": "integer"
        },
        {
         "name": "year_quarter",
         "rawType": "object",
         "type": "string"
        }
       ],
       "conversionMethod": "pd.DataFrame",
       "ref": "9a756854-533f-4cf3-8eb0-37e7a41909f0",
       "rows": [
        [
         "0",
         "2020",
         "1",
         "45478340",
         "2020-Q1"
        ],
        [
         "1",
         "2020",
         "2",
         "49504193",
         "2020-Q2"
        ],
        [
         "2",
         "2020",
         "3",
         "53248431",
         "2020-Q3"
        ],
        [
         "3",
         "2020",
         "4",
         "57102973",
         "2020-Q4"
        ],
        [
         "4",
         "2021",
         "1",
         "60958885",
         "2021-Q1"
        ],
        [
         "5",
         "2021",
         "2",
         "64820144",
         "2021-Q2"
        ],
        [
         "6",
         "2021",
         "3",
         "68834671",
         "2021-Q3"
        ],
        [
         "7",
         "2021",
         "4",
         "72973877",
         "2021-Q4"
        ],
        [
         "8",
         "2022",
         "1",
         "78157383",
         "2022-Q1"
        ],
        [
         "9",
         "2022",
         "2",
         "82925785",
         "2022-Q2"
        ],
        [
         "10",
         "2022",
         "3",
         "87669771",
         "2022-Q3"
        ],
        [
         "11",
         "2022",
         "4",
         "92469733",
         "2022-Q4"
        ],
        [
         "12",
         "2023",
         "1",
         "98055745",
         "2023-Q1"
        ],
        [
         "13",
         "2023",
         "2",
         "104004958",
         "2023-Q2"
        ],
        [
         "14",
         "2023",
         "3",
         "109933535",
         "2023-Q3"
        ],
        [
         "15",
         "2023",
         "4",
         "115546343",
         "2023-Q4"
        ],
        [
         "16",
         "2024",
         "1",
         "122294466",
         "2024-Q1"
        ],
        [
         "17",
         "2024",
         "2",
         "127678376",
         "2024-Q2"
        ],
        [
         "18",
         "2024",
         "3",
         "133336845",
         "2024-Q3"
        ]
       ],
       "shape": {
        "columns": 4,
        "rows": 19
       }
      },
      "text/html": [
       "<div>\n",
       "<style scoped>\n",
       "    .dataframe tbody tr th:only-of-type {\n",
       "        vertical-align: middle;\n",
       "    }\n",
       "\n",
       "    .dataframe tbody tr th {\n",
       "        vertical-align: top;\n",
       "    }\n",
       "\n",
       "    .dataframe thead th {\n",
       "        text-align: right;\n",
       "    }\n",
       "</style>\n",
       "<table border=\"1\" class=\"dataframe\">\n",
       "  <thead>\n",
       "    <tr style=\"text-align: right;\">\n",
       "      <th></th>\n",
       "      <th>year</th>\n",
       "      <th>quarter</th>\n",
       "      <th>developers</th>\n",
       "      <th>year_quarter</th>\n",
       "    </tr>\n",
       "  </thead>\n",
       "  <tbody>\n",
       "    <tr>\n",
       "      <th>0</th>\n",
       "      <td>2020</td>\n",
       "      <td>1</td>\n",
       "      <td>45478340</td>\n",
       "      <td>2020-Q1</td>\n",
       "    </tr>\n",
       "    <tr>\n",
       "      <th>1</th>\n",
       "      <td>2020</td>\n",
       "      <td>2</td>\n",
       "      <td>49504193</td>\n",
       "      <td>2020-Q2</td>\n",
       "    </tr>\n",
       "    <tr>\n",
       "      <th>2</th>\n",
       "      <td>2020</td>\n",
       "      <td>3</td>\n",
       "      <td>53248431</td>\n",
       "      <td>2020-Q3</td>\n",
       "    </tr>\n",
       "    <tr>\n",
       "      <th>3</th>\n",
       "      <td>2020</td>\n",
       "      <td>4</td>\n",
       "      <td>57102973</td>\n",
       "      <td>2020-Q4</td>\n",
       "    </tr>\n",
       "    <tr>\n",
       "      <th>4</th>\n",
       "      <td>2021</td>\n",
       "      <td>1</td>\n",
       "      <td>60958885</td>\n",
       "      <td>2021-Q1</td>\n",
       "    </tr>\n",
       "    <tr>\n",
       "      <th>5</th>\n",
       "      <td>2021</td>\n",
       "      <td>2</td>\n",
       "      <td>64820144</td>\n",
       "      <td>2021-Q2</td>\n",
       "    </tr>\n",
       "    <tr>\n",
       "      <th>6</th>\n",
       "      <td>2021</td>\n",
       "      <td>3</td>\n",
       "      <td>68834671</td>\n",
       "      <td>2021-Q3</td>\n",
       "    </tr>\n",
       "    <tr>\n",
       "      <th>7</th>\n",
       "      <td>2021</td>\n",
       "      <td>4</td>\n",
       "      <td>72973877</td>\n",
       "      <td>2021-Q4</td>\n",
       "    </tr>\n",
       "    <tr>\n",
       "      <th>8</th>\n",
       "      <td>2022</td>\n",
       "      <td>1</td>\n",
       "      <td>78157383</td>\n",
       "      <td>2022-Q1</td>\n",
       "    </tr>\n",
       "    <tr>\n",
       "      <th>9</th>\n",
       "      <td>2022</td>\n",
       "      <td>2</td>\n",
       "      <td>82925785</td>\n",
       "      <td>2022-Q2</td>\n",
       "    </tr>\n",
       "    <tr>\n",
       "      <th>10</th>\n",
       "      <td>2022</td>\n",
       "      <td>3</td>\n",
       "      <td>87669771</td>\n",
       "      <td>2022-Q3</td>\n",
       "    </tr>\n",
       "    <tr>\n",
       "      <th>11</th>\n",
       "      <td>2022</td>\n",
       "      <td>4</td>\n",
       "      <td>92469733</td>\n",
       "      <td>2022-Q4</td>\n",
       "    </tr>\n",
       "    <tr>\n",
       "      <th>12</th>\n",
       "      <td>2023</td>\n",
       "      <td>1</td>\n",
       "      <td>98055745</td>\n",
       "      <td>2023-Q1</td>\n",
       "    </tr>\n",
       "    <tr>\n",
       "      <th>13</th>\n",
       "      <td>2023</td>\n",
       "      <td>2</td>\n",
       "      <td>104004958</td>\n",
       "      <td>2023-Q2</td>\n",
       "    </tr>\n",
       "    <tr>\n",
       "      <th>14</th>\n",
       "      <td>2023</td>\n",
       "      <td>3</td>\n",
       "      <td>109933535</td>\n",
       "      <td>2023-Q3</td>\n",
       "    </tr>\n",
       "    <tr>\n",
       "      <th>15</th>\n",
       "      <td>2023</td>\n",
       "      <td>4</td>\n",
       "      <td>115546343</td>\n",
       "      <td>2023-Q4</td>\n",
       "    </tr>\n",
       "    <tr>\n",
       "      <th>16</th>\n",
       "      <td>2024</td>\n",
       "      <td>1</td>\n",
       "      <td>122294466</td>\n",
       "      <td>2024-Q1</td>\n",
       "    </tr>\n",
       "    <tr>\n",
       "      <th>17</th>\n",
       "      <td>2024</td>\n",
       "      <td>2</td>\n",
       "      <td>127678376</td>\n",
       "      <td>2024-Q2</td>\n",
       "    </tr>\n",
       "    <tr>\n",
       "      <th>18</th>\n",
       "      <td>2024</td>\n",
       "      <td>3</td>\n",
       "      <td>133336845</td>\n",
       "      <td>2024-Q3</td>\n",
       "    </tr>\n",
       "  </tbody>\n",
       "</table>\n",
       "</div>"
      ],
      "text/plain": [
       "    year  quarter  developers year_quarter\n",
       "0   2020        1    45478340      2020-Q1\n",
       "1   2020        2    49504193      2020-Q2\n",
       "2   2020        3    53248431      2020-Q3\n",
       "3   2020        4    57102973      2020-Q4\n",
       "4   2021        1    60958885      2021-Q1\n",
       "5   2021        2    64820144      2021-Q2\n",
       "6   2021        3    68834671      2021-Q3\n",
       "7   2021        4    72973877      2021-Q4\n",
       "8   2022        1    78157383      2022-Q1\n",
       "9   2022        2    82925785      2022-Q2\n",
       "10  2022        3    87669771      2022-Q3\n",
       "11  2022        4    92469733      2022-Q4\n",
       "12  2023        1    98055745      2023-Q1\n",
       "13  2023        2   104004958      2023-Q2\n",
       "14  2023        3   109933535      2023-Q3\n",
       "15  2023        4   115546343      2023-Q4\n",
       "16  2024        1   122294466      2024-Q1\n",
       "17  2024        2   127678376      2024-Q2\n",
       "18  2024        3   133336845      2024-Q3"
      ]
     },
     "execution_count": 9,
     "metadata": {},
     "output_type": "execute_result"
    }
   ],
   "source": [
    "developers_M[\"year_quarter\"] = developers_M[\"year\"].astype(\"str\") +\"-Q\"+  developers_M [\"quarter\"].astype(\"str\")\n",
    "developers_M"
   ]
  },
  {
   "cell_type": "code",
   "execution_count": 10,
   "metadata": {},
   "outputs": [],
   "source": [
    "from matplotlib.ticker import FuncFormatter"
   ]
  },
  {
   "cell_type": "code",
   "execution_count": 11,
   "metadata": {},
   "outputs": [
    {
     "name": "stderr",
     "output_type": "stream",
     "text": [
      "C:\\Users\\guill\\AppData\\Local\\Temp\\ipykernel_4336\\2038445142.py:1: FutureWarning: \n",
      "\n",
      "Passing `palette` without assigning `hue` is deprecated and will be removed in v0.14.0. Assign the `x` variable to `hue` and set `legend=False` for the same effect.\n",
      "\n",
      "  sns.barplot(data= developers_M, x = \"year_quarter\", y = \"developers\", palette=\"Blues\")\n"
     ]
    },
    {
     "data": {
      "text/plain": [
       "Text(0.5, 0, 'Año-Trimestre')"
      ]
     },
     "execution_count": 11,
     "metadata": {},
     "output_type": "execute_result"
    },
    {
     "data": {
      "image/png": "[encoded data removed]",
      "text/plain": [
       "<Figure size 640x480 with 1 Axes>"
      ]
     },
     "metadata": {},
     "output_type": "display_data"
    }
   ],
   "source": [
    "sns.barplot(data= developers_M, x = \"year_quarter\", y = \"developers\", palette=\"Blues\")\n",
    "plt.xticks(developers_M[\"year_quarter\"].unique(),rotation=45, ha=\"right\");\n",
    "# Formatter function to display y-axis labels in millions\n",
    "def millions(x, pos):\n",
    "    return f'{x * 1e-6:.1f}M'  # Multiply by 1e-6 to convert to millions\n",
    "\n",
    "# Apply the formatter to the y-axis\n",
    "plt.gca().yaxis.set_major_formatter(FuncFormatter(millions))\n",
    "# Añadir solo líneas horizontales\n",
    "plt.grid(True, axis='y', linestyle='--', alpha=0.6)  # Solo líneas horizontales\n",
    "# Set the y-axis label\n",
    "plt.ylabel('Desarrolladores Mundo (en Millones)')\n",
    "plt.xlabel('Año-Trimestre')"
   ]
  },
  {
   "cell_type": "code",
   "execution_count": 12,
   "metadata": {},
   "outputs": [],
   "source": [
    "\n",
    "# Group by the year and sum developers (or aggregate as needed)\n",
    "developers_per_year_M = developers_M.groupby('year')['developers'].sum().reset_index()\n",
    "\n",
    "# Calculate the Year-over-Year percentage change\n",
    "developers_per_year_M['YoY_change'] = developers_per_year_M['developers'].pct_change() * 100"
   ]
  },
  {
   "cell_type": "code",
   "execution_count": 13,
   "metadata": {},
   "outputs": [
    {
     "data": {
      "application/vnd.microsoft.datawrangler.viewer.v0+json": {
       "columns": [
        {
         "name": "index",
         "rawType": "int64",
         "type": "integer"
        },
        {
         "name": "year",
         "rawType": "int64",
         "type": "integer"
        },
        {
         "name": "developers",
         "rawType": "int64",
         "type": "integer"
        },
        {
         "name": "YoY_change",
         "rawType": "float64",
         "type": "float"
        }
       ],
       "conversionMethod": "pd.DataFrame",
       "ref": "3d8f0076-db67-4657-8268-064ec2460697",
       "rows": [
        [
         "0",
         "2020",
         "205333937",
         null
        ],
        [
         "1",
         "2021",
         "267587577",
         "30.318242035168307"
        ],
        [
         "2",
         "2022",
         "341222672",
         "27.518129139455528"
        ],
        [
         "3",
         "2023",
         "427540581",
         "25.296651155700456"
        ],
        [
         "4",
         "2024",
         "383309687",
         "-10.345425900050408"
        ]
       ],
       "shape": {
        "columns": 3,
        "rows": 5
       }
      },
      "text/html": [
       "<div>\n",
       "<style scoped>\n",
       "    .dataframe tbody tr th:only-of-type {\n",
       "        vertical-align: middle;\n",
       "    }\n",
       "\n",
       "    .dataframe tbody tr th {\n",
       "        vertical-align: top;\n",
       "    }\n",
       "\n",
       "    .dataframe thead th {\n",
       "        text-align: right;\n",
       "    }\n",
       "</style>\n",
       "<table border=\"1\" class=\"dataframe\">\n",
       "  <thead>\n",
       "    <tr style=\"text-align: right;\">\n",
       "      <th></th>\n",
       "      <th>year</th>\n",
       "      <th>developers</th>\n",
       "      <th>YoY_change</th>\n",
       "    </tr>\n",
       "  </thead>\n",
       "  <tbody>\n",
       "    <tr>\n",
       "      <th>0</th>\n",
       "      <td>2020</td>\n",
       "      <td>205333937</td>\n",
       "      <td>NaN</td>\n",
       "    </tr>\n",
       "    <tr>\n",
       "      <th>1</th>\n",
       "      <td>2021</td>\n",
       "      <td>267587577</td>\n",
       "      <td>30.318242</td>\n",
       "    </tr>\n",
       "    <tr>\n",
       "      <th>2</th>\n",
       "      <td>2022</td>\n",
       "      <td>341222672</td>\n",
       "      <td>27.518129</td>\n",
       "    </tr>\n",
       "    <tr>\n",
       "      <th>3</th>\n",
       "      <td>2023</td>\n",
       "      <td>427540581</td>\n",
       "      <td>25.296651</td>\n",
       "    </tr>\n",
       "    <tr>\n",
       "      <th>4</th>\n",
       "      <td>2024</td>\n",
       "      <td>383309687</td>\n",
       "      <td>-10.345426</td>\n",
       "    </tr>\n",
       "  </tbody>\n",
       "</table>\n",
       "</div>"
      ],
      "text/plain": [
       "   year  developers  YoY_change\n",
       "0  2020   205333937         NaN\n",
       "1  2021   267587577   30.318242\n",
       "2  2022   341222672   27.518129\n",
       "3  2023   427540581   25.296651\n",
       "4  2024   383309687  -10.345426"
      ]
     },
     "execution_count": 13,
     "metadata": {},
     "output_type": "execute_result"
    }
   ],
   "source": [
    "developers_per_year_M"
   ]
  },
  {
   "cell_type": "code",
   "execution_count": 14,
   "metadata": {},
   "outputs": [
    {
     "name": "stdout",
     "output_type": "stream",
     "text": [
      "<class 'pandas.core.frame.DataFrame'>\n",
      "RangeIndex: 5 entries, 0 to 4\n",
      "Data columns (total 3 columns):\n",
      " #   Column      Non-Null Count  Dtype  \n",
      "---  ------      --------------  -----  \n",
      " 0   year        5 non-null      int64  \n",
      " 1   developers  5 non-null      int64  \n",
      " 2   YoY_change  4 non-null      float64\n",
      "dtypes: float64(1), int64(2)\n",
      "memory usage: 252.0 bytes\n"
     ]
    }
   ],
   "source": [
    "developers_per_year_M.info()"
   ]
  },
  {
   "cell_type": "code",
   "execution_count": 15,
   "metadata": {},
   "outputs": [],
   "source": [
    "media_aprox_M = (developers_per_year_M.iloc[1]['YoY_change']+developers_per_year_M.iloc[2]['YoY_change']+developers_per_year_M.iloc[3]['YoY_change'])/3"
   ]
  },
  {
   "cell_type": "code",
   "execution_count": 16,
   "metadata": {},
   "outputs": [
    {
     "data": {
      "text/plain": [
       "np.float64(27.71100744344143)"
      ]
     },
     "execution_count": 16,
     "metadata": {},
     "output_type": "execute_result"
    }
   ],
   "source": [
    "media_aprox_M"
   ]
  }
 ],
 "metadata": {
  "kernelspec": {
   "display_name": "Python 3",
   "language": "python",
   "name": "python3"
  },
  "language_info": {
   "codemirror_mode": {
    "name": "ipython",
    "version": 3
   },
   "file_extension": ".py",
   "mimetype": "text/x-python",
   "name": "python",
   "nbconvert_exporter": "python",
   "pygments_lexer": "ipython3",
   "version": "3.11.9"
  },
  "orig_nbformat": 4
 },
 "nbformat": 4,
 "nbformat_minor": 2
}
