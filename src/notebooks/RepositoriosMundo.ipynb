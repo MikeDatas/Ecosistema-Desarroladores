{
 "cells": [
  {
   "cell_type": "code",
   "execution_count": 1,
   "metadata": {},
   "outputs": [],
   "source": [
    "import numpy as np\n",
    "import pandas as pd\n",
    "import matplotlib.pyplot as plt\n",
    "import seaborn as sns\n"
   ]
  },
  {
   "cell_type": "code",
   "execution_count": 2,
   "metadata": {},
   "outputs": [],
   "source": [
    "df_8 = pd.read_csv('../data/repositories.csv')\n",
    "fuente_8 = \"https://github.com/github/innovationgraph/tree/main\"\n"
   ]
  },
  {
   "cell_type": "markdown",
   "metadata": {},
   "source": [
    "Muestra mediante un head() los principales datasets con los que vas a trabajar"
   ]
  },
  {
   "cell_type": "code",
   "execution_count": 5,
   "metadata": {},
   "outputs": [
    {
     "data": {
      "application/vnd.microsoft.datawrangler.viewer.v0+json": {
       "columns": [
        {
         "name": "index",
         "rawType": "int64",
         "type": "integer"
        },
        {
         "name": "repositories",
         "rawType": "int64",
         "type": "integer"
        },
        {
         "name": "iso2_code",
         "rawType": "object",
         "type": "string"
        },
        {
         "name": "year",
         "rawType": "int64",
         "type": "integer"
        },
        {
         "name": "quarter",
         "rawType": "int64",
         "type": "integer"
        }
       ],
       "conversionMethod": "pd.DataFrame",
       "ref": "775dfa7d-8645-4d0e-b1a2-bbb8599202ac",
       "rows": [
        [
         "0",
         "30669781",
         "US",
         "2020",
         "1"
        ],
        [
         "1",
         "20179087",
         "CN",
         "2020",
         "1"
        ],
        [
         "2",
         "17912888",
         "EU",
         "2020",
         "1"
        ],
        [
         "3",
         "9254535",
         "IN",
         "2020",
         "1"
        ],
        [
         "4",
         "4171705",
         "GB",
         "2020",
         "1"
        ]
       ],
       "shape": {
        "columns": 4,
        "rows": 5
       }
      },
      "text/html": [
       "<div>\n",
       "<style scoped>\n",
       "    .dataframe tbody tr th:only-of-type {\n",
       "        vertical-align: middle;\n",
       "    }\n",
       "\n",
       "    .dataframe tbody tr th {\n",
       "        vertical-align: top;\n",
       "    }\n",
       "\n",
       "    .dataframe thead th {\n",
       "        text-align: right;\n",
       "    }\n",
       "</style>\n",
       "<table border=\"1\" class=\"dataframe\">\n",
       "  <thead>\n",
       "    <tr style=\"text-align: right;\">\n",
       "      <th></th>\n",
       "      <th>repositories</th>\n",
       "      <th>iso2_code</th>\n",
       "      <th>year</th>\n",
       "      <th>quarter</th>\n",
       "    </tr>\n",
       "  </thead>\n",
       "  <tbody>\n",
       "    <tr>\n",
       "      <th>0</th>\n",
       "      <td>30669781</td>\n",
       "      <td>US</td>\n",
       "      <td>2020</td>\n",
       "      <td>1</td>\n",
       "    </tr>\n",
       "    <tr>\n",
       "      <th>1</th>\n",
       "      <td>20179087</td>\n",
       "      <td>CN</td>\n",
       "      <td>2020</td>\n",
       "      <td>1</td>\n",
       "    </tr>\n",
       "    <tr>\n",
       "      <th>2</th>\n",
       "      <td>17912888</td>\n",
       "      <td>EU</td>\n",
       "      <td>2020</td>\n",
       "      <td>1</td>\n",
       "    </tr>\n",
       "    <tr>\n",
       "      <th>3</th>\n",
       "      <td>9254535</td>\n",
       "      <td>IN</td>\n",
       "      <td>2020</td>\n",
       "      <td>1</td>\n",
       "    </tr>\n",
       "    <tr>\n",
       "      <th>4</th>\n",
       "      <td>4171705</td>\n",
       "      <td>GB</td>\n",
       "      <td>2020</td>\n",
       "      <td>1</td>\n",
       "    </tr>\n",
       "  </tbody>\n",
       "</table>\n",
       "</div>"
      ],
      "text/plain": [
       "   repositories iso2_code  year  quarter\n",
       "0      30669781        US  2020        1\n",
       "1      20179087        CN  2020        1\n",
       "2      17912888        EU  2020        1\n",
       "3       9254535        IN  2020        1\n",
       "4       4171705        GB  2020        1"
      ]
     },
     "execution_count": 5,
     "metadata": {},
     "output_type": "execute_result"
    }
   ],
   "source": [
    "df_8.head()"
   ]
  },
  {
   "cell_type": "code",
   "execution_count": 6,
   "metadata": {},
   "outputs": [],
   "source": [
    "df_8_M = df_8[df_8[\"iso2_code\"] != \"EU\"]"
   ]
  },
  {
   "cell_type": "code",
   "execution_count": 7,
   "metadata": {},
   "outputs": [
    {
     "data": {
      "application/vnd.microsoft.datawrangler.viewer.v0+json": {
       "columns": [
        {
         "name": "index",
         "rawType": "int64",
         "type": "integer"
        },
        {
         "name": "repositories",
         "rawType": "int64",
         "type": "integer"
        },
        {
         "name": "iso2_code",
         "rawType": "object",
         "type": "unknown"
        },
        {
         "name": "year",
         "rawType": "int64",
         "type": "integer"
        },
        {
         "name": "quarter",
         "rawType": "int64",
         "type": "integer"
        }
       ],
       "conversionMethod": "pd.DataFrame",
       "ref": "7c4d8fb5-7202-41c2-97fa-074b80625606",
       "rows": [
        [
         "0",
         "30669781",
         "US",
         "2020",
         "1"
        ],
        [
         "1",
         "20179087",
         "CN",
         "2020",
         "1"
        ],
        [
         "3",
         "9254535",
         "IN",
         "2020",
         "1"
        ],
        [
         "4",
         "4171705",
         "GB",
         "2020",
         "1"
        ],
        [
         "5",
         "3602025",
         "BR",
         "2020",
         "1"
        ],
        [
         "6",
         "3453638",
         "DE",
         "2020",
         "1"
        ],
        [
         "7",
         "3241750",
         "CA",
         "2020",
         "1"
        ],
        [
         "8",
         "3057681",
         "RU",
         "2020",
         "1"
        ],
        [
         "9",
         "2891946",
         "FR",
         "2020",
         "1"
        ],
        [
         "10",
         "2814553",
         "JP",
         "2020",
         "1"
        ],
        [
         "11",
         "1925215",
         "KR",
         "2020",
         "1"
        ],
        [
         "12",
         "1913481",
         "HK",
         "2020",
         "1"
        ],
        [
         "13",
         "1744385",
         "ES",
         "2020",
         "1"
        ],
        [
         "14",
         "1645127",
         "ID",
         "2020",
         "1"
        ],
        [
         "15",
         "1637559",
         "UA",
         "2020",
         "1"
        ],
        [
         "16",
         "1631400",
         "AU",
         "2020",
         "1"
        ],
        [
         "17",
         "1490080",
         "PL",
         "2020",
         "1"
        ],
        [
         "18",
         "1467690",
         "NL",
         "2020",
         "1"
        ],
        [
         "19",
         "1384527",
         "VN",
         "2020",
         "1"
        ],
        [
         "20",
         "1204885",
         "TW",
         "2020",
         "1"
        ],
        [
         "21",
         "1089820",
         "MX",
         "2020",
         "1"
        ],
        [
         "22",
         "941289",
         "SG",
         "2020",
         "1"
        ],
        [
         "23",
         "874565",
         "IT",
         "2020",
         "1"
        ],
        [
         "24",
         "863354",
         "SE",
         "2020",
         "1"
        ],
        [
         "25",
         "772897",
         "TR",
         "2020",
         "1"
        ],
        [
         "26",
         "678828",
         "CO",
         "2020",
         "1"
        ],
        [
         "27",
         "651461",
         "CH",
         "2020",
         "1"
        ],
        [
         "28",
         "642600",
         "TH",
         "2020",
         "1"
        ],
        [
         "29",
         "630912",
         "PH",
         "2020",
         "1"
        ],
        [
         "30",
         "613903",
         "IL",
         "2020",
         "1"
        ],
        [
         "31",
         "608445",
         "AR",
         "2020",
         "1"
        ],
        [
         "32",
         "588881",
         "BD",
         "2020",
         "1"
        ],
        [
         "33",
         "552638",
         "BE",
         "2020",
         "1"
        ],
        [
         "34",
         "512056",
         "PK",
         "2020",
         "1"
        ],
        [
         "35",
         "473269",
         "IE",
         "2020",
         "1"
        ],
        [
         "36",
         "470719",
         "BY",
         "2020",
         "1"
        ],
        [
         "37",
         "464407",
         "NG",
         "2020",
         "1"
        ],
        [
         "38",
         "445335",
         "DK",
         "2020",
         "1"
        ],
        [
         "39",
         "440201",
         "RO",
         "2020",
         "1"
        ],
        [
         "40",
         "432883",
         "EG",
         "2020",
         "1"
        ],
        [
         "41",
         "418955",
         "FI",
         "2020",
         "1"
        ],
        [
         "42",
         "417881",
         "ZA",
         "2020",
         "1"
        ],
        [
         "43",
         "411862",
         "CZ",
         "2020",
         "1"
        ],
        [
         "44",
         "411307",
         "PT",
         "2020",
         "1"
        ],
        [
         "45",
         "399306",
         "NZ",
         "2020",
         "1"
        ],
        [
         "46",
         "388901",
         "NO",
         "2020",
         "1"
        ],
        [
         "47",
         "385216",
         "MY",
         "2020",
         "1"
        ],
        [
         "48",
         "362975",
         "AT",
         "2020",
         "1"
        ],
        [
         "49",
         "356948",
         "PE",
         "2020",
         "1"
        ],
        [
         "50",
         "353627",
         "CL",
         "2020",
         "1"
        ]
       ],
       "shape": {
        "columns": 4,
        "rows": 4231
       }
      },
      "text/html": [
       "<div>\n",
       "<style scoped>\n",
       "    .dataframe tbody tr th:only-of-type {\n",
       "        vertical-align: middle;\n",
       "    }\n",
       "\n",
       "    .dataframe tbody tr th {\n",
       "        vertical-align: top;\n",
       "    }\n",
       "\n",
       "    .dataframe thead th {\n",
       "        text-align: right;\n",
       "    }\n",
       "</style>\n",
       "<table border=\"1\" class=\"dataframe\">\n",
       "  <thead>\n",
       "    <tr style=\"text-align: right;\">\n",
       "      <th></th>\n",
       "      <th>repositories</th>\n",
       "      <th>iso2_code</th>\n",
       "      <th>year</th>\n",
       "      <th>quarter</th>\n",
       "    </tr>\n",
       "  </thead>\n",
       "  <tbody>\n",
       "    <tr>\n",
       "      <th>0</th>\n",
       "      <td>30669781</td>\n",
       "      <td>US</td>\n",
       "      <td>2020</td>\n",
       "      <td>1</td>\n",
       "    </tr>\n",
       "    <tr>\n",
       "      <th>1</th>\n",
       "      <td>20179087</td>\n",
       "      <td>CN</td>\n",
       "      <td>2020</td>\n",
       "      <td>1</td>\n",
       "    </tr>\n",
       "    <tr>\n",
       "      <th>3</th>\n",
       "      <td>9254535</td>\n",
       "      <td>IN</td>\n",
       "      <td>2020</td>\n",
       "      <td>1</td>\n",
       "    </tr>\n",
       "    <tr>\n",
       "      <th>4</th>\n",
       "      <td>4171705</td>\n",
       "      <td>GB</td>\n",
       "      <td>2020</td>\n",
       "      <td>1</td>\n",
       "    </tr>\n",
       "    <tr>\n",
       "      <th>5</th>\n",
       "      <td>3602025</td>\n",
       "      <td>BR</td>\n",
       "      <td>2020</td>\n",
       "      <td>1</td>\n",
       "    </tr>\n",
       "    <tr>\n",
       "      <th>...</th>\n",
       "      <td>...</td>\n",
       "      <td>...</td>\n",
       "      <td>...</td>\n",
       "      <td>...</td>\n",
       "    </tr>\n",
       "    <tr>\n",
       "      <th>4245</th>\n",
       "      <td>141</td>\n",
       "      <td>SH</td>\n",
       "      <td>2024</td>\n",
       "      <td>3</td>\n",
       "    </tr>\n",
       "    <tr>\n",
       "      <th>4246</th>\n",
       "      <td>128</td>\n",
       "      <td>CK</td>\n",
       "      <td>2024</td>\n",
       "      <td>3</td>\n",
       "    </tr>\n",
       "    <tr>\n",
       "      <th>4247</th>\n",
       "      <td>115</td>\n",
       "      <td>KI</td>\n",
       "      <td>2024</td>\n",
       "      <td>3</td>\n",
       "    </tr>\n",
       "    <tr>\n",
       "      <th>4248</th>\n",
       "      <td>104</td>\n",
       "      <td>MS</td>\n",
       "      <td>2024</td>\n",
       "      <td>3</td>\n",
       "    </tr>\n",
       "    <tr>\n",
       "      <th>4249</th>\n",
       "      <td>102</td>\n",
       "      <td>MH</td>\n",
       "      <td>2024</td>\n",
       "      <td>3</td>\n",
       "    </tr>\n",
       "  </tbody>\n",
       "</table>\n",
       "<p>4231 rows × 4 columns</p>\n",
       "</div>"
      ],
      "text/plain": [
       "      repositories iso2_code  year  quarter\n",
       "0         30669781        US  2020        1\n",
       "1         20179087        CN  2020        1\n",
       "3          9254535        IN  2020        1\n",
       "4          4171705        GB  2020        1\n",
       "5          3602025        BR  2020        1\n",
       "...            ...       ...   ...      ...\n",
       "4245           141        SH  2024        3\n",
       "4246           128        CK  2024        3\n",
       "4247           115        KI  2024        3\n",
       "4248           104        MS  2024        3\n",
       "4249           102        MH  2024        3\n",
       "\n",
       "[4231 rows x 4 columns]"
      ]
     },
     "execution_count": 7,
     "metadata": {},
     "output_type": "execute_result"
    }
   ],
   "source": [
    "df_8_M"
   ]
  },
  {
   "cell_type": "code",
   "execution_count": 8,
   "metadata": {},
   "outputs": [],
   "source": [
    "repositories_M = df_8_M.groupby(['year', \"quarter\"])['repositories'].sum().reset_index()"
   ]
  },
  {
   "cell_type": "code",
   "execution_count": 9,
   "metadata": {},
   "outputs": [
    {
     "data": {
      "application/vnd.microsoft.datawrangler.viewer.v0+json": {
       "columns": [
        {
         "name": "index",
         "rawType": "int64",
         "type": "integer"
        },
        {
         "name": "year",
         "rawType": "int64",
         "type": "integer"
        },
        {
         "name": "quarter",
         "rawType": "int64",
         "type": "integer"
        },
        {
         "name": "repositories",
         "rawType": "int64",
         "type": "integer"
        }
       ],
       "conversionMethod": "pd.DataFrame",
       "ref": "cdd2bf63-6213-4f39-bc22-e9147115de99",
       "rows": [
        [
         "0",
         "2020",
         "1",
         "122435835"
        ],
        [
         "1",
         "2020",
         "2",
         "131344838"
        ],
        [
         "2",
         "2020",
         "3",
         "139783519"
        ],
        [
         "3",
         "2020",
         "4",
         "148841391"
        ],
        [
         "4",
         "2021",
         "1",
         "158145816"
        ],
        [
         "5",
         "2021",
         "2",
         "168292701"
        ],
        [
         "6",
         "2021",
         "3",
         "178669508"
        ],
        [
         "7",
         "2021",
         "4",
         "189422371"
        ],
        [
         "8",
         "2022",
         "1",
         "201630254"
        ],
        [
         "9",
         "2022",
         "2",
         "213352044"
        ],
        [
         "10",
         "2022",
         "3",
         "225008094"
        ],
        [
         "11",
         "2022",
         "4",
         "236976800"
        ],
        [
         "12",
         "2023",
         "1",
         "249269143"
        ],
        [
         "13",
         "2023",
         "2",
         "261958738"
        ],
        [
         "14",
         "2023",
         "3",
         "274085233"
        ],
        [
         "15",
         "2023",
         "4",
         "286680464"
        ],
        [
         "16",
         "2024",
         "1",
         "299711891"
        ],
        [
         "17",
         "2024",
         "2",
         "312806520"
        ],
        [
         "18",
         "2024",
         "3",
         "325655062"
        ]
       ],
       "shape": {
        "columns": 3,
        "rows": 19
       }
      },
      "text/html": [
       "<div>\n",
       "<style scoped>\n",
       "    .dataframe tbody tr th:only-of-type {\n",
       "        vertical-align: middle;\n",
       "    }\n",
       "\n",
       "    .dataframe tbody tr th {\n",
       "        vertical-align: top;\n",
       "    }\n",
       "\n",
       "    .dataframe thead th {\n",
       "        text-align: right;\n",
       "    }\n",
       "</style>\n",
       "<table border=\"1\" class=\"dataframe\">\n",
       "  <thead>\n",
       "    <tr style=\"text-align: right;\">\n",
       "      <th></th>\n",
       "      <th>year</th>\n",
       "      <th>quarter</th>\n",
       "      <th>repositories</th>\n",
       "    </tr>\n",
       "  </thead>\n",
       "  <tbody>\n",
       "    <tr>\n",
       "      <th>0</th>\n",
       "      <td>2020</td>\n",
       "      <td>1</td>\n",
       "      <td>122435835</td>\n",
       "    </tr>\n",
       "    <tr>\n",
       "      <th>1</th>\n",
       "      <td>2020</td>\n",
       "      <td>2</td>\n",
       "      <td>131344838</td>\n",
       "    </tr>\n",
       "    <tr>\n",
       "      <th>2</th>\n",
       "      <td>2020</td>\n",
       "      <td>3</td>\n",
       "      <td>139783519</td>\n",
       "    </tr>\n",
       "    <tr>\n",
       "      <th>3</th>\n",
       "      <td>2020</td>\n",
       "      <td>4</td>\n",
       "      <td>148841391</td>\n",
       "    </tr>\n",
       "    <tr>\n",
       "      <th>4</th>\n",
       "      <td>2021</td>\n",
       "      <td>1</td>\n",
       "      <td>158145816</td>\n",
       "    </tr>\n",
       "    <tr>\n",
       "      <th>5</th>\n",
       "      <td>2021</td>\n",
       "      <td>2</td>\n",
       "      <td>168292701</td>\n",
       "    </tr>\n",
       "    <tr>\n",
       "      <th>6</th>\n",
       "      <td>2021</td>\n",
       "      <td>3</td>\n",
       "      <td>178669508</td>\n",
       "    </tr>\n",
       "    <tr>\n",
       "      <th>7</th>\n",
       "      <td>2021</td>\n",
       "      <td>4</td>\n",
       "      <td>189422371</td>\n",
       "    </tr>\n",
       "    <tr>\n",
       "      <th>8</th>\n",
       "      <td>2022</td>\n",
       "      <td>1</td>\n",
       "      <td>201630254</td>\n",
       "    </tr>\n",
       "    <tr>\n",
       "      <th>9</th>\n",
       "      <td>2022</td>\n",
       "      <td>2</td>\n",
       "      <td>213352044</td>\n",
       "    </tr>\n",
       "    <tr>\n",
       "      <th>10</th>\n",
       "      <td>2022</td>\n",
       "      <td>3</td>\n",
       "      <td>225008094</td>\n",
       "    </tr>\n",
       "    <tr>\n",
       "      <th>11</th>\n",
       "      <td>2022</td>\n",
       "      <td>4</td>\n",
       "      <td>236976800</td>\n",
       "    </tr>\n",
       "    <tr>\n",
       "      <th>12</th>\n",
       "      <td>2023</td>\n",
       "      <td>1</td>\n",
       "      <td>249269143</td>\n",
       "    </tr>\n",
       "    <tr>\n",
       "      <th>13</th>\n",
       "      <td>2023</td>\n",
       "      <td>2</td>\n",
       "      <td>261958738</td>\n",
       "    </tr>\n",
       "    <tr>\n",
       "      <th>14</th>\n",
       "      <td>2023</td>\n",
       "      <td>3</td>\n",
       "      <td>274085233</td>\n",
       "    </tr>\n",
       "    <tr>\n",
       "      <th>15</th>\n",
       "      <td>2023</td>\n",
       "      <td>4</td>\n",
       "      <td>286680464</td>\n",
       "    </tr>\n",
       "    <tr>\n",
       "      <th>16</th>\n",
       "      <td>2024</td>\n",
       "      <td>1</td>\n",
       "      <td>299711891</td>\n",
       "    </tr>\n",
       "    <tr>\n",
       "      <th>17</th>\n",
       "      <td>2024</td>\n",
       "      <td>2</td>\n",
       "      <td>312806520</td>\n",
       "    </tr>\n",
       "    <tr>\n",
       "      <th>18</th>\n",
       "      <td>2024</td>\n",
       "      <td>3</td>\n",
       "      <td>325655062</td>\n",
       "    </tr>\n",
       "  </tbody>\n",
       "</table>\n",
       "</div>"
      ],
      "text/plain": [
       "    year  quarter  repositories\n",
       "0   2020        1     122435835\n",
       "1   2020        2     131344838\n",
       "2   2020        3     139783519\n",
       "3   2020        4     148841391\n",
       "4   2021        1     158145816\n",
       "5   2021        2     168292701\n",
       "6   2021        3     178669508\n",
       "7   2021        4     189422371\n",
       "8   2022        1     201630254\n",
       "9   2022        2     213352044\n",
       "10  2022        3     225008094\n",
       "11  2022        4     236976800\n",
       "12  2023        1     249269143\n",
       "13  2023        2     261958738\n",
       "14  2023        3     274085233\n",
       "15  2023        4     286680464\n",
       "16  2024        1     299711891\n",
       "17  2024        2     312806520\n",
       "18  2024        3     325655062"
      ]
     },
     "execution_count": 9,
     "metadata": {},
     "output_type": "execute_result"
    }
   ],
   "source": [
    "repositories_M"
   ]
  },
  {
   "cell_type": "code",
   "execution_count": 10,
   "metadata": {},
   "outputs": [
    {
     "data": {
      "application/vnd.microsoft.datawrangler.viewer.v0+json": {
       "columns": [
        {
         "name": "index",
         "rawType": "int64",
         "type": "integer"
        },
        {
         "name": "year",
         "rawType": "int64",
         "type": "integer"
        },
        {
         "name": "quarter",
         "rawType": "int64",
         "type": "integer"
        },
        {
         "name": "repositories",
         "rawType": "int64",
         "type": "integer"
        },
        {
         "name": "year_quarter",
         "rawType": "object",
         "type": "string"
        }
       ],
       "conversionMethod": "pd.DataFrame",
       "ref": "3e458e62-a3c9-4819-b1d7-90d0eb78834a",
       "rows": [
        [
         "0",
         "2020",
         "1",
         "122435835",
         "2020-Q1"
        ],
        [
         "1",
         "2020",
         "2",
         "131344838",
         "2020-Q2"
        ],
        [
         "2",
         "2020",
         "3",
         "139783519",
         "2020-Q3"
        ],
        [
         "3",
         "2020",
         "4",
         "148841391",
         "2020-Q4"
        ],
        [
         "4",
         "2021",
         "1",
         "158145816",
         "2021-Q1"
        ],
        [
         "5",
         "2021",
         "2",
         "168292701",
         "2021-Q2"
        ],
        [
         "6",
         "2021",
         "3",
         "178669508",
         "2021-Q3"
        ],
        [
         "7",
         "2021",
         "4",
         "189422371",
         "2021-Q4"
        ],
        [
         "8",
         "2022",
         "1",
         "201630254",
         "2022-Q1"
        ],
        [
         "9",
         "2022",
         "2",
         "213352044",
         "2022-Q2"
        ],
        [
         "10",
         "2022",
         "3",
         "225008094",
         "2022-Q3"
        ],
        [
         "11",
         "2022",
         "4",
         "236976800",
         "2022-Q4"
        ],
        [
         "12",
         "2023",
         "1",
         "249269143",
         "2023-Q1"
        ],
        [
         "13",
         "2023",
         "2",
         "261958738",
         "2023-Q2"
        ],
        [
         "14",
         "2023",
         "3",
         "274085233",
         "2023-Q3"
        ],
        [
         "15",
         "2023",
         "4",
         "286680464",
         "2023-Q4"
        ],
        [
         "16",
         "2024",
         "1",
         "299711891",
         "2024-Q1"
        ],
        [
         "17",
         "2024",
         "2",
         "312806520",
         "2024-Q2"
        ],
        [
         "18",
         "2024",
         "3",
         "325655062",
         "2024-Q3"
        ]
       ],
       "shape": {
        "columns": 4,
        "rows": 19
       }
      },
      "text/html": [
       "<div>\n",
       "<style scoped>\n",
       "    .dataframe tbody tr th:only-of-type {\n",
       "        vertical-align: middle;\n",
       "    }\n",
       "\n",
       "    .dataframe tbody tr th {\n",
       "        vertical-align: top;\n",
       "    }\n",
       "\n",
       "    .dataframe thead th {\n",
       "        text-align: right;\n",
       "    }\n",
       "</style>\n",
       "<table border=\"1\" class=\"dataframe\">\n",
       "  <thead>\n",
       "    <tr style=\"text-align: right;\">\n",
       "      <th></th>\n",
       "      <th>year</th>\n",
       "      <th>quarter</th>\n",
       "      <th>repositories</th>\n",
       "      <th>year_quarter</th>\n",
       "    </tr>\n",
       "  </thead>\n",
       "  <tbody>\n",
       "    <tr>\n",
       "      <th>0</th>\n",
       "      <td>2020</td>\n",
       "      <td>1</td>\n",
       "      <td>122435835</td>\n",
       "      <td>2020-Q1</td>\n",
       "    </tr>\n",
       "    <tr>\n",
       "      <th>1</th>\n",
       "      <td>2020</td>\n",
       "      <td>2</td>\n",
       "      <td>131344838</td>\n",
       "      <td>2020-Q2</td>\n",
       "    </tr>\n",
       "    <tr>\n",
       "      <th>2</th>\n",
       "      <td>2020</td>\n",
       "      <td>3</td>\n",
       "      <td>139783519</td>\n",
       "      <td>2020-Q3</td>\n",
       "    </tr>\n",
       "    <tr>\n",
       "      <th>3</th>\n",
       "      <td>2020</td>\n",
       "      <td>4</td>\n",
       "      <td>148841391</td>\n",
       "      <td>2020-Q4</td>\n",
       "    </tr>\n",
       "    <tr>\n",
       "      <th>4</th>\n",
       "      <td>2021</td>\n",
       "      <td>1</td>\n",
       "      <td>158145816</td>\n",
       "      <td>2021-Q1</td>\n",
       "    </tr>\n",
       "    <tr>\n",
       "      <th>5</th>\n",
       "      <td>2021</td>\n",
       "      <td>2</td>\n",
       "      <td>168292701</td>\n",
       "      <td>2021-Q2</td>\n",
       "    </tr>\n",
       "    <tr>\n",
       "      <th>6</th>\n",
       "      <td>2021</td>\n",
       "      <td>3</td>\n",
       "      <td>178669508</td>\n",
       "      <td>2021-Q3</td>\n",
       "    </tr>\n",
       "    <tr>\n",
       "      <th>7</th>\n",
       "      <td>2021</td>\n",
       "      <td>4</td>\n",
       "      <td>189422371</td>\n",
       "      <td>2021-Q4</td>\n",
       "    </tr>\n",
       "    <tr>\n",
       "      <th>8</th>\n",
       "      <td>2022</td>\n",
       "      <td>1</td>\n",
       "      <td>201630254</td>\n",
       "      <td>2022-Q1</td>\n",
       "    </tr>\n",
       "    <tr>\n",
       "      <th>9</th>\n",
       "      <td>2022</td>\n",
       "      <td>2</td>\n",
       "      <td>213352044</td>\n",
       "      <td>2022-Q2</td>\n",
       "    </tr>\n",
       "    <tr>\n",
       "      <th>10</th>\n",
       "      <td>2022</td>\n",
       "      <td>3</td>\n",
       "      <td>225008094</td>\n",
       "      <td>2022-Q3</td>\n",
       "    </tr>\n",
       "    <tr>\n",
       "      <th>11</th>\n",
       "      <td>2022</td>\n",
       "      <td>4</td>\n",
       "      <td>236976800</td>\n",
       "      <td>2022-Q4</td>\n",
       "    </tr>\n",
       "    <tr>\n",
       "      <th>12</th>\n",
       "      <td>2023</td>\n",
       "      <td>1</td>\n",
       "      <td>249269143</td>\n",
       "      <td>2023-Q1</td>\n",
       "    </tr>\n",
       "    <tr>\n",
       "      <th>13</th>\n",
       "      <td>2023</td>\n",
       "      <td>2</td>\n",
       "      <td>261958738</td>\n",
       "      <td>2023-Q2</td>\n",
       "    </tr>\n",
       "    <tr>\n",
       "      <th>14</th>\n",
       "      <td>2023</td>\n",
       "      <td>3</td>\n",
       "      <td>274085233</td>\n",
       "      <td>2023-Q3</td>\n",
       "    </tr>\n",
       "    <tr>\n",
       "      <th>15</th>\n",
       "      <td>2023</td>\n",
       "      <td>4</td>\n",
       "      <td>286680464</td>\n",
       "      <td>2023-Q4</td>\n",
       "    </tr>\n",
       "    <tr>\n",
       "      <th>16</th>\n",
       "      <td>2024</td>\n",
       "      <td>1</td>\n",
       "      <td>299711891</td>\n",
       "      <td>2024-Q1</td>\n",
       "    </tr>\n",
       "    <tr>\n",
       "      <th>17</th>\n",
       "      <td>2024</td>\n",
       "      <td>2</td>\n",
       "      <td>312806520</td>\n",
       "      <td>2024-Q2</td>\n",
       "    </tr>\n",
       "    <tr>\n",
       "      <th>18</th>\n",
       "      <td>2024</td>\n",
       "      <td>3</td>\n",
       "      <td>325655062</td>\n",
       "      <td>2024-Q3</td>\n",
       "    </tr>\n",
       "  </tbody>\n",
       "</table>\n",
       "</div>"
      ],
      "text/plain": [
       "    year  quarter  repositories year_quarter\n",
       "0   2020        1     122435835      2020-Q1\n",
       "1   2020        2     131344838      2020-Q2\n",
       "2   2020        3     139783519      2020-Q3\n",
       "3   2020        4     148841391      2020-Q4\n",
       "4   2021        1     158145816      2021-Q1\n",
       "5   2021        2     168292701      2021-Q2\n",
       "6   2021        3     178669508      2021-Q3\n",
       "7   2021        4     189422371      2021-Q4\n",
       "8   2022        1     201630254      2022-Q1\n",
       "9   2022        2     213352044      2022-Q2\n",
       "10  2022        3     225008094      2022-Q3\n",
       "11  2022        4     236976800      2022-Q4\n",
       "12  2023        1     249269143      2023-Q1\n",
       "13  2023        2     261958738      2023-Q2\n",
       "14  2023        3     274085233      2023-Q3\n",
       "15  2023        4     286680464      2023-Q4\n",
       "16  2024        1     299711891      2024-Q1\n",
       "17  2024        2     312806520      2024-Q2\n",
       "18  2024        3     325655062      2024-Q3"
      ]
     },
     "execution_count": 10,
     "metadata": {},
     "output_type": "execute_result"
    }
   ],
   "source": [
    "repositories_M[\"year_quarter\"] = repositories_M[\"year\"].astype(\"str\") +\"-Q\"+  repositories_M [\"quarter\"].astype(\"str\")\n",
    "repositories_M"
   ]
  },
  {
   "cell_type": "code",
   "execution_count": 11,
   "metadata": {},
   "outputs": [],
   "source": [
    "from matplotlib.ticker import FuncFormatter"
   ]
  },
  {
   "cell_type": "code",
   "execution_count": 14,
   "metadata": {},
   "outputs": [
    {
     "name": "stderr",
     "output_type": "stream",
     "text": [
      "C:\\Users\\guill\\AppData\\Local\\Temp\\ipykernel_18480\\4052430310.py:1: FutureWarning: \n",
      "\n",
      "Passing `palette` without assigning `hue` is deprecated and will be removed in v0.14.0. Assign the `x` variable to `hue` and set `legend=False` for the same effect.\n",
      "\n",
      "  sns.barplot(data= repositories_M, x = \"year_quarter\", y = \"repositories\", palette=\"Blues\")\n"
     ]
    },
    {
     "data": {
      "text/plain": [
       "Text(0.5, 0, 'Año-Trimestre')"
      ]
     },
     "execution_count": 14,
     "metadata": {},
     "output_type": "execute_result"
    },
    {
     "data": {
      "image/png": "[encoded data removed]",
      "text/plain": [
       "<Figure size 640x480 with 1 Axes>"
      ]
     },
     "metadata": {},
     "output_type": "display_data"
    }
   ],
   "source": [
    "sns.barplot(data= repositories_M, x = \"year_quarter\", y = \"repositories\", palette=\"Blues\")\n",
    "plt.xticks(repositories_M[\"year_quarter\"].unique(),rotation=45, ha=\"right\");\n",
    "# Formatter function to display y-axis labels in millions\n",
    "def millions(x, pos):\n",
    "    return f'{x * 1e-6:.1f}M'  # Multiply by 1e-6 to convert to millions\n",
    "\n",
    "# Apply the formatter to the y-axis\n",
    "plt.gca().yaxis.set_major_formatter(FuncFormatter(millions))\n",
    "# Añadir solo líneas horizontales\n",
    "plt.grid(True, axis='y', linestyle='--', alpha=0.6)  # Solo líneas horizontales\n",
    "# Set the y-axis label\n",
    "plt.ylabel('Repositorios Mundo (en Millones)')\n",
    "plt.xlabel('Año-Trimestre')"
   ]
  },
  {
   "cell_type": "code",
   "execution_count": 16,
   "metadata": {},
   "outputs": [],
   "source": [
    "\n",
    "# Group by the year and sum developers (or aggregate as needed)\n",
    "repositories_per_year_M = repositories_M.groupby('year')['repositories'].sum().reset_index()\n",
    "\n",
    "# Calculate the Year-over-Year percentage change\n",
    "repositories_per_year_M['YoY_change'] = repositories_per_year_M['repositories'].pct_change() * 100"
   ]
  },
  {
   "cell_type": "code",
   "execution_count": 17,
   "metadata": {},
   "outputs": [
    {
     "data": {
      "application/vnd.microsoft.datawrangler.viewer.v0+json": {
       "columns": [
        {
         "name": "index",
         "rawType": "int64",
         "type": "integer"
        },
        {
         "name": "year",
         "rawType": "int64",
         "type": "integer"
        },
        {
         "name": "repositories",
         "rawType": "int64",
         "type": "integer"
        },
        {
         "name": "YoY_change",
         "rawType": "float64",
         "type": "float"
        }
       ],
       "conversionMethod": "pd.DataFrame",
       "ref": "bf73cc2d-6e0e-4786-9d6f-87001a3e7aa2",
       "rows": [
        [
         "0",
         "2020",
         "542405583",
         null
        ],
        [
         "1",
         "2021",
         "694530396",
         "28.046321381614536"
        ],
        [
         "2",
         "2022",
         "876967192",
         "26.26764747096828"
        ],
        [
         "3",
         "2023",
         "1071993578",
         "22.238732278595897"
        ],
        [
         "4",
         "2024",
         "938173473",
         "-12.483293533312567"
        ]
       ],
       "shape": {
        "columns": 3,
        "rows": 5
       }
      },
      "text/html": [
       "<div>\n",
       "<style scoped>\n",
       "    .dataframe tbody tr th:only-of-type {\n",
       "        vertical-align: middle;\n",
       "    }\n",
       "\n",
       "    .dataframe tbody tr th {\n",
       "        vertical-align: top;\n",
       "    }\n",
       "\n",
       "    .dataframe thead th {\n",
       "        text-align: right;\n",
       "    }\n",
       "</style>\n",
       "<table border=\"1\" class=\"dataframe\">\n",
       "  <thead>\n",
       "    <tr style=\"text-align: right;\">\n",
       "      <th></th>\n",
       "      <th>year</th>\n",
       "      <th>repositories</th>\n",
       "      <th>YoY_change</th>\n",
       "    </tr>\n",
       "  </thead>\n",
       "  <tbody>\n",
       "    <tr>\n",
       "      <th>0</th>\n",
       "      <td>2020</td>\n",
       "      <td>542405583</td>\n",
       "      <td>NaN</td>\n",
       "    </tr>\n",
       "    <tr>\n",
       "      <th>1</th>\n",
       "      <td>2021</td>\n",
       "      <td>694530396</td>\n",
       "      <td>28.046321</td>\n",
       "    </tr>\n",
       "    <tr>\n",
       "      <th>2</th>\n",
       "      <td>2022</td>\n",
       "      <td>876967192</td>\n",
       "      <td>26.267647</td>\n",
       "    </tr>\n",
       "    <tr>\n",
       "      <th>3</th>\n",
       "      <td>2023</td>\n",
       "      <td>1071993578</td>\n",
       "      <td>22.238732</td>\n",
       "    </tr>\n",
       "    <tr>\n",
       "      <th>4</th>\n",
       "      <td>2024</td>\n",
       "      <td>938173473</td>\n",
       "      <td>-12.483294</td>\n",
       "    </tr>\n",
       "  </tbody>\n",
       "</table>\n",
       "</div>"
      ],
      "text/plain": [
       "   year  repositories  YoY_change\n",
       "0  2020     542405583         NaN\n",
       "1  2021     694530396   28.046321\n",
       "2  2022     876967192   26.267647\n",
       "3  2023    1071993578   22.238732\n",
       "4  2024     938173473  -12.483294"
      ]
     },
     "execution_count": 17,
     "metadata": {},
     "output_type": "execute_result"
    }
   ],
   "source": [
    "repositories_per_year_M"
   ]
  },
  {
   "cell_type": "code",
   "execution_count": 18,
   "metadata": {},
   "outputs": [
    {
     "name": "stdout",
     "output_type": "stream",
     "text": [
      "<class 'pandas.core.frame.DataFrame'>\n",
      "RangeIndex: 5 entries, 0 to 4\n",
      "Data columns (total 3 columns):\n",
      " #   Column        Non-Null Count  Dtype  \n",
      "---  ------        --------------  -----  \n",
      " 0   year          5 non-null      int64  \n",
      " 1   repositories  5 non-null      int64  \n",
      " 2   YoY_change    4 non-null      float64\n",
      "dtypes: float64(1), int64(2)\n",
      "memory usage: 252.0 bytes\n"
     ]
    }
   ],
   "source": [
    "repositories_per_year_M.info()"
   ]
  },
  {
   "cell_type": "code",
   "execution_count": 22,
   "metadata": {},
   "outputs": [],
   "source": [
    "media_aprox_repositories = (repositories_per_year_M.iloc[1]['YoY_change']+repositories_per_year_M.iloc[2]['YoY_change']+repositories_per_year_M.iloc[3]['YoY_change'])/3"
   ]
  },
  {
   "cell_type": "code",
   "execution_count": 23,
   "metadata": {},
   "outputs": [
    {
     "data": {
      "text/plain": [
       "np.float64(25.517567043726235)"
      ]
     },
     "execution_count": 23,
     "metadata": {},
     "output_type": "execute_result"
    }
   ],
   "source": [
    "media_aprox_repositories"
   ]
  }
 ],
 "metadata": {
  "kernelspec": {
   "display_name": "Python 3",
   "language": "python",
   "name": "python3"
  },
  "language_info": {
   "codemirror_mode": {
    "name": "ipython",
    "version": 3
   },
   "file_extension": ".py",
   "mimetype": "text/x-python",
   "name": "python",
   "nbconvert_exporter": "python",
   "pygments_lexer": "ipython3",
   "version": "3.11.9"
  },
  "orig_nbformat": 4
 },
 "nbformat": 4,
 "nbformat_minor": 2
}
