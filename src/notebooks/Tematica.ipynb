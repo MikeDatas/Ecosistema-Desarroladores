{
 "cells": [
  {
   "cell_type": "code",
   "execution_count": 3,
   "metadata": {},
   "outputs": [],
   "source": [
    "import numpy as np\n",
    "import pandas as pd\n",
    "import matplotlib.pyplot as plt\n",
    "import seaborn as sns\n"
   ]
  },
  {
   "cell_type": "code",
   "execution_count": 4,
   "metadata": {},
   "outputs": [],
   "source": [
    "\n",
    "\n",
    "df_7 = pd.read_csv('../data/topics.csv')\n",
    "fuente_7 = \"https://github.com/github/innovationgraph/tree/main\"\n",
    "\n"
   ]
  },
  {
   "cell_type": "markdown",
   "metadata": {},
   "source": [
    "Muestra mediante un head() los principales datasets con los que vas a trabajar"
   ]
  },
  {
   "cell_type": "code",
   "execution_count": 5,
   "metadata": {},
   "outputs": [
    {
     "data": {
      "application/vnd.microsoft.datawrangler.viewer.v0+json": {
       "columns": [
        {
         "name": "index",
         "rawType": "int64",
         "type": "integer"
        },
        {
         "name": "num_pushers",
         "rawType": "int64",
         "type": "integer"
        },
        {
         "name": "topic",
         "rawType": "object",
         "type": "string"
        },
        {
         "name": "iso2_code",
         "rawType": "object",
         "type": "string"
        },
        {
         "name": "year",
         "rawType": "int64",
         "type": "integer"
        },
        {
         "name": "quarter",
         "rawType": "int64",
         "type": "integer"
        }
       ],
       "conversionMethod": "pd.DataFrame",
       "ref": "0141c8d3-5970-4923-a883-bfa1e3b8b77a",
       "rows": [
        [
         "0",
         "7206",
         "python",
         "EU",
         "2020",
         "1"
        ],
        [
         "1",
         "6739",
         "python",
         "US",
         "2020",
         "1"
        ],
        [
         "2",
         "5231",
         "javascript",
         "EU",
         "2020",
         "1"
        ],
        [
         "3",
         "5025",
         "javascript",
         "US",
         "2020",
         "1"
        ],
        [
         "4",
         "3874",
         "java",
         "EU",
         "2020",
         "1"
        ],
        [
         "5",
         "3733",
         "react",
         "US",
         "2020",
         "1"
        ],
        [
         "6",
         "2977",
         "java",
         "US",
         "2020",
         "1"
        ],
        [
         "7",
         "2889",
         "react",
         "EU",
         "2020",
         "1"
        ],
        [
         "8",
         "2789",
         "docker",
         "EU",
         "2020",
         "1"
        ],
        [
         "9",
         "2632",
         "nodejs",
         "US",
         "2020",
         "1"
        ],
        [
         "10",
         "2630",
         "php",
         "EU",
         "2020",
         "1"
        ],
        [
         "11",
         "2294",
         "machine-learning",
         "US",
         "2020",
         "1"
        ],
        [
         "12",
         "2284",
         "nodejs",
         "EU",
         "2020",
         "1"
        ],
        [
         "13",
         "2159",
         "docker",
         "US",
         "2020",
         "1"
        ],
        [
         "14",
         "2031",
         "typescript",
         "EU",
         "2020",
         "1"
        ],
        [
         "15",
         "1900",
         "typescript",
         "US",
         "2020",
         "1"
        ],
        [
         "16",
         "1851",
         "python",
         "IN",
         "2020",
         "1"
        ],
        [
         "17",
         "1843",
         "machine-learning",
         "EU",
         "2020",
         "1"
        ],
        [
         "18",
         "1834",
         "python",
         "DE",
         "2020",
         "1"
        ],
        [
         "19",
         "1736",
         "python3",
         "US",
         "2020",
         "1"
        ],
        [
         "20",
         "1694",
         "golang",
         "US",
         "2020",
         "1"
        ],
        [
         "21",
         "1621",
         "javascript",
         "IN",
         "2020",
         "1"
        ],
        [
         "22",
         "1591",
         "css",
         "US",
         "2020",
         "1"
        ],
        [
         "23",
         "1576",
         "api",
         "EU",
         "2020",
         "1"
        ],
        [
         "24",
         "1554",
         "java",
         "CN",
         "2020",
         "1"
        ],
        [
         "25",
         "1515",
         "html",
         "US",
         "2020",
         "1"
        ],
        [
         "26",
         "1507",
         "kubernetes",
         "US",
         "2020",
         "1"
        ],
        [
         "27",
         "1488",
         "android",
         "EU",
         "2020",
         "1"
        ],
        [
         "28",
         "1477",
         "python3",
         "EU",
         "2020",
         "1"
        ],
        [
         "29",
         "1454",
         "python",
         "GB",
         "2020",
         "1"
        ],
        [
         "30",
         "1421",
         "javascript",
         "DE",
         "2020",
         "1"
        ],
        [
         "31",
         "1398",
         "deep-learning",
         "US",
         "2020",
         "1"
        ],
        [
         "32",
         "1396",
         "linux",
         "EU",
         "2020",
         "1"
        ],
        [
         "33",
         "1389",
         "javascript",
         "BR",
         "2020",
         "1"
        ],
        [
         "34",
         "1388",
         "vue",
         "CN",
         "2020",
         "1"
        ],
        [
         "35",
         "1381",
         "java",
         "DE",
         "2020",
         "1"
        ],
        [
         "36",
         "1376",
         "go",
         "US",
         "2020",
         "1"
        ],
        [
         "37",
         "1362",
         "blog",
         "CN",
         "2020",
         "1"
        ],
        [
         "38",
         "1300",
         "golang",
         "EU",
         "2020",
         "1"
        ],
        [
         "39",
         "1267",
         "dotfiles",
         "US",
         "2020",
         "1"
        ],
        [
         "40",
         "1241",
         "api",
         "US",
         "2020",
         "1"
        ],
        [
         "41",
         "1234",
         "python",
         "CN",
         "2020",
         "1"
        ],
        [
         "42",
         "1208",
         "android",
         "US",
         "2020",
         "1"
        ],
        [
         "43",
         "1199",
         "aws",
         "US",
         "2020",
         "1"
        ],
        [
         "44",
         "1185",
         "javascript",
         "CN",
         "2020",
         "1"
        ],
        [
         "45",
         "1180",
         "nodejs",
         "BR",
         "2020",
         "1"
        ],
        [
         "46",
         "1155",
         "ruby",
         "US",
         "2020",
         "1"
        ],
        [
         "47",
         "1145",
         "website",
         "US",
         "2020",
         "1"
        ],
        [
         "48",
         "1130",
         "python3",
         "IN",
         "2020",
         "1"
        ],
        [
         "49",
         "1129",
         "python",
         "FR",
         "2020",
         "1"
        ]
       ],
       "shape": {
        "columns": 5,
        "rows": 58410
       }
      },
      "text/html": [
       "<div>\n",
       "<style scoped>\n",
       "    .dataframe tbody tr th:only-of-type {\n",
       "        vertical-align: middle;\n",
       "    }\n",
       "\n",
       "    .dataframe tbody tr th {\n",
       "        vertical-align: top;\n",
       "    }\n",
       "\n",
       "    .dataframe thead th {\n",
       "        text-align: right;\n",
       "    }\n",
       "</style>\n",
       "<table border=\"1\" class=\"dataframe\">\n",
       "  <thead>\n",
       "    <tr style=\"text-align: right;\">\n",
       "      <th></th>\n",
       "      <th>num_pushers</th>\n",
       "      <th>topic</th>\n",
       "      <th>iso2_code</th>\n",
       "      <th>year</th>\n",
       "      <th>quarter</th>\n",
       "    </tr>\n",
       "  </thead>\n",
       "  <tbody>\n",
       "    <tr>\n",
       "      <th>0</th>\n",
       "      <td>7206</td>\n",
       "      <td>python</td>\n",
       "      <td>EU</td>\n",
       "      <td>2020</td>\n",
       "      <td>1</td>\n",
       "    </tr>\n",
       "    <tr>\n",
       "      <th>1</th>\n",
       "      <td>6739</td>\n",
       "      <td>python</td>\n",
       "      <td>US</td>\n",
       "      <td>2020</td>\n",
       "      <td>1</td>\n",
       "    </tr>\n",
       "    <tr>\n",
       "      <th>2</th>\n",
       "      <td>5231</td>\n",
       "      <td>javascript</td>\n",
       "      <td>EU</td>\n",
       "      <td>2020</td>\n",
       "      <td>1</td>\n",
       "    </tr>\n",
       "    <tr>\n",
       "      <th>3</th>\n",
       "      <td>5025</td>\n",
       "      <td>javascript</td>\n",
       "      <td>US</td>\n",
       "      <td>2020</td>\n",
       "      <td>1</td>\n",
       "    </tr>\n",
       "    <tr>\n",
       "      <th>4</th>\n",
       "      <td>3874</td>\n",
       "      <td>java</td>\n",
       "      <td>EU</td>\n",
       "      <td>2020</td>\n",
       "      <td>1</td>\n",
       "    </tr>\n",
       "    <tr>\n",
       "      <th>...</th>\n",
       "      <td>...</td>\n",
       "      <td>...</td>\n",
       "      <td>...</td>\n",
       "      <td>...</td>\n",
       "      <td>...</td>\n",
       "    </tr>\n",
       "    <tr>\n",
       "      <th>58405</th>\n",
       "      <td>101</td>\n",
       "      <td>bigdata</td>\n",
       "      <td>US</td>\n",
       "      <td>2024</td>\n",
       "      <td>3</td>\n",
       "    </tr>\n",
       "    <tr>\n",
       "      <th>58406</th>\n",
       "      <td>101</td>\n",
       "      <td>event-driven</td>\n",
       "      <td>US</td>\n",
       "      <td>2024</td>\n",
       "      <td>3</td>\n",
       "    </tr>\n",
       "    <tr>\n",
       "      <th>58407</th>\n",
       "      <td>101</td>\n",
       "      <td>bukkit</td>\n",
       "      <td>US</td>\n",
       "      <td>2024</td>\n",
       "      <td>3</td>\n",
       "    </tr>\n",
       "    <tr>\n",
       "      <th>58408</th>\n",
       "      <td>101</td>\n",
       "      <td>risc-v</td>\n",
       "      <td>US</td>\n",
       "      <td>2024</td>\n",
       "      <td>3</td>\n",
       "    </tr>\n",
       "    <tr>\n",
       "      <th>58409</th>\n",
       "      <td>101</td>\n",
       "      <td>energy</td>\n",
       "      <td>US</td>\n",
       "      <td>2024</td>\n",
       "      <td>3</td>\n",
       "    </tr>\n",
       "  </tbody>\n",
       "</table>\n",
       "<p>58410 rows × 5 columns</p>\n",
       "</div>"
      ],
      "text/plain": [
       "       num_pushers         topic iso2_code  year  quarter\n",
       "0             7206        python        EU  2020        1\n",
       "1             6739        python        US  2020        1\n",
       "2             5231    javascript        EU  2020        1\n",
       "3             5025    javascript        US  2020        1\n",
       "4             3874          java        EU  2020        1\n",
       "...            ...           ...       ...   ...      ...\n",
       "58405          101       bigdata        US  2024        3\n",
       "58406          101  event-driven        US  2024        3\n",
       "58407          101        bukkit        US  2024        3\n",
       "58408          101        risc-v        US  2024        3\n",
       "58409          101        energy        US  2024        3\n",
       "\n",
       "[58410 rows x 5 columns]"
      ]
     },
     "execution_count": 5,
     "metadata": {},
     "output_type": "execute_result"
    }
   ],
   "source": [
    "df_7"
   ]
  },
  {
   "cell_type": "code",
   "execution_count": 6,
   "metadata": {},
   "outputs": [],
   "source": [
    "# Eliminamos la agrupación de valores en Europa,  ya que estos también estaban representados mediante los países independientes que lo componen. Por lo que estarían duplicados.\n",
    "\n",
    "\n",
    "df_7_clean = df_7[df_7[\"iso2_code\"] != \"EU\"]"
   ]
  },
  {
   "cell_type": "code",
   "execution_count": 7,
   "metadata": {},
   "outputs": [],
   "source": [
    "# Eliminamos los temas relacionados con consultas sobre github. Ya que no son representativos para el estudio. \n",
    "\n",
    "df_7_clean = df_7_clean[~df_7_clean[\"topic\"].isin([\"config\", \"github-config\"])]"
   ]
  },
  {
   "cell_type": "code",
   "execution_count": 8,
   "metadata": {},
   "outputs": [
    {
     "data": {
      "application/vnd.microsoft.datawrangler.viewer.v0+json": {
       "columns": [
        {
         "name": "index",
         "rawType": "int64",
         "type": "integer"
        },
        {
         "name": "num_pushers",
         "rawType": "int64",
         "type": "integer"
        },
        {
         "name": "topic",
         "rawType": "object",
         "type": "string"
        },
        {
         "name": "iso2_code",
         "rawType": "object",
         "type": "string"
        },
        {
         "name": "year",
         "rawType": "int64",
         "type": "integer"
        },
        {
         "name": "quarter",
         "rawType": "int64",
         "type": "integer"
        }
       ],
       "conversionMethod": "pd.DataFrame",
       "ref": "8414cd98-c179-440f-90ca-eeaa500ca38d",
       "rows": [
        [
         "1",
         "6739",
         "python",
         "US",
         "2020",
         "1"
        ],
        [
         "3",
         "5025",
         "javascript",
         "US",
         "2020",
         "1"
        ],
        [
         "5",
         "3733",
         "react",
         "US",
         "2020",
         "1"
        ],
        [
         "6",
         "2977",
         "java",
         "US",
         "2020",
         "1"
        ],
        [
         "9",
         "2632",
         "nodejs",
         "US",
         "2020",
         "1"
        ],
        [
         "11",
         "2294",
         "machine-learning",
         "US",
         "2020",
         "1"
        ],
        [
         "13",
         "2159",
         "docker",
         "US",
         "2020",
         "1"
        ],
        [
         "15",
         "1900",
         "typescript",
         "US",
         "2020",
         "1"
        ],
        [
         "16",
         "1851",
         "python",
         "IN",
         "2020",
         "1"
        ],
        [
         "18",
         "1834",
         "python",
         "DE",
         "2020",
         "1"
        ],
        [
         "19",
         "1736",
         "python3",
         "US",
         "2020",
         "1"
        ],
        [
         "20",
         "1694",
         "golang",
         "US",
         "2020",
         "1"
        ],
        [
         "21",
         "1621",
         "javascript",
         "IN",
         "2020",
         "1"
        ],
        [
         "22",
         "1591",
         "css",
         "US",
         "2020",
         "1"
        ],
        [
         "24",
         "1554",
         "java",
         "CN",
         "2020",
         "1"
        ],
        [
         "25",
         "1515",
         "html",
         "US",
         "2020",
         "1"
        ],
        [
         "26",
         "1507",
         "kubernetes",
         "US",
         "2020",
         "1"
        ],
        [
         "29",
         "1454",
         "python",
         "GB",
         "2020",
         "1"
        ],
        [
         "30",
         "1421",
         "javascript",
         "DE",
         "2020",
         "1"
        ],
        [
         "31",
         "1398",
         "deep-learning",
         "US",
         "2020",
         "1"
        ],
        [
         "33",
         "1389",
         "javascript",
         "BR",
         "2020",
         "1"
        ],
        [
         "34",
         "1388",
         "vue",
         "CN",
         "2020",
         "1"
        ],
        [
         "35",
         "1381",
         "java",
         "DE",
         "2020",
         "1"
        ],
        [
         "36",
         "1376",
         "go",
         "US",
         "2020",
         "1"
        ],
        [
         "37",
         "1362",
         "blog",
         "CN",
         "2020",
         "1"
        ],
        [
         "39",
         "1267",
         "dotfiles",
         "US",
         "2020",
         "1"
        ],
        [
         "40",
         "1241",
         "api",
         "US",
         "2020",
         "1"
        ],
        [
         "41",
         "1234",
         "python",
         "CN",
         "2020",
         "1"
        ],
        [
         "42",
         "1208",
         "android",
         "US",
         "2020",
         "1"
        ],
        [
         "43",
         "1199",
         "aws",
         "US",
         "2020",
         "1"
        ],
        [
         "44",
         "1185",
         "javascript",
         "CN",
         "2020",
         "1"
        ],
        [
         "45",
         "1180",
         "nodejs",
         "BR",
         "2020",
         "1"
        ],
        [
         "46",
         "1155",
         "ruby",
         "US",
         "2020",
         "1"
        ],
        [
         "47",
         "1145",
         "website",
         "US",
         "2020",
         "1"
        ],
        [
         "48",
         "1130",
         "python3",
         "IN",
         "2020",
         "1"
        ],
        [
         "49",
         "1129",
         "python",
         "FR",
         "2020",
         "1"
        ],
        [
         "50",
         "1112",
         "javascript",
         "GB",
         "2020",
         "1"
        ],
        [
         "51",
         "1101",
         "reactjs",
         "US",
         "2020",
         "1"
        ],
        [
         "52",
         "1097",
         "linux",
         "US",
         "2020",
         "1"
        ],
        [
         "53",
         "1089",
         "php",
         "US",
         "2020",
         "1"
        ],
        [
         "54",
         "1065",
         "docker",
         "DE",
         "2020",
         "1"
        ],
        [
         "55",
         "1043",
         "cli",
         "US",
         "2020",
         "1"
        ],
        [
         "56",
         "1013",
         "react",
         "CN",
         "2020",
         "1"
        ],
        [
         "57",
         "1010",
         "python",
         "PL",
         "2020",
         "1"
        ],
        [
         "58",
         "1004",
         "rust",
         "US",
         "2020",
         "1"
        ],
        [
         "60",
         "996",
         "nodejs",
         "IN",
         "2020",
         "1"
        ],
        [
         "61",
         "989",
         "database",
         "US",
         "2020",
         "1"
        ],
        [
         "63",
         "975",
         "cpp",
         "US",
         "2020",
         "1"
        ],
        [
         "64",
         "963",
         "react",
         "BR",
         "2020",
         "1"
        ],
        [
         "65",
         "953",
         "java",
         "IN",
         "2020",
         "1"
        ]
       ],
       "shape": {
        "columns": 5,
        "rows": 50107
       }
      },
      "text/html": [
       "<div>\n",
       "<style scoped>\n",
       "    .dataframe tbody tr th:only-of-type {\n",
       "        vertical-align: middle;\n",
       "    }\n",
       "\n",
       "    .dataframe tbody tr th {\n",
       "        vertical-align: top;\n",
       "    }\n",
       "\n",
       "    .dataframe thead th {\n",
       "        text-align: right;\n",
       "    }\n",
       "</style>\n",
       "<table border=\"1\" class=\"dataframe\">\n",
       "  <thead>\n",
       "    <tr style=\"text-align: right;\">\n",
       "      <th></th>\n",
       "      <th>num_pushers</th>\n",
       "      <th>topic</th>\n",
       "      <th>iso2_code</th>\n",
       "      <th>year</th>\n",
       "      <th>quarter</th>\n",
       "    </tr>\n",
       "  </thead>\n",
       "  <tbody>\n",
       "    <tr>\n",
       "      <th>1</th>\n",
       "      <td>6739</td>\n",
       "      <td>python</td>\n",
       "      <td>US</td>\n",
       "      <td>2020</td>\n",
       "      <td>1</td>\n",
       "    </tr>\n",
       "    <tr>\n",
       "      <th>3</th>\n",
       "      <td>5025</td>\n",
       "      <td>javascript</td>\n",
       "      <td>US</td>\n",
       "      <td>2020</td>\n",
       "      <td>1</td>\n",
       "    </tr>\n",
       "    <tr>\n",
       "      <th>5</th>\n",
       "      <td>3733</td>\n",
       "      <td>react</td>\n",
       "      <td>US</td>\n",
       "      <td>2020</td>\n",
       "      <td>1</td>\n",
       "    </tr>\n",
       "    <tr>\n",
       "      <th>6</th>\n",
       "      <td>2977</td>\n",
       "      <td>java</td>\n",
       "      <td>US</td>\n",
       "      <td>2020</td>\n",
       "      <td>1</td>\n",
       "    </tr>\n",
       "    <tr>\n",
       "      <th>9</th>\n",
       "      <td>2632</td>\n",
       "      <td>nodejs</td>\n",
       "      <td>US</td>\n",
       "      <td>2020</td>\n",
       "      <td>1</td>\n",
       "    </tr>\n",
       "    <tr>\n",
       "      <th>...</th>\n",
       "      <td>...</td>\n",
       "      <td>...</td>\n",
       "      <td>...</td>\n",
       "      <td>...</td>\n",
       "      <td>...</td>\n",
       "    </tr>\n",
       "    <tr>\n",
       "      <th>58405</th>\n",
       "      <td>101</td>\n",
       "      <td>bigdata</td>\n",
       "      <td>US</td>\n",
       "      <td>2024</td>\n",
       "      <td>3</td>\n",
       "    </tr>\n",
       "    <tr>\n",
       "      <th>58406</th>\n",
       "      <td>101</td>\n",
       "      <td>event-driven</td>\n",
       "      <td>US</td>\n",
       "      <td>2024</td>\n",
       "      <td>3</td>\n",
       "    </tr>\n",
       "    <tr>\n",
       "      <th>58407</th>\n",
       "      <td>101</td>\n",
       "      <td>bukkit</td>\n",
       "      <td>US</td>\n",
       "      <td>2024</td>\n",
       "      <td>3</td>\n",
       "    </tr>\n",
       "    <tr>\n",
       "      <th>58408</th>\n",
       "      <td>101</td>\n",
       "      <td>risc-v</td>\n",
       "      <td>US</td>\n",
       "      <td>2024</td>\n",
       "      <td>3</td>\n",
       "    </tr>\n",
       "    <tr>\n",
       "      <th>58409</th>\n",
       "      <td>101</td>\n",
       "      <td>energy</td>\n",
       "      <td>US</td>\n",
       "      <td>2024</td>\n",
       "      <td>3</td>\n",
       "    </tr>\n",
       "  </tbody>\n",
       "</table>\n",
       "<p>50107 rows × 5 columns</p>\n",
       "</div>"
      ],
      "text/plain": [
       "       num_pushers         topic iso2_code  year  quarter\n",
       "1             6739        python        US  2020        1\n",
       "3             5025    javascript        US  2020        1\n",
       "5             3733         react        US  2020        1\n",
       "6             2977          java        US  2020        1\n",
       "9             2632        nodejs        US  2020        1\n",
       "...            ...           ...       ...   ...      ...\n",
       "58405          101       bigdata        US  2024        3\n",
       "58406          101  event-driven        US  2024        3\n",
       "58407          101        bukkit        US  2024        3\n",
       "58408          101        risc-v        US  2024        3\n",
       "58409          101        energy        US  2024        3\n",
       "\n",
       "[50107 rows x 5 columns]"
      ]
     },
     "execution_count": 8,
     "metadata": {},
     "output_type": "execute_result"
    }
   ],
   "source": [
    "df_7_clean"
   ]
  },
  {
   "cell_type": "code",
   "execution_count": 9,
   "metadata": {},
   "outputs": [],
   "source": [
    "df_7_clean[\"topic\"] = df_7_clean[\"topic\"].str.replace(\"reactjs\",\"react\")"
   ]
  },
  {
   "cell_type": "code",
   "execution_count": 10,
   "metadata": {},
   "outputs": [],
   "source": [
    "df_7_clean[\"topic\"] = df_7_clean[\"topic\"].str.replace(\"python3\",\"python\")"
   ]
  },
  {
   "cell_type": "code",
   "execution_count": 11,
   "metadata": {},
   "outputs": [
    {
     "data": {
      "application/vnd.microsoft.datawrangler.viewer.v0+json": {
       "columns": [
        {
         "name": "index",
         "rawType": "int64",
         "type": "integer"
        },
        {
         "name": "num_pushers",
         "rawType": "int64",
         "type": "integer"
        },
        {
         "name": "topic",
         "rawType": "object",
         "type": "string"
        },
        {
         "name": "iso2_code",
         "rawType": "object",
         "type": "string"
        },
        {
         "name": "year",
         "rawType": "int64",
         "type": "integer"
        },
        {
         "name": "quarter",
         "rawType": "int64",
         "type": "integer"
        }
       ],
       "conversionMethod": "pd.DataFrame",
       "ref": "185a8e33-7cd1-4cf0-911e-b3b4074845ed",
       "rows": [
        [
         "1",
         "6739",
         "python",
         "US",
         "2020",
         "1"
        ],
        [
         "3",
         "5025",
         "javascript",
         "US",
         "2020",
         "1"
        ],
        [
         "5",
         "3733",
         "react",
         "US",
         "2020",
         "1"
        ],
        [
         "6",
         "2977",
         "java",
         "US",
         "2020",
         "1"
        ],
        [
         "9",
         "2632",
         "nodejs",
         "US",
         "2020",
         "1"
        ],
        [
         "11",
         "2294",
         "machine-learning",
         "US",
         "2020",
         "1"
        ],
        [
         "13",
         "2159",
         "docker",
         "US",
         "2020",
         "1"
        ],
        [
         "15",
         "1900",
         "typescript",
         "US",
         "2020",
         "1"
        ],
        [
         "16",
         "1851",
         "python",
         "IN",
         "2020",
         "1"
        ],
        [
         "18",
         "1834",
         "python",
         "DE",
         "2020",
         "1"
        ],
        [
         "19",
         "1736",
         "python",
         "US",
         "2020",
         "1"
        ],
        [
         "20",
         "1694",
         "golang",
         "US",
         "2020",
         "1"
        ],
        [
         "21",
         "1621",
         "javascript",
         "IN",
         "2020",
         "1"
        ],
        [
         "22",
         "1591",
         "css",
         "US",
         "2020",
         "1"
        ],
        [
         "24",
         "1554",
         "java",
         "CN",
         "2020",
         "1"
        ],
        [
         "25",
         "1515",
         "html",
         "US",
         "2020",
         "1"
        ],
        [
         "26",
         "1507",
         "kubernetes",
         "US",
         "2020",
         "1"
        ],
        [
         "29",
         "1454",
         "python",
         "GB",
         "2020",
         "1"
        ],
        [
         "30",
         "1421",
         "javascript",
         "DE",
         "2020",
         "1"
        ],
        [
         "31",
         "1398",
         "deep-learning",
         "US",
         "2020",
         "1"
        ],
        [
         "33",
         "1389",
         "javascript",
         "BR",
         "2020",
         "1"
        ],
        [
         "34",
         "1388",
         "vue",
         "CN",
         "2020",
         "1"
        ],
        [
         "35",
         "1381",
         "java",
         "DE",
         "2020",
         "1"
        ],
        [
         "36",
         "1376",
         "go",
         "US",
         "2020",
         "1"
        ],
        [
         "37",
         "1362",
         "blog",
         "CN",
         "2020",
         "1"
        ],
        [
         "39",
         "1267",
         "dotfiles",
         "US",
         "2020",
         "1"
        ],
        [
         "40",
         "1241",
         "api",
         "US",
         "2020",
         "1"
        ],
        [
         "41",
         "1234",
         "python",
         "CN",
         "2020",
         "1"
        ],
        [
         "42",
         "1208",
         "android",
         "US",
         "2020",
         "1"
        ],
        [
         "43",
         "1199",
         "aws",
         "US",
         "2020",
         "1"
        ],
        [
         "44",
         "1185",
         "javascript",
         "CN",
         "2020",
         "1"
        ],
        [
         "45",
         "1180",
         "nodejs",
         "BR",
         "2020",
         "1"
        ],
        [
         "46",
         "1155",
         "ruby",
         "US",
         "2020",
         "1"
        ],
        [
         "47",
         "1145",
         "website",
         "US",
         "2020",
         "1"
        ],
        [
         "48",
         "1130",
         "python",
         "IN",
         "2020",
         "1"
        ],
        [
         "49",
         "1129",
         "python",
         "FR",
         "2020",
         "1"
        ],
        [
         "50",
         "1112",
         "javascript",
         "GB",
         "2020",
         "1"
        ],
        [
         "51",
         "1101",
         "react",
         "US",
         "2020",
         "1"
        ],
        [
         "52",
         "1097",
         "linux",
         "US",
         "2020",
         "1"
        ],
        [
         "53",
         "1089",
         "php",
         "US",
         "2020",
         "1"
        ],
        [
         "54",
         "1065",
         "docker",
         "DE",
         "2020",
         "1"
        ],
        [
         "55",
         "1043",
         "cli",
         "US",
         "2020",
         "1"
        ],
        [
         "56",
         "1013",
         "react",
         "CN",
         "2020",
         "1"
        ],
        [
         "57",
         "1010",
         "python",
         "PL",
         "2020",
         "1"
        ],
        [
         "58",
         "1004",
         "rust",
         "US",
         "2020",
         "1"
        ],
        [
         "60",
         "996",
         "nodejs",
         "IN",
         "2020",
         "1"
        ],
        [
         "61",
         "989",
         "database",
         "US",
         "2020",
         "1"
        ],
        [
         "63",
         "975",
         "cpp",
         "US",
         "2020",
         "1"
        ],
        [
         "64",
         "963",
         "react",
         "BR",
         "2020",
         "1"
        ],
        [
         "65",
         "953",
         "java",
         "IN",
         "2020",
         "1"
        ]
       ],
       "shape": {
        "columns": 5,
        "rows": 50107
       }
      },
      "text/html": [
       "<div>\n",
       "<style scoped>\n",
       "    .dataframe tbody tr th:only-of-type {\n",
       "        vertical-align: middle;\n",
       "    }\n",
       "\n",
       "    .dataframe tbody tr th {\n",
       "        vertical-align: top;\n",
       "    }\n",
       "\n",
       "    .dataframe thead th {\n",
       "        text-align: right;\n",
       "    }\n",
       "</style>\n",
       "<table border=\"1\" class=\"dataframe\">\n",
       "  <thead>\n",
       "    <tr style=\"text-align: right;\">\n",
       "      <th></th>\n",
       "      <th>num_pushers</th>\n",
       "      <th>topic</th>\n",
       "      <th>iso2_code</th>\n",
       "      <th>year</th>\n",
       "      <th>quarter</th>\n",
       "    </tr>\n",
       "  </thead>\n",
       "  <tbody>\n",
       "    <tr>\n",
       "      <th>1</th>\n",
       "      <td>6739</td>\n",
       "      <td>python</td>\n",
       "      <td>US</td>\n",
       "      <td>2020</td>\n",
       "      <td>1</td>\n",
       "    </tr>\n",
       "    <tr>\n",
       "      <th>3</th>\n",
       "      <td>5025</td>\n",
       "      <td>javascript</td>\n",
       "      <td>US</td>\n",
       "      <td>2020</td>\n",
       "      <td>1</td>\n",
       "    </tr>\n",
       "    <tr>\n",
       "      <th>5</th>\n",
       "      <td>3733</td>\n",
       "      <td>react</td>\n",
       "      <td>US</td>\n",
       "      <td>2020</td>\n",
       "      <td>1</td>\n",
       "    </tr>\n",
       "    <tr>\n",
       "      <th>6</th>\n",
       "      <td>2977</td>\n",
       "      <td>java</td>\n",
       "      <td>US</td>\n",
       "      <td>2020</td>\n",
       "      <td>1</td>\n",
       "    </tr>\n",
       "    <tr>\n",
       "      <th>9</th>\n",
       "      <td>2632</td>\n",
       "      <td>nodejs</td>\n",
       "      <td>US</td>\n",
       "      <td>2020</td>\n",
       "      <td>1</td>\n",
       "    </tr>\n",
       "    <tr>\n",
       "      <th>...</th>\n",
       "      <td>...</td>\n",
       "      <td>...</td>\n",
       "      <td>...</td>\n",
       "      <td>...</td>\n",
       "      <td>...</td>\n",
       "    </tr>\n",
       "    <tr>\n",
       "      <th>58405</th>\n",
       "      <td>101</td>\n",
       "      <td>bigdata</td>\n",
       "      <td>US</td>\n",
       "      <td>2024</td>\n",
       "      <td>3</td>\n",
       "    </tr>\n",
       "    <tr>\n",
       "      <th>58406</th>\n",
       "      <td>101</td>\n",
       "      <td>event-driven</td>\n",
       "      <td>US</td>\n",
       "      <td>2024</td>\n",
       "      <td>3</td>\n",
       "    </tr>\n",
       "    <tr>\n",
       "      <th>58407</th>\n",
       "      <td>101</td>\n",
       "      <td>bukkit</td>\n",
       "      <td>US</td>\n",
       "      <td>2024</td>\n",
       "      <td>3</td>\n",
       "    </tr>\n",
       "    <tr>\n",
       "      <th>58408</th>\n",
       "      <td>101</td>\n",
       "      <td>risc-v</td>\n",
       "      <td>US</td>\n",
       "      <td>2024</td>\n",
       "      <td>3</td>\n",
       "    </tr>\n",
       "    <tr>\n",
       "      <th>58409</th>\n",
       "      <td>101</td>\n",
       "      <td>energy</td>\n",
       "      <td>US</td>\n",
       "      <td>2024</td>\n",
       "      <td>3</td>\n",
       "    </tr>\n",
       "  </tbody>\n",
       "</table>\n",
       "<p>50107 rows × 5 columns</p>\n",
       "</div>"
      ],
      "text/plain": [
       "       num_pushers         topic iso2_code  year  quarter\n",
       "1             6739        python        US  2020        1\n",
       "3             5025    javascript        US  2020        1\n",
       "5             3733         react        US  2020        1\n",
       "6             2977          java        US  2020        1\n",
       "9             2632        nodejs        US  2020        1\n",
       "...            ...           ...       ...   ...      ...\n",
       "58405          101       bigdata        US  2024        3\n",
       "58406          101  event-driven        US  2024        3\n",
       "58407          101        bukkit        US  2024        3\n",
       "58408          101        risc-v        US  2024        3\n",
       "58409          101        energy        US  2024        3\n",
       "\n",
       "[50107 rows x 5 columns]"
      ]
     },
     "execution_count": 11,
     "metadata": {},
     "output_type": "execute_result"
    }
   ],
   "source": [
    "df_7_clean"
   ]
  },
  {
   "cell_type": "code",
   "execution_count": 12,
   "metadata": {},
   "outputs": [],
   "source": [
    "# En el dataset de Temas (topics), el tema Hacktoberfest está escrito de diferentes maneras (Hactober, Hackoberfest2020, Hacktoberfest2021, Hackberfest…) por lo que se ha procedido a agrupar todos ellos con el nombre de Hactoberfest. Ya que el año ya lo tenemos representado en la columna “year”.\n",
    "\n",
    "# Step 1: Modify the 'topic' column to group all hacktoberfest topics under 'hacktoberfest'\n",
    "df_7_clean['topic'] = df_7_clean['topic'].apply(\n",
    "    lambda x: 'hacktoberfest' if 'hacktober' in x.lower() else x\n",
    ")\n"
   ]
  },
  {
   "cell_type": "code",
   "execution_count": 13,
   "metadata": {},
   "outputs": [
    {
     "data": {
      "application/vnd.microsoft.datawrangler.viewer.v0+json": {
       "columns": [
        {
         "name": "index",
         "rawType": "int64",
         "type": "integer"
        },
        {
         "name": "year",
         "rawType": "int64",
         "type": "integer"
        },
        {
         "name": "quarter",
         "rawType": "int64",
         "type": "integer"
        },
        {
         "name": "topic",
         "rawType": "object",
         "type": "string"
        },
        {
         "name": "num_pushers",
         "rawType": "int64",
         "type": "integer"
        }
       ],
       "conversionMethod": "pd.DataFrame",
       "ref": "968cc62f-16a0-4835-bf20-59f5c3ba1c99",
       "rows": [
        [
         "0",
         "2020",
         "1",
         "3d",
         "156"
        ],
        [
         "1",
         "2020",
         "1",
         "accessibility",
         "135"
        ],
        [
         "2",
         "2020",
         "1",
         "admin",
         "141"
        ],
        [
         "3",
         "2020",
         "1",
         "ai",
         "468"
        ],
        [
         "4",
         "2020",
         "1",
         "algorithm",
         "754"
        ],
        [
         "5",
         "2020",
         "1",
         "algorithms",
         "1209"
        ],
        [
         "6",
         "2020",
         "1",
         "amazon",
         "121"
        ],
        [
         "7",
         "2020",
         "1",
         "analysis",
         "237"
        ],
        [
         "8",
         "2020",
         "1",
         "analytics",
         "313"
        ],
        [
         "9",
         "2020",
         "1",
         "android",
         "6201"
        ],
        [
         "10",
         "2020",
         "1",
         "android-app",
         "134"
        ],
        [
         "11",
         "2020",
         "1",
         "android-application",
         "220"
        ],
        [
         "12",
         "2020",
         "1",
         "android-studio",
         "111"
        ],
        [
         "13",
         "2020",
         "1",
         "angular",
         "2552"
        ],
        [
         "14",
         "2020",
         "1",
         "angular8",
         "108"
        ],
        [
         "15",
         "2020",
         "1",
         "angularjs",
         "109"
        ],
        [
         "16",
         "2020",
         "1",
         "animation",
         "153"
        ],
        [
         "17",
         "2020",
         "1",
         "ansible",
         "1006"
        ],
        [
         "18",
         "2020",
         "1",
         "ant-design",
         "115"
        ],
        [
         "19",
         "2020",
         "1",
         "antd",
         "160"
        ],
        [
         "20",
         "2020",
         "1",
         "apache",
         "114"
        ],
        [
         "21",
         "2020",
         "1",
         "api",
         "4425"
        ],
        [
         "22",
         "2020",
         "1",
         "api-client",
         "198"
        ],
        [
         "23",
         "2020",
         "1",
         "api-gateway",
         "111"
        ],
        [
         "24",
         "2020",
         "1",
         "api-rest",
         "113"
        ],
        [
         "25",
         "2020",
         "1",
         "api-wrapper",
         "107"
        ],
        [
         "26",
         "2020",
         "1",
         "apollo",
         "122"
        ],
        [
         "27",
         "2020",
         "1",
         "app",
         "285"
        ],
        [
         "28",
         "2020",
         "1",
         "application",
         "109"
        ],
        [
         "29",
         "2020",
         "1",
         "arduino",
         "704"
        ],
        [
         "30",
         "2020",
         "1",
         "arm",
         "108"
        ],
        [
         "31",
         "2020",
         "1",
         "art",
         "111"
        ],
        [
         "32",
         "2020",
         "1",
         "artificial-intelligence",
         "584"
        ],
        [
         "33",
         "2020",
         "1",
         "asp-net-core",
         "112"
        ],
        [
         "34",
         "2020",
         "1",
         "astronomy",
         "206"
        ],
        [
         "35",
         "2020",
         "1",
         "async",
         "183"
        ],
        [
         "36",
         "2020",
         "1",
         "audio",
         "377"
        ],
        [
         "37",
         "2020",
         "1",
         "authentication",
         "367"
        ],
        [
         "38",
         "2020",
         "1",
         "automation",
         "1154"
        ],
        [
         "39",
         "2020",
         "1",
         "awesome",
         "330"
        ],
        [
         "40",
         "2020",
         "1",
         "awesome-list",
         "208"
        ],
        [
         "41",
         "2020",
         "1",
         "aws",
         "2116"
        ],
        [
         "42",
         "2020",
         "1",
         "aws-lambda",
         "272"
        ],
        [
         "43",
         "2020",
         "1",
         "aws-s3",
         "129"
        ],
        [
         "44",
         "2020",
         "1",
         "axios",
         "293"
        ],
        [
         "45",
         "2020",
         "1",
         "azure",
         "900"
        ],
        [
         "46",
         "2020",
         "1",
         "babel",
         "163"
        ],
        [
         "47",
         "2020",
         "1",
         "backend",
         "397"
        ],
        [
         "48",
         "2020",
         "1",
         "backup",
         "110"
        ],
        [
         "49",
         "2020",
         "1",
         "bash",
         "1207"
        ]
       ],
       "shape": {
        "columns": 4,
        "rows": 16253
       }
      },
      "text/html": [
       "<div>\n",
       "<style scoped>\n",
       "    .dataframe tbody tr th:only-of-type {\n",
       "        vertical-align: middle;\n",
       "    }\n",
       "\n",
       "    .dataframe tbody tr th {\n",
       "        vertical-align: top;\n",
       "    }\n",
       "\n",
       "    .dataframe thead th {\n",
       "        text-align: right;\n",
       "    }\n",
       "</style>\n",
       "<table border=\"1\" class=\"dataframe\">\n",
       "  <thead>\n",
       "    <tr style=\"text-align: right;\">\n",
       "      <th></th>\n",
       "      <th>year</th>\n",
       "      <th>quarter</th>\n",
       "      <th>topic</th>\n",
       "      <th>num_pushers</th>\n",
       "    </tr>\n",
       "  </thead>\n",
       "  <tbody>\n",
       "    <tr>\n",
       "      <th>0</th>\n",
       "      <td>2020</td>\n",
       "      <td>1</td>\n",
       "      <td>3d</td>\n",
       "      <td>156</td>\n",
       "    </tr>\n",
       "    <tr>\n",
       "      <th>1</th>\n",
       "      <td>2020</td>\n",
       "      <td>1</td>\n",
       "      <td>accessibility</td>\n",
       "      <td>135</td>\n",
       "    </tr>\n",
       "    <tr>\n",
       "      <th>2</th>\n",
       "      <td>2020</td>\n",
       "      <td>1</td>\n",
       "      <td>admin</td>\n",
       "      <td>141</td>\n",
       "    </tr>\n",
       "    <tr>\n",
       "      <th>3</th>\n",
       "      <td>2020</td>\n",
       "      <td>1</td>\n",
       "      <td>ai</td>\n",
       "      <td>468</td>\n",
       "    </tr>\n",
       "    <tr>\n",
       "      <th>4</th>\n",
       "      <td>2020</td>\n",
       "      <td>1</td>\n",
       "      <td>algorithm</td>\n",
       "      <td>754</td>\n",
       "    </tr>\n",
       "    <tr>\n",
       "      <th>...</th>\n",
       "      <td>...</td>\n",
       "      <td>...</td>\n",
       "      <td>...</td>\n",
       "      <td>...</td>\n",
       "    </tr>\n",
       "    <tr>\n",
       "      <th>16248</th>\n",
       "      <td>2024</td>\n",
       "      <td>3</td>\n",
       "      <td>zero-knowledge</td>\n",
       "      <td>110</td>\n",
       "    </tr>\n",
       "    <tr>\n",
       "      <th>16249</th>\n",
       "      <td>2024</td>\n",
       "      <td>3</td>\n",
       "      <td>zig</td>\n",
       "      <td>155</td>\n",
       "    </tr>\n",
       "    <tr>\n",
       "      <th>16250</th>\n",
       "      <td>2024</td>\n",
       "      <td>3</td>\n",
       "      <td>zod</td>\n",
       "      <td>378</td>\n",
       "    </tr>\n",
       "    <tr>\n",
       "      <th>16251</th>\n",
       "      <td>2024</td>\n",
       "      <td>3</td>\n",
       "      <td>zsh</td>\n",
       "      <td>948</td>\n",
       "    </tr>\n",
       "    <tr>\n",
       "      <th>16252</th>\n",
       "      <td>2024</td>\n",
       "      <td>3</td>\n",
       "      <td>zustand</td>\n",
       "      <td>160</td>\n",
       "    </tr>\n",
       "  </tbody>\n",
       "</table>\n",
       "<p>16253 rows × 4 columns</p>\n",
       "</div>"
      ],
      "text/plain": [
       "       year  quarter           topic  num_pushers\n",
       "0      2020        1              3d          156\n",
       "1      2020        1   accessibility          135\n",
       "2      2020        1           admin          141\n",
       "3      2020        1              ai          468\n",
       "4      2020        1       algorithm          754\n",
       "...     ...      ...             ...          ...\n",
       "16248  2024        3  zero-knowledge          110\n",
       "16249  2024        3             zig          155\n",
       "16250  2024        3             zod          378\n",
       "16251  2024        3             zsh          948\n",
       "16252  2024        3         zustand          160\n",
       "\n",
       "[16253 rows x 4 columns]"
      ]
     },
     "execution_count": 13,
     "metadata": {},
     "output_type": "execute_result"
    }
   ],
   "source": [
    "# Agrupamos por año, trimestre y tema. Y sumamos el numero de subidas. \n",
    "\n",
    "df_7_grouped =df_7_clean.groupby(['year', \"quarter\",'topic'])['num_pushers'].sum().reset_index()\n",
    "df_7_grouped"
   ]
  },
  {
   "cell_type": "code",
   "execution_count": 14,
   "metadata": {},
   "outputs": [
    {
     "data": {
      "application/vnd.microsoft.datawrangler.viewer.v0+json": {
       "columns": [
        {
         "name": "index",
         "rawType": "int64",
         "type": "integer"
        },
        {
         "name": "year",
         "rawType": "int64",
         "type": "integer"
        },
        {
         "name": "quarter",
         "rawType": "int64",
         "type": "integer"
        },
        {
         "name": "topic",
         "rawType": "object",
         "type": "string"
        },
        {
         "name": "num_pushers",
         "rawType": "int64",
         "type": "integer"
        }
       ],
       "conversionMethod": "pd.DataFrame",
       "ref": "3ed5d2c8-34aa-45d0-9fa0-27ef186fa5ab",
       "rows": [
        [
         "432",
         "2020",
         "1",
         "python",
         "31021"
        ],
        [
         "288",
         "2020",
         "1",
         "javascript",
         "21057"
        ],
        [
         "441",
         "2020",
         "1",
         "react",
         "18769"
        ],
        [
         "286",
         "2020",
         "1",
         "java",
         "13016"
        ],
        [
         "377",
         "2020",
         "1",
         "nodejs",
         "10685"
        ],
        [
         "168",
         "2020",
         "1",
         "docker",
         "8316"
        ],
        [
         "552",
         "2020",
         "1",
         "typescript",
         "7954"
        ],
        [
         "412",
         "2020",
         "1",
         "php",
         "6972"
        ],
        [
         "323",
         "2020",
         "1",
         "machine-learning",
         "6597"
        ],
        [
         "9",
         "2020",
         "1",
         "android",
         "6201"
        ],
        [
         "240",
         "2020",
         "1",
         "golang",
         "6053"
        ],
        [
         "126",
         "2020",
         "1",
         "css",
         "5248"
        ],
        [
         "271",
         "2020",
         "1",
         "html",
         "5191"
        ],
        [
         "21",
         "2020",
         "1",
         "api",
         "4425"
        ],
        [
         "319",
         "2020",
         "1",
         "linux",
         "4076"
        ],
        [
         "58",
         "2020",
         "1",
         "blog",
         "3935"
        ],
        [
         "239",
         "2020",
         "1",
         "go",
         "3770"
        ],
        [
         "575",
         "2020",
         "1",
         "vue",
         "3681"
        ],
        [
         "147",
         "2020",
         "1",
         "deep-learning",
         "3629"
        ],
        [
         "308",
         "2020",
         "1",
         "kubernetes",
         "3615"
        ],
        [
         "175",
         "2020",
         "1",
         "dotfiles",
         "3254"
        ],
        [
         "118",
         "2020",
         "1",
         "cpp",
         "3206"
        ],
        [
         "593",
         "2020",
         "1",
         "website",
         "3055"
        ],
        [
         "80",
         "2020",
         "1",
         "cli",
         "3019"
        ],
        [
         "125",
         "2020",
         "1",
         "csharp",
         "2982"
        ],
        [
         "223",
         "2020",
         "1",
         "game",
         "2939"
        ],
        [
         "67",
         "2020",
         "1",
         "c",
         "2891"
        ],
        [
         "283",
         "2020",
         "1",
         "ios",
         "2678"
        ],
        [
         "165",
         "2020",
         "1",
         "django",
         "2611"
        ],
        [
         "472",
         "2020",
         "1",
         "rust",
         "2564"
        ],
        [
         "13",
         "2020",
         "1",
         "angular",
         "2552"
        ],
        [
         "141",
         "2020",
         "1",
         "database",
         "2513"
        ],
        [
         "469",
         "2020",
         "1",
         "ruby",
         "2511"
        ],
        [
         "353",
         "2020",
         "1",
         "mongodb",
         "2379"
        ],
        [
         "41",
         "2020",
         "1",
         "aws",
         "2116"
        ],
        [
         "138",
         "2020",
         "1",
         "data-science",
         "2106"
        ],
        [
         "173",
         "2020",
         "1",
         "documentation",
         "2079"
        ],
        [
         "375",
         "2020",
         "1",
         "node",
         "2072"
        ],
        [
         "362",
         "2020",
         "1",
         "mysql",
         "2067"
        ],
        [
         "306",
         "2020",
         "1",
         "kotlin",
         "2063"
        ],
        [
         "451",
         "2020",
         "1",
         "redux",
         "2040"
        ],
        [
         "295",
         "2020",
         "1",
         "json",
         "1970"
        ],
        [
         "68",
         "2020",
         "1",
         "c-plus-plus",
         "1961"
        ],
        [
         "527",
         "2020",
         "1",
         "swift",
         "1918"
        ],
        [
         "444",
         "2020",
         "1",
         "react-native",
         "1801"
        ],
        [
         "203",
         "2020",
         "1",
         "express",
         "1789"
        ],
        [
         "486",
         "2020",
         "1",
         "security",
         "1754"
        ],
        [
         "274",
         "2020",
         "1",
         "html5",
         "1731"
        ],
        [
         "57",
         "2020",
         "1",
         "blockchain",
         "1665"
        ],
        [
         "506",
         "2020",
         "1",
         "spring-boot",
         "1663"
        ]
       ],
       "shape": {
        "columns": 4,
        "rows": 16253
       }
      },
      "text/html": [
       "<div>\n",
       "<style scoped>\n",
       "    .dataframe tbody tr th:only-of-type {\n",
       "        vertical-align: middle;\n",
       "    }\n",
       "\n",
       "    .dataframe tbody tr th {\n",
       "        vertical-align: top;\n",
       "    }\n",
       "\n",
       "    .dataframe thead th {\n",
       "        text-align: right;\n",
       "    }\n",
       "</style>\n",
       "<table border=\"1\" class=\"dataframe\">\n",
       "  <thead>\n",
       "    <tr style=\"text-align: right;\">\n",
       "      <th></th>\n",
       "      <th>year</th>\n",
       "      <th>quarter</th>\n",
       "      <th>topic</th>\n",
       "      <th>num_pushers</th>\n",
       "    </tr>\n",
       "  </thead>\n",
       "  <tbody>\n",
       "    <tr>\n",
       "      <th>432</th>\n",
       "      <td>2020</td>\n",
       "      <td>1</td>\n",
       "      <td>python</td>\n",
       "      <td>31021</td>\n",
       "    </tr>\n",
       "    <tr>\n",
       "      <th>288</th>\n",
       "      <td>2020</td>\n",
       "      <td>1</td>\n",
       "      <td>javascript</td>\n",
       "      <td>21057</td>\n",
       "    </tr>\n",
       "    <tr>\n",
       "      <th>441</th>\n",
       "      <td>2020</td>\n",
       "      <td>1</td>\n",
       "      <td>react</td>\n",
       "      <td>18769</td>\n",
       "    </tr>\n",
       "    <tr>\n",
       "      <th>286</th>\n",
       "      <td>2020</td>\n",
       "      <td>1</td>\n",
       "      <td>java</td>\n",
       "      <td>13016</td>\n",
       "    </tr>\n",
       "    <tr>\n",
       "      <th>377</th>\n",
       "      <td>2020</td>\n",
       "      <td>1</td>\n",
       "      <td>nodejs</td>\n",
       "      <td>10685</td>\n",
       "    </tr>\n",
       "    <tr>\n",
       "      <th>...</th>\n",
       "      <td>...</td>\n",
       "      <td>...</td>\n",
       "      <td>...</td>\n",
       "      <td>...</td>\n",
       "    </tr>\n",
       "    <tr>\n",
       "      <th>16067</th>\n",
       "      <td>2024</td>\n",
       "      <td>3</td>\n",
       "      <td>shell-script</td>\n",
       "      <td>101</td>\n",
       "    </tr>\n",
       "    <tr>\n",
       "      <th>16086</th>\n",
       "      <td>2024</td>\n",
       "      <td>3</td>\n",
       "      <td>speech-recognition</td>\n",
       "      <td>101</td>\n",
       "    </tr>\n",
       "    <tr>\n",
       "      <th>16151</th>\n",
       "      <td>2024</td>\n",
       "      <td>3</td>\n",
       "      <td>tic-tac-toe</td>\n",
       "      <td>101</td>\n",
       "    </tr>\n",
       "    <tr>\n",
       "      <th>16223</th>\n",
       "      <td>2024</td>\n",
       "      <td>3</td>\n",
       "      <td>web-scraping</td>\n",
       "      <td>101</td>\n",
       "    </tr>\n",
       "    <tr>\n",
       "      <th>16243</th>\n",
       "      <td>2024</td>\n",
       "      <td>3</td>\n",
       "      <td>xcode</td>\n",
       "      <td>101</td>\n",
       "    </tr>\n",
       "  </tbody>\n",
       "</table>\n",
       "<p>16253 rows × 4 columns</p>\n",
       "</div>"
      ],
      "text/plain": [
       "       year  quarter               topic  num_pushers\n",
       "432    2020        1              python        31021\n",
       "288    2020        1          javascript        21057\n",
       "441    2020        1               react        18769\n",
       "286    2020        1                java        13016\n",
       "377    2020        1              nodejs        10685\n",
       "...     ...      ...                 ...          ...\n",
       "16067  2024        3        shell-script          101\n",
       "16086  2024        3  speech-recognition          101\n",
       "16151  2024        3         tic-tac-toe          101\n",
       "16223  2024        3        web-scraping          101\n",
       "16243  2024        3               xcode          101\n",
       "\n",
       "[16253 rows x 4 columns]"
      ]
     },
     "execution_count": 14,
     "metadata": {},
     "output_type": "execute_result"
    }
   ],
   "source": [
    "# Ordenamos los valores\n",
    "\n",
    "df_7_grouped_sorted = df_7_grouped.sort_values(by=['year', \"quarter\",'num_pushers'], ascending=[True, True, False])\n",
    "df_7_grouped_sorted"
   ]
  },
  {
   "cell_type": "code",
   "execution_count": 15,
   "metadata": {},
   "outputs": [],
   "source": [
    "# Vamos a filtrar los temas no relacionados con lenguajes de programación, para ello eliminamos todos los temas relacionados con los lenguajes de programacion.\n",
    "\n",
    "df_7_topics_clean_nolanguage = df_7_grouped_sorted[~df_7_grouped_sorted[\"topic\"].isin([\"python\", \"javascript\",\"java\",\"typescript\",\"python3\",\"go\",\"php\",\"html\",\"css\",\"nodejs\",\"golang\",\"config\", \"github-config\",\"rust\",\"html5\",\"cpp\",\"game\",\"vue\"])]"
   ]
  },
  {
   "cell_type": "code",
   "execution_count": 16,
   "metadata": {},
   "outputs": [],
   "source": [
    "# Vamos a filtrar para tener únicamente temas relacionados con lenguajes de programación\n",
    "df_7_topics_clean_language = df_7_grouped_sorted[~df_7_grouped_sorted[\"topic\"].isin([\"react\", \"hacktoberfest\",\"docker\",\"nextjs\",\"tailwindcss\",\"machine-learning\",\"api\",\"ai\",\"deep-learning\",\"kubernetes\",\"mongodb\",\"config\", \"github-config\",\"linux\",\"android\",\"website\",\"blog\"])]"
   ]
  },
  {
   "cell_type": "code",
   "execution_count": 17,
   "metadata": {},
   "outputs": [
    {
     "name": "stderr",
     "output_type": "stream",
     "text": [
      "C:\\Users\\guill\\AppData\\Local\\Temp\\ipykernel_17612\\2097486781.py:3: SettingWithCopyWarning: \n",
      "A value is trying to be set on a copy of a slice from a DataFrame.\n",
      "Try using .loc[row_indexer,col_indexer] = value instead\n",
      "\n",
      "See the caveats in the documentation: https://pandas.pydata.org/pandas-docs/stable/user_guide/indexing.html#returning-a-view-versus-a-copy\n",
      "  df_7_topics_clean_nolanguage['indice'] = df_7_topics_clean_nolanguage.groupby(['year',\"quarter\"]).cumcount() + 1\n"
     ]
    }
   ],
   "source": [
    "# Creamos un indice para poder ordenar los temas en orden de relevancia. \n",
    "\n",
    "df_7_topics_clean_nolanguage['indice'] = df_7_topics_clean_nolanguage.groupby(['year',\"quarter\"]).cumcount() + 1"
   ]
  },
  {
   "cell_type": "code",
   "execution_count": 18,
   "metadata": {},
   "outputs": [
    {
     "name": "stderr",
     "output_type": "stream",
     "text": [
      "C:\\Users\\guill\\AppData\\Local\\Temp\\ipykernel_17612\\2064816472.py:3: SettingWithCopyWarning: \n",
      "A value is trying to be set on a copy of a slice from a DataFrame.\n",
      "Try using .loc[row_indexer,col_indexer] = value instead\n",
      "\n",
      "See the caveats in the documentation: https://pandas.pydata.org/pandas-docs/stable/user_guide/indexing.html#returning-a-view-versus-a-copy\n",
      "  df_7_topics_clean_language['indice'] = df_7_topics_clean_language.groupby(['year',\"quarter\"]).cumcount() + 1\n"
     ]
    }
   ],
   "source": [
    "# Creamos un indice para poder ordenar los temas en orden de relevancia. \n",
    "\n",
    "df_7_topics_clean_language['indice'] = df_7_topics_clean_language.groupby(['year',\"quarter\"]).cumcount() + 1"
   ]
  },
  {
   "cell_type": "code",
   "execution_count": 19,
   "metadata": {},
   "outputs": [
    {
     "data": {
      "application/vnd.microsoft.datawrangler.viewer.v0+json": {
       "columns": [
        {
         "name": "index",
         "rawType": "int64",
         "type": "integer"
        },
        {
         "name": "year",
         "rawType": "int64",
         "type": "integer"
        },
        {
         "name": "quarter",
         "rawType": "int64",
         "type": "integer"
        },
        {
         "name": "topic",
         "rawType": "object",
         "type": "string"
        },
        {
         "name": "num_pushers",
         "rawType": "int64",
         "type": "integer"
        },
        {
         "name": "indice",
         "rawType": "int64",
         "type": "integer"
        }
       ],
       "conversionMethod": "pd.DataFrame",
       "ref": "7a8be6de-3a6f-4428-aace-54dd63694402",
       "rows": [
        [
         "432",
         "2020",
         "1",
         "python",
         "31021",
         "1"
        ],
        [
         "288",
         "2020",
         "1",
         "javascript",
         "21057",
         "2"
        ],
        [
         "441",
         "2020",
         "1",
         "react",
         "18769",
         "3"
        ],
        [
         "286",
         "2020",
         "1",
         "java",
         "13016",
         "4"
        ],
        [
         "377",
         "2020",
         "1",
         "nodejs",
         "10685",
         "5"
        ],
        [
         "168",
         "2020",
         "1",
         "docker",
         "8316",
         "6"
        ],
        [
         "552",
         "2020",
         "1",
         "typescript",
         "7954",
         "7"
        ],
        [
         "412",
         "2020",
         "1",
         "php",
         "6972",
         "8"
        ],
        [
         "323",
         "2020",
         "1",
         "machine-learning",
         "6597",
         "9"
        ],
        [
         "9",
         "2020",
         "1",
         "android",
         "6201",
         "10"
        ],
        [
         "240",
         "2020",
         "1",
         "golang",
         "6053",
         "11"
        ],
        [
         "126",
         "2020",
         "1",
         "css",
         "5248",
         "12"
        ],
        [
         "271",
         "2020",
         "1",
         "html",
         "5191",
         "13"
        ],
        [
         "21",
         "2020",
         "1",
         "api",
         "4425",
         "14"
        ],
        [
         "319",
         "2020",
         "1",
         "linux",
         "4076",
         "15"
        ],
        [
         "58",
         "2020",
         "1",
         "blog",
         "3935",
         "16"
        ],
        [
         "239",
         "2020",
         "1",
         "go",
         "3770",
         "17"
        ],
        [
         "575",
         "2020",
         "1",
         "vue",
         "3681",
         "18"
        ],
        [
         "147",
         "2020",
         "1",
         "deep-learning",
         "3629",
         "19"
        ],
        [
         "308",
         "2020",
         "1",
         "kubernetes",
         "3615",
         "20"
        ],
        [
         "175",
         "2020",
         "1",
         "dotfiles",
         "3254",
         "21"
        ],
        [
         "118",
         "2020",
         "1",
         "cpp",
         "3206",
         "22"
        ],
        [
         "593",
         "2020",
         "1",
         "website",
         "3055",
         "23"
        ],
        [
         "80",
         "2020",
         "1",
         "cli",
         "3019",
         "24"
        ],
        [
         "125",
         "2020",
         "1",
         "csharp",
         "2982",
         "25"
        ],
        [
         "223",
         "2020",
         "1",
         "game",
         "2939",
         "26"
        ],
        [
         "67",
         "2020",
         "1",
         "c",
         "2891",
         "27"
        ],
        [
         "283",
         "2020",
         "1",
         "ios",
         "2678",
         "28"
        ],
        [
         "165",
         "2020",
         "1",
         "django",
         "2611",
         "29"
        ],
        [
         "472",
         "2020",
         "1",
         "rust",
         "2564",
         "30"
        ],
        [
         "13",
         "2020",
         "1",
         "angular",
         "2552",
         "31"
        ],
        [
         "141",
         "2020",
         "1",
         "database",
         "2513",
         "32"
        ],
        [
         "469",
         "2020",
         "1",
         "ruby",
         "2511",
         "33"
        ],
        [
         "353",
         "2020",
         "1",
         "mongodb",
         "2379",
         "34"
        ],
        [
         "41",
         "2020",
         "1",
         "aws",
         "2116",
         "35"
        ],
        [
         "138",
         "2020",
         "1",
         "data-science",
         "2106",
         "36"
        ],
        [
         "173",
         "2020",
         "1",
         "documentation",
         "2079",
         "37"
        ],
        [
         "375",
         "2020",
         "1",
         "node",
         "2072",
         "38"
        ],
        [
         "362",
         "2020",
         "1",
         "mysql",
         "2067",
         "39"
        ],
        [
         "306",
         "2020",
         "1",
         "kotlin",
         "2063",
         "40"
        ],
        [
         "451",
         "2020",
         "1",
         "redux",
         "2040",
         "41"
        ],
        [
         "295",
         "2020",
         "1",
         "json",
         "1970",
         "42"
        ],
        [
         "68",
         "2020",
         "1",
         "c-plus-plus",
         "1961",
         "43"
        ],
        [
         "527",
         "2020",
         "1",
         "swift",
         "1918",
         "44"
        ],
        [
         "444",
         "2020",
         "1",
         "react-native",
         "1801",
         "45"
        ],
        [
         "203",
         "2020",
         "1",
         "express",
         "1789",
         "46"
        ],
        [
         "486",
         "2020",
         "1",
         "security",
         "1754",
         "47"
        ],
        [
         "274",
         "2020",
         "1",
         "html5",
         "1731",
         "48"
        ],
        [
         "57",
         "2020",
         "1",
         "blockchain",
         "1665",
         "49"
        ],
        [
         "506",
         "2020",
         "1",
         "spring-boot",
         "1663",
         "50"
        ]
       ],
       "shape": {
        "columns": 5,
        "rows": 16253
       }
      },
      "text/html": [
       "<div>\n",
       "<style scoped>\n",
       "    .dataframe tbody tr th:only-of-type {\n",
       "        vertical-align: middle;\n",
       "    }\n",
       "\n",
       "    .dataframe tbody tr th {\n",
       "        vertical-align: top;\n",
       "    }\n",
       "\n",
       "    .dataframe thead th {\n",
       "        text-align: right;\n",
       "    }\n",
       "</style>\n",
       "<table border=\"1\" class=\"dataframe\">\n",
       "  <thead>\n",
       "    <tr style=\"text-align: right;\">\n",
       "      <th></th>\n",
       "      <th>year</th>\n",
       "      <th>quarter</th>\n",
       "      <th>topic</th>\n",
       "      <th>num_pushers</th>\n",
       "      <th>indice</th>\n",
       "    </tr>\n",
       "  </thead>\n",
       "  <tbody>\n",
       "    <tr>\n",
       "      <th>432</th>\n",
       "      <td>2020</td>\n",
       "      <td>1</td>\n",
       "      <td>python</td>\n",
       "      <td>31021</td>\n",
       "      <td>1</td>\n",
       "    </tr>\n",
       "    <tr>\n",
       "      <th>288</th>\n",
       "      <td>2020</td>\n",
       "      <td>1</td>\n",
       "      <td>javascript</td>\n",
       "      <td>21057</td>\n",
       "      <td>2</td>\n",
       "    </tr>\n",
       "    <tr>\n",
       "      <th>441</th>\n",
       "      <td>2020</td>\n",
       "      <td>1</td>\n",
       "      <td>react</td>\n",
       "      <td>18769</td>\n",
       "      <td>3</td>\n",
       "    </tr>\n",
       "    <tr>\n",
       "      <th>286</th>\n",
       "      <td>2020</td>\n",
       "      <td>1</td>\n",
       "      <td>java</td>\n",
       "      <td>13016</td>\n",
       "      <td>4</td>\n",
       "    </tr>\n",
       "    <tr>\n",
       "      <th>377</th>\n",
       "      <td>2020</td>\n",
       "      <td>1</td>\n",
       "      <td>nodejs</td>\n",
       "      <td>10685</td>\n",
       "      <td>5</td>\n",
       "    </tr>\n",
       "    <tr>\n",
       "      <th>...</th>\n",
       "      <td>...</td>\n",
       "      <td>...</td>\n",
       "      <td>...</td>\n",
       "      <td>...</td>\n",
       "      <td>...</td>\n",
       "    </tr>\n",
       "    <tr>\n",
       "      <th>16067</th>\n",
       "      <td>2024</td>\n",
       "      <td>3</td>\n",
       "      <td>shell-script</td>\n",
       "      <td>101</td>\n",
       "      <td>973</td>\n",
       "    </tr>\n",
       "    <tr>\n",
       "      <th>16086</th>\n",
       "      <td>2024</td>\n",
       "      <td>3</td>\n",
       "      <td>speech-recognition</td>\n",
       "      <td>101</td>\n",
       "      <td>974</td>\n",
       "    </tr>\n",
       "    <tr>\n",
       "      <th>16151</th>\n",
       "      <td>2024</td>\n",
       "      <td>3</td>\n",
       "      <td>tic-tac-toe</td>\n",
       "      <td>101</td>\n",
       "      <td>975</td>\n",
       "    </tr>\n",
       "    <tr>\n",
       "      <th>16223</th>\n",
       "      <td>2024</td>\n",
       "      <td>3</td>\n",
       "      <td>web-scraping</td>\n",
       "      <td>101</td>\n",
       "      <td>976</td>\n",
       "    </tr>\n",
       "    <tr>\n",
       "      <th>16243</th>\n",
       "      <td>2024</td>\n",
       "      <td>3</td>\n",
       "      <td>xcode</td>\n",
       "      <td>101</td>\n",
       "      <td>977</td>\n",
       "    </tr>\n",
       "  </tbody>\n",
       "</table>\n",
       "<p>16253 rows × 5 columns</p>\n",
       "</div>"
      ],
      "text/plain": [
       "       year  quarter               topic  num_pushers  indice\n",
       "432    2020        1              python        31021       1\n",
       "288    2020        1          javascript        21057       2\n",
       "441    2020        1               react        18769       3\n",
       "286    2020        1                java        13016       4\n",
       "377    2020        1              nodejs        10685       5\n",
       "...     ...      ...                 ...          ...     ...\n",
       "16067  2024        3        shell-script          101     973\n",
       "16086  2024        3  speech-recognition          101     974\n",
       "16151  2024        3         tic-tac-toe          101     975\n",
       "16223  2024        3        web-scraping          101     976\n",
       "16243  2024        3               xcode          101     977\n",
       "\n",
       "[16253 rows x 5 columns]"
      ]
     },
     "execution_count": 19,
     "metadata": {},
     "output_type": "execute_result"
    }
   ],
   "source": [
    "# Idem para los temas totales. \n",
    "\n",
    "df_7_grouped_sorted['indice'] = df_7_grouped_sorted.groupby(['year',\"quarter\"]).cumcount() + 1\n",
    "df_7_grouped_sorted"
   ]
  },
  {
   "cell_type": "code",
   "execution_count": 20,
   "metadata": {},
   "outputs": [
    {
     "name": "stderr",
     "output_type": "stream",
     "text": [
      "C:\\Users\\guill\\AppData\\Local\\Temp\\ipykernel_17612\\3241296740.py:3: SettingWithCopyWarning: \n",
      "A value is trying to be set on a copy of a slice from a DataFrame.\n",
      "Try using .loc[row_indexer,col_indexer] = value instead\n",
      "\n",
      "See the caveats in the documentation: https://pandas.pydata.org/pandas-docs/stable/user_guide/indexing.html#returning-a-view-versus-a-copy\n",
      "  df_7_topics_clean_nolanguage[\"year_quarter\"] = df_7_topics_clean_nolanguage[\"year\"].astype(\"str\") +\"-Q\"+  df_7_topics_clean_nolanguage[\"quarter\"].astype(\"str\")\n"
     ]
    },
    {
     "data": {
      "application/vnd.microsoft.datawrangler.viewer.v0+json": {
       "columns": [
        {
         "name": "index",
         "rawType": "int64",
         "type": "integer"
        },
        {
         "name": "year",
         "rawType": "int64",
         "type": "integer"
        },
        {
         "name": "quarter",
         "rawType": "int64",
         "type": "integer"
        },
        {
         "name": "topic",
         "rawType": "object",
         "type": "string"
        },
        {
         "name": "num_pushers",
         "rawType": "int64",
         "type": "integer"
        },
        {
         "name": "indice",
         "rawType": "int64",
         "type": "integer"
        },
        {
         "name": "year_quarter",
         "rawType": "object",
         "type": "string"
        }
       ],
       "conversionMethod": "pd.DataFrame",
       "ref": "b456fe6e-ccfd-45dd-bbf5-12132d2d781d",
       "rows": [
        [
         "441",
         "2020",
         "1",
         "react",
         "18769",
         "1",
         "2020-Q1"
        ],
        [
         "168",
         "2020",
         "1",
         "docker",
         "8316",
         "2",
         "2020-Q1"
        ],
        [
         "323",
         "2020",
         "1",
         "machine-learning",
         "6597",
         "3",
         "2020-Q1"
        ],
        [
         "9",
         "2020",
         "1",
         "android",
         "6201",
         "4",
         "2020-Q1"
        ],
        [
         "21",
         "2020",
         "1",
         "api",
         "4425",
         "5",
         "2020-Q1"
        ],
        [
         "319",
         "2020",
         "1",
         "linux",
         "4076",
         "6",
         "2020-Q1"
        ],
        [
         "58",
         "2020",
         "1",
         "blog",
         "3935",
         "7",
         "2020-Q1"
        ],
        [
         "147",
         "2020",
         "1",
         "deep-learning",
         "3629",
         "8",
         "2020-Q1"
        ],
        [
         "308",
         "2020",
         "1",
         "kubernetes",
         "3615",
         "9",
         "2020-Q1"
        ],
        [
         "175",
         "2020",
         "1",
         "dotfiles",
         "3254",
         "10",
         "2020-Q1"
        ],
        [
         "593",
         "2020",
         "1",
         "website",
         "3055",
         "11",
         "2020-Q1"
        ],
        [
         "80",
         "2020",
         "1",
         "cli",
         "3019",
         "12",
         "2020-Q1"
        ],
        [
         "125",
         "2020",
         "1",
         "csharp",
         "2982",
         "13",
         "2020-Q1"
        ],
        [
         "67",
         "2020",
         "1",
         "c",
         "2891",
         "14",
         "2020-Q1"
        ],
        [
         "283",
         "2020",
         "1",
         "ios",
         "2678",
         "15",
         "2020-Q1"
        ],
        [
         "165",
         "2020",
         "1",
         "django",
         "2611",
         "16",
         "2020-Q1"
        ],
        [
         "13",
         "2020",
         "1",
         "angular",
         "2552",
         "17",
         "2020-Q1"
        ],
        [
         "141",
         "2020",
         "1",
         "database",
         "2513",
         "18",
         "2020-Q1"
        ],
        [
         "469",
         "2020",
         "1",
         "ruby",
         "2511",
         "19",
         "2020-Q1"
        ],
        [
         "353",
         "2020",
         "1",
         "mongodb",
         "2379",
         "20",
         "2020-Q1"
        ],
        [
         "41",
         "2020",
         "1",
         "aws",
         "2116",
         "21",
         "2020-Q1"
        ],
        [
         "138",
         "2020",
         "1",
         "data-science",
         "2106",
         "22",
         "2020-Q1"
        ],
        [
         "173",
         "2020",
         "1",
         "documentation",
         "2079",
         "23",
         "2020-Q1"
        ],
        [
         "375",
         "2020",
         "1",
         "node",
         "2072",
         "24",
         "2020-Q1"
        ],
        [
         "362",
         "2020",
         "1",
         "mysql",
         "2067",
         "25",
         "2020-Q1"
        ],
        [
         "306",
         "2020",
         "1",
         "kotlin",
         "2063",
         "26",
         "2020-Q1"
        ],
        [
         "451",
         "2020",
         "1",
         "redux",
         "2040",
         "27",
         "2020-Q1"
        ],
        [
         "295",
         "2020",
         "1",
         "json",
         "1970",
         "28",
         "2020-Q1"
        ],
        [
         "68",
         "2020",
         "1",
         "c-plus-plus",
         "1961",
         "29",
         "2020-Q1"
        ],
        [
         "527",
         "2020",
         "1",
         "swift",
         "1918",
         "30",
         "2020-Q1"
        ],
        [
         "444",
         "2020",
         "1",
         "react-native",
         "1801",
         "31",
         "2020-Q1"
        ],
        [
         "203",
         "2020",
         "1",
         "express",
         "1789",
         "32",
         "2020-Q1"
        ],
        [
         "486",
         "2020",
         "1",
         "security",
         "1754",
         "33",
         "2020-Q1"
        ],
        [
         "57",
         "2020",
         "1",
         "blockchain",
         "1665",
         "34",
         "2020-Q1"
        ],
        [
         "506",
         "2020",
         "1",
         "spring-boot",
         "1663",
         "35",
         "2020-Q1"
        ],
        [
         "251",
         "2020",
         "1",
         "graphql",
         "1650",
         "36",
         "2020-Q1"
        ],
        [
         "317",
         "2020",
         "1",
         "library",
         "1624",
         "37",
         "2020-Q1"
        ],
        [
         "60",
         "2020",
         "1",
         "bootstrap",
         "1592",
         "38",
         "2020-Q1"
        ],
        [
         "326",
         "2020",
         "1",
         "macos",
         "1582",
         "39",
         "2020-Q1"
        ],
        [
         "583",
         "2020",
         "1",
         "web",
         "1559",
         "40",
         "2020-Q1"
        ],
        [
         "534",
         "2020",
         "1",
         "tensorflow",
         "1544",
         "41",
         "2020-Q1"
        ],
        [
         "212",
         "2020",
         "1",
         "flask",
         "1539",
         "42",
         "2020-Q1"
        ],
        [
         "577",
         "2020",
         "1",
         "vuejs",
         "1535",
         "43",
         "2020-Q1"
        ],
        [
         "420",
         "2020",
         "1",
         "postgresql",
         "1525",
         "44",
         "2020-Q1"
        ],
        [
         "510",
         "2020",
         "1",
         "sql",
         "1520",
         "45",
         "2020-Q1"
        ],
        [
         "294",
         "2020",
         "1",
         "js",
         "1511",
         "46",
         "2020-Q1"
        ],
        [
         "598",
         "2020",
         "1",
         "windows",
         "1493",
         "47",
         "2020-Q1"
        ],
        [
         "290",
         "2020",
         "1",
         "jekyll",
         "1428",
         "48",
         "2020-Q1"
        ],
        [
         "235",
         "2020",
         "1",
         "git",
         "1420",
         "49",
         "2020-Q1"
        ],
        [
         "591",
         "2020",
         "1",
         "webpack",
         "1402",
         "50",
         "2020-Q1"
        ]
       ],
       "shape": {
        "columns": 6,
        "rows": 15968
       }
      },
      "text/html": [
       "<div>\n",
       "<style scoped>\n",
       "    .dataframe tbody tr th:only-of-type {\n",
       "        vertical-align: middle;\n",
       "    }\n",
       "\n",
       "    .dataframe tbody tr th {\n",
       "        vertical-align: top;\n",
       "    }\n",
       "\n",
       "    .dataframe thead th {\n",
       "        text-align: right;\n",
       "    }\n",
       "</style>\n",
       "<table border=\"1\" class=\"dataframe\">\n",
       "  <thead>\n",
       "    <tr style=\"text-align: right;\">\n",
       "      <th></th>\n",
       "      <th>year</th>\n",
       "      <th>quarter</th>\n",
       "      <th>topic</th>\n",
       "      <th>num_pushers</th>\n",
       "      <th>indice</th>\n",
       "      <th>year_quarter</th>\n",
       "    </tr>\n",
       "  </thead>\n",
       "  <tbody>\n",
       "    <tr>\n",
       "      <th>441</th>\n",
       "      <td>2020</td>\n",
       "      <td>1</td>\n",
       "      <td>react</td>\n",
       "      <td>18769</td>\n",
       "      <td>1</td>\n",
       "      <td>2020-Q1</td>\n",
       "    </tr>\n",
       "    <tr>\n",
       "      <th>168</th>\n",
       "      <td>2020</td>\n",
       "      <td>1</td>\n",
       "      <td>docker</td>\n",
       "      <td>8316</td>\n",
       "      <td>2</td>\n",
       "      <td>2020-Q1</td>\n",
       "    </tr>\n",
       "    <tr>\n",
       "      <th>323</th>\n",
       "      <td>2020</td>\n",
       "      <td>1</td>\n",
       "      <td>machine-learning</td>\n",
       "      <td>6597</td>\n",
       "      <td>3</td>\n",
       "      <td>2020-Q1</td>\n",
       "    </tr>\n",
       "    <tr>\n",
       "      <th>9</th>\n",
       "      <td>2020</td>\n",
       "      <td>1</td>\n",
       "      <td>android</td>\n",
       "      <td>6201</td>\n",
       "      <td>4</td>\n",
       "      <td>2020-Q1</td>\n",
       "    </tr>\n",
       "    <tr>\n",
       "      <th>21</th>\n",
       "      <td>2020</td>\n",
       "      <td>1</td>\n",
       "      <td>api</td>\n",
       "      <td>4425</td>\n",
       "      <td>5</td>\n",
       "      <td>2020-Q1</td>\n",
       "    </tr>\n",
       "    <tr>\n",
       "      <th>...</th>\n",
       "      <td>...</td>\n",
       "      <td>...</td>\n",
       "      <td>...</td>\n",
       "      <td>...</td>\n",
       "      <td>...</td>\n",
       "      <td>...</td>\n",
       "    </tr>\n",
       "    <tr>\n",
       "      <th>16067</th>\n",
       "      <td>2024</td>\n",
       "      <td>3</td>\n",
       "      <td>shell-script</td>\n",
       "      <td>101</td>\n",
       "      <td>958</td>\n",
       "      <td>2024-Q3</td>\n",
       "    </tr>\n",
       "    <tr>\n",
       "      <th>16086</th>\n",
       "      <td>2024</td>\n",
       "      <td>3</td>\n",
       "      <td>speech-recognition</td>\n",
       "      <td>101</td>\n",
       "      <td>959</td>\n",
       "      <td>2024-Q3</td>\n",
       "    </tr>\n",
       "    <tr>\n",
       "      <th>16151</th>\n",
       "      <td>2024</td>\n",
       "      <td>3</td>\n",
       "      <td>tic-tac-toe</td>\n",
       "      <td>101</td>\n",
       "      <td>960</td>\n",
       "      <td>2024-Q3</td>\n",
       "    </tr>\n",
       "    <tr>\n",
       "      <th>16223</th>\n",
       "      <td>2024</td>\n",
       "      <td>3</td>\n",
       "      <td>web-scraping</td>\n",
       "      <td>101</td>\n",
       "      <td>961</td>\n",
       "      <td>2024-Q3</td>\n",
       "    </tr>\n",
       "    <tr>\n",
       "      <th>16243</th>\n",
       "      <td>2024</td>\n",
       "      <td>3</td>\n",
       "      <td>xcode</td>\n",
       "      <td>101</td>\n",
       "      <td>962</td>\n",
       "      <td>2024-Q3</td>\n",
       "    </tr>\n",
       "  </tbody>\n",
       "</table>\n",
       "<p>15968 rows × 6 columns</p>\n",
       "</div>"
      ],
      "text/plain": [
       "       year  quarter               topic  num_pushers  indice year_quarter\n",
       "441    2020        1               react        18769       1      2020-Q1\n",
       "168    2020        1              docker         8316       2      2020-Q1\n",
       "323    2020        1    machine-learning         6597       3      2020-Q1\n",
       "9      2020        1             android         6201       4      2020-Q1\n",
       "21     2020        1                 api         4425       5      2020-Q1\n",
       "...     ...      ...                 ...          ...     ...          ...\n",
       "16067  2024        3        shell-script          101     958      2024-Q3\n",
       "16086  2024        3  speech-recognition          101     959      2024-Q3\n",
       "16151  2024        3         tic-tac-toe          101     960      2024-Q3\n",
       "16223  2024        3        web-scraping          101     961      2024-Q3\n",
       "16243  2024        3               xcode          101     962      2024-Q3\n",
       "\n",
       "[15968 rows x 6 columns]"
      ]
     },
     "execution_count": 20,
     "metadata": {},
     "output_type": "execute_result"
    }
   ],
   "source": [
    "# Creamos una columna nueva year_quarter para poder graficarlo. \n",
    "\n",
    "df_7_topics_clean_nolanguage[\"year_quarter\"] = df_7_topics_clean_nolanguage[\"year\"].astype(\"str\") +\"-Q\"+  df_7_topics_clean_nolanguage[\"quarter\"].astype(\"str\")\n",
    "df_7_topics_clean_nolanguage"
   ]
  },
  {
   "cell_type": "code",
   "execution_count": 21,
   "metadata": {},
   "outputs": [
    {
     "name": "stderr",
     "output_type": "stream",
     "text": [
      "C:\\Users\\guill\\AppData\\Local\\Temp\\ipykernel_17612\\2300761499.py:1: SettingWithCopyWarning: \n",
      "A value is trying to be set on a copy of a slice from a DataFrame.\n",
      "Try using .loc[row_indexer,col_indexer] = value instead\n",
      "\n",
      "See the caveats in the documentation: https://pandas.pydata.org/pandas-docs/stable/user_guide/indexing.html#returning-a-view-versus-a-copy\n",
      "  df_7_topics_clean_language[\"year_quarter\"] = df_7_topics_clean_language[\"year\"].astype(\"str\") +\"-Q\"+  df_7_topics_clean_language[\"quarter\"].astype(\"str\")\n"
     ]
    },
    {
     "data": {
      "application/vnd.microsoft.datawrangler.viewer.v0+json": {
       "columns": [
        {
         "name": "index",
         "rawType": "int64",
         "type": "integer"
        },
        {
         "name": "year",
         "rawType": "int64",
         "type": "integer"
        },
        {
         "name": "quarter",
         "rawType": "int64",
         "type": "integer"
        },
        {
         "name": "topic",
         "rawType": "object",
         "type": "string"
        },
        {
         "name": "num_pushers",
         "rawType": "int64",
         "type": "integer"
        },
        {
         "name": "indice",
         "rawType": "int64",
         "type": "integer"
        },
        {
         "name": "year_quarter",
         "rawType": "object",
         "type": "string"
        }
       ],
       "conversionMethod": "pd.DataFrame",
       "ref": "caddf966-81ff-4503-86b0-4bbbd55c5743",
       "rows": [
        [
         "432",
         "2020",
         "1",
         "python",
         "31021",
         "1",
         "2020-Q1"
        ],
        [
         "288",
         "2020",
         "1",
         "javascript",
         "21057",
         "2",
         "2020-Q1"
        ],
        [
         "286",
         "2020",
         "1",
         "java",
         "13016",
         "3",
         "2020-Q1"
        ],
        [
         "377",
         "2020",
         "1",
         "nodejs",
         "10685",
         "4",
         "2020-Q1"
        ],
        [
         "552",
         "2020",
         "1",
         "typescript",
         "7954",
         "5",
         "2020-Q1"
        ],
        [
         "412",
         "2020",
         "1",
         "php",
         "6972",
         "6",
         "2020-Q1"
        ],
        [
         "240",
         "2020",
         "1",
         "golang",
         "6053",
         "7",
         "2020-Q1"
        ],
        [
         "126",
         "2020",
         "1",
         "css",
         "5248",
         "8",
         "2020-Q1"
        ],
        [
         "271",
         "2020",
         "1",
         "html",
         "5191",
         "9",
         "2020-Q1"
        ],
        [
         "239",
         "2020",
         "1",
         "go",
         "3770",
         "10",
         "2020-Q1"
        ],
        [
         "575",
         "2020",
         "1",
         "vue",
         "3681",
         "11",
         "2020-Q1"
        ],
        [
         "175",
         "2020",
         "1",
         "dotfiles",
         "3254",
         "12",
         "2020-Q1"
        ],
        [
         "118",
         "2020",
         "1",
         "cpp",
         "3206",
         "13",
         "2020-Q1"
        ],
        [
         "80",
         "2020",
         "1",
         "cli",
         "3019",
         "14",
         "2020-Q1"
        ],
        [
         "125",
         "2020",
         "1",
         "csharp",
         "2982",
         "15",
         "2020-Q1"
        ],
        [
         "223",
         "2020",
         "1",
         "game",
         "2939",
         "16",
         "2020-Q1"
        ],
        [
         "67",
         "2020",
         "1",
         "c",
         "2891",
         "17",
         "2020-Q1"
        ],
        [
         "283",
         "2020",
         "1",
         "ios",
         "2678",
         "18",
         "2020-Q1"
        ],
        [
         "165",
         "2020",
         "1",
         "django",
         "2611",
         "19",
         "2020-Q1"
        ],
        [
         "472",
         "2020",
         "1",
         "rust",
         "2564",
         "20",
         "2020-Q1"
        ],
        [
         "13",
         "2020",
         "1",
         "angular",
         "2552",
         "21",
         "2020-Q1"
        ],
        [
         "141",
         "2020",
         "1",
         "database",
         "2513",
         "22",
         "2020-Q1"
        ],
        [
         "469",
         "2020",
         "1",
         "ruby",
         "2511",
         "23",
         "2020-Q1"
        ],
        [
         "41",
         "2020",
         "1",
         "aws",
         "2116",
         "24",
         "2020-Q1"
        ],
        [
         "138",
         "2020",
         "1",
         "data-science",
         "2106",
         "25",
         "2020-Q1"
        ],
        [
         "173",
         "2020",
         "1",
         "documentation",
         "2079",
         "26",
         "2020-Q1"
        ],
        [
         "375",
         "2020",
         "1",
         "node",
         "2072",
         "27",
         "2020-Q1"
        ],
        [
         "362",
         "2020",
         "1",
         "mysql",
         "2067",
         "28",
         "2020-Q1"
        ],
        [
         "306",
         "2020",
         "1",
         "kotlin",
         "2063",
         "29",
         "2020-Q1"
        ],
        [
         "451",
         "2020",
         "1",
         "redux",
         "2040",
         "30",
         "2020-Q1"
        ],
        [
         "295",
         "2020",
         "1",
         "json",
         "1970",
         "31",
         "2020-Q1"
        ],
        [
         "68",
         "2020",
         "1",
         "c-plus-plus",
         "1961",
         "32",
         "2020-Q1"
        ],
        [
         "527",
         "2020",
         "1",
         "swift",
         "1918",
         "33",
         "2020-Q1"
        ],
        [
         "444",
         "2020",
         "1",
         "react-native",
         "1801",
         "34",
         "2020-Q1"
        ],
        [
         "203",
         "2020",
         "1",
         "express",
         "1789",
         "35",
         "2020-Q1"
        ],
        [
         "486",
         "2020",
         "1",
         "security",
         "1754",
         "36",
         "2020-Q1"
        ],
        [
         "274",
         "2020",
         "1",
         "html5",
         "1731",
         "37",
         "2020-Q1"
        ],
        [
         "57",
         "2020",
         "1",
         "blockchain",
         "1665",
         "38",
         "2020-Q1"
        ],
        [
         "506",
         "2020",
         "1",
         "spring-boot",
         "1663",
         "39",
         "2020-Q1"
        ],
        [
         "251",
         "2020",
         "1",
         "graphql",
         "1650",
         "40",
         "2020-Q1"
        ],
        [
         "317",
         "2020",
         "1",
         "library",
         "1624",
         "41",
         "2020-Q1"
        ],
        [
         "60",
         "2020",
         "1",
         "bootstrap",
         "1592",
         "42",
         "2020-Q1"
        ],
        [
         "326",
         "2020",
         "1",
         "macos",
         "1582",
         "43",
         "2020-Q1"
        ],
        [
         "583",
         "2020",
         "1",
         "web",
         "1559",
         "44",
         "2020-Q1"
        ],
        [
         "534",
         "2020",
         "1",
         "tensorflow",
         "1544",
         "45",
         "2020-Q1"
        ],
        [
         "212",
         "2020",
         "1",
         "flask",
         "1539",
         "46",
         "2020-Q1"
        ],
        [
         "577",
         "2020",
         "1",
         "vuejs",
         "1535",
         "47",
         "2020-Q1"
        ],
        [
         "420",
         "2020",
         "1",
         "postgresql",
         "1525",
         "48",
         "2020-Q1"
        ],
        [
         "510",
         "2020",
         "1",
         "sql",
         "1520",
         "49",
         "2020-Q1"
        ],
        [
         "294",
         "2020",
         "1",
         "js",
         "1511",
         "50",
         "2020-Q1"
        ]
       ],
       "shape": {
        "columns": 6,
        "rows": 15970
       }
      },
      "text/html": [
       "<div>\n",
       "<style scoped>\n",
       "    .dataframe tbody tr th:only-of-type {\n",
       "        vertical-align: middle;\n",
       "    }\n",
       "\n",
       "    .dataframe tbody tr th {\n",
       "        vertical-align: top;\n",
       "    }\n",
       "\n",
       "    .dataframe thead th {\n",
       "        text-align: right;\n",
       "    }\n",
       "</style>\n",
       "<table border=\"1\" class=\"dataframe\">\n",
       "  <thead>\n",
       "    <tr style=\"text-align: right;\">\n",
       "      <th></th>\n",
       "      <th>year</th>\n",
       "      <th>quarter</th>\n",
       "      <th>topic</th>\n",
       "      <th>num_pushers</th>\n",
       "      <th>indice</th>\n",
       "      <th>year_quarter</th>\n",
       "    </tr>\n",
       "  </thead>\n",
       "  <tbody>\n",
       "    <tr>\n",
       "      <th>432</th>\n",
       "      <td>2020</td>\n",
       "      <td>1</td>\n",
       "      <td>python</td>\n",
       "      <td>31021</td>\n",
       "      <td>1</td>\n",
       "      <td>2020-Q1</td>\n",
       "    </tr>\n",
       "    <tr>\n",
       "      <th>288</th>\n",
       "      <td>2020</td>\n",
       "      <td>1</td>\n",
       "      <td>javascript</td>\n",
       "      <td>21057</td>\n",
       "      <td>2</td>\n",
       "      <td>2020-Q1</td>\n",
       "    </tr>\n",
       "    <tr>\n",
       "      <th>286</th>\n",
       "      <td>2020</td>\n",
       "      <td>1</td>\n",
       "      <td>java</td>\n",
       "      <td>13016</td>\n",
       "      <td>3</td>\n",
       "      <td>2020-Q1</td>\n",
       "    </tr>\n",
       "    <tr>\n",
       "      <th>377</th>\n",
       "      <td>2020</td>\n",
       "      <td>1</td>\n",
       "      <td>nodejs</td>\n",
       "      <td>10685</td>\n",
       "      <td>4</td>\n",
       "      <td>2020-Q1</td>\n",
       "    </tr>\n",
       "    <tr>\n",
       "      <th>552</th>\n",
       "      <td>2020</td>\n",
       "      <td>1</td>\n",
       "      <td>typescript</td>\n",
       "      <td>7954</td>\n",
       "      <td>5</td>\n",
       "      <td>2020-Q1</td>\n",
       "    </tr>\n",
       "    <tr>\n",
       "      <th>...</th>\n",
       "      <td>...</td>\n",
       "      <td>...</td>\n",
       "      <td>...</td>\n",
       "      <td>...</td>\n",
       "      <td>...</td>\n",
       "      <td>...</td>\n",
       "    </tr>\n",
       "    <tr>\n",
       "      <th>16067</th>\n",
       "      <td>2024</td>\n",
       "      <td>3</td>\n",
       "      <td>shell-script</td>\n",
       "      <td>101</td>\n",
       "      <td>958</td>\n",
       "      <td>2024-Q3</td>\n",
       "    </tr>\n",
       "    <tr>\n",
       "      <th>16086</th>\n",
       "      <td>2024</td>\n",
       "      <td>3</td>\n",
       "      <td>speech-recognition</td>\n",
       "      <td>101</td>\n",
       "      <td>959</td>\n",
       "      <td>2024-Q3</td>\n",
       "    </tr>\n",
       "    <tr>\n",
       "      <th>16151</th>\n",
       "      <td>2024</td>\n",
       "      <td>3</td>\n",
       "      <td>tic-tac-toe</td>\n",
       "      <td>101</td>\n",
       "      <td>960</td>\n",
       "      <td>2024-Q3</td>\n",
       "    </tr>\n",
       "    <tr>\n",
       "      <th>16223</th>\n",
       "      <td>2024</td>\n",
       "      <td>3</td>\n",
       "      <td>web-scraping</td>\n",
       "      <td>101</td>\n",
       "      <td>961</td>\n",
       "      <td>2024-Q3</td>\n",
       "    </tr>\n",
       "    <tr>\n",
       "      <th>16243</th>\n",
       "      <td>2024</td>\n",
       "      <td>3</td>\n",
       "      <td>xcode</td>\n",
       "      <td>101</td>\n",
       "      <td>962</td>\n",
       "      <td>2024-Q3</td>\n",
       "    </tr>\n",
       "  </tbody>\n",
       "</table>\n",
       "<p>15970 rows × 6 columns</p>\n",
       "</div>"
      ],
      "text/plain": [
       "       year  quarter               topic  num_pushers  indice year_quarter\n",
       "432    2020        1              python        31021       1      2020-Q1\n",
       "288    2020        1          javascript        21057       2      2020-Q1\n",
       "286    2020        1                java        13016       3      2020-Q1\n",
       "377    2020        1              nodejs        10685       4      2020-Q1\n",
       "552    2020        1          typescript         7954       5      2020-Q1\n",
       "...     ...      ...                 ...          ...     ...          ...\n",
       "16067  2024        3        shell-script          101     958      2024-Q3\n",
       "16086  2024        3  speech-recognition          101     959      2024-Q3\n",
       "16151  2024        3         tic-tac-toe          101     960      2024-Q3\n",
       "16223  2024        3        web-scraping          101     961      2024-Q3\n",
       "16243  2024        3               xcode          101     962      2024-Q3\n",
       "\n",
       "[15970 rows x 6 columns]"
      ]
     },
     "execution_count": 21,
     "metadata": {},
     "output_type": "execute_result"
    }
   ],
   "source": [
    "df_7_topics_clean_language[\"year_quarter\"] = df_7_topics_clean_language[\"year\"].astype(\"str\") +\"-Q\"+  df_7_topics_clean_language[\"quarter\"].astype(\"str\")\n",
    "df_7_topics_clean_language"
   ]
  },
  {
   "cell_type": "code",
   "execution_count": 22,
   "metadata": {},
   "outputs": [
    {
     "data": {
      "application/vnd.microsoft.datawrangler.viewer.v0+json": {
       "columns": [
        {
         "name": "index",
         "rawType": "int64",
         "type": "integer"
        },
        {
         "name": "year",
         "rawType": "int64",
         "type": "integer"
        },
        {
         "name": "quarter",
         "rawType": "int64",
         "type": "integer"
        },
        {
         "name": "topic",
         "rawType": "object",
         "type": "string"
        },
        {
         "name": "num_pushers",
         "rawType": "int64",
         "type": "integer"
        },
        {
         "name": "indice",
         "rawType": "int64",
         "type": "integer"
        },
        {
         "name": "year_quarter",
         "rawType": "object",
         "type": "string"
        }
       ],
       "conversionMethod": "pd.DataFrame",
       "ref": "d260e820-e9e8-4320-83b7-8a7c84dc5012",
       "rows": [
        [
         "432",
         "2020",
         "1",
         "python",
         "31021",
         "1",
         "2020-Q1"
        ],
        [
         "288",
         "2020",
         "1",
         "javascript",
         "21057",
         "2",
         "2020-Q1"
        ],
        [
         "441",
         "2020",
         "1",
         "react",
         "18769",
         "3",
         "2020-Q1"
        ],
        [
         "286",
         "2020",
         "1",
         "java",
         "13016",
         "4",
         "2020-Q1"
        ],
        [
         "377",
         "2020",
         "1",
         "nodejs",
         "10685",
         "5",
         "2020-Q1"
        ],
        [
         "168",
         "2020",
         "1",
         "docker",
         "8316",
         "6",
         "2020-Q1"
        ],
        [
         "552",
         "2020",
         "1",
         "typescript",
         "7954",
         "7",
         "2020-Q1"
        ],
        [
         "412",
         "2020",
         "1",
         "php",
         "6972",
         "8",
         "2020-Q1"
        ],
        [
         "323",
         "2020",
         "1",
         "machine-learning",
         "6597",
         "9",
         "2020-Q1"
        ],
        [
         "9",
         "2020",
         "1",
         "android",
         "6201",
         "10",
         "2020-Q1"
        ],
        [
         "240",
         "2020",
         "1",
         "golang",
         "6053",
         "11",
         "2020-Q1"
        ],
        [
         "126",
         "2020",
         "1",
         "css",
         "5248",
         "12",
         "2020-Q1"
        ],
        [
         "271",
         "2020",
         "1",
         "html",
         "5191",
         "13",
         "2020-Q1"
        ],
        [
         "21",
         "2020",
         "1",
         "api",
         "4425",
         "14",
         "2020-Q1"
        ],
        [
         "319",
         "2020",
         "1",
         "linux",
         "4076",
         "15",
         "2020-Q1"
        ],
        [
         "58",
         "2020",
         "1",
         "blog",
         "3935",
         "16",
         "2020-Q1"
        ],
        [
         "239",
         "2020",
         "1",
         "go",
         "3770",
         "17",
         "2020-Q1"
        ],
        [
         "575",
         "2020",
         "1",
         "vue",
         "3681",
         "18",
         "2020-Q1"
        ],
        [
         "147",
         "2020",
         "1",
         "deep-learning",
         "3629",
         "19",
         "2020-Q1"
        ],
        [
         "308",
         "2020",
         "1",
         "kubernetes",
         "3615",
         "20",
         "2020-Q1"
        ],
        [
         "175",
         "2020",
         "1",
         "dotfiles",
         "3254",
         "21",
         "2020-Q1"
        ],
        [
         "118",
         "2020",
         "1",
         "cpp",
         "3206",
         "22",
         "2020-Q1"
        ],
        [
         "593",
         "2020",
         "1",
         "website",
         "3055",
         "23",
         "2020-Q1"
        ],
        [
         "80",
         "2020",
         "1",
         "cli",
         "3019",
         "24",
         "2020-Q1"
        ],
        [
         "125",
         "2020",
         "1",
         "csharp",
         "2982",
         "25",
         "2020-Q1"
        ],
        [
         "223",
         "2020",
         "1",
         "game",
         "2939",
         "26",
         "2020-Q1"
        ],
        [
         "67",
         "2020",
         "1",
         "c",
         "2891",
         "27",
         "2020-Q1"
        ],
        [
         "283",
         "2020",
         "1",
         "ios",
         "2678",
         "28",
         "2020-Q1"
        ],
        [
         "165",
         "2020",
         "1",
         "django",
         "2611",
         "29",
         "2020-Q1"
        ],
        [
         "472",
         "2020",
         "1",
         "rust",
         "2564",
         "30",
         "2020-Q1"
        ],
        [
         "13",
         "2020",
         "1",
         "angular",
         "2552",
         "31",
         "2020-Q1"
        ],
        [
         "141",
         "2020",
         "1",
         "database",
         "2513",
         "32",
         "2020-Q1"
        ],
        [
         "469",
         "2020",
         "1",
         "ruby",
         "2511",
         "33",
         "2020-Q1"
        ],
        [
         "353",
         "2020",
         "1",
         "mongodb",
         "2379",
         "34",
         "2020-Q1"
        ],
        [
         "41",
         "2020",
         "1",
         "aws",
         "2116",
         "35",
         "2020-Q1"
        ],
        [
         "138",
         "2020",
         "1",
         "data-science",
         "2106",
         "36",
         "2020-Q1"
        ],
        [
         "173",
         "2020",
         "1",
         "documentation",
         "2079",
         "37",
         "2020-Q1"
        ],
        [
         "375",
         "2020",
         "1",
         "node",
         "2072",
         "38",
         "2020-Q1"
        ],
        [
         "362",
         "2020",
         "1",
         "mysql",
         "2067",
         "39",
         "2020-Q1"
        ],
        [
         "306",
         "2020",
         "1",
         "kotlin",
         "2063",
         "40",
         "2020-Q1"
        ],
        [
         "451",
         "2020",
         "1",
         "redux",
         "2040",
         "41",
         "2020-Q1"
        ],
        [
         "295",
         "2020",
         "1",
         "json",
         "1970",
         "42",
         "2020-Q1"
        ],
        [
         "68",
         "2020",
         "1",
         "c-plus-plus",
         "1961",
         "43",
         "2020-Q1"
        ],
        [
         "527",
         "2020",
         "1",
         "swift",
         "1918",
         "44",
         "2020-Q1"
        ],
        [
         "444",
         "2020",
         "1",
         "react-native",
         "1801",
         "45",
         "2020-Q1"
        ],
        [
         "203",
         "2020",
         "1",
         "express",
         "1789",
         "46",
         "2020-Q1"
        ],
        [
         "486",
         "2020",
         "1",
         "security",
         "1754",
         "47",
         "2020-Q1"
        ],
        [
         "274",
         "2020",
         "1",
         "html5",
         "1731",
         "48",
         "2020-Q1"
        ],
        [
         "57",
         "2020",
         "1",
         "blockchain",
         "1665",
         "49",
         "2020-Q1"
        ],
        [
         "506",
         "2020",
         "1",
         "spring-boot",
         "1663",
         "50",
         "2020-Q1"
        ]
       ],
       "shape": {
        "columns": 6,
        "rows": 16253
       }
      },
      "text/html": [
       "<div>\n",
       "<style scoped>\n",
       "    .dataframe tbody tr th:only-of-type {\n",
       "        vertical-align: middle;\n",
       "    }\n",
       "\n",
       "    .dataframe tbody tr th {\n",
       "        vertical-align: top;\n",
       "    }\n",
       "\n",
       "    .dataframe thead th {\n",
       "        text-align: right;\n",
       "    }\n",
       "</style>\n",
       "<table border=\"1\" class=\"dataframe\">\n",
       "  <thead>\n",
       "    <tr style=\"text-align: right;\">\n",
       "      <th></th>\n",
       "      <th>year</th>\n",
       "      <th>quarter</th>\n",
       "      <th>topic</th>\n",
       "      <th>num_pushers</th>\n",
       "      <th>indice</th>\n",
       "      <th>year_quarter</th>\n",
       "    </tr>\n",
       "  </thead>\n",
       "  <tbody>\n",
       "    <tr>\n",
       "      <th>432</th>\n",
       "      <td>2020</td>\n",
       "      <td>1</td>\n",
       "      <td>python</td>\n",
       "      <td>31021</td>\n",
       "      <td>1</td>\n",
       "      <td>2020-Q1</td>\n",
       "    </tr>\n",
       "    <tr>\n",
       "      <th>288</th>\n",
       "      <td>2020</td>\n",
       "      <td>1</td>\n",
       "      <td>javascript</td>\n",
       "      <td>21057</td>\n",
       "      <td>2</td>\n",
       "      <td>2020-Q1</td>\n",
       "    </tr>\n",
       "    <tr>\n",
       "      <th>441</th>\n",
       "      <td>2020</td>\n",
       "      <td>1</td>\n",
       "      <td>react</td>\n",
       "      <td>18769</td>\n",
       "      <td>3</td>\n",
       "      <td>2020-Q1</td>\n",
       "    </tr>\n",
       "    <tr>\n",
       "      <th>286</th>\n",
       "      <td>2020</td>\n",
       "      <td>1</td>\n",
       "      <td>java</td>\n",
       "      <td>13016</td>\n",
       "      <td>4</td>\n",
       "      <td>2020-Q1</td>\n",
       "    </tr>\n",
       "    <tr>\n",
       "      <th>377</th>\n",
       "      <td>2020</td>\n",
       "      <td>1</td>\n",
       "      <td>nodejs</td>\n",
       "      <td>10685</td>\n",
       "      <td>5</td>\n",
       "      <td>2020-Q1</td>\n",
       "    </tr>\n",
       "    <tr>\n",
       "      <th>...</th>\n",
       "      <td>...</td>\n",
       "      <td>...</td>\n",
       "      <td>...</td>\n",
       "      <td>...</td>\n",
       "      <td>...</td>\n",
       "      <td>...</td>\n",
       "    </tr>\n",
       "    <tr>\n",
       "      <th>16067</th>\n",
       "      <td>2024</td>\n",
       "      <td>3</td>\n",
       "      <td>shell-script</td>\n",
       "      <td>101</td>\n",
       "      <td>973</td>\n",
       "      <td>2024-Q3</td>\n",
       "    </tr>\n",
       "    <tr>\n",
       "      <th>16086</th>\n",
       "      <td>2024</td>\n",
       "      <td>3</td>\n",
       "      <td>speech-recognition</td>\n",
       "      <td>101</td>\n",
       "      <td>974</td>\n",
       "      <td>2024-Q3</td>\n",
       "    </tr>\n",
       "    <tr>\n",
       "      <th>16151</th>\n",
       "      <td>2024</td>\n",
       "      <td>3</td>\n",
       "      <td>tic-tac-toe</td>\n",
       "      <td>101</td>\n",
       "      <td>975</td>\n",
       "      <td>2024-Q3</td>\n",
       "    </tr>\n",
       "    <tr>\n",
       "      <th>16223</th>\n",
       "      <td>2024</td>\n",
       "      <td>3</td>\n",
       "      <td>web-scraping</td>\n",
       "      <td>101</td>\n",
       "      <td>976</td>\n",
       "      <td>2024-Q3</td>\n",
       "    </tr>\n",
       "    <tr>\n",
       "      <th>16243</th>\n",
       "      <td>2024</td>\n",
       "      <td>3</td>\n",
       "      <td>xcode</td>\n",
       "      <td>101</td>\n",
       "      <td>977</td>\n",
       "      <td>2024-Q3</td>\n",
       "    </tr>\n",
       "  </tbody>\n",
       "</table>\n",
       "<p>16253 rows × 6 columns</p>\n",
       "</div>"
      ],
      "text/plain": [
       "       year  quarter               topic  num_pushers  indice year_quarter\n",
       "432    2020        1              python        31021       1      2020-Q1\n",
       "288    2020        1          javascript        21057       2      2020-Q1\n",
       "441    2020        1               react        18769       3      2020-Q1\n",
       "286    2020        1                java        13016       4      2020-Q1\n",
       "377    2020        1              nodejs        10685       5      2020-Q1\n",
       "...     ...      ...                 ...          ...     ...          ...\n",
       "16067  2024        3        shell-script          101     973      2024-Q3\n",
       "16086  2024        3  speech-recognition          101     974      2024-Q3\n",
       "16151  2024        3         tic-tac-toe          101     975      2024-Q3\n",
       "16223  2024        3        web-scraping          101     976      2024-Q3\n",
       "16243  2024        3               xcode          101     977      2024-Q3\n",
       "\n",
       "[16253 rows x 6 columns]"
      ]
     },
     "execution_count": 22,
     "metadata": {},
     "output_type": "execute_result"
    }
   ],
   "source": [
    "df_7_grouped_sorted[\"year_quarter\"] = df_7_grouped_sorted[\"year\"].astype(\"str\") +\"-Q\"+  df_7_grouped_sorted[\"quarter\"].astype(\"str\")\n",
    "df_7_grouped_sorted"
   ]
  },
  {
   "cell_type": "code",
   "execution_count": 23,
   "metadata": {},
   "outputs": [
    {
     "name": "stdout",
     "output_type": "stream",
     "text": [
      "<class 'pandas.core.frame.DataFrame'>\n",
      "Index: 16253 entries, 432 to 16243\n",
      "Data columns (total 6 columns):\n",
      " #   Column        Non-Null Count  Dtype \n",
      "---  ------        --------------  ----- \n",
      " 0   year          16253 non-null  int64 \n",
      " 1   quarter       16253 non-null  int64 \n",
      " 2   topic         16253 non-null  object\n",
      " 3   num_pushers   16253 non-null  int64 \n",
      " 4   indice        16253 non-null  int64 \n",
      " 5   year_quarter  16253 non-null  object\n",
      "dtypes: int64(4), object(2)\n",
      "memory usage: 888.8+ KB\n"
     ]
    }
   ],
   "source": [
    "df_7_grouped_sorted.info()"
   ]
  },
  {
   "cell_type": "code",
   "execution_count": 24,
   "metadata": {},
   "outputs": [
    {
     "data": {
      "application/vnd.microsoft.datawrangler.viewer.v0+json": {
       "columns": [
        {
         "name": "index",
         "rawType": "int64",
         "type": "integer"
        },
        {
         "name": "year",
         "rawType": "int64",
         "type": "integer"
        },
        {
         "name": "quarter",
         "rawType": "int64",
         "type": "integer"
        },
        {
         "name": "topic",
         "rawType": "object",
         "type": "string"
        },
        {
         "name": "num_pushers",
         "rawType": "int64",
         "type": "integer"
        },
        {
         "name": "indice",
         "rawType": "int64",
         "type": "integer"
        },
        {
         "name": "year_quarter",
         "rawType": "object",
         "type": "string"
        }
       ],
       "conversionMethod": "pd.DataFrame",
       "ref": "4b88c3f2-1858-4cf4-85ca-9e3bdb3db799",
       "rows": [
        [
         "432",
         "2020",
         "1",
         "python",
         "31021",
         "1",
         "2020-Q1"
        ],
        [
         "288",
         "2020",
         "1",
         "javascript",
         "21057",
         "2",
         "2020-Q1"
        ],
        [
         "441",
         "2020",
         "1",
         "react",
         "18769",
         "3",
         "2020-Q1"
        ],
        [
         "286",
         "2020",
         "1",
         "java",
         "13016",
         "4",
         "2020-Q1"
        ],
        [
         "377",
         "2020",
         "1",
         "nodejs",
         "10685",
         "5",
         "2020-Q1"
        ],
        [
         "168",
         "2020",
         "1",
         "docker",
         "8316",
         "6",
         "2020-Q1"
        ],
        [
         "552",
         "2020",
         "1",
         "typescript",
         "7954",
         "7",
         "2020-Q1"
        ],
        [
         "412",
         "2020",
         "1",
         "php",
         "6972",
         "8",
         "2020-Q1"
        ],
        [
         "323",
         "2020",
         "1",
         "machine-learning",
         "6597",
         "9",
         "2020-Q1"
        ],
        [
         "9",
         "2020",
         "1",
         "android",
         "6201",
         "10",
         "2020-Q1"
        ],
        [
         "1144",
         "2020",
         "2",
         "python",
         "37419",
         "1",
         "2020-Q2"
        ],
        [
         "969",
         "2020",
         "2",
         "javascript",
         "25238",
         "2",
         "2020-Q2"
        ],
        [
         "1157",
         "2020",
         "2",
         "react",
         "23523",
         "3",
         "2020-Q2"
        ],
        [
         "966",
         "2020",
         "2",
         "java",
         "15956",
         "4",
         "2020-Q2"
        ],
        [
         "1078",
         "2020",
         "2",
         "nodejs",
         "13603",
         "5",
         "2020-Q2"
        ],
        [
         "1297",
         "2020",
         "2",
         "typescript",
         "10211",
         "6",
         "2020-Q2"
        ],
        [
         "817",
         "2020",
         "2",
         "docker",
         "9752",
         "7",
         "2020-Q2"
        ],
        [
         "770",
         "2020",
         "2",
         "css",
         "8379",
         "8",
         "2020-Q2"
        ],
        [
         "941",
         "2020",
         "2",
         "html",
         "7842",
         "9",
         "2020-Q2"
        ],
        [
         "1015",
         "2020",
         "2",
         "machine-learning",
         "7781",
         "10",
         "2020-Q2"
        ],
        [
         "1878",
         "2020",
         "3",
         "python",
         "36561",
         "1",
         "2020-Q3"
        ],
        [
         "1891",
         "2020",
         "3",
         "react",
         "28190",
         "2",
         "2020-Q3"
        ],
        [
         "1706",
         "2020",
         "3",
         "javascript",
         "26943",
         "3",
         "2020-Q3"
        ],
        [
         "1812",
         "2020",
         "3",
         "nodejs",
         "14466",
         "4",
         "2020-Q3"
        ],
        [
         "1704",
         "2020",
         "3",
         "java",
         "14373",
         "5",
         "2020-Q3"
        ],
        [
         "2032",
         "2020",
         "3",
         "typescript",
         "11106",
         "6",
         "2020-Q3"
        ],
        [
         "1562",
         "2020",
         "3",
         "docker",
         "9157",
         "7",
         "2020-Q3"
        ],
        [
         "1514",
         "2020",
         "3",
         "css",
         "8881",
         "8",
         "2020-Q3"
        ],
        [
         "1679",
         "2020",
         "3",
         "html",
         "8285",
         "9",
         "2020-Q3"
        ],
        [
         "1749",
         "2020",
         "3",
         "machine-learning",
         "7992",
         "10",
         "2020-Q3"
        ],
        [
         "2400",
         "2020",
         "4",
         "hacktoberfest",
         "45063",
         "1",
         "2020-Q4"
        ],
        [
         "2616",
         "2020",
         "4",
         "python",
         "37731",
         "2",
         "2020-Q4"
        ],
        [
         "2628",
         "2020",
         "4",
         "react",
         "28313",
         "3",
         "2020-Q4"
        ],
        [
         "2451",
         "2020",
         "4",
         "javascript",
         "25933",
         "4",
         "2020-Q4"
        ],
        [
         "2449",
         "2020",
         "4",
         "java",
         "15588",
         "5",
         "2020-Q4"
        ],
        [
         "2554",
         "2020",
         "4",
         "nodejs",
         "13759",
         "6",
         "2020-Q4"
        ],
        [
         "2773",
         "2020",
         "4",
         "typescript",
         "11692",
         "7",
         "2020-Q4"
        ],
        [
         "2297",
         "2020",
         "4",
         "docker",
         "9421",
         "8",
         "2020-Q4"
        ],
        [
         "2253",
         "2020",
         "4",
         "css",
         "9009",
         "9",
         "2020-Q4"
        ],
        [
         "2422",
         "2020",
         "4",
         "html",
         "8217",
         "10",
         "2020-Q4"
        ],
        [
         "3368",
         "2021",
         "1",
         "python",
         "38807",
         "1",
         "2021-Q1"
        ],
        [
         "3381",
         "2021",
         "1",
         "react",
         "30297",
         "2",
         "2021-Q1"
        ],
        [
         "3203",
         "2021",
         "1",
         "javascript",
         "26979",
         "3",
         "2021-Q1"
        ],
        [
         "3201",
         "2021",
         "1",
         "java",
         "15130",
         "4",
         "2021-Q1"
        ],
        [
         "3153",
         "2021",
         "1",
         "hacktoberfest",
         "14901",
         "5",
         "2021-Q1"
        ],
        [
         "3303",
         "2021",
         "1",
         "nodejs",
         "13982",
         "6",
         "2021-Q1"
        ],
        [
         "3528",
         "2021",
         "1",
         "typescript",
         "12870",
         "7",
         "2021-Q1"
        ],
        [
         "3047",
         "2021",
         "1",
         "docker",
         "10033",
         "8",
         "2021-Q1"
        ],
        [
         "2999",
         "2021",
         "1",
         "css",
         "9642",
         "9",
         "2021-Q1"
        ],
        [
         "3174",
         "2021",
         "1",
         "html",
         "8981",
         "10",
         "2021-Q1"
        ]
       ],
       "shape": {
        "columns": 6,
        "rows": 190
       }
      },
      "text/html": [
       "<div>\n",
       "<style scoped>\n",
       "    .dataframe tbody tr th:only-of-type {\n",
       "        vertical-align: middle;\n",
       "    }\n",
       "\n",
       "    .dataframe tbody tr th {\n",
       "        vertical-align: top;\n",
       "    }\n",
       "\n",
       "    .dataframe thead th {\n",
       "        text-align: right;\n",
       "    }\n",
       "</style>\n",
       "<table border=\"1\" class=\"dataframe\">\n",
       "  <thead>\n",
       "    <tr style=\"text-align: right;\">\n",
       "      <th></th>\n",
       "      <th>year</th>\n",
       "      <th>quarter</th>\n",
       "      <th>topic</th>\n",
       "      <th>num_pushers</th>\n",
       "      <th>indice</th>\n",
       "      <th>year_quarter</th>\n",
       "    </tr>\n",
       "  </thead>\n",
       "  <tbody>\n",
       "    <tr>\n",
       "      <th>432</th>\n",
       "      <td>2020</td>\n",
       "      <td>1</td>\n",
       "      <td>python</td>\n",
       "      <td>31021</td>\n",
       "      <td>1</td>\n",
       "      <td>2020-Q1</td>\n",
       "    </tr>\n",
       "    <tr>\n",
       "      <th>288</th>\n",
       "      <td>2020</td>\n",
       "      <td>1</td>\n",
       "      <td>javascript</td>\n",
       "      <td>21057</td>\n",
       "      <td>2</td>\n",
       "      <td>2020-Q1</td>\n",
       "    </tr>\n",
       "    <tr>\n",
       "      <th>441</th>\n",
       "      <td>2020</td>\n",
       "      <td>1</td>\n",
       "      <td>react</td>\n",
       "      <td>18769</td>\n",
       "      <td>3</td>\n",
       "      <td>2020-Q1</td>\n",
       "    </tr>\n",
       "    <tr>\n",
       "      <th>286</th>\n",
       "      <td>2020</td>\n",
       "      <td>1</td>\n",
       "      <td>java</td>\n",
       "      <td>13016</td>\n",
       "      <td>4</td>\n",
       "      <td>2020-Q1</td>\n",
       "    </tr>\n",
       "    <tr>\n",
       "      <th>377</th>\n",
       "      <td>2020</td>\n",
       "      <td>1</td>\n",
       "      <td>nodejs</td>\n",
       "      <td>10685</td>\n",
       "      <td>5</td>\n",
       "      <td>2020-Q1</td>\n",
       "    </tr>\n",
       "    <tr>\n",
       "      <th>...</th>\n",
       "      <td>...</td>\n",
       "      <td>...</td>\n",
       "      <td>...</td>\n",
       "      <td>...</td>\n",
       "      <td>...</td>\n",
       "      <td>...</td>\n",
       "    </tr>\n",
       "    <tr>\n",
       "      <th>15717</th>\n",
       "      <td>2024</td>\n",
       "      <td>3</td>\n",
       "      <td>java</td>\n",
       "      <td>16515</td>\n",
       "      <td>6</td>\n",
       "      <td>2024-Q3</td>\n",
       "    </tr>\n",
       "    <tr>\n",
       "      <th>15874</th>\n",
       "      <td>2024</td>\n",
       "      <td>3</td>\n",
       "      <td>nodejs</td>\n",
       "      <td>15877</td>\n",
       "      <td>7</td>\n",
       "      <td>2024-Q3</td>\n",
       "    </tr>\n",
       "    <tr>\n",
       "      <th>15458</th>\n",
       "      <td>2024</td>\n",
       "      <td>3</td>\n",
       "      <td>css</td>\n",
       "      <td>13802</td>\n",
       "      <td>8</td>\n",
       "      <td>2024-Q3</td>\n",
       "    </tr>\n",
       "    <tr>\n",
       "      <th>15685</th>\n",
       "      <td>2024</td>\n",
       "      <td>3</td>\n",
       "      <td>html</td>\n",
       "      <td>12824</td>\n",
       "      <td>9</td>\n",
       "      <td>2024-Q3</td>\n",
       "    </tr>\n",
       "    <tr>\n",
       "      <th>15520</th>\n",
       "      <td>2024</td>\n",
       "      <td>3</td>\n",
       "      <td>docker</td>\n",
       "      <td>12716</td>\n",
       "      <td>10</td>\n",
       "      <td>2024-Q3</td>\n",
       "    </tr>\n",
       "  </tbody>\n",
       "</table>\n",
       "<p>190 rows × 6 columns</p>\n",
       "</div>"
      ],
      "text/plain": [
       "       year  quarter       topic  num_pushers  indice year_quarter\n",
       "432    2020        1      python        31021       1      2020-Q1\n",
       "288    2020        1  javascript        21057       2      2020-Q1\n",
       "441    2020        1       react        18769       3      2020-Q1\n",
       "286    2020        1        java        13016       4      2020-Q1\n",
       "377    2020        1      nodejs        10685       5      2020-Q1\n",
       "...     ...      ...         ...          ...     ...          ...\n",
       "15717  2024        3        java        16515       6      2024-Q3\n",
       "15874  2024        3      nodejs        15877       7      2024-Q3\n",
       "15458  2024        3         css        13802       8      2024-Q3\n",
       "15685  2024        3        html        12824       9      2024-Q3\n",
       "15520  2024        3      docker        12716      10      2024-Q3\n",
       "\n",
       "[190 rows x 6 columns]"
      ]
     },
     "execution_count": 24,
     "metadata": {},
     "output_type": "execute_result"
    }
   ],
   "source": [
    "# Filtramos por los 20 valores más representativos para poder graficarlo posteriormente. \n",
    "\n",
    "df_7_grouped_sorted = df_7_grouped_sorted[df_7_grouped_sorted[\"indice\"] <= 10]\n",
    "df_7_grouped_sorted"
   ]
  },
  {
   "cell_type": "code",
   "execution_count": 25,
   "metadata": {},
   "outputs": [
    {
     "name": "stderr",
     "output_type": "stream",
     "text": [
      "C:\\Users\\guill\\AppData\\Local\\Temp\\ipykernel_17612\\4131887511.py:8: DeprecationWarning: DataFrameGroupBy.apply operated on the grouping columns. This behavior is deprecated, and in a future version of pandas the grouping columns will be excluded from the operation. Either pass `include_groups=False` to exclude the groupings or explicitly select the grouping columns after groupby to silence this warning.\n",
      "  latest_values = df_7_grouped_sorted.groupby('topic').apply(\n"
     ]
    },
    {
     "data": {
      "image/png": "[encoded data removed]",
      "text/plain": [
       "<Figure size 1400x700 with 1 Axes>"
      ]
     },
     "metadata": {},
     "output_type": "display_data"
    }
   ],
   "source": [
    "from matplotlib.ticker import FuncFormatter\n",
    "\n",
    "# Create a custom formatter function to display values in millions\n",
    "#def millions(x, pos):\n",
    "    #return f'{x * 1e-6:.1f}M'  # Divide by 1e6 to convert to millions and format to one decimal place\n",
    "\n",
    "# Paso opcional: Ordenar los temas de acuerdo con el valor máximo de 'num_pushers' en el último trimestre\n",
    "latest_values = df_7_grouped_sorted.groupby('topic').apply(\n",
    "    lambda x: x.loc[x['year_quarter'].idxmax(), 'num_pushers']\n",
    ").sort_values(ascending=False)\n",
    "\n",
    "ordered_topics = latest_values.index\n",
    "\n",
    "# Crear el gráfico de líneas\n",
    "plt.figure(figsize=(14, 7))\n",
    "\n",
    "sns.lineplot(data=df_7_grouped_sorted, x='year_quarter', y='num_pushers', hue='topic', \n",
    "             linewidth=2, hue_order=ordered_topics)\n",
    "\n",
    "# Personalizar etiquetas y título\n",
    "plt.xlabel('Año Trimestre')\n",
    "plt.ylabel('Número upload por desarrollador')\n",
    "plt.title('Evolución de Temas en Git Hub')\n",
    "\n",
    "# Rotar las etiquetas del eje X para mejor legibilidad\n",
    "plt.xticks(rotation=-45)\n",
    "\n",
    "\n",
    "# Ajustar la leyenda si es necesario\n",
    "plt.legend(title='Temas', loc='upper left', bbox_to_anchor=(1.05, 1),  prop={'size': 15})\n",
    "\n",
    "# Mostrar cuadrículas para una mejor visualización\n",
    "plt.grid(True, linestyle=\"--\", alpha=0.6)\n",
    "\n",
    "# Ajustar el layout para evitar solapamientos\n",
    "plt.tight_layout()\n",
    "\n",
    "# Mostrar el gráfico\n",
    "plt.show()"
   ]
  },
  {
   "cell_type": "code",
   "execution_count": 26,
   "metadata": {},
   "outputs": [],
   "source": [
    "#df_7_topics_clean_nolanguage = df_7_topics_clean[~df_7_topics_clean[\"topic\"].isin([\"python\", \"javascript\",\"java\",\"typescript\",\"python3\",\"go\",\"php\",\"html\",\"css\",\"nodejs\",\"golang\"])]"
   ]
  },
  {
   "cell_type": "code",
   "execution_count": 42,
   "metadata": {},
   "outputs": [
    {
     "data": {
      "application/vnd.microsoft.datawrangler.viewer.v0+json": {
       "columns": [
        {
         "name": "index",
         "rawType": "int64",
         "type": "integer"
        },
        {
         "name": "year",
         "rawType": "int64",
         "type": "integer"
        },
        {
         "name": "quarter",
         "rawType": "int64",
         "type": "integer"
        },
        {
         "name": "topic",
         "rawType": "object",
         "type": "string"
        },
        {
         "name": "num_pushers",
         "rawType": "int64",
         "type": "integer"
        },
        {
         "name": "indice",
         "rawType": "int64",
         "type": "integer"
        },
        {
         "name": "year_quarter",
         "rawType": "object",
         "type": "string"
        }
       ],
       "conversionMethod": "pd.DataFrame",
       "ref": "47cbfc64-d5e5-480e-9901-7863b7326e60",
       "rows": [
        [
         "441",
         "2020",
         "1",
         "react",
         "18769",
         "1",
         "2020-Q1"
        ],
        [
         "168",
         "2020",
         "1",
         "docker",
         "8316",
         "2",
         "2020-Q1"
        ],
        [
         "323",
         "2020",
         "1",
         "machine-learning",
         "6597",
         "3",
         "2020-Q1"
        ],
        [
         "9",
         "2020",
         "1",
         "android",
         "6201",
         "4",
         "2020-Q1"
        ],
        [
         "21",
         "2020",
         "1",
         "api",
         "4425",
         "5",
         "2020-Q1"
        ],
        [
         "319",
         "2020",
         "1",
         "linux",
         "4076",
         "6",
         "2020-Q1"
        ],
        [
         "58",
         "2020",
         "1",
         "blog",
         "3935",
         "7",
         "2020-Q1"
        ],
        [
         "147",
         "2020",
         "1",
         "deep-learning",
         "3629",
         "8",
         "2020-Q1"
        ],
        [
         "308",
         "2020",
         "1",
         "kubernetes",
         "3615",
         "9",
         "2020-Q1"
        ],
        [
         "1157",
         "2020",
         "2",
         "react",
         "23523",
         "1",
         "2020-Q2"
        ],
        [
         "817",
         "2020",
         "2",
         "docker",
         "9752",
         "2",
         "2020-Q2"
        ],
        [
         "1015",
         "2020",
         "2",
         "machine-learning",
         "7781",
         "3",
         "2020-Q2"
        ],
        [
         "627",
         "2020",
         "2",
         "android",
         "7148",
         "4",
         "2020-Q2"
        ],
        [
         "640",
         "2020",
         "2",
         "api",
         "5485",
         "5",
         "2020-Q2"
        ],
        [
         "1008",
         "2020",
         "2",
         "linux",
         "4501",
         "6",
         "2020-Q2"
        ],
        [
         "793",
         "2020",
         "2",
         "deep-learning",
         "4463",
         "7",
         "2020-Q2"
        ],
        [
         "683",
         "2020",
         "2",
         "blog",
         "4316",
         "8",
         "2020-Q2"
        ],
        [
         "993",
         "2020",
         "2",
         "kubernetes",
         "4198",
         "9",
         "2020-Q2"
        ],
        [
         "1891",
         "2020",
         "3",
         "react",
         "28190",
         "1",
         "2020-Q3"
        ],
        [
         "1562",
         "2020",
         "3",
         "docker",
         "9157",
         "2",
         "2020-Q3"
        ],
        [
         "1749",
         "2020",
         "3",
         "machine-learning",
         "7992",
         "3",
         "2020-Q3"
        ],
        [
         "1377",
         "2020",
         "3",
         "android",
         "6769",
         "4",
         "2020-Q3"
        ],
        [
         "1388",
         "2020",
         "3",
         "api",
         "6195",
         "5",
         "2020-Q3"
        ],
        [
         "1741",
         "2020",
         "3",
         "linux",
         "4724",
         "6",
         "2020-Q3"
        ],
        [
         "1537",
         "2020",
         "3",
         "deep-learning",
         "4658",
         "7",
         "2020-Q3"
        ],
        [
         "1430",
         "2020",
         "3",
         "blog",
         "4297",
         "8",
         "2020-Q3"
        ],
        [
         "1729",
         "2020",
         "3",
         "kubernetes",
         "4100",
         "9",
         "2020-Q3"
        ],
        [
         "2400",
         "2020",
         "4",
         "hacktoberfest",
         "45063",
         "1",
         "2020-Q4"
        ],
        [
         "2628",
         "2020",
         "4",
         "react",
         "28313",
         "2",
         "2020-Q4"
        ],
        [
         "2297",
         "2020",
         "4",
         "docker",
         "9421",
         "3",
         "2020-Q4"
        ],
        [
         "2493",
         "2020",
         "4",
         "machine-learning",
         "8049",
         "4",
         "2020-Q4"
        ],
        [
         "2114",
         "2020",
         "4",
         "android",
         "6750",
         "5",
         "2020-Q4"
        ],
        [
         "2124",
         "2020",
         "4",
         "api",
         "5973",
         "6",
         "2020-Q4"
        ],
        [
         "2486",
         "2020",
         "4",
         "linux",
         "4977",
         "7",
         "2020-Q4"
        ],
        [
         "2274",
         "2020",
         "4",
         "deep-learning",
         "4479",
         "8",
         "2020-Q4"
        ],
        [
         "2473",
         "2020",
         "4",
         "kubernetes",
         "4388",
         "9",
         "2020-Q4"
        ],
        [
         "3381",
         "2021",
         "1",
         "react",
         "30297",
         "1",
         "2021-Q1"
        ],
        [
         "3153",
         "2021",
         "1",
         "hacktoberfest",
         "14901",
         "2",
         "2021-Q1"
        ],
        [
         "3047",
         "2021",
         "1",
         "docker",
         "10033",
         "3",
         "2021-Q1"
        ],
        [
         "3243",
         "2021",
         "1",
         "machine-learning",
         "8324",
         "4",
         "2021-Q1"
        ],
        [
         "2856",
         "2021",
         "1",
         "android",
         "6775",
         "5",
         "2021-Q1"
        ],
        [
         "2865",
         "2021",
         "1",
         "api",
         "6655",
         "6",
         "2021-Q1"
        ],
        [
         "3237",
         "2021",
         "1",
         "linux",
         "5156",
         "7",
         "2021-Q1"
        ],
        [
         "3224",
         "2021",
         "1",
         "kubernetes",
         "4615",
         "8",
         "2021-Q1"
        ],
        [
         "3580",
         "2021",
         "1",
         "website",
         "4612",
         "9",
         "2021-Q1"
        ],
        [
         "4170",
         "2021",
         "2",
         "react",
         "32507",
         "1",
         "2021-Q2"
        ],
        [
         "3916",
         "2021",
         "2",
         "hacktoberfest",
         "12949",
         "2",
         "2021-Q2"
        ],
        [
         "3811",
         "2021",
         "2",
         "docker",
         "10264",
         "3",
         "2021-Q2"
        ],
        [
         "4013",
         "2021",
         "2",
         "machine-learning",
         "8863",
         "4",
         "2021-Q2"
        ],
        [
         "3625",
         "2021",
         "2",
         "api",
         "7129",
         "5",
         "2021-Q2"
        ]
       ],
       "shape": {
        "columns": 6,
        "rows": 171
       }
      },
      "text/html": [
       "<div>\n",
       "<style scoped>\n",
       "    .dataframe tbody tr th:only-of-type {\n",
       "        vertical-align: middle;\n",
       "    }\n",
       "\n",
       "    .dataframe tbody tr th {\n",
       "        vertical-align: top;\n",
       "    }\n",
       "\n",
       "    .dataframe thead th {\n",
       "        text-align: right;\n",
       "    }\n",
       "</style>\n",
       "<table border=\"1\" class=\"dataframe\">\n",
       "  <thead>\n",
       "    <tr style=\"text-align: right;\">\n",
       "      <th></th>\n",
       "      <th>year</th>\n",
       "      <th>quarter</th>\n",
       "      <th>topic</th>\n",
       "      <th>num_pushers</th>\n",
       "      <th>indice</th>\n",
       "      <th>year_quarter</th>\n",
       "    </tr>\n",
       "  </thead>\n",
       "  <tbody>\n",
       "    <tr>\n",
       "      <th>441</th>\n",
       "      <td>2020</td>\n",
       "      <td>1</td>\n",
       "      <td>react</td>\n",
       "      <td>18769</td>\n",
       "      <td>1</td>\n",
       "      <td>2020-Q1</td>\n",
       "    </tr>\n",
       "    <tr>\n",
       "      <th>168</th>\n",
       "      <td>2020</td>\n",
       "      <td>1</td>\n",
       "      <td>docker</td>\n",
       "      <td>8316</td>\n",
       "      <td>2</td>\n",
       "      <td>2020-Q1</td>\n",
       "    </tr>\n",
       "    <tr>\n",
       "      <th>323</th>\n",
       "      <td>2020</td>\n",
       "      <td>1</td>\n",
       "      <td>machine-learning</td>\n",
       "      <td>6597</td>\n",
       "      <td>3</td>\n",
       "      <td>2020-Q1</td>\n",
       "    </tr>\n",
       "    <tr>\n",
       "      <th>9</th>\n",
       "      <td>2020</td>\n",
       "      <td>1</td>\n",
       "      <td>android</td>\n",
       "      <td>6201</td>\n",
       "      <td>4</td>\n",
       "      <td>2020-Q1</td>\n",
       "    </tr>\n",
       "    <tr>\n",
       "      <th>21</th>\n",
       "      <td>2020</td>\n",
       "      <td>1</td>\n",
       "      <td>api</td>\n",
       "      <td>4425</td>\n",
       "      <td>5</td>\n",
       "      <td>2020-Q1</td>\n",
       "    </tr>\n",
       "    <tr>\n",
       "      <th>...</th>\n",
       "      <td>...</td>\n",
       "      <td>...</td>\n",
       "      <td>...</td>\n",
       "      <td>...</td>\n",
       "      <td>...</td>\n",
       "      <td>...</td>\n",
       "    </tr>\n",
       "    <tr>\n",
       "      <th>16131</th>\n",
       "      <td>2024</td>\n",
       "      <td>3</td>\n",
       "      <td>tailwindcss</td>\n",
       "      <td>11531</td>\n",
       "      <td>5</td>\n",
       "      <td>2024-Q3</td>\n",
       "    </tr>\n",
       "    <tr>\n",
       "      <th>15787</th>\n",
       "      <td>2024</td>\n",
       "      <td>3</td>\n",
       "      <td>machine-learning</td>\n",
       "      <td>10786</td>\n",
       "      <td>6</td>\n",
       "      <td>2024-Q3</td>\n",
       "    </tr>\n",
       "    <tr>\n",
       "      <th>15306</th>\n",
       "      <td>2024</td>\n",
       "      <td>3</td>\n",
       "      <td>api</td>\n",
       "      <td>8911</td>\n",
       "      <td>7</td>\n",
       "      <td>2024-Q3</td>\n",
       "    </tr>\n",
       "    <tr>\n",
       "      <th>15287</th>\n",
       "      <td>2024</td>\n",
       "      <td>3</td>\n",
       "      <td>ai</td>\n",
       "      <td>7140</td>\n",
       "      <td>8</td>\n",
       "      <td>2024-Q3</td>\n",
       "    </tr>\n",
       "    <tr>\n",
       "      <th>15770</th>\n",
       "      <td>2024</td>\n",
       "      <td>3</td>\n",
       "      <td>linux</td>\n",
       "      <td>6755</td>\n",
       "      <td>9</td>\n",
       "      <td>2024-Q3</td>\n",
       "    </tr>\n",
       "  </tbody>\n",
       "</table>\n",
       "<p>171 rows × 6 columns</p>\n",
       "</div>"
      ],
      "text/plain": [
       "       year  quarter             topic  num_pushers  indice year_quarter\n",
       "441    2020        1             react        18769       1      2020-Q1\n",
       "168    2020        1            docker         8316       2      2020-Q1\n",
       "323    2020        1  machine-learning         6597       3      2020-Q1\n",
       "9      2020        1           android         6201       4      2020-Q1\n",
       "21     2020        1               api         4425       5      2020-Q1\n",
       "...     ...      ...               ...          ...     ...          ...\n",
       "16131  2024        3       tailwindcss        11531       5      2024-Q3\n",
       "15787  2024        3  machine-learning        10786       6      2024-Q3\n",
       "15306  2024        3               api         8911       7      2024-Q3\n",
       "15287  2024        3                ai         7140       8      2024-Q3\n",
       "15770  2024        3             linux         6755       9      2024-Q3\n",
       "\n",
       "[171 rows x 6 columns]"
      ]
     },
     "execution_count": 42,
     "metadata": {},
     "output_type": "execute_result"
    }
   ],
   "source": [
    "df_7_topics_clean_nolanguage_filtered = df_7_topics_clean_nolanguage[df_7_topics_clean_nolanguage[\"indice\"] <= 9]\n",
    "df_7_topics_clean_nolanguage_filtered"
   ]
  },
  {
   "cell_type": "code",
   "execution_count": 43,
   "metadata": {},
   "outputs": [
    {
     "name": "stderr",
     "output_type": "stream",
     "text": [
      "C:\\Users\\guill\\AppData\\Local\\Temp\\ipykernel_17612\\353046335.py:2: DeprecationWarning: DataFrameGroupBy.apply operated on the grouping columns. This behavior is deprecated, and in a future version of pandas the grouping columns will be excluded from the operation. Either pass `include_groups=False` to exclude the groupings or explicitly select the grouping columns after groupby to silence this warning.\n",
      "  latest_values = df_7_topics_clean_nolanguage_filtered.groupby('topic').apply(\n"
     ]
    },
    {
     "data": {
      "image/png": "[encoded data removed]",
      "text/plain": [
       "<Figure size 1400x700 with 1 Axes>"
      ]
     },
     "metadata": {},
     "output_type": "display_data"
    }
   ],
   "source": [
    "\n",
    "\n",
    "# Step 2: Get the most recent 'num_pushers' value for each 'topic' based on the latest 'year_quarter'\n",
    "latest_values = df_7_topics_clean_nolanguage_filtered.groupby('topic').apply(\n",
    "    lambda x: x.loc[x['year_quarter'].idxmax(), 'num_pushers']\n",
    ").sort_values(ascending=False)\n",
    "\n",
    "# Step 3: Reorder the 'topic' based on the most recent 'num_pushers'\n",
    "ordered_topics_by_latest = latest_values.index\n",
    "\n",
    "# Step 4: Create the line plot\n",
    "plt.figure(figsize=(14, 7))\n",
    "\n",
    "sns.lineplot(data=df_7_topics_clean_nolanguage_filtered, x='year_quarter', y='num_pushers', hue='topic', \n",
    "             linewidth=2, hue_order=ordered_topics_by_latest)\n",
    "\n",
    "# Customize labels and title\n",
    "plt.xlabel('Año Trimestre')\n",
    "plt.ylabel('Número upload por desarrollador')\n",
    "plt.title('Evolución de Temas en Git Hub -  Sin Lenguajes de Programación')\n",
    "\n",
    "# Rotate the x-tick labels for better readability\n",
    "plt.xticks(rotation=-45)\n",
    "\n",
    "# Optional: Adjust the legend if needed\n",
    "plt.legend(title='Temas', loc='upper left', bbox_to_anchor=(1.05, 1), prop={'size': 15})\n",
    "\n",
    "# Show gridlines for better visualization\n",
    "plt.grid(True, linestyle=\"--\", alpha=0.6)\n",
    "\n",
    "# Tight layout to prevent overlap\n",
    "plt.tight_layout()\n",
    "\n",
    "# Display the plot\n",
    "plt.show()"
   ]
  },
  {
   "cell_type": "code",
   "execution_count": 31,
   "metadata": {},
   "outputs": [
    {
     "data": {
      "application/vnd.microsoft.datawrangler.viewer.v0+json": {
       "columns": [
        {
         "name": "index",
         "rawType": "int64",
         "type": "integer"
        },
        {
         "name": "year",
         "rawType": "int64",
         "type": "integer"
        },
        {
         "name": "quarter",
         "rawType": "int64",
         "type": "integer"
        },
        {
         "name": "topic",
         "rawType": "object",
         "type": "string"
        },
        {
         "name": "num_pushers",
         "rawType": "int64",
         "type": "integer"
        },
        {
         "name": "indice",
         "rawType": "int64",
         "type": "integer"
        },
        {
         "name": "year_quarter",
         "rawType": "object",
         "type": "string"
        }
       ],
       "conversionMethod": "pd.DataFrame",
       "ref": "9f67cdca-76e1-42e4-85f4-8de0e1119f2e",
       "rows": [
        [
         "432",
         "2020",
         "1",
         "python",
         "31021",
         "1",
         "2020-Q1"
        ],
        [
         "288",
         "2020",
         "1",
         "javascript",
         "21057",
         "2",
         "2020-Q1"
        ],
        [
         "286",
         "2020",
         "1",
         "java",
         "13016",
         "3",
         "2020-Q1"
        ],
        [
         "377",
         "2020",
         "1",
         "nodejs",
         "10685",
         "4",
         "2020-Q1"
        ],
        [
         "552",
         "2020",
         "1",
         "typescript",
         "7954",
         "5",
         "2020-Q1"
        ],
        [
         "412",
         "2020",
         "1",
         "php",
         "6972",
         "6",
         "2020-Q1"
        ],
        [
         "240",
         "2020",
         "1",
         "golang",
         "6053",
         "7",
         "2020-Q1"
        ],
        [
         "1144",
         "2020",
         "2",
         "python",
         "37419",
         "1",
         "2020-Q2"
        ],
        [
         "969",
         "2020",
         "2",
         "javascript",
         "25238",
         "2",
         "2020-Q2"
        ],
        [
         "966",
         "2020",
         "2",
         "java",
         "15956",
         "3",
         "2020-Q2"
        ],
        [
         "1078",
         "2020",
         "2",
         "nodejs",
         "13603",
         "4",
         "2020-Q2"
        ],
        [
         "1297",
         "2020",
         "2",
         "typescript",
         "10211",
         "5",
         "2020-Q2"
        ],
        [
         "770",
         "2020",
         "2",
         "css",
         "8379",
         "6",
         "2020-Q2"
        ],
        [
         "941",
         "2020",
         "2",
         "html",
         "7842",
         "7",
         "2020-Q2"
        ],
        [
         "1878",
         "2020",
         "3",
         "python",
         "36561",
         "1",
         "2020-Q3"
        ],
        [
         "1706",
         "2020",
         "3",
         "javascript",
         "26943",
         "2",
         "2020-Q3"
        ],
        [
         "1812",
         "2020",
         "3",
         "nodejs",
         "14466",
         "3",
         "2020-Q3"
        ],
        [
         "1704",
         "2020",
         "3",
         "java",
         "14373",
         "4",
         "2020-Q3"
        ],
        [
         "2032",
         "2020",
         "3",
         "typescript",
         "11106",
         "5",
         "2020-Q3"
        ],
        [
         "1514",
         "2020",
         "3",
         "css",
         "8881",
         "6",
         "2020-Q3"
        ],
        [
         "1679",
         "2020",
         "3",
         "html",
         "8285",
         "7",
         "2020-Q3"
        ],
        [
         "2616",
         "2020",
         "4",
         "python",
         "37731",
         "1",
         "2020-Q4"
        ],
        [
         "2451",
         "2020",
         "4",
         "javascript",
         "25933",
         "2",
         "2020-Q4"
        ],
        [
         "2449",
         "2020",
         "4",
         "java",
         "15588",
         "3",
         "2020-Q4"
        ],
        [
         "2554",
         "2020",
         "4",
         "nodejs",
         "13759",
         "4",
         "2020-Q4"
        ],
        [
         "2773",
         "2020",
         "4",
         "typescript",
         "11692",
         "5",
         "2020-Q4"
        ],
        [
         "2253",
         "2020",
         "4",
         "css",
         "9009",
         "6",
         "2020-Q4"
        ],
        [
         "2422",
         "2020",
         "4",
         "html",
         "8217",
         "7",
         "2020-Q4"
        ],
        [
         "3368",
         "2021",
         "1",
         "python",
         "38807",
         "1",
         "2021-Q1"
        ],
        [
         "3203",
         "2021",
         "1",
         "javascript",
         "26979",
         "2",
         "2021-Q1"
        ],
        [
         "3201",
         "2021",
         "1",
         "java",
         "15130",
         "3",
         "2021-Q1"
        ],
        [
         "3303",
         "2021",
         "1",
         "nodejs",
         "13982",
         "4",
         "2021-Q1"
        ],
        [
         "3528",
         "2021",
         "1",
         "typescript",
         "12870",
         "5",
         "2021-Q1"
        ],
        [
         "2999",
         "2021",
         "1",
         "css",
         "9642",
         "6",
         "2021-Q1"
        ],
        [
         "3174",
         "2021",
         "1",
         "html",
         "8981",
         "7",
         "2021-Q1"
        ],
        [
         "4157",
         "2021",
         "2",
         "python",
         "40348",
         "1",
         "2021-Q2"
        ],
        [
         "3967",
         "2021",
         "2",
         "javascript",
         "28439",
         "2",
         "2021-Q2"
        ],
        [
         "3965",
         "2021",
         "2",
         "java",
         "15955",
         "3",
         "2021-Q2"
        ],
        [
         "4085",
         "2021",
         "2",
         "nodejs",
         "15381",
         "4",
         "2021-Q2"
        ],
        [
         "4323",
         "2021",
         "2",
         "typescript",
         "14478",
         "5",
         "2021-Q2"
        ],
        [
         "3760",
         "2021",
         "2",
         "css",
         "10781",
         "6",
         "2021-Q2"
        ],
        [
         "3937",
         "2021",
         "2",
         "html",
         "10088",
         "7",
         "2021-Q2"
        ],
        [
         "4948",
         "2021",
         "3",
         "python",
         "41191",
         "1",
         "2021-Q3"
        ],
        [
         "4766",
         "2021",
         "3",
         "javascript",
         "30823",
         "2",
         "2021-Q3"
        ],
        [
         "4764",
         "2021",
         "3",
         "java",
         "15705",
         "3",
         "2021-Q3"
        ],
        [
         "4877",
         "2021",
         "3",
         "nodejs",
         "15681",
         "4",
         "2021-Q3"
        ],
        [
         "5114",
         "2021",
         "3",
         "typescript",
         "15488",
         "5",
         "2021-Q3"
        ],
        [
         "4559",
         "2021",
         "3",
         "css",
         "12535",
         "6",
         "2021-Q3"
        ],
        [
         "4737",
         "2021",
         "3",
         "html",
         "11552",
         "7",
         "2021-Q3"
        ],
        [
         "5722",
         "2021",
         "4",
         "python",
         "43359",
         "1",
         "2021-Q4"
        ]
       ],
       "shape": {
        "columns": 6,
        "rows": 133
       }
      },
      "text/html": [
       "<div>\n",
       "<style scoped>\n",
       "    .dataframe tbody tr th:only-of-type {\n",
       "        vertical-align: middle;\n",
       "    }\n",
       "\n",
       "    .dataframe tbody tr th {\n",
       "        vertical-align: top;\n",
       "    }\n",
       "\n",
       "    .dataframe thead th {\n",
       "        text-align: right;\n",
       "    }\n",
       "</style>\n",
       "<table border=\"1\" class=\"dataframe\">\n",
       "  <thead>\n",
       "    <tr style=\"text-align: right;\">\n",
       "      <th></th>\n",
       "      <th>year</th>\n",
       "      <th>quarter</th>\n",
       "      <th>topic</th>\n",
       "      <th>num_pushers</th>\n",
       "      <th>indice</th>\n",
       "      <th>year_quarter</th>\n",
       "    </tr>\n",
       "  </thead>\n",
       "  <tbody>\n",
       "    <tr>\n",
       "      <th>432</th>\n",
       "      <td>2020</td>\n",
       "      <td>1</td>\n",
       "      <td>python</td>\n",
       "      <td>31021</td>\n",
       "      <td>1</td>\n",
       "      <td>2020-Q1</td>\n",
       "    </tr>\n",
       "    <tr>\n",
       "      <th>288</th>\n",
       "      <td>2020</td>\n",
       "      <td>1</td>\n",
       "      <td>javascript</td>\n",
       "      <td>21057</td>\n",
       "      <td>2</td>\n",
       "      <td>2020-Q1</td>\n",
       "    </tr>\n",
       "    <tr>\n",
       "      <th>286</th>\n",
       "      <td>2020</td>\n",
       "      <td>1</td>\n",
       "      <td>java</td>\n",
       "      <td>13016</td>\n",
       "      <td>3</td>\n",
       "      <td>2020-Q1</td>\n",
       "    </tr>\n",
       "    <tr>\n",
       "      <th>377</th>\n",
       "      <td>2020</td>\n",
       "      <td>1</td>\n",
       "      <td>nodejs</td>\n",
       "      <td>10685</td>\n",
       "      <td>4</td>\n",
       "      <td>2020-Q1</td>\n",
       "    </tr>\n",
       "    <tr>\n",
       "      <th>552</th>\n",
       "      <td>2020</td>\n",
       "      <td>1</td>\n",
       "      <td>typescript</td>\n",
       "      <td>7954</td>\n",
       "      <td>5</td>\n",
       "      <td>2020-Q1</td>\n",
       "    </tr>\n",
       "    <tr>\n",
       "      <th>...</th>\n",
       "      <td>...</td>\n",
       "      <td>...</td>\n",
       "      <td>...</td>\n",
       "      <td>...</td>\n",
       "      <td>...</td>\n",
       "      <td>...</td>\n",
       "    </tr>\n",
       "    <tr>\n",
       "      <th>16175</th>\n",
       "      <td>2024</td>\n",
       "      <td>3</td>\n",
       "      <td>typescript</td>\n",
       "      <td>26431</td>\n",
       "      <td>3</td>\n",
       "      <td>2024-Q3</td>\n",
       "    </tr>\n",
       "    <tr>\n",
       "      <th>15717</th>\n",
       "      <td>2024</td>\n",
       "      <td>3</td>\n",
       "      <td>java</td>\n",
       "      <td>16515</td>\n",
       "      <td>4</td>\n",
       "      <td>2024-Q3</td>\n",
       "    </tr>\n",
       "    <tr>\n",
       "      <th>15874</th>\n",
       "      <td>2024</td>\n",
       "      <td>3</td>\n",
       "      <td>nodejs</td>\n",
       "      <td>15877</td>\n",
       "      <td>5</td>\n",
       "      <td>2024-Q3</td>\n",
       "    </tr>\n",
       "    <tr>\n",
       "      <th>15458</th>\n",
       "      <td>2024</td>\n",
       "      <td>3</td>\n",
       "      <td>css</td>\n",
       "      <td>13802</td>\n",
       "      <td>6</td>\n",
       "      <td>2024-Q3</td>\n",
       "    </tr>\n",
       "    <tr>\n",
       "      <th>15685</th>\n",
       "      <td>2024</td>\n",
       "      <td>3</td>\n",
       "      <td>html</td>\n",
       "      <td>12824</td>\n",
       "      <td>7</td>\n",
       "      <td>2024-Q3</td>\n",
       "    </tr>\n",
       "  </tbody>\n",
       "</table>\n",
       "<p>133 rows × 6 columns</p>\n",
       "</div>"
      ],
      "text/plain": [
       "       year  quarter       topic  num_pushers  indice year_quarter\n",
       "432    2020        1      python        31021       1      2020-Q1\n",
       "288    2020        1  javascript        21057       2      2020-Q1\n",
       "286    2020        1        java        13016       3      2020-Q1\n",
       "377    2020        1      nodejs        10685       4      2020-Q1\n",
       "552    2020        1  typescript         7954       5      2020-Q1\n",
       "...     ...      ...         ...          ...     ...          ...\n",
       "16175  2024        3  typescript        26431       3      2024-Q3\n",
       "15717  2024        3        java        16515       4      2024-Q3\n",
       "15874  2024        3      nodejs        15877       5      2024-Q3\n",
       "15458  2024        3         css        13802       6      2024-Q3\n",
       "15685  2024        3        html        12824       7      2024-Q3\n",
       "\n",
       "[133 rows x 6 columns]"
      ]
     },
     "execution_count": 31,
     "metadata": {},
     "output_type": "execute_result"
    }
   ],
   "source": [
    "df_7_topics_clean_language_filtered = df_7_topics_clean_language[df_7_topics_clean_language[\"indice\"] <= 7]\n",
    "df_7_topics_clean_language_filtered"
   ]
  },
  {
   "cell_type": "code",
   "execution_count": 30,
   "metadata": {},
   "outputs": [
    {
     "name": "stderr",
     "output_type": "stream",
     "text": [
      "C:\\Users\\guill\\AppData\\Local\\Temp\\ipykernel_17612\\3170596909.py:2: DeprecationWarning: DataFrameGroupBy.apply operated on the grouping columns. This behavior is deprecated, and in a future version of pandas the grouping columns will be excluded from the operation. Either pass `include_groups=False` to exclude the groupings or explicitly select the grouping columns after groupby to silence this warning.\n",
      "  latest_values = df_7_topics_clean_language_filtered.groupby('topic').apply(\n"
     ]
    },
    {
     "data": {
      "image/png": "[encoded data removed]",
      "text/plain": [
       "<Figure size 1400x700 with 1 Axes>"
      ]
     },
     "metadata": {},
     "output_type": "display_data"
    }
   ],
   "source": [
    "# Step 2: Get the most recent 'num_pushers' value for each 'topic' based on the latest 'year_quarter'\n",
    "latest_values = df_7_topics_clean_language_filtered.groupby('topic').apply(\n",
    "    lambda x: x.loc[x['year_quarter'].idxmax(), 'num_pushers']\n",
    ").sort_values(ascending=False)\n",
    "\n",
    "# Step 3: Reorder the 'topic' based on the most recent 'num_pushers'\n",
    "ordered_topics_by_latest = latest_values.index\n",
    "\n",
    "# Step 4: Create the line plot\n",
    "plt.figure(figsize=(14, 7))\n",
    "\n",
    "sns.lineplot(data=df_7_topics_clean_language_filtered, x='year_quarter', y='num_pushers', hue='topic', \n",
    "             linewidth=2, hue_order=ordered_topics_by_latest)\n",
    "\n",
    "# Customize labels and title\n",
    "plt.xlabel('Año Trimestre')\n",
    "plt.ylabel('Número upload por desarrollador')\n",
    "plt.title('Evolución de Temas en Git Hub')\n",
    "\n",
    "# Rotate the x-tick labels for better readability\n",
    "plt.xticks(rotation=-45)\n",
    "\n",
    "# Optional: Adjust the legend if needed\n",
    "plt.legend(title='Paises', loc='upper left', bbox_to_anchor=(1.05, 1))\n",
    "\n",
    "# Show gridlines for better visualization\n",
    "plt.grid(True, linestyle=\"--\", alpha=0.6)\n",
    "\n",
    "# Tight layout to prevent overlap\n",
    "plt.tight_layout()\n",
    "\n",
    "# Display the plot\n",
    "plt.show()"
   ]
  }
 ],
 "metadata": {
  "kernelspec": {
   "display_name": "Python 3",
   "language": "python",
   "name": "python3"
  },
  "language_info": {
   "codemirror_mode": {
    "name": "ipython",
    "version": 3
   },
   "file_extension": ".py",
   "mimetype": "text/x-python",
   "name": "python",
   "nbconvert_exporter": "python",
   "pygments_lexer": "ipython3",
   "version": "3.11.9"
  },
  "orig_nbformat": 4
 },
 "nbformat": 4,
 "nbformat_minor": 2
}
