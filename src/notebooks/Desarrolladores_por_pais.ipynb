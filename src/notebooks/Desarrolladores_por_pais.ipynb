{
 "cells": [
  {
   "cell_type": "code",
   "execution_count": 1,
   "metadata": {},
   "outputs": [],
   "source": [
    "import numpy as np\n",
    "import pandas as pd\n",
    "import matplotlib.pyplot as plt\n",
    "import seaborn as sns\n"
   ]
  },
  {
   "cell_type": "code",
   "execution_count": 2,
   "metadata": {},
   "outputs": [
    {
     "ename": "FileNotFoundError",
     "evalue": "[Errno 2] No such file or directory: 'data/info2/developers.csv'",
     "output_type": "error",
     "traceback": [
      "\u001b[31m---------------------------------------------------------------------------\u001b[39m",
      "\u001b[31mFileNotFoundError\u001b[39m                         Traceback (most recent call last)",
      "\u001b[36mCell\u001b[39m\u001b[36m \u001b[39m\u001b[32mIn[2]\u001b[39m\u001b[32m, line 1\u001b[39m\n\u001b[32m----> \u001b[39m\u001b[32m1\u001b[39m df_6 = \u001b[43mpd\u001b[49m\u001b[43m.\u001b[49m\u001b[43mread_csv\u001b[49m\u001b[43m(\u001b[49m\u001b[33;43m'\u001b[39;49m\u001b[33;43mdata/info2/developers.csv\u001b[39;49m\u001b[33;43m'\u001b[39;49m\u001b[43m)\u001b[49m\n\u001b[32m      2\u001b[39m fuente_6 = \u001b[33m\"\u001b[39m\u001b[33mhttps://github.com/github/innovationgraph/tree/main\u001b[39m\u001b[33m\"\u001b[39m\n",
      "\u001b[36mFile \u001b[39m\u001b[32mc:\\Users\\guill\\AppData\\Local\\Programs\\Python\\Python311\\Lib\\site-packages\\pandas\\io\\parsers\\readers.py:1026\u001b[39m, in \u001b[36mread_csv\u001b[39m\u001b[34m(filepath_or_buffer, sep, delimiter, header, names, index_col, usecols, dtype, engine, converters, true_values, false_values, skipinitialspace, skiprows, skipfooter, nrows, na_values, keep_default_na, na_filter, verbose, skip_blank_lines, parse_dates, infer_datetime_format, keep_date_col, date_parser, date_format, dayfirst, cache_dates, iterator, chunksize, compression, thousands, decimal, lineterminator, quotechar, quoting, doublequote, escapechar, comment, encoding, encoding_errors, dialect, on_bad_lines, delim_whitespace, low_memory, memory_map, float_precision, storage_options, dtype_backend)\u001b[39m\n\u001b[32m   1013\u001b[39m kwds_defaults = _refine_defaults_read(\n\u001b[32m   1014\u001b[39m     dialect,\n\u001b[32m   1015\u001b[39m     delimiter,\n\u001b[32m   (...)\u001b[39m\u001b[32m   1022\u001b[39m     dtype_backend=dtype_backend,\n\u001b[32m   1023\u001b[39m )\n\u001b[32m   1024\u001b[39m kwds.update(kwds_defaults)\n\u001b[32m-> \u001b[39m\u001b[32m1026\u001b[39m \u001b[38;5;28;01mreturn\u001b[39;00m \u001b[43m_read\u001b[49m\u001b[43m(\u001b[49m\u001b[43mfilepath_or_buffer\u001b[49m\u001b[43m,\u001b[49m\u001b[43m \u001b[49m\u001b[43mkwds\u001b[49m\u001b[43m)\u001b[49m\n",
      "\u001b[36mFile \u001b[39m\u001b[32mc:\\Users\\guill\\AppData\\Local\\Programs\\Python\\Python311\\Lib\\site-packages\\pandas\\io\\parsers\\readers.py:620\u001b[39m, in \u001b[36m_read\u001b[39m\u001b[34m(filepath_or_buffer, kwds)\u001b[39m\n\u001b[32m    617\u001b[39m _validate_names(kwds.get(\u001b[33m\"\u001b[39m\u001b[33mnames\u001b[39m\u001b[33m\"\u001b[39m, \u001b[38;5;28;01mNone\u001b[39;00m))\n\u001b[32m    619\u001b[39m \u001b[38;5;66;03m# Create the parser.\u001b[39;00m\n\u001b[32m--> \u001b[39m\u001b[32m620\u001b[39m parser = \u001b[43mTextFileReader\u001b[49m\u001b[43m(\u001b[49m\u001b[43mfilepath_or_buffer\u001b[49m\u001b[43m,\u001b[49m\u001b[43m \u001b[49m\u001b[43m*\u001b[49m\u001b[43m*\u001b[49m\u001b[43mkwds\u001b[49m\u001b[43m)\u001b[49m\n\u001b[32m    622\u001b[39m \u001b[38;5;28;01mif\u001b[39;00m chunksize \u001b[38;5;129;01mor\u001b[39;00m iterator:\n\u001b[32m    623\u001b[39m     \u001b[38;5;28;01mreturn\u001b[39;00m parser\n",
      "\u001b[36mFile \u001b[39m\u001b[32mc:\\Users\\guill\\AppData\\Local\\Programs\\Python\\Python311\\Lib\\site-packages\\pandas\\io\\parsers\\readers.py:1620\u001b[39m, in \u001b[36mTextFileReader.__init__\u001b[39m\u001b[34m(self, f, engine, **kwds)\u001b[39m\n\u001b[32m   1617\u001b[39m     \u001b[38;5;28mself\u001b[39m.options[\u001b[33m\"\u001b[39m\u001b[33mhas_index_names\u001b[39m\u001b[33m\"\u001b[39m] = kwds[\u001b[33m\"\u001b[39m\u001b[33mhas_index_names\u001b[39m\u001b[33m\"\u001b[39m]\n\u001b[32m   1619\u001b[39m \u001b[38;5;28mself\u001b[39m.handles: IOHandles | \u001b[38;5;28;01mNone\u001b[39;00m = \u001b[38;5;28;01mNone\u001b[39;00m\n\u001b[32m-> \u001b[39m\u001b[32m1620\u001b[39m \u001b[38;5;28mself\u001b[39m._engine = \u001b[38;5;28;43mself\u001b[39;49m\u001b[43m.\u001b[49m\u001b[43m_make_engine\u001b[49m\u001b[43m(\u001b[49m\u001b[43mf\u001b[49m\u001b[43m,\u001b[49m\u001b[43m \u001b[49m\u001b[38;5;28;43mself\u001b[39;49m\u001b[43m.\u001b[49m\u001b[43mengine\u001b[49m\u001b[43m)\u001b[49m\n",
      "\u001b[36mFile \u001b[39m\u001b[32mc:\\Users\\guill\\AppData\\Local\\Programs\\Python\\Python311\\Lib\\site-packages\\pandas\\io\\parsers\\readers.py:1880\u001b[39m, in \u001b[36mTextFileReader._make_engine\u001b[39m\u001b[34m(self, f, engine)\u001b[39m\n\u001b[32m   1878\u001b[39m     \u001b[38;5;28;01mif\u001b[39;00m \u001b[33m\"\u001b[39m\u001b[33mb\u001b[39m\u001b[33m\"\u001b[39m \u001b[38;5;129;01mnot\u001b[39;00m \u001b[38;5;129;01min\u001b[39;00m mode:\n\u001b[32m   1879\u001b[39m         mode += \u001b[33m\"\u001b[39m\u001b[33mb\u001b[39m\u001b[33m\"\u001b[39m\n\u001b[32m-> \u001b[39m\u001b[32m1880\u001b[39m \u001b[38;5;28mself\u001b[39m.handles = \u001b[43mget_handle\u001b[49m\u001b[43m(\u001b[49m\n\u001b[32m   1881\u001b[39m \u001b[43m    \u001b[49m\u001b[43mf\u001b[49m\u001b[43m,\u001b[49m\n\u001b[32m   1882\u001b[39m \u001b[43m    \u001b[49m\u001b[43mmode\u001b[49m\u001b[43m,\u001b[49m\n\u001b[32m   1883\u001b[39m \u001b[43m    \u001b[49m\u001b[43mencoding\u001b[49m\u001b[43m=\u001b[49m\u001b[38;5;28;43mself\u001b[39;49m\u001b[43m.\u001b[49m\u001b[43moptions\u001b[49m\u001b[43m.\u001b[49m\u001b[43mget\u001b[49m\u001b[43m(\u001b[49m\u001b[33;43m\"\u001b[39;49m\u001b[33;43mencoding\u001b[39;49m\u001b[33;43m\"\u001b[39;49m\u001b[43m,\u001b[49m\u001b[43m \u001b[49m\u001b[38;5;28;43;01mNone\u001b[39;49;00m\u001b[43m)\u001b[49m\u001b[43m,\u001b[49m\n\u001b[32m   1884\u001b[39m \u001b[43m    \u001b[49m\u001b[43mcompression\u001b[49m\u001b[43m=\u001b[49m\u001b[38;5;28;43mself\u001b[39;49m\u001b[43m.\u001b[49m\u001b[43moptions\u001b[49m\u001b[43m.\u001b[49m\u001b[43mget\u001b[49m\u001b[43m(\u001b[49m\u001b[33;43m\"\u001b[39;49m\u001b[33;43mcompression\u001b[39;49m\u001b[33;43m\"\u001b[39;49m\u001b[43m,\u001b[49m\u001b[43m \u001b[49m\u001b[38;5;28;43;01mNone\u001b[39;49;00m\u001b[43m)\u001b[49m\u001b[43m,\u001b[49m\n\u001b[32m   1885\u001b[39m \u001b[43m    \u001b[49m\u001b[43mmemory_map\u001b[49m\u001b[43m=\u001b[49m\u001b[38;5;28;43mself\u001b[39;49m\u001b[43m.\u001b[49m\u001b[43moptions\u001b[49m\u001b[43m.\u001b[49m\u001b[43mget\u001b[49m\u001b[43m(\u001b[49m\u001b[33;43m\"\u001b[39;49m\u001b[33;43mmemory_map\u001b[39;49m\u001b[33;43m\"\u001b[39;49m\u001b[43m,\u001b[49m\u001b[43m \u001b[49m\u001b[38;5;28;43;01mFalse\u001b[39;49;00m\u001b[43m)\u001b[49m\u001b[43m,\u001b[49m\n\u001b[32m   1886\u001b[39m \u001b[43m    \u001b[49m\u001b[43mis_text\u001b[49m\u001b[43m=\u001b[49m\u001b[43mis_text\u001b[49m\u001b[43m,\u001b[49m\n\u001b[32m   1887\u001b[39m \u001b[43m    \u001b[49m\u001b[43merrors\u001b[49m\u001b[43m=\u001b[49m\u001b[38;5;28;43mself\u001b[39;49m\u001b[43m.\u001b[49m\u001b[43moptions\u001b[49m\u001b[43m.\u001b[49m\u001b[43mget\u001b[49m\u001b[43m(\u001b[49m\u001b[33;43m\"\u001b[39;49m\u001b[33;43mencoding_errors\u001b[39;49m\u001b[33;43m\"\u001b[39;49m\u001b[43m,\u001b[49m\u001b[43m \u001b[49m\u001b[33;43m\"\u001b[39;49m\u001b[33;43mstrict\u001b[39;49m\u001b[33;43m\"\u001b[39;49m\u001b[43m)\u001b[49m\u001b[43m,\u001b[49m\n\u001b[32m   1888\u001b[39m \u001b[43m    \u001b[49m\u001b[43mstorage_options\u001b[49m\u001b[43m=\u001b[49m\u001b[38;5;28;43mself\u001b[39;49m\u001b[43m.\u001b[49m\u001b[43moptions\u001b[49m\u001b[43m.\u001b[49m\u001b[43mget\u001b[49m\u001b[43m(\u001b[49m\u001b[33;43m\"\u001b[39;49m\u001b[33;43mstorage_options\u001b[39;49m\u001b[33;43m\"\u001b[39;49m\u001b[43m,\u001b[49m\u001b[43m \u001b[49m\u001b[38;5;28;43;01mNone\u001b[39;49;00m\u001b[43m)\u001b[49m\u001b[43m,\u001b[49m\n\u001b[32m   1889\u001b[39m \u001b[43m\u001b[49m\u001b[43m)\u001b[49m\n\u001b[32m   1890\u001b[39m \u001b[38;5;28;01massert\u001b[39;00m \u001b[38;5;28mself\u001b[39m.handles \u001b[38;5;129;01mis\u001b[39;00m \u001b[38;5;129;01mnot\u001b[39;00m \u001b[38;5;28;01mNone\u001b[39;00m\n\u001b[32m   1891\u001b[39m f = \u001b[38;5;28mself\u001b[39m.handles.handle\n",
      "\u001b[36mFile \u001b[39m\u001b[32mc:\\Users\\guill\\AppData\\Local\\Programs\\Python\\Python311\\Lib\\site-packages\\pandas\\io\\common.py:873\u001b[39m, in \u001b[36mget_handle\u001b[39m\u001b[34m(path_or_buf, mode, encoding, compression, memory_map, is_text, errors, storage_options)\u001b[39m\n\u001b[32m    868\u001b[39m \u001b[38;5;28;01melif\u001b[39;00m \u001b[38;5;28misinstance\u001b[39m(handle, \u001b[38;5;28mstr\u001b[39m):\n\u001b[32m    869\u001b[39m     \u001b[38;5;66;03m# Check whether the filename is to be opened in binary mode.\u001b[39;00m\n\u001b[32m    870\u001b[39m     \u001b[38;5;66;03m# Binary mode does not support 'encoding' and 'newline'.\u001b[39;00m\n\u001b[32m    871\u001b[39m     \u001b[38;5;28;01mif\u001b[39;00m ioargs.encoding \u001b[38;5;129;01mand\u001b[39;00m \u001b[33m\"\u001b[39m\u001b[33mb\u001b[39m\u001b[33m\"\u001b[39m \u001b[38;5;129;01mnot\u001b[39;00m \u001b[38;5;129;01min\u001b[39;00m ioargs.mode:\n\u001b[32m    872\u001b[39m         \u001b[38;5;66;03m# Encoding\u001b[39;00m\n\u001b[32m--> \u001b[39m\u001b[32m873\u001b[39m         handle = \u001b[38;5;28;43mopen\u001b[39;49m\u001b[43m(\u001b[49m\n\u001b[32m    874\u001b[39m \u001b[43m            \u001b[49m\u001b[43mhandle\u001b[49m\u001b[43m,\u001b[49m\n\u001b[32m    875\u001b[39m \u001b[43m            \u001b[49m\u001b[43mioargs\u001b[49m\u001b[43m.\u001b[49m\u001b[43mmode\u001b[49m\u001b[43m,\u001b[49m\n\u001b[32m    876\u001b[39m \u001b[43m            \u001b[49m\u001b[43mencoding\u001b[49m\u001b[43m=\u001b[49m\u001b[43mioargs\u001b[49m\u001b[43m.\u001b[49m\u001b[43mencoding\u001b[49m\u001b[43m,\u001b[49m\n\u001b[32m    877\u001b[39m \u001b[43m            \u001b[49m\u001b[43merrors\u001b[49m\u001b[43m=\u001b[49m\u001b[43merrors\u001b[49m\u001b[43m,\u001b[49m\n\u001b[32m    878\u001b[39m \u001b[43m            \u001b[49m\u001b[43mnewline\u001b[49m\u001b[43m=\u001b[49m\u001b[33;43m\"\u001b[39;49m\u001b[33;43m\"\u001b[39;49m\u001b[43m,\u001b[49m\n\u001b[32m    879\u001b[39m \u001b[43m        \u001b[49m\u001b[43m)\u001b[49m\n\u001b[32m    880\u001b[39m     \u001b[38;5;28;01melse\u001b[39;00m:\n\u001b[32m    881\u001b[39m         \u001b[38;5;66;03m# Binary mode\u001b[39;00m\n\u001b[32m    882\u001b[39m         handle = \u001b[38;5;28mopen\u001b[39m(handle, ioargs.mode)\n",
      "\u001b[31mFileNotFoundError\u001b[39m: [Errno 2] No such file or directory: 'data/info2/developers.csv'"
     ]
    }
   ],
   "source": [
    "\n",
    "\n",
    "df_6 = pd.read_csv('data/info2/developers.csv')\n",
    "fuente_6 = \"https://github.com/github/innovationgraph/tree/main\"\n",
    "\n",
    "\n"
   ]
  },
  {
   "cell_type": "markdown",
   "metadata": {},
   "source": [
    "Muestra mediante un head() los principales datasets con los que vas a trabajar"
   ]
  },
  {
   "cell_type": "code",
   "execution_count": null,
   "metadata": {},
   "outputs": [
    {
     "data": {
      "application/vnd.microsoft.datawrangler.viewer.v0+json": {
       "columns": [
        {
         "name": "index",
         "rawType": "int64",
         "type": "integer"
        },
        {
         "name": "developers",
         "rawType": "int64",
         "type": "integer"
        },
        {
         "name": "iso2_code",
         "rawType": "object",
         "type": "unknown"
        },
        {
         "name": "year",
         "rawType": "int64",
         "type": "integer"
        },
        {
         "name": "quarter",
         "rawType": "int64",
         "type": "integer"
        }
       ],
       "conversionMethod": "pd.DataFrame",
       "ref": "aa8a8561-60b8-4afb-a297-5b1f135bd49d",
       "rows": [
        [
         "0",
         "9763122",
         "US",
         "2020",
         "1"
        ],
        [
         "1",
         "6983489",
         "EU",
         "2020",
         "1"
        ],
        [
         "2",
         "5885036",
         "CN",
         "2020",
         "1"
        ],
        [
         "3",
         "4194257",
         "IN",
         "2020",
         "1"
        ],
        [
         "4",
         "1635516",
         "GB",
         "2020",
         "1"
        ],
        [
         "5",
         "1400662",
         "BR",
         "2020",
         "1"
        ],
        [
         "6",
         "1319588",
         "DE",
         "2020",
         "1"
        ],
        [
         "7",
         "1283298",
         "RU",
         "2020",
         "1"
        ],
        [
         "8",
         "1134715",
         "CA",
         "2020",
         "1"
        ],
        [
         "9",
         "1128302",
         "JP",
         "2020",
         "1"
        ],
        [
         "10",
         "1067323",
         "FR",
         "2020",
         "1"
        ],
        [
         "11",
         "880038",
         "ID",
         "2020",
         "1"
        ],
        [
         "12",
         "761690",
         "KR",
         "2020",
         "1"
        ],
        [
         "13",
         "678548",
         "AU",
         "2020",
         "1"
        ],
        [
         "14",
         "650592",
         "ES",
         "2020",
         "1"
        ],
        [
         "15",
         "568562",
         "UA",
         "2020",
         "1"
        ],
        [
         "16",
         "565841",
         "NL",
         "2020",
         "1"
        ],
        [
         "17",
         "537945",
         "MX",
         "2020",
         "1"
        ],
        [
         "18",
         "531465",
         "PL",
         "2020",
         "1"
        ],
        [
         "19",
         "505532",
         "VN",
         "2020",
         "1"
        ],
        [
         "20",
         "480618",
         "TR",
         "2020",
         "1"
        ],
        [
         "21",
         "468484",
         "IT",
         "2020",
         "1"
        ],
        [
         "22",
         "414767",
         "TW",
         "2020",
         "1"
        ],
        [
         "23",
         "413692",
         "PH",
         "2020",
         "1"
        ],
        [
         "24",
         "401680",
         "HK",
         "2020",
         "1"
        ],
        [
         "25",
         "321505",
         "SE",
         "2020",
         "1"
        ],
        [
         "26",
         "317224",
         "PK",
         "2020",
         "1"
        ],
        [
         "27",
         "304181",
         "TH",
         "2020",
         "1"
        ],
        [
         "28",
         "302591",
         "SG",
         "2020",
         "1"
        ],
        [
         "29",
         "281269",
         "CO",
         "2020",
         "1"
        ],
        [
         "30",
         "280922",
         "AR",
         "2020",
         "1"
        ],
        [
         "31",
         "252164",
         "IL",
         "2020",
         "1"
        ],
        [
         "32",
         "236751",
         "EG",
         "2020",
         "1"
        ],
        [
         "33",
         "230371",
         "MY",
         "2020",
         "1"
        ],
        [
         "34",
         "218096",
         "CH",
         "2020",
         "1"
        ],
        [
         "35",
         "216516",
         "RO",
         "2020",
         "1"
        ],
        [
         "36",
         "215927",
         "BE",
         "2020",
         "1"
        ],
        [
         "37",
         "215789",
         "BD",
         "2020",
         "1"
        ],
        [
         "38",
         "210145",
         "IR",
         "2020",
         "1"
        ],
        [
         "39",
         "202767",
         "ZA",
         "2020",
         "1"
        ],
        [
         "40",
         "177756",
         "DK",
         "2020",
         "1"
        ],
        [
         "41",
         "173641",
         "NG",
         "2020",
         "1"
        ],
        [
         "42",
         "170627",
         "PT",
         "2020",
         "1"
        ],
        [
         "43",
         "166866",
         "SA",
         "2020",
         "1"
        ],
        [
         "44",
         "161209",
         "CL",
         "2020",
         "1"
        ],
        [
         "45",
         "158784",
         "NO",
         "2020",
         "1"
        ],
        [
         "46",
         "155721",
         "CZ",
         "2020",
         "1"
        ],
        [
         "47",
         "150672",
         "PE",
         "2020",
         "1"
        ],
        [
         "48",
         "148529",
         "BY",
         "2020",
         "1"
        ],
        [
         "49",
         "148081",
         "AT",
         "2020",
         "1"
        ]
       ],
       "shape": {
        "columns": 4,
        "rows": 4283
       }
      },
      "text/html": [
       "<div>\n",
       "<style scoped>\n",
       "    .dataframe tbody tr th:only-of-type {\n",
       "        vertical-align: middle;\n",
       "    }\n",
       "\n",
       "    .dataframe tbody tr th {\n",
       "        vertical-align: top;\n",
       "    }\n",
       "\n",
       "    .dataframe thead th {\n",
       "        text-align: right;\n",
       "    }\n",
       "</style>\n",
       "<table border=\"1\" class=\"dataframe\">\n",
       "  <thead>\n",
       "    <tr style=\"text-align: right;\">\n",
       "      <th></th>\n",
       "      <th>developers</th>\n",
       "      <th>iso2_code</th>\n",
       "      <th>year</th>\n",
       "      <th>quarter</th>\n",
       "    </tr>\n",
       "  </thead>\n",
       "  <tbody>\n",
       "    <tr>\n",
       "      <th>0</th>\n",
       "      <td>9763122</td>\n",
       "      <td>US</td>\n",
       "      <td>2020</td>\n",
       "      <td>1</td>\n",
       "    </tr>\n",
       "    <tr>\n",
       "      <th>1</th>\n",
       "      <td>6983489</td>\n",
       "      <td>EU</td>\n",
       "      <td>2020</td>\n",
       "      <td>1</td>\n",
       "    </tr>\n",
       "    <tr>\n",
       "      <th>2</th>\n",
       "      <td>5885036</td>\n",
       "      <td>CN</td>\n",
       "      <td>2020</td>\n",
       "      <td>1</td>\n",
       "    </tr>\n",
       "    <tr>\n",
       "      <th>3</th>\n",
       "      <td>4194257</td>\n",
       "      <td>IN</td>\n",
       "      <td>2020</td>\n",
       "      <td>1</td>\n",
       "    </tr>\n",
       "    <tr>\n",
       "      <th>4</th>\n",
       "      <td>1635516</td>\n",
       "      <td>GB</td>\n",
       "      <td>2020</td>\n",
       "      <td>1</td>\n",
       "    </tr>\n",
       "    <tr>\n",
       "      <th>...</th>\n",
       "      <td>...</td>\n",
       "      <td>...</td>\n",
       "      <td>...</td>\n",
       "      <td>...</td>\n",
       "    </tr>\n",
       "    <tr>\n",
       "      <th>4278</th>\n",
       "      <td>212</td>\n",
       "      <td>MH</td>\n",
       "      <td>2024</td>\n",
       "      <td>3</td>\n",
       "    </tr>\n",
       "    <tr>\n",
       "      <th>4279</th>\n",
       "      <td>195</td>\n",
       "      <td>VA</td>\n",
       "      <td>2024</td>\n",
       "      <td>3</td>\n",
       "    </tr>\n",
       "    <tr>\n",
       "      <th>4280</th>\n",
       "      <td>190</td>\n",
       "      <td>KI</td>\n",
       "      <td>2024</td>\n",
       "      <td>3</td>\n",
       "    </tr>\n",
       "    <tr>\n",
       "      <th>4281</th>\n",
       "      <td>173</td>\n",
       "      <td>PM</td>\n",
       "      <td>2024</td>\n",
       "      <td>3</td>\n",
       "    </tr>\n",
       "    <tr>\n",
       "      <th>4282</th>\n",
       "      <td>157</td>\n",
       "      <td>CK</td>\n",
       "      <td>2024</td>\n",
       "      <td>3</td>\n",
       "    </tr>\n",
       "  </tbody>\n",
       "</table>\n",
       "<p>4283 rows × 4 columns</p>\n",
       "</div>"
      ],
      "text/plain": [
       "      developers iso2_code  year  quarter\n",
       "0        9763122        US  2020        1\n",
       "1        6983489        EU  2020        1\n",
       "2        5885036        CN  2020        1\n",
       "3        4194257        IN  2020        1\n",
       "4        1635516        GB  2020        1\n",
       "...          ...       ...   ...      ...\n",
       "4278         212        MH  2024        3\n",
       "4279         195        VA  2024        3\n",
       "4280         190        KI  2024        3\n",
       "4281         173        PM  2024        3\n",
       "4282         157        CK  2024        3\n",
       "\n",
       "[4283 rows x 4 columns]"
      ]
     },
     "execution_count": 3,
     "metadata": {},
     "output_type": "execute_result"
    }
   ],
   "source": [
    "df_6"
   ]
  },
  {
   "cell_type": "code",
   "execution_count": null,
   "metadata": {},
   "outputs": [],
   "source": [
    "df_6_C = df_6[df_6[\"iso2_code\"] != \"EU\"]"
   ]
  },
  {
   "cell_type": "code",
   "execution_count": null,
   "metadata": {},
   "outputs": [
    {
     "data": {
      "application/vnd.microsoft.datawrangler.viewer.v0+json": {
       "columns": [
        {
         "name": "index",
         "rawType": "int64",
         "type": "integer"
        },
        {
         "name": "developers",
         "rawType": "int64",
         "type": "integer"
        },
        {
         "name": "iso2_code",
         "rawType": "object",
         "type": "unknown"
        },
        {
         "name": "year",
         "rawType": "int64",
         "type": "integer"
        },
        {
         "name": "quarter",
         "rawType": "int64",
         "type": "integer"
        }
       ],
       "conversionMethod": "pd.DataFrame",
       "ref": "57016adb-41f2-4258-a99d-347d0668d3f2",
       "rows": [
        [
         "0",
         "9763122",
         "US",
         "2020",
         "1"
        ],
        [
         "2",
         "5885036",
         "CN",
         "2020",
         "1"
        ],
        [
         "3",
         "4194257",
         "IN",
         "2020",
         "1"
        ],
        [
         "4",
         "1635516",
         "GB",
         "2020",
         "1"
        ],
        [
         "5",
         "1400662",
         "BR",
         "2020",
         "1"
        ],
        [
         "6",
         "1319588",
         "DE",
         "2020",
         "1"
        ],
        [
         "7",
         "1283298",
         "RU",
         "2020",
         "1"
        ],
        [
         "8",
         "1134715",
         "CA",
         "2020",
         "1"
        ],
        [
         "9",
         "1128302",
         "JP",
         "2020",
         "1"
        ],
        [
         "10",
         "1067323",
         "FR",
         "2020",
         "1"
        ],
        [
         "11",
         "880038",
         "ID",
         "2020",
         "1"
        ],
        [
         "12",
         "761690",
         "KR",
         "2020",
         "1"
        ],
        [
         "13",
         "678548",
         "AU",
         "2020",
         "1"
        ],
        [
         "14",
         "650592",
         "ES",
         "2020",
         "1"
        ],
        [
         "15",
         "568562",
         "UA",
         "2020",
         "1"
        ],
        [
         "16",
         "565841",
         "NL",
         "2020",
         "1"
        ],
        [
         "17",
         "537945",
         "MX",
         "2020",
         "1"
        ],
        [
         "18",
         "531465",
         "PL",
         "2020",
         "1"
        ],
        [
         "19",
         "505532",
         "VN",
         "2020",
         "1"
        ],
        [
         "20",
         "480618",
         "TR",
         "2020",
         "1"
        ],
        [
         "21",
         "468484",
         "IT",
         "2020",
         "1"
        ],
        [
         "22",
         "414767",
         "TW",
         "2020",
         "1"
        ],
        [
         "23",
         "413692",
         "PH",
         "2020",
         "1"
        ],
        [
         "24",
         "401680",
         "HK",
         "2020",
         "1"
        ],
        [
         "25",
         "321505",
         "SE",
         "2020",
         "1"
        ],
        [
         "26",
         "317224",
         "PK",
         "2020",
         "1"
        ],
        [
         "27",
         "304181",
         "TH",
         "2020",
         "1"
        ],
        [
         "28",
         "302591",
         "SG",
         "2020",
         "1"
        ],
        [
         "29",
         "281269",
         "CO",
         "2020",
         "1"
        ],
        [
         "30",
         "280922",
         "AR",
         "2020",
         "1"
        ],
        [
         "31",
         "252164",
         "IL",
         "2020",
         "1"
        ],
        [
         "32",
         "236751",
         "EG",
         "2020",
         "1"
        ],
        [
         "33",
         "230371",
         "MY",
         "2020",
         "1"
        ],
        [
         "34",
         "218096",
         "CH",
         "2020",
         "1"
        ],
        [
         "35",
         "216516",
         "RO",
         "2020",
         "1"
        ],
        [
         "36",
         "215927",
         "BE",
         "2020",
         "1"
        ],
        [
         "37",
         "215789",
         "BD",
         "2020",
         "1"
        ],
        [
         "38",
         "210145",
         "IR",
         "2020",
         "1"
        ],
        [
         "39",
         "202767",
         "ZA",
         "2020",
         "1"
        ],
        [
         "40",
         "177756",
         "DK",
         "2020",
         "1"
        ],
        [
         "41",
         "173641",
         "NG",
         "2020",
         "1"
        ],
        [
         "42",
         "170627",
         "PT",
         "2020",
         "1"
        ],
        [
         "43",
         "166866",
         "SA",
         "2020",
         "1"
        ],
        [
         "44",
         "161209",
         "CL",
         "2020",
         "1"
        ],
        [
         "45",
         "158784",
         "NO",
         "2020",
         "1"
        ],
        [
         "46",
         "155721",
         "CZ",
         "2020",
         "1"
        ],
        [
         "47",
         "150672",
         "PE",
         "2020",
         "1"
        ],
        [
         "48",
         "148529",
         "BY",
         "2020",
         "1"
        ],
        [
         "49",
         "148081",
         "AT",
         "2020",
         "1"
        ],
        [
         "50",
         "145859",
         "IE",
         "2020",
         "1"
        ]
       ],
       "shape": {
        "columns": 4,
        "rows": 4264
       }
      },
      "text/html": [
       "<div>\n",
       "<style scoped>\n",
       "    .dataframe tbody tr th:only-of-type {\n",
       "        vertical-align: middle;\n",
       "    }\n",
       "\n",
       "    .dataframe tbody tr th {\n",
       "        vertical-align: top;\n",
       "    }\n",
       "\n",
       "    .dataframe thead th {\n",
       "        text-align: right;\n",
       "    }\n",
       "</style>\n",
       "<table border=\"1\" class=\"dataframe\">\n",
       "  <thead>\n",
       "    <tr style=\"text-align: right;\">\n",
       "      <th></th>\n",
       "      <th>developers</th>\n",
       "      <th>iso2_code</th>\n",
       "      <th>year</th>\n",
       "      <th>quarter</th>\n",
       "    </tr>\n",
       "  </thead>\n",
       "  <tbody>\n",
       "    <tr>\n",
       "      <th>0</th>\n",
       "      <td>9763122</td>\n",
       "      <td>US</td>\n",
       "      <td>2020</td>\n",
       "      <td>1</td>\n",
       "    </tr>\n",
       "    <tr>\n",
       "      <th>2</th>\n",
       "      <td>5885036</td>\n",
       "      <td>CN</td>\n",
       "      <td>2020</td>\n",
       "      <td>1</td>\n",
       "    </tr>\n",
       "    <tr>\n",
       "      <th>3</th>\n",
       "      <td>4194257</td>\n",
       "      <td>IN</td>\n",
       "      <td>2020</td>\n",
       "      <td>1</td>\n",
       "    </tr>\n",
       "    <tr>\n",
       "      <th>4</th>\n",
       "      <td>1635516</td>\n",
       "      <td>GB</td>\n",
       "      <td>2020</td>\n",
       "      <td>1</td>\n",
       "    </tr>\n",
       "    <tr>\n",
       "      <th>5</th>\n",
       "      <td>1400662</td>\n",
       "      <td>BR</td>\n",
       "      <td>2020</td>\n",
       "      <td>1</td>\n",
       "    </tr>\n",
       "    <tr>\n",
       "      <th>...</th>\n",
       "      <td>...</td>\n",
       "      <td>...</td>\n",
       "      <td>...</td>\n",
       "      <td>...</td>\n",
       "    </tr>\n",
       "    <tr>\n",
       "      <th>4278</th>\n",
       "      <td>212</td>\n",
       "      <td>MH</td>\n",
       "      <td>2024</td>\n",
       "      <td>3</td>\n",
       "    </tr>\n",
       "    <tr>\n",
       "      <th>4279</th>\n",
       "      <td>195</td>\n",
       "      <td>VA</td>\n",
       "      <td>2024</td>\n",
       "      <td>3</td>\n",
       "    </tr>\n",
       "    <tr>\n",
       "      <th>4280</th>\n",
       "      <td>190</td>\n",
       "      <td>KI</td>\n",
       "      <td>2024</td>\n",
       "      <td>3</td>\n",
       "    </tr>\n",
       "    <tr>\n",
       "      <th>4281</th>\n",
       "      <td>173</td>\n",
       "      <td>PM</td>\n",
       "      <td>2024</td>\n",
       "      <td>3</td>\n",
       "    </tr>\n",
       "    <tr>\n",
       "      <th>4282</th>\n",
       "      <td>157</td>\n",
       "      <td>CK</td>\n",
       "      <td>2024</td>\n",
       "      <td>3</td>\n",
       "    </tr>\n",
       "  </tbody>\n",
       "</table>\n",
       "<p>4264 rows × 4 columns</p>\n",
       "</div>"
      ],
      "text/plain": [
       "      developers iso2_code  year  quarter\n",
       "0        9763122        US  2020        1\n",
       "2        5885036        CN  2020        1\n",
       "3        4194257        IN  2020        1\n",
       "4        1635516        GB  2020        1\n",
       "5        1400662        BR  2020        1\n",
       "...          ...       ...   ...      ...\n",
       "4278         212        MH  2024        3\n",
       "4279         195        VA  2024        3\n",
       "4280         190        KI  2024        3\n",
       "4281         173        PM  2024        3\n",
       "4282         157        CK  2024        3\n",
       "\n",
       "[4264 rows x 4 columns]"
      ]
     },
     "execution_count": 5,
     "metadata": {},
     "output_type": "execute_result"
    }
   ],
   "source": [
    "df_6_C"
   ]
  },
  {
   "cell_type": "code",
   "execution_count": null,
   "metadata": {},
   "outputs": [
    {
     "data": {
      "application/vnd.microsoft.datawrangler.viewer.v0+json": {
       "columns": [
        {
         "name": "index",
         "rawType": "int64",
         "type": "integer"
        },
        {
         "name": "year",
         "rawType": "int64",
         "type": "integer"
        },
        {
         "name": "quarter",
         "rawType": "int64",
         "type": "integer"
        },
        {
         "name": "iso2_code",
         "rawType": "object",
         "type": "string"
        },
        {
         "name": "developers",
         "rawType": "int64",
         "type": "integer"
        }
       ],
       "conversionMethod": "pd.DataFrame",
       "ref": "562c237d-f3db-4023-a55a-0f09efcefaa5",
       "rows": [
        [
         "0",
         "2020",
         "1",
         "AD",
         "1026"
        ],
        [
         "1",
         "2020",
         "1",
         "AE",
         "95190"
        ],
        [
         "2",
         "2020",
         "1",
         "AF",
         "6481"
        ],
        [
         "3",
         "2020",
         "1",
         "AG",
         "553"
        ],
        [
         "4",
         "2020",
         "1",
         "AI",
         "102"
        ],
        [
         "5",
         "2020",
         "1",
         "AL",
         "28833"
        ],
        [
         "6",
         "2020",
         "1",
         "AM",
         "31298"
        ],
        [
         "7",
         "2020",
         "1",
         "AO",
         "7156"
        ],
        [
         "8",
         "2020",
         "1",
         "AR",
         "280922"
        ],
        [
         "9",
         "2020",
         "1",
         "AS",
         "133"
        ],
        [
         "10",
         "2020",
         "1",
         "AT",
         "148081"
        ],
        [
         "11",
         "2020",
         "1",
         "AU",
         "678548"
        ],
        [
         "12",
         "2020",
         "1",
         "AW",
         "1006"
        ],
        [
         "13",
         "2020",
         "1",
         "AX",
         "404"
        ],
        [
         "14",
         "2020",
         "1",
         "AZ",
         "25130"
        ],
        [
         "15",
         "2020",
         "1",
         "BA",
         "28503"
        ],
        [
         "16",
         "2020",
         "1",
         "BB",
         "3049"
        ],
        [
         "17",
         "2020",
         "1",
         "BD",
         "215789"
        ],
        [
         "18",
         "2020",
         "1",
         "BE",
         "215927"
        ],
        [
         "19",
         "2020",
         "1",
         "BF",
         "2530"
        ],
        [
         "20",
         "2020",
         "1",
         "BG",
         "105264"
        ],
        [
         "21",
         "2020",
         "1",
         "BH",
         "9381"
        ],
        [
         "22",
         "2020",
         "1",
         "BI",
         "1009"
        ],
        [
         "23",
         "2020",
         "1",
         "BJ",
         "6329"
        ],
        [
         "24",
         "2020",
         "1",
         "BM",
         "1061"
        ],
        [
         "25",
         "2020",
         "1",
         "BN",
         "3960"
        ],
        [
         "26",
         "2020",
         "1",
         "BO",
         "37160"
        ],
        [
         "27",
         "2020",
         "1",
         "BQ",
         "180"
        ],
        [
         "28",
         "2020",
         "1",
         "BR",
         "1400662"
        ],
        [
         "29",
         "2020",
         "1",
         "BS",
         "2431"
        ],
        [
         "30",
         "2020",
         "1",
         "BT",
         "1730"
        ],
        [
         "31",
         "2020",
         "1",
         "BW",
         "4327"
        ],
        [
         "32",
         "2020",
         "1",
         "BY",
         "148529"
        ],
        [
         "33",
         "2020",
         "1",
         "BZ",
         "1675"
        ],
        [
         "34",
         "2020",
         "1",
         "CA",
         "1134715"
        ],
        [
         "35",
         "2020",
         "1",
         "CD",
         "5406"
        ],
        [
         "36",
         "2020",
         "1",
         "CG",
         "983"
        ],
        [
         "37",
         "2020",
         "1",
         "CH",
         "218096"
        ],
        [
         "38",
         "2020",
         "1",
         "CI",
         "16280"
        ],
        [
         "39",
         "2020",
         "1",
         "CL",
         "161209"
        ],
        [
         "40",
         "2020",
         "1",
         "CM",
         "17469"
        ],
        [
         "41",
         "2020",
         "1",
         "CN",
         "5885036"
        ],
        [
         "42",
         "2020",
         "1",
         "CO",
         "281269"
        ],
        [
         "43",
         "2020",
         "1",
         "CR",
         "52221"
        ],
        [
         "44",
         "2020",
         "1",
         "CU",
         "12998"
        ],
        [
         "45",
         "2020",
         "1",
         "CV",
         "1511"
        ],
        [
         "46",
         "2020",
         "1",
         "CW",
         "1406"
        ],
        [
         "47",
         "2020",
         "1",
         "CY",
         "14138"
        ],
        [
         "48",
         "2020",
         "1",
         "CZ",
         "155721"
        ],
        [
         "49",
         "2020",
         "1",
         "DE",
         "1319588"
        ]
       ],
       "shape": {
        "columns": 4,
        "rows": 4245
       }
      },
      "text/html": [
       "<div>\n",
       "<style scoped>\n",
       "    .dataframe tbody tr th:only-of-type {\n",
       "        vertical-align: middle;\n",
       "    }\n",
       "\n",
       "    .dataframe tbody tr th {\n",
       "        vertical-align: top;\n",
       "    }\n",
       "\n",
       "    .dataframe thead th {\n",
       "        text-align: right;\n",
       "    }\n",
       "</style>\n",
       "<table border=\"1\" class=\"dataframe\">\n",
       "  <thead>\n",
       "    <tr style=\"text-align: right;\">\n",
       "      <th></th>\n",
       "      <th>year</th>\n",
       "      <th>quarter</th>\n",
       "      <th>iso2_code</th>\n",
       "      <th>developers</th>\n",
       "    </tr>\n",
       "  </thead>\n",
       "  <tbody>\n",
       "    <tr>\n",
       "      <th>0</th>\n",
       "      <td>2020</td>\n",
       "      <td>1</td>\n",
       "      <td>AD</td>\n",
       "      <td>1026</td>\n",
       "    </tr>\n",
       "    <tr>\n",
       "      <th>1</th>\n",
       "      <td>2020</td>\n",
       "      <td>1</td>\n",
       "      <td>AE</td>\n",
       "      <td>95190</td>\n",
       "    </tr>\n",
       "    <tr>\n",
       "      <th>2</th>\n",
       "      <td>2020</td>\n",
       "      <td>1</td>\n",
       "      <td>AF</td>\n",
       "      <td>6481</td>\n",
       "    </tr>\n",
       "    <tr>\n",
       "      <th>3</th>\n",
       "      <td>2020</td>\n",
       "      <td>1</td>\n",
       "      <td>AG</td>\n",
       "      <td>553</td>\n",
       "    </tr>\n",
       "    <tr>\n",
       "      <th>4</th>\n",
       "      <td>2020</td>\n",
       "      <td>1</td>\n",
       "      <td>AI</td>\n",
       "      <td>102</td>\n",
       "    </tr>\n",
       "    <tr>\n",
       "      <th>...</th>\n",
       "      <td>...</td>\n",
       "      <td>...</td>\n",
       "      <td>...</td>\n",
       "      <td>...</td>\n",
       "    </tr>\n",
       "    <tr>\n",
       "      <th>4240</th>\n",
       "      <td>2024</td>\n",
       "      <td>3</td>\n",
       "      <td>YE</td>\n",
       "      <td>72767</td>\n",
       "    </tr>\n",
       "    <tr>\n",
       "      <th>4241</th>\n",
       "      <td>2024</td>\n",
       "      <td>3</td>\n",
       "      <td>YT</td>\n",
       "      <td>1086</td>\n",
       "    </tr>\n",
       "    <tr>\n",
       "      <th>4242</th>\n",
       "      <td>2024</td>\n",
       "      <td>3</td>\n",
       "      <td>ZA</td>\n",
       "      <td>665394</td>\n",
       "    </tr>\n",
       "    <tr>\n",
       "      <th>4243</th>\n",
       "      <td>2024</td>\n",
       "      <td>3</td>\n",
       "      <td>ZM</td>\n",
       "      <td>32704</td>\n",
       "    </tr>\n",
       "    <tr>\n",
       "      <th>4244</th>\n",
       "      <td>2024</td>\n",
       "      <td>3</td>\n",
       "      <td>ZW</td>\n",
       "      <td>46049</td>\n",
       "    </tr>\n",
       "  </tbody>\n",
       "</table>\n",
       "<p>4245 rows × 4 columns</p>\n",
       "</div>"
      ],
      "text/plain": [
       "      year  quarter iso2_code  developers\n",
       "0     2020        1        AD        1026\n",
       "1     2020        1        AE       95190\n",
       "2     2020        1        AF        6481\n",
       "3     2020        1        AG         553\n",
       "4     2020        1        AI         102\n",
       "...    ...      ...       ...         ...\n",
       "4240  2024        3        YE       72767\n",
       "4241  2024        3        YT        1086\n",
       "4242  2024        3        ZA      665394\n",
       "4243  2024        3        ZM       32704\n",
       "4244  2024        3        ZW       46049\n",
       "\n",
       "[4245 rows x 4 columns]"
      ]
     },
     "execution_count": 6,
     "metadata": {},
     "output_type": "execute_result"
    }
   ],
   "source": [
    "df_6_C_grouped =df_6_C.groupby(['year', \"quarter\",'iso2_code'])['developers'].sum().reset_index()\n",
    "df_6_C_grouped"
   ]
  },
  {
   "cell_type": "code",
   "execution_count": null,
   "metadata": {},
   "outputs": [
    {
     "data": {
      "application/vnd.microsoft.datawrangler.viewer.v0+json": {
       "columns": [
        {
         "name": "index",
         "rawType": "int64",
         "type": "integer"
        },
        {
         "name": "year",
         "rawType": "int64",
         "type": "integer"
        },
        {
         "name": "quarter",
         "rawType": "int64",
         "type": "integer"
        },
        {
         "name": "iso2_code",
         "rawType": "object",
         "type": "string"
        },
        {
         "name": "developers",
         "rawType": "int64",
         "type": "integer"
        }
       ],
       "conversionMethod": "pd.DataFrame",
       "ref": "72ea47bd-fe30-4f86-983a-61ee942f298b",
       "rows": [
        [
         "201",
         "2020",
         "1",
         "US",
         "9763122"
        ],
        [
         "41",
         "2020",
         "1",
         "CN",
         "5885036"
        ],
        [
         "92",
         "2020",
         "1",
         "IN",
         "4194257"
        ],
        [
         "67",
         "2020",
         "1",
         "GB",
         "1635516"
        ],
        [
         "28",
         "2020",
         "1",
         "BR",
         "1400662"
        ],
        [
         "49",
         "2020",
         "1",
         "DE",
         "1319588"
        ],
        [
         "165",
         "2020",
         "1",
         "RU",
         "1283298"
        ],
        [
         "34",
         "2020",
         "1",
         "CA",
         "1134715"
        ],
        [
         "100",
         "2020",
         "1",
         "JP",
         "1128302"
        ],
        [
         "65",
         "2020",
         "1",
         "FR",
         "1067323"
        ],
        [
         "88",
         "2020",
         "1",
         "ID",
         "880038"
        ],
        [
         "106",
         "2020",
         "1",
         "KR",
         "761690"
        ],
        [
         "11",
         "2020",
         "1",
         "AU",
         "678548"
        ],
        [
         "59",
         "2020",
         "1",
         "ES",
         "650592"
        ],
        [
         "199",
         "2020",
         "1",
         "UA",
         "568562"
        ],
        [
         "145",
         "2020",
         "1",
         "NL",
         "565841"
        ],
        [
         "138",
         "2020",
         "1",
         "MX",
         "537945"
        ],
        [
         "156",
         "2020",
         "1",
         "PL",
         "531465"
        ],
        [
         "208",
         "2020",
         "1",
         "VN",
         "505532"
        ],
        [
         "195",
         "2020",
         "1",
         "TR",
         "480618"
        ],
        [
         "96",
         "2020",
         "1",
         "IT",
         "468484"
        ],
        [
         "197",
         "2020",
         "1",
         "TW",
         "414767"
        ],
        [
         "154",
         "2020",
         "1",
         "PH",
         "413692"
        ],
        [
         "83",
         "2020",
         "1",
         "HK",
         "401680"
        ],
        [
         "171",
         "2020",
         "1",
         "SE",
         "321505"
        ],
        [
         "155",
         "2020",
         "1",
         "PK",
         "317224"
        ],
        [
         "189",
         "2020",
         "1",
         "TH",
         "304181"
        ],
        [
         "172",
         "2020",
         "1",
         "SG",
         "302591"
        ],
        [
         "42",
         "2020",
         "1",
         "CO",
         "281269"
        ],
        [
         "8",
         "2020",
         "1",
         "AR",
         "280922"
        ],
        [
         "90",
         "2020",
         "1",
         "IL",
         "252164"
        ],
        [
         "57",
         "2020",
         "1",
         "EG",
         "236751"
        ],
        [
         "139",
         "2020",
         "1",
         "MY",
         "230371"
        ],
        [
         "37",
         "2020",
         "1",
         "CH",
         "218096"
        ],
        [
         "163",
         "2020",
         "1",
         "RO",
         "216516"
        ],
        [
         "18",
         "2020",
         "1",
         "BE",
         "215927"
        ],
        [
         "17",
         "2020",
         "1",
         "BD",
         "215789"
        ],
        [
         "94",
         "2020",
         "1",
         "IR",
         "210145"
        ],
        [
         "213",
         "2020",
         "1",
         "ZA",
         "202767"
        ],
        [
         "51",
         "2020",
         "1",
         "DK",
         "177756"
        ],
        [
         "143",
         "2020",
         "1",
         "NG",
         "173641"
        ],
        [
         "159",
         "2020",
         "1",
         "PT",
         "170627"
        ],
        [
         "167",
         "2020",
         "1",
         "SA",
         "166866"
        ],
        [
         "39",
         "2020",
         "1",
         "CL",
         "161209"
        ],
        [
         "146",
         "2020",
         "1",
         "NO",
         "158784"
        ],
        [
         "48",
         "2020",
         "1",
         "CZ",
         "155721"
        ],
        [
         "151",
         "2020",
         "1",
         "PE",
         "150672"
        ],
        [
         "32",
         "2020",
         "1",
         "BY",
         "148529"
        ],
        [
         "10",
         "2020",
         "1",
         "AT",
         "148081"
        ],
        [
         "89",
         "2020",
         "1",
         "IE",
         "145859"
        ]
       ],
       "shape": {
        "columns": 4,
        "rows": 4245
       }
      },
      "text/html": [
       "<div>\n",
       "<style scoped>\n",
       "    .dataframe tbody tr th:only-of-type {\n",
       "        vertical-align: middle;\n",
       "    }\n",
       "\n",
       "    .dataframe tbody tr th {\n",
       "        vertical-align: top;\n",
       "    }\n",
       "\n",
       "    .dataframe thead th {\n",
       "        text-align: right;\n",
       "    }\n",
       "</style>\n",
       "<table border=\"1\" class=\"dataframe\">\n",
       "  <thead>\n",
       "    <tr style=\"text-align: right;\">\n",
       "      <th></th>\n",
       "      <th>year</th>\n",
       "      <th>quarter</th>\n",
       "      <th>iso2_code</th>\n",
       "      <th>developers</th>\n",
       "    </tr>\n",
       "  </thead>\n",
       "  <tbody>\n",
       "    <tr>\n",
       "      <th>201</th>\n",
       "      <td>2020</td>\n",
       "      <td>1</td>\n",
       "      <td>US</td>\n",
       "      <td>9763122</td>\n",
       "    </tr>\n",
       "    <tr>\n",
       "      <th>41</th>\n",
       "      <td>2020</td>\n",
       "      <td>1</td>\n",
       "      <td>CN</td>\n",
       "      <td>5885036</td>\n",
       "    </tr>\n",
       "    <tr>\n",
       "      <th>92</th>\n",
       "      <td>2020</td>\n",
       "      <td>1</td>\n",
       "      <td>IN</td>\n",
       "      <td>4194257</td>\n",
       "    </tr>\n",
       "    <tr>\n",
       "      <th>67</th>\n",
       "      <td>2020</td>\n",
       "      <td>1</td>\n",
       "      <td>GB</td>\n",
       "      <td>1635516</td>\n",
       "    </tr>\n",
       "    <tr>\n",
       "      <th>28</th>\n",
       "      <td>2020</td>\n",
       "      <td>1</td>\n",
       "      <td>BR</td>\n",
       "      <td>1400662</td>\n",
       "    </tr>\n",
       "    <tr>\n",
       "      <th>...</th>\n",
       "      <td>...</td>\n",
       "      <td>...</td>\n",
       "      <td>...</td>\n",
       "      <td>...</td>\n",
       "    </tr>\n",
       "    <tr>\n",
       "      <th>4150</th>\n",
       "      <td>2024</td>\n",
       "      <td>3</td>\n",
       "      <td>MH</td>\n",
       "      <td>212</td>\n",
       "    </tr>\n",
       "    <tr>\n",
       "      <th>4231</th>\n",
       "      <td>2024</td>\n",
       "      <td>3</td>\n",
       "      <td>VA</td>\n",
       "      <td>195</td>\n",
       "    </tr>\n",
       "    <tr>\n",
       "      <th>4126</th>\n",
       "      <td>2024</td>\n",
       "      <td>3</td>\n",
       "      <td>KI</td>\n",
       "      <td>190</td>\n",
       "    </tr>\n",
       "    <tr>\n",
       "      <th>4182</th>\n",
       "      <td>2024</td>\n",
       "      <td>3</td>\n",
       "      <td>PM</td>\n",
       "      <td>173</td>\n",
       "    </tr>\n",
       "    <tr>\n",
       "      <th>4059</th>\n",
       "      <td>2024</td>\n",
       "      <td>3</td>\n",
       "      <td>CK</td>\n",
       "      <td>157</td>\n",
       "    </tr>\n",
       "  </tbody>\n",
       "</table>\n",
       "<p>4245 rows × 4 columns</p>\n",
       "</div>"
      ],
      "text/plain": [
       "      year  quarter iso2_code  developers\n",
       "201   2020        1        US     9763122\n",
       "41    2020        1        CN     5885036\n",
       "92    2020        1        IN     4194257\n",
       "67    2020        1        GB     1635516\n",
       "28    2020        1        BR     1400662\n",
       "...    ...      ...       ...         ...\n",
       "4150  2024        3        MH         212\n",
       "4231  2024        3        VA         195\n",
       "4126  2024        3        KI         190\n",
       "4182  2024        3        PM         173\n",
       "4059  2024        3        CK         157\n",
       "\n",
       "[4245 rows x 4 columns]"
      ]
     },
     "execution_count": 7,
     "metadata": {},
     "output_type": "execute_result"
    }
   ],
   "source": [
    "df_6_C_grouped_sorted = df_6_C_grouped.sort_values(by=['year', \"quarter\", 'developers'], ascending=[True, True, False])\n",
    "df_6_C_grouped_sorted"
   ]
  },
  {
   "cell_type": "code",
   "execution_count": null,
   "metadata": {},
   "outputs": [
    {
     "data": {
      "application/vnd.microsoft.datawrangler.viewer.v0+json": {
       "columns": [
        {
         "name": "index",
         "rawType": "int64",
         "type": "integer"
        },
        {
         "name": "year",
         "rawType": "int64",
         "type": "integer"
        },
        {
         "name": "quarter",
         "rawType": "int64",
         "type": "integer"
        },
        {
         "name": "iso2_code",
         "rawType": "object",
         "type": "string"
        },
        {
         "name": "developers",
         "rawType": "int64",
         "type": "integer"
        },
        {
         "name": "indice",
         "rawType": "int64",
         "type": "integer"
        }
       ],
       "conversionMethod": "pd.DataFrame",
       "ref": "c86c8186-6d12-4aa4-94b4-914fbcb9d0cb",
       "rows": [
        [
         "201",
         "2020",
         "1",
         "US",
         "9763122",
         "1"
        ],
        [
         "41",
         "2020",
         "1",
         "CN",
         "5885036",
         "2"
        ],
        [
         "92",
         "2020",
         "1",
         "IN",
         "4194257",
         "3"
        ],
        [
         "67",
         "2020",
         "1",
         "GB",
         "1635516",
         "4"
        ],
        [
         "28",
         "2020",
         "1",
         "BR",
         "1400662",
         "5"
        ],
        [
         "49",
         "2020",
         "1",
         "DE",
         "1319588",
         "6"
        ],
        [
         "165",
         "2020",
         "1",
         "RU",
         "1283298",
         "7"
        ],
        [
         "34",
         "2020",
         "1",
         "CA",
         "1134715",
         "8"
        ],
        [
         "100",
         "2020",
         "1",
         "JP",
         "1128302",
         "9"
        ],
        [
         "65",
         "2020",
         "1",
         "FR",
         "1067323",
         "10"
        ],
        [
         "88",
         "2020",
         "1",
         "ID",
         "880038",
         "11"
        ],
        [
         "106",
         "2020",
         "1",
         "KR",
         "761690",
         "12"
        ],
        [
         "11",
         "2020",
         "1",
         "AU",
         "678548",
         "13"
        ],
        [
         "59",
         "2020",
         "1",
         "ES",
         "650592",
         "14"
        ],
        [
         "199",
         "2020",
         "1",
         "UA",
         "568562",
         "15"
        ],
        [
         "145",
         "2020",
         "1",
         "NL",
         "565841",
         "16"
        ],
        [
         "138",
         "2020",
         "1",
         "MX",
         "537945",
         "17"
        ],
        [
         "156",
         "2020",
         "1",
         "PL",
         "531465",
         "18"
        ],
        [
         "208",
         "2020",
         "1",
         "VN",
         "505532",
         "19"
        ],
        [
         "195",
         "2020",
         "1",
         "TR",
         "480618",
         "20"
        ],
        [
         "96",
         "2020",
         "1",
         "IT",
         "468484",
         "21"
        ],
        [
         "197",
         "2020",
         "1",
         "TW",
         "414767",
         "22"
        ],
        [
         "154",
         "2020",
         "1",
         "PH",
         "413692",
         "23"
        ],
        [
         "83",
         "2020",
         "1",
         "HK",
         "401680",
         "24"
        ],
        [
         "171",
         "2020",
         "1",
         "SE",
         "321505",
         "25"
        ],
        [
         "155",
         "2020",
         "1",
         "PK",
         "317224",
         "26"
        ],
        [
         "189",
         "2020",
         "1",
         "TH",
         "304181",
         "27"
        ],
        [
         "172",
         "2020",
         "1",
         "SG",
         "302591",
         "28"
        ],
        [
         "42",
         "2020",
         "1",
         "CO",
         "281269",
         "29"
        ],
        [
         "8",
         "2020",
         "1",
         "AR",
         "280922",
         "30"
        ],
        [
         "90",
         "2020",
         "1",
         "IL",
         "252164",
         "31"
        ],
        [
         "57",
         "2020",
         "1",
         "EG",
         "236751",
         "32"
        ],
        [
         "139",
         "2020",
         "1",
         "MY",
         "230371",
         "33"
        ],
        [
         "37",
         "2020",
         "1",
         "CH",
         "218096",
         "34"
        ],
        [
         "163",
         "2020",
         "1",
         "RO",
         "216516",
         "35"
        ],
        [
         "18",
         "2020",
         "1",
         "BE",
         "215927",
         "36"
        ],
        [
         "17",
         "2020",
         "1",
         "BD",
         "215789",
         "37"
        ],
        [
         "94",
         "2020",
         "1",
         "IR",
         "210145",
         "38"
        ],
        [
         "213",
         "2020",
         "1",
         "ZA",
         "202767",
         "39"
        ],
        [
         "51",
         "2020",
         "1",
         "DK",
         "177756",
         "40"
        ],
        [
         "143",
         "2020",
         "1",
         "NG",
         "173641",
         "41"
        ],
        [
         "159",
         "2020",
         "1",
         "PT",
         "170627",
         "42"
        ],
        [
         "167",
         "2020",
         "1",
         "SA",
         "166866",
         "43"
        ],
        [
         "39",
         "2020",
         "1",
         "CL",
         "161209",
         "44"
        ],
        [
         "146",
         "2020",
         "1",
         "NO",
         "158784",
         "45"
        ],
        [
         "48",
         "2020",
         "1",
         "CZ",
         "155721",
         "46"
        ],
        [
         "151",
         "2020",
         "1",
         "PE",
         "150672",
         "47"
        ],
        [
         "32",
         "2020",
         "1",
         "BY",
         "148529",
         "48"
        ],
        [
         "10",
         "2020",
         "1",
         "AT",
         "148081",
         "49"
        ],
        [
         "89",
         "2020",
         "1",
         "IE",
         "145859",
         "50"
        ]
       ],
       "shape": {
        "columns": 5,
        "rows": 4245
       }
      },
      "text/html": [
       "<div>\n",
       "<style scoped>\n",
       "    .dataframe tbody tr th:only-of-type {\n",
       "        vertical-align: middle;\n",
       "    }\n",
       "\n",
       "    .dataframe tbody tr th {\n",
       "        vertical-align: top;\n",
       "    }\n",
       "\n",
       "    .dataframe thead th {\n",
       "        text-align: right;\n",
       "    }\n",
       "</style>\n",
       "<table border=\"1\" class=\"dataframe\">\n",
       "  <thead>\n",
       "    <tr style=\"text-align: right;\">\n",
       "      <th></th>\n",
       "      <th>year</th>\n",
       "      <th>quarter</th>\n",
       "      <th>iso2_code</th>\n",
       "      <th>developers</th>\n",
       "      <th>indice</th>\n",
       "    </tr>\n",
       "  </thead>\n",
       "  <tbody>\n",
       "    <tr>\n",
       "      <th>201</th>\n",
       "      <td>2020</td>\n",
       "      <td>1</td>\n",
       "      <td>US</td>\n",
       "      <td>9763122</td>\n",
       "      <td>1</td>\n",
       "    </tr>\n",
       "    <tr>\n",
       "      <th>41</th>\n",
       "      <td>2020</td>\n",
       "      <td>1</td>\n",
       "      <td>CN</td>\n",
       "      <td>5885036</td>\n",
       "      <td>2</td>\n",
       "    </tr>\n",
       "    <tr>\n",
       "      <th>92</th>\n",
       "      <td>2020</td>\n",
       "      <td>1</td>\n",
       "      <td>IN</td>\n",
       "      <td>4194257</td>\n",
       "      <td>3</td>\n",
       "    </tr>\n",
       "    <tr>\n",
       "      <th>67</th>\n",
       "      <td>2020</td>\n",
       "      <td>1</td>\n",
       "      <td>GB</td>\n",
       "      <td>1635516</td>\n",
       "      <td>4</td>\n",
       "    </tr>\n",
       "    <tr>\n",
       "      <th>28</th>\n",
       "      <td>2020</td>\n",
       "      <td>1</td>\n",
       "      <td>BR</td>\n",
       "      <td>1400662</td>\n",
       "      <td>5</td>\n",
       "    </tr>\n",
       "    <tr>\n",
       "      <th>...</th>\n",
       "      <td>...</td>\n",
       "      <td>...</td>\n",
       "      <td>...</td>\n",
       "      <td>...</td>\n",
       "      <td>...</td>\n",
       "    </tr>\n",
       "    <tr>\n",
       "      <th>4150</th>\n",
       "      <td>2024</td>\n",
       "      <td>3</td>\n",
       "      <td>MH</td>\n",
       "      <td>212</td>\n",
       "      <td>222</td>\n",
       "    </tr>\n",
       "    <tr>\n",
       "      <th>4231</th>\n",
       "      <td>2024</td>\n",
       "      <td>3</td>\n",
       "      <td>VA</td>\n",
       "      <td>195</td>\n",
       "      <td>223</td>\n",
       "    </tr>\n",
       "    <tr>\n",
       "      <th>4126</th>\n",
       "      <td>2024</td>\n",
       "      <td>3</td>\n",
       "      <td>KI</td>\n",
       "      <td>190</td>\n",
       "      <td>224</td>\n",
       "    </tr>\n",
       "    <tr>\n",
       "      <th>4182</th>\n",
       "      <td>2024</td>\n",
       "      <td>3</td>\n",
       "      <td>PM</td>\n",
       "      <td>173</td>\n",
       "      <td>225</td>\n",
       "    </tr>\n",
       "    <tr>\n",
       "      <th>4059</th>\n",
       "      <td>2024</td>\n",
       "      <td>3</td>\n",
       "      <td>CK</td>\n",
       "      <td>157</td>\n",
       "      <td>226</td>\n",
       "    </tr>\n",
       "  </tbody>\n",
       "</table>\n",
       "<p>4245 rows × 5 columns</p>\n",
       "</div>"
      ],
      "text/plain": [
       "      year  quarter iso2_code  developers  indice\n",
       "201   2020        1        US     9763122       1\n",
       "41    2020        1        CN     5885036       2\n",
       "92    2020        1        IN     4194257       3\n",
       "67    2020        1        GB     1635516       4\n",
       "28    2020        1        BR     1400662       5\n",
       "...    ...      ...       ...         ...     ...\n",
       "4150  2024        3        MH         212     222\n",
       "4231  2024        3        VA         195     223\n",
       "4126  2024        3        KI         190     224\n",
       "4182  2024        3        PM         173     225\n",
       "4059  2024        3        CK         157     226\n",
       "\n",
       "[4245 rows x 5 columns]"
      ]
     },
     "execution_count": 8,
     "metadata": {},
     "output_type": "execute_result"
    }
   ],
   "source": [
    "df_6_C_grouped_sorted['indice'] = df_6_C_grouped_sorted.groupby(['year', \"quarter\"]).cumcount() + 1\n",
    "df_6_C_grouped_sorted"
   ]
  },
  {
   "cell_type": "code",
   "execution_count": null,
   "metadata": {},
   "outputs": [
    {
     "data": {
      "application/vnd.microsoft.datawrangler.viewer.v0+json": {
       "columns": [
        {
         "name": "index",
         "rawType": "int64",
         "type": "integer"
        },
        {
         "name": "year",
         "rawType": "int64",
         "type": "integer"
        },
        {
         "name": "quarter",
         "rawType": "int64",
         "type": "integer"
        },
        {
         "name": "iso2_code",
         "rawType": "object",
         "type": "string"
        },
        {
         "name": "developers",
         "rawType": "int64",
         "type": "integer"
        },
        {
         "name": "indice",
         "rawType": "int64",
         "type": "integer"
        },
        {
         "name": "year_quarter",
         "rawType": "object",
         "type": "string"
        }
       ],
       "conversionMethod": "pd.DataFrame",
       "ref": "9630066c-f07d-469c-ba89-fb9e07fdf4c1",
       "rows": [
        [
         "201",
         "2020",
         "1",
         "US",
         "9763122",
         "1",
         "2020-Q1"
        ],
        [
         "41",
         "2020",
         "1",
         "CN",
         "5885036",
         "2",
         "2020-Q1"
        ],
        [
         "92",
         "2020",
         "1",
         "IN",
         "4194257",
         "3",
         "2020-Q1"
        ],
        [
         "67",
         "2020",
         "1",
         "GB",
         "1635516",
         "4",
         "2020-Q1"
        ],
        [
         "28",
         "2020",
         "1",
         "BR",
         "1400662",
         "5",
         "2020-Q1"
        ],
        [
         "49",
         "2020",
         "1",
         "DE",
         "1319588",
         "6",
         "2020-Q1"
        ],
        [
         "165",
         "2020",
         "1",
         "RU",
         "1283298",
         "7",
         "2020-Q1"
        ],
        [
         "34",
         "2020",
         "1",
         "CA",
         "1134715",
         "8",
         "2020-Q1"
        ],
        [
         "100",
         "2020",
         "1",
         "JP",
         "1128302",
         "9",
         "2020-Q1"
        ],
        [
         "65",
         "2020",
         "1",
         "FR",
         "1067323",
         "10",
         "2020-Q1"
        ],
        [
         "88",
         "2020",
         "1",
         "ID",
         "880038",
         "11",
         "2020-Q1"
        ],
        [
         "106",
         "2020",
         "1",
         "KR",
         "761690",
         "12",
         "2020-Q1"
        ],
        [
         "11",
         "2020",
         "1",
         "AU",
         "678548",
         "13",
         "2020-Q1"
        ],
        [
         "59",
         "2020",
         "1",
         "ES",
         "650592",
         "14",
         "2020-Q1"
        ],
        [
         "199",
         "2020",
         "1",
         "UA",
         "568562",
         "15",
         "2020-Q1"
        ],
        [
         "145",
         "2020",
         "1",
         "NL",
         "565841",
         "16",
         "2020-Q1"
        ],
        [
         "138",
         "2020",
         "1",
         "MX",
         "537945",
         "17",
         "2020-Q1"
        ],
        [
         "156",
         "2020",
         "1",
         "PL",
         "531465",
         "18",
         "2020-Q1"
        ],
        [
         "208",
         "2020",
         "1",
         "VN",
         "505532",
         "19",
         "2020-Q1"
        ],
        [
         "195",
         "2020",
         "1",
         "TR",
         "480618",
         "20",
         "2020-Q1"
        ],
        [
         "96",
         "2020",
         "1",
         "IT",
         "468484",
         "21",
         "2020-Q1"
        ],
        [
         "197",
         "2020",
         "1",
         "TW",
         "414767",
         "22",
         "2020-Q1"
        ],
        [
         "154",
         "2020",
         "1",
         "PH",
         "413692",
         "23",
         "2020-Q1"
        ],
        [
         "83",
         "2020",
         "1",
         "HK",
         "401680",
         "24",
         "2020-Q1"
        ],
        [
         "171",
         "2020",
         "1",
         "SE",
         "321505",
         "25",
         "2020-Q1"
        ],
        [
         "155",
         "2020",
         "1",
         "PK",
         "317224",
         "26",
         "2020-Q1"
        ],
        [
         "189",
         "2020",
         "1",
         "TH",
         "304181",
         "27",
         "2020-Q1"
        ],
        [
         "172",
         "2020",
         "1",
         "SG",
         "302591",
         "28",
         "2020-Q1"
        ],
        [
         "42",
         "2020",
         "1",
         "CO",
         "281269",
         "29",
         "2020-Q1"
        ],
        [
         "8",
         "2020",
         "1",
         "AR",
         "280922",
         "30",
         "2020-Q1"
        ],
        [
         "90",
         "2020",
         "1",
         "IL",
         "252164",
         "31",
         "2020-Q1"
        ],
        [
         "57",
         "2020",
         "1",
         "EG",
         "236751",
         "32",
         "2020-Q1"
        ],
        [
         "139",
         "2020",
         "1",
         "MY",
         "230371",
         "33",
         "2020-Q1"
        ],
        [
         "37",
         "2020",
         "1",
         "CH",
         "218096",
         "34",
         "2020-Q1"
        ],
        [
         "163",
         "2020",
         "1",
         "RO",
         "216516",
         "35",
         "2020-Q1"
        ],
        [
         "18",
         "2020",
         "1",
         "BE",
         "215927",
         "36",
         "2020-Q1"
        ],
        [
         "17",
         "2020",
         "1",
         "BD",
         "215789",
         "37",
         "2020-Q1"
        ],
        [
         "94",
         "2020",
         "1",
         "IR",
         "210145",
         "38",
         "2020-Q1"
        ],
        [
         "213",
         "2020",
         "1",
         "ZA",
         "202767",
         "39",
         "2020-Q1"
        ],
        [
         "51",
         "2020",
         "1",
         "DK",
         "177756",
         "40",
         "2020-Q1"
        ],
        [
         "143",
         "2020",
         "1",
         "NG",
         "173641",
         "41",
         "2020-Q1"
        ],
        [
         "159",
         "2020",
         "1",
         "PT",
         "170627",
         "42",
         "2020-Q1"
        ],
        [
         "167",
         "2020",
         "1",
         "SA",
         "166866",
         "43",
         "2020-Q1"
        ],
        [
         "39",
         "2020",
         "1",
         "CL",
         "161209",
         "44",
         "2020-Q1"
        ],
        [
         "146",
         "2020",
         "1",
         "NO",
         "158784",
         "45",
         "2020-Q1"
        ],
        [
         "48",
         "2020",
         "1",
         "CZ",
         "155721",
         "46",
         "2020-Q1"
        ],
        [
         "151",
         "2020",
         "1",
         "PE",
         "150672",
         "47",
         "2020-Q1"
        ],
        [
         "32",
         "2020",
         "1",
         "BY",
         "148529",
         "48",
         "2020-Q1"
        ],
        [
         "10",
         "2020",
         "1",
         "AT",
         "148081",
         "49",
         "2020-Q1"
        ],
        [
         "89",
         "2020",
         "1",
         "IE",
         "145859",
         "50",
         "2020-Q1"
        ]
       ],
       "shape": {
        "columns": 6,
        "rows": 4245
       }
      },
      "text/html": [
       "<div>\n",
       "<style scoped>\n",
       "    .dataframe tbody tr th:only-of-type {\n",
       "        vertical-align: middle;\n",
       "    }\n",
       "\n",
       "    .dataframe tbody tr th {\n",
       "        vertical-align: top;\n",
       "    }\n",
       "\n",
       "    .dataframe thead th {\n",
       "        text-align: right;\n",
       "    }\n",
       "</style>\n",
       "<table border=\"1\" class=\"dataframe\">\n",
       "  <thead>\n",
       "    <tr style=\"text-align: right;\">\n",
       "      <th></th>\n",
       "      <th>year</th>\n",
       "      <th>quarter</th>\n",
       "      <th>iso2_code</th>\n",
       "      <th>developers</th>\n",
       "      <th>indice</th>\n",
       "      <th>year_quarter</th>\n",
       "    </tr>\n",
       "  </thead>\n",
       "  <tbody>\n",
       "    <tr>\n",
       "      <th>201</th>\n",
       "      <td>2020</td>\n",
       "      <td>1</td>\n",
       "      <td>US</td>\n",
       "      <td>9763122</td>\n",
       "      <td>1</td>\n",
       "      <td>2020-Q1</td>\n",
       "    </tr>\n",
       "    <tr>\n",
       "      <th>41</th>\n",
       "      <td>2020</td>\n",
       "      <td>1</td>\n",
       "      <td>CN</td>\n",
       "      <td>5885036</td>\n",
       "      <td>2</td>\n",
       "      <td>2020-Q1</td>\n",
       "    </tr>\n",
       "    <tr>\n",
       "      <th>92</th>\n",
       "      <td>2020</td>\n",
       "      <td>1</td>\n",
       "      <td>IN</td>\n",
       "      <td>4194257</td>\n",
       "      <td>3</td>\n",
       "      <td>2020-Q1</td>\n",
       "    </tr>\n",
       "    <tr>\n",
       "      <th>67</th>\n",
       "      <td>2020</td>\n",
       "      <td>1</td>\n",
       "      <td>GB</td>\n",
       "      <td>1635516</td>\n",
       "      <td>4</td>\n",
       "      <td>2020-Q1</td>\n",
       "    </tr>\n",
       "    <tr>\n",
       "      <th>28</th>\n",
       "      <td>2020</td>\n",
       "      <td>1</td>\n",
       "      <td>BR</td>\n",
       "      <td>1400662</td>\n",
       "      <td>5</td>\n",
       "      <td>2020-Q1</td>\n",
       "    </tr>\n",
       "    <tr>\n",
       "      <th>...</th>\n",
       "      <td>...</td>\n",
       "      <td>...</td>\n",
       "      <td>...</td>\n",
       "      <td>...</td>\n",
       "      <td>...</td>\n",
       "      <td>...</td>\n",
       "    </tr>\n",
       "    <tr>\n",
       "      <th>4150</th>\n",
       "      <td>2024</td>\n",
       "      <td>3</td>\n",
       "      <td>MH</td>\n",
       "      <td>212</td>\n",
       "      <td>222</td>\n",
       "      <td>2024-Q3</td>\n",
       "    </tr>\n",
       "    <tr>\n",
       "      <th>4231</th>\n",
       "      <td>2024</td>\n",
       "      <td>3</td>\n",
       "      <td>VA</td>\n",
       "      <td>195</td>\n",
       "      <td>223</td>\n",
       "      <td>2024-Q3</td>\n",
       "    </tr>\n",
       "    <tr>\n",
       "      <th>4126</th>\n",
       "      <td>2024</td>\n",
       "      <td>3</td>\n",
       "      <td>KI</td>\n",
       "      <td>190</td>\n",
       "      <td>224</td>\n",
       "      <td>2024-Q3</td>\n",
       "    </tr>\n",
       "    <tr>\n",
       "      <th>4182</th>\n",
       "      <td>2024</td>\n",
       "      <td>3</td>\n",
       "      <td>PM</td>\n",
       "      <td>173</td>\n",
       "      <td>225</td>\n",
       "      <td>2024-Q3</td>\n",
       "    </tr>\n",
       "    <tr>\n",
       "      <th>4059</th>\n",
       "      <td>2024</td>\n",
       "      <td>3</td>\n",
       "      <td>CK</td>\n",
       "      <td>157</td>\n",
       "      <td>226</td>\n",
       "      <td>2024-Q3</td>\n",
       "    </tr>\n",
       "  </tbody>\n",
       "</table>\n",
       "<p>4245 rows × 6 columns</p>\n",
       "</div>"
      ],
      "text/plain": [
       "      year  quarter iso2_code  developers  indice year_quarter\n",
       "201   2020        1        US     9763122       1      2020-Q1\n",
       "41    2020        1        CN     5885036       2      2020-Q1\n",
       "92    2020        1        IN     4194257       3      2020-Q1\n",
       "67    2020        1        GB     1635516       4      2020-Q1\n",
       "28    2020        1        BR     1400662       5      2020-Q1\n",
       "...    ...      ...       ...         ...     ...          ...\n",
       "4150  2024        3        MH         212     222      2024-Q3\n",
       "4231  2024        3        VA         195     223      2024-Q3\n",
       "4126  2024        3        KI         190     224      2024-Q3\n",
       "4182  2024        3        PM         173     225      2024-Q3\n",
       "4059  2024        3        CK         157     226      2024-Q3\n",
       "\n",
       "[4245 rows x 6 columns]"
      ]
     },
     "execution_count": 9,
     "metadata": {},
     "output_type": "execute_result"
    }
   ],
   "source": [
    "df_6_C_grouped_sorted[\"year_quarter\"] = df_6_C_grouped_sorted[\"year\"].astype(\"str\") +\"-Q\"+  df_6_C_grouped_sorted[\"quarter\"].astype(\"str\")\n",
    "df_6_C_grouped_sorted"
   ]
  },
  {
   "cell_type": "code",
   "execution_count": null,
   "metadata": {},
   "outputs": [
    {
     "data": {
      "application/vnd.microsoft.datawrangler.viewer.v0+json": {
       "columns": [
        {
         "name": "index",
         "rawType": "int64",
         "type": "integer"
        },
        {
         "name": "year",
         "rawType": "int64",
         "type": "integer"
        },
        {
         "name": "quarter",
         "rawType": "int64",
         "type": "integer"
        },
        {
         "name": "iso2_code",
         "rawType": "object",
         "type": "string"
        },
        {
         "name": "developers",
         "rawType": "int64",
         "type": "integer"
        },
        {
         "name": "indice",
         "rawType": "int64",
         "type": "integer"
        },
        {
         "name": "year_quarter",
         "rawType": "object",
         "type": "string"
        }
       ],
       "conversionMethod": "pd.DataFrame",
       "ref": "4091e0d6-fa8b-4103-b352-6a66e3fbc4a7",
       "rows": [
        [
         "201",
         "2020",
         "1",
         "US",
         "9763122",
         "1",
         "2020-Q1"
        ],
        [
         "41",
         "2020",
         "1",
         "CN",
         "5885036",
         "2",
         "2020-Q1"
        ],
        [
         "92",
         "2020",
         "1",
         "IN",
         "4194257",
         "3",
         "2020-Q1"
        ],
        [
         "67",
         "2020",
         "1",
         "GB",
         "1635516",
         "4",
         "2020-Q1"
        ],
        [
         "28",
         "2020",
         "1",
         "BR",
         "1400662",
         "5",
         "2020-Q1"
        ],
        [
         "49",
         "2020",
         "1",
         "DE",
         "1319588",
         "6",
         "2020-Q1"
        ],
        [
         "165",
         "2020",
         "1",
         "RU",
         "1283298",
         "7",
         "2020-Q1"
        ],
        [
         "34",
         "2020",
         "1",
         "CA",
         "1134715",
         "8",
         "2020-Q1"
        ],
        [
         "100",
         "2020",
         "1",
         "JP",
         "1128302",
         "9",
         "2020-Q1"
        ],
        [
         "65",
         "2020",
         "1",
         "FR",
         "1067323",
         "10",
         "2020-Q1"
        ],
        [
         "420",
         "2020",
         "2",
         "US",
         "10434232",
         "1",
         "2020-Q2"
        ],
        [
         "257",
         "2020",
         "2",
         "CN",
         "6281702",
         "2",
         "2020-Q2"
        ],
        [
         "309",
         "2020",
         "2",
         "IN",
         "4684375",
         "3",
         "2020-Q2"
        ],
        [
         "283",
         "2020",
         "2",
         "GB",
         "1749625",
         "4",
         "2020-Q2"
        ],
        [
         "244",
         "2020",
         "2",
         "BR",
         "1544319",
         "5",
         "2020-Q2"
        ],
        [
         "265",
         "2020",
         "2",
         "DE",
         "1432550",
         "6",
         "2020-Q2"
        ],
        [
         "384",
         "2020",
         "2",
         "RU",
         "1402697",
         "7",
         "2020-Q2"
        ],
        [
         "317",
         "2020",
         "2",
         "JP",
         "1241923",
         "8",
         "2020-Q2"
        ],
        [
         "250",
         "2020",
         "2",
         "CA",
         "1228068",
         "9",
         "2020-Q2"
        ],
        [
         "281",
         "2020",
         "2",
         "FR",
         "1154301",
         "10",
         "2020-Q2"
        ],
        [
         "640",
         "2020",
         "3",
         "US",
         "11086139",
         "1",
         "2020-Q3"
        ],
        [
         "477",
         "2020",
         "3",
         "CN",
         "6565328",
         "2",
         "2020-Q3"
        ],
        [
         "529",
         "2020",
         "3",
         "IN",
         "5206926",
         "3",
         "2020-Q3"
        ],
        [
         "503",
         "2020",
         "3",
         "GB",
         "1843208",
         "4",
         "2020-Q3"
        ],
        [
         "463",
         "2020",
         "3",
         "BR",
         "1693935",
         "5",
         "2020-Q3"
        ],
        [
         "485",
         "2020",
         "3",
         "DE",
         "1519080",
         "6",
         "2020-Q3"
        ],
        [
         "604",
         "2020",
         "3",
         "RU",
         "1518924",
         "7",
         "2020-Q3"
        ],
        [
         "537",
         "2020",
         "3",
         "JP",
         "1338905",
         "8",
         "2020-Q3"
        ],
        [
         "469",
         "2020",
         "3",
         "CA",
         "1305510",
         "9",
         "2020-Q3"
        ],
        [
         "501",
         "2020",
         "3",
         "FR",
         "1217848",
         "10",
         "2020-Q3"
        ],
        [
         "860",
         "2020",
         "4",
         "US",
         "11660333",
         "1",
         "2020-Q4"
        ],
        [
         "697",
         "2020",
         "4",
         "CN",
         "6968848",
         "2",
         "2020-Q4"
        ],
        [
         "749",
         "2020",
         "4",
         "IN",
         "5653924",
         "3",
         "2020-Q4"
        ],
        [
         "723",
         "2020",
         "4",
         "GB",
         "1956184",
         "4",
         "2020-Q4"
        ],
        [
         "683",
         "2020",
         "4",
         "BR",
         "1820522",
         "5",
         "2020-Q4"
        ],
        [
         "824",
         "2020",
         "4",
         "RU",
         "1647055",
         "6",
         "2020-Q4"
        ],
        [
         "705",
         "2020",
         "4",
         "DE",
         "1631022",
         "7",
         "2020-Q4"
        ],
        [
         "757",
         "2020",
         "4",
         "JP",
         "1429144",
         "8",
         "2020-Q4"
        ],
        [
         "689",
         "2020",
         "4",
         "CA",
         "1384211",
         "9",
         "2020-Q4"
        ],
        [
         "721",
         "2020",
         "4",
         "FR",
         "1310873",
         "10",
         "2020-Q4"
        ],
        [
         "1080",
         "2021",
         "1",
         "US",
         "12307169",
         "1",
         "2021-Q1"
        ],
        [
         "917",
         "2021",
         "1",
         "CN",
         "7246949",
         "2",
         "2021-Q1"
        ],
        [
         "969",
         "2021",
         "1",
         "IN",
         "6083067",
         "3",
         "2021-Q1"
        ],
        [
         "943",
         "2021",
         "1",
         "GB",
         "2075096",
         "4",
         "2021-Q1"
        ],
        [
         "903",
         "2021",
         "1",
         "BR",
         "1970500",
         "5",
         "2021-Q1"
        ],
        [
         "1044",
         "2021",
         "1",
         "RU",
         "1762587",
         "6",
         "2021-Q1"
        ],
        [
         "925",
         "2021",
         "1",
         "DE",
         "1741361",
         "7",
         "2021-Q1"
        ],
        [
         "977",
         "2021",
         "1",
         "JP",
         "1520892",
         "8",
         "2021-Q1"
        ],
        [
         "909",
         "2021",
         "1",
         "CA",
         "1475923",
         "9",
         "2021-Q1"
        ],
        [
         "941",
         "2021",
         "1",
         "FR",
         "1400063",
         "10",
         "2021-Q1"
        ]
       ],
       "shape": {
        "columns": 6,
        "rows": 190
       }
      },
      "text/html": [
       "<div>\n",
       "<style scoped>\n",
       "    .dataframe tbody tr th:only-of-type {\n",
       "        vertical-align: middle;\n",
       "    }\n",
       "\n",
       "    .dataframe tbody tr th {\n",
       "        vertical-align: top;\n",
       "    }\n",
       "\n",
       "    .dataframe thead th {\n",
       "        text-align: right;\n",
       "    }\n",
       "</style>\n",
       "<table border=\"1\" class=\"dataframe\">\n",
       "  <thead>\n",
       "    <tr style=\"text-align: right;\">\n",
       "      <th></th>\n",
       "      <th>year</th>\n",
       "      <th>quarter</th>\n",
       "      <th>iso2_code</th>\n",
       "      <th>developers</th>\n",
       "      <th>indice</th>\n",
       "      <th>year_quarter</th>\n",
       "    </tr>\n",
       "  </thead>\n",
       "  <tbody>\n",
       "    <tr>\n",
       "      <th>201</th>\n",
       "      <td>2020</td>\n",
       "      <td>1</td>\n",
       "      <td>US</td>\n",
       "      <td>9763122</td>\n",
       "      <td>1</td>\n",
       "      <td>2020-Q1</td>\n",
       "    </tr>\n",
       "    <tr>\n",
       "      <th>41</th>\n",
       "      <td>2020</td>\n",
       "      <td>1</td>\n",
       "      <td>CN</td>\n",
       "      <td>5885036</td>\n",
       "      <td>2</td>\n",
       "      <td>2020-Q1</td>\n",
       "    </tr>\n",
       "    <tr>\n",
       "      <th>92</th>\n",
       "      <td>2020</td>\n",
       "      <td>1</td>\n",
       "      <td>IN</td>\n",
       "      <td>4194257</td>\n",
       "      <td>3</td>\n",
       "      <td>2020-Q1</td>\n",
       "    </tr>\n",
       "    <tr>\n",
       "      <th>67</th>\n",
       "      <td>2020</td>\n",
       "      <td>1</td>\n",
       "      <td>GB</td>\n",
       "      <td>1635516</td>\n",
       "      <td>4</td>\n",
       "      <td>2020-Q1</td>\n",
       "    </tr>\n",
       "    <tr>\n",
       "      <th>28</th>\n",
       "      <td>2020</td>\n",
       "      <td>1</td>\n",
       "      <td>BR</td>\n",
       "      <td>1400662</td>\n",
       "      <td>5</td>\n",
       "      <td>2020-Q1</td>\n",
       "    </tr>\n",
       "    <tr>\n",
       "      <th>...</th>\n",
       "      <td>...</td>\n",
       "      <td>...</td>\n",
       "      <td>...</td>\n",
       "      <td>...</td>\n",
       "      <td>...</td>\n",
       "      <td>...</td>\n",
       "    </tr>\n",
       "    <tr>\n",
       "      <th>4192</th>\n",
       "      <td>2024</td>\n",
       "      <td>3</td>\n",
       "      <td>RU</td>\n",
       "      <td>3664948</td>\n",
       "      <td>6</td>\n",
       "      <td>2024-Q3</td>\n",
       "    </tr>\n",
       "    <tr>\n",
       "      <th>4110</th>\n",
       "      <td>2024</td>\n",
       "      <td>3</td>\n",
       "      <td>ID</td>\n",
       "      <td>3602191</td>\n",
       "      <td>7</td>\n",
       "      <td>2024-Q3</td>\n",
       "    </tr>\n",
       "    <tr>\n",
       "      <th>4070</th>\n",
       "      <td>2024</td>\n",
       "      <td>3</td>\n",
       "      <td>DE</td>\n",
       "      <td>3594869</td>\n",
       "      <td>8</td>\n",
       "      <td>2024-Q3</td>\n",
       "    </tr>\n",
       "    <tr>\n",
       "      <th>4122</th>\n",
       "      <td>2024</td>\n",
       "      <td>3</td>\n",
       "      <td>JP</td>\n",
       "      <td>3547125</td>\n",
       "      <td>9</td>\n",
       "      <td>2024-Q3</td>\n",
       "    </tr>\n",
       "    <tr>\n",
       "      <th>4053</th>\n",
       "      <td>2024</td>\n",
       "      <td>3</td>\n",
       "      <td>CA</td>\n",
       "      <td>2946022</td>\n",
       "      <td>10</td>\n",
       "      <td>2024-Q3</td>\n",
       "    </tr>\n",
       "  </tbody>\n",
       "</table>\n",
       "<p>190 rows × 6 columns</p>\n",
       "</div>"
      ],
      "text/plain": [
       "      year  quarter iso2_code  developers  indice year_quarter\n",
       "201   2020        1        US     9763122       1      2020-Q1\n",
       "41    2020        1        CN     5885036       2      2020-Q1\n",
       "92    2020        1        IN     4194257       3      2020-Q1\n",
       "67    2020        1        GB     1635516       4      2020-Q1\n",
       "28    2020        1        BR     1400662       5      2020-Q1\n",
       "...    ...      ...       ...         ...     ...          ...\n",
       "4192  2024        3        RU     3664948       6      2024-Q3\n",
       "4110  2024        3        ID     3602191       7      2024-Q3\n",
       "4070  2024        3        DE     3594869       8      2024-Q3\n",
       "4122  2024        3        JP     3547125       9      2024-Q3\n",
       "4053  2024        3        CA     2946022      10      2024-Q3\n",
       "\n",
       "[190 rows x 6 columns]"
      ]
     },
     "execution_count": 16,
     "metadata": {},
     "output_type": "execute_result"
    }
   ],
   "source": [
    "#df_6_C_limit = df_6_C_grouped_sorted[(df_6_C_grouped_sorted[\"indice\"] >= 4) & (df_6_C_grouped_sorted[\"indice\"] <= 10)]\n",
    "#df_6_C_limit\n",
    "\n",
    "df_6_C_limit = df_6_C_grouped_sorted[(df_6_C_grouped_sorted[\"indice\"] <= 10)]\n",
    "df_6_C_limit"
   ]
  },
  {
   "cell_type": "code",
   "execution_count": null,
   "metadata": {},
   "outputs": [
    {
     "name": "stdout",
     "output_type": "stream",
     "text": [
      "<class 'pandas.core.frame.DataFrame'>\n",
      "Index: 133 entries, 67 to 4053\n",
      "Data columns (total 6 columns):\n",
      " #   Column        Non-Null Count  Dtype \n",
      "---  ------        --------------  ----- \n",
      " 0   year          133 non-null    int64 \n",
      " 1   quarter       133 non-null    int64 \n",
      " 2   iso2_code     133 non-null    object\n",
      " 3   developers    133 non-null    int64 \n",
      " 4   indice        133 non-null    int64 \n",
      " 5   year_quarter  133 non-null    object\n",
      "dtypes: int64(4), object(2)\n",
      "memory usage: 7.3+ KB\n"
     ]
    }
   ],
   "source": [
    "df_6_C_limit.info()"
   ]
  },
  {
   "cell_type": "code",
   "execution_count": null,
   "metadata": {},
   "outputs": [],
   "source": [
    "from matplotlib.ticker import FuncFormatter"
   ]
  },
  {
   "cell_type": "code",
   "execution_count": null,
   "metadata": {},
   "outputs": [
    {
     "name": "stderr",
     "output_type": "stream",
     "text": [
      "C:\\Users\\guill\\AppData\\Local\\Temp\\ipykernel_21156\\3411241376.py:2: DeprecationWarning: DataFrameGroupBy.apply operated on the grouping columns. This behavior is deprecated, and in a future version of pandas the grouping columns will be excluded from the operation. Either pass `include_groups=False` to exclude the groupings or explicitly select the grouping columns after groupby to silence this warning.\n",
      "  latest_values = df_6_C_limit.groupby('iso2_code').apply(\n"
     ]
    },
    {
     "data": {
      "image/png": "[encoded data removed]",
      "text/plain": [
       "<Figure size 1400x700 with 1 Axes>"
      ]
     },
     "metadata": {},
     "output_type": "display_data"
    }
   ],
   "source": [
    "\n",
    "\n",
    "# Step 1: Obtener el valor máximo de 'developers' al final de la serie temporal para cada país\n",
    "latest_values = df_6_C_limit.groupby('iso2_code').apply(\n",
    "    lambda x: x.loc[x['year_quarter'].idxmax(), 'developers']\n",
    ").sort_values(ascending=False)\n",
    "\n",
    "# Step 2: Obtener el orden de los países basado en el valor máximo de 'developers'\n",
    "ordered_iso2_codes = latest_values.index\n",
    "\n",
    "# Create a custom formatter function to display values in millions\n",
    "def millions(x, pos):\n",
    "    return f'{x * 1e-6:.1f}M'  # Divide by 1e6 to convert to millions and format to one decimal place\n",
    "\n",
    "# Create the line plot\n",
    "plt.figure(figsize=(14, 7))\n",
    "\n",
    "sns.lineplot(data=df_6_C_limit, x='year_quarter', y='developers', hue='iso2_code', \n",
    "             linewidth=2, hue_order=ordered_iso2_codes)\n",
    "\n",
    "# Customize labels and title\n",
    "plt.xlabel('Año Trimestre')\n",
    "plt.ylabel('Desarrolladores (en millones)')\n",
    "plt.title('Evolución desarrolladores por país')\n",
    "\n",
    "# Rotate the x-tick labels for better readability\n",
    "plt.xticks(rotation=-45, ha='right')\n",
    "\n",
    "# Apply the custom y-axis formatter to display values in millions\n",
    "plt.gca().yaxis.set_major_formatter(FuncFormatter(millions))\n",
    "\n",
    "# Optional: Adjust the legend if needed\n",
    "plt.legend(title='Países', loc='upper left', bbox_to_anchor=(1.05, 1), prop={'size': 20})\n",
    "\n",
    "# Show gridlines for better visualization\n",
    "plt.grid(True, linestyle=\"--\", alpha=0.6)\n",
    "\n",
    "# Tight layout to prevent overlap\n",
    "plt.tight_layout()\n",
    "\n",
    "# Display the plot\n",
    "plt.show()\n",
    "\n"
   ]
  },
  {
   "cell_type": "code",
   "execution_count": null,
   "metadata": {},
   "outputs": [
    {
     "data": {
      "image/png": "[encoded data removed]",
      "text/plain": [
       "<Figure size 1400x700 with 1 Axes>"
      ]
     },
     "metadata": {},
     "output_type": "display_data"
    }
   ],
   "source": [
    "# Crear la figura\n",
    "plt.figure(figsize=(14, 7))\n",
    "\n",
    "# Graficar cada lenguaje individualmente\n",
    "for pais in df_6_C_limit[\"iso2_code\"].unique():\n",
    "    subset = df_6_C_limit[df_6_C_limit[\"iso2_code\"] == pais]\n",
    "    plt.plot(subset[\"year_quarter\"], subset[\"indice\"], label=pais, linewidth=4)\n",
    "\n",
    "# Invertir el eje Y para que 1 sea el top ranking\n",
    "plt.gca().invert_yaxis()\n",
    "\n",
    "# Personalizar ejes y leyenda\n",
    "plt.xlabel(\"Año\")\n",
    "plt.ylabel(\"Ranking\")\n",
    "plt.title(\"Desarrolladores por país\")\n",
    "plt.xticks(df_6_C_limit[\"year_quarter\"].unique(),rotation=-45)  # Asegurar que todos los años están en el eje X\n",
    "plt.yticks(range(1, 16))\n",
    "plt.legend(loc=\"upper left\", bbox_to_anchor=(-0.15, 1), title=\"País\")\n",
    "plt.grid(True, linestyle=\"--\", alpha=0.6)"
   ]
  },
  {
   "cell_type": "code",
   "execution_count": null,
   "metadata": {},
   "outputs": [],
   "source": [
    "plt"
   ]
  },
  {
   "cell_type": "code",
   "execution_count": null,
   "metadata": {},
   "outputs": [
    {
     "data": {
      "application/vnd.microsoft.datawrangler.viewer.v0+json": {
       "columns": [
        {
         "name": "year",
         "rawType": "int64",
         "type": "integer"
        },
        {
         "name": "BR",
         "rawType": "int64",
         "type": "integer"
        },
        {
         "name": "CA",
         "rawType": "int64",
         "type": "integer"
        },
        {
         "name": "CN",
         "rawType": "int64",
         "type": "integer"
        },
        {
         "name": "DE",
         "rawType": "int64",
         "type": "integer"
        },
        {
         "name": "EU",
         "rawType": "int64",
         "type": "integer"
        },
        {
         "name": "GB",
         "rawType": "int64",
         "type": "integer"
        },
        {
         "name": "ID",
         "rawType": "int64",
         "type": "integer"
        },
        {
         "name": "IN",
         "rawType": "int64",
         "type": "integer"
        },
        {
         "name": "JP",
         "rawType": "int64",
         "type": "integer"
        },
        {
         "name": "RU",
         "rawType": "int64",
         "type": "integer"
        },
        {
         "name": "US",
         "rawType": "int64",
         "type": "integer"
        }
       ],
       "conversionMethod": "pd.DataFrame",
       "ref": "84190228-6fde-4e8e-aa6e-b08aff35efad",
       "rows": [
        [
         "2020",
         "6459438",
         "5052504",
         "25700914",
         "5902240",
         "31114781",
         "7184533",
         "0",
         "19739482",
         "5138274",
         "5851974",
         "42943826"
        ],
        [
         "2021",
         "9055907",
         "6382934",
         "30122283",
         "7557419",
         "39599309",
         "8922001",
         "0",
         "27770055",
         "6740792",
         "7746886",
         "52907915"
        ],
        [
         "2022",
         "12630530",
         "0",
         "33191656",
         "9448513",
         "49577329",
         "10994115",
         "8619217",
         "37899097",
         "8588525",
         "9936286",
         "65181640"
        ],
        [
         "2023",
         "16609633",
         "0",
         "36302333",
         "11619149",
         "60810219",
         "13407927",
         "11288411",
         "51240281",
         "11108099",
         "11987019",
         "78969117"
        ],
        [
         "2024",
         "15435754",
         "0",
         "29116881",
         "10364710",
         "53906773",
         "11812713",
         "10372162",
         "48374539",
         "10149536",
         "10615961",
         "69106758"
        ]
       ],
       "shape": {
        "columns": 11,
        "rows": 5
       }
      },
      "text/html": [
       "<div>\n",
       "<style scoped>\n",
       "    .dataframe tbody tr th:only-of-type {\n",
       "        vertical-align: middle;\n",
       "    }\n",
       "\n",
       "    .dataframe tbody tr th {\n",
       "        vertical-align: top;\n",
       "    }\n",
       "\n",
       "    .dataframe thead th {\n",
       "        text-align: right;\n",
       "    }\n",
       "</style>\n",
       "<table border=\"1\" class=\"dataframe\">\n",
       "  <thead>\n",
       "    <tr style=\"text-align: right;\">\n",
       "      <th>iso2_code</th>\n",
       "      <th>BR</th>\n",
       "      <th>CA</th>\n",
       "      <th>CN</th>\n",
       "      <th>DE</th>\n",
       "      <th>EU</th>\n",
       "      <th>GB</th>\n",
       "      <th>ID</th>\n",
       "      <th>IN</th>\n",
       "      <th>JP</th>\n",
       "      <th>RU</th>\n",
       "      <th>US</th>\n",
       "    </tr>\n",
       "    <tr>\n",
       "      <th>year</th>\n",
       "      <th></th>\n",
       "      <th></th>\n",
       "      <th></th>\n",
       "      <th></th>\n",
       "      <th></th>\n",
       "      <th></th>\n",
       "      <th></th>\n",
       "      <th></th>\n",
       "      <th></th>\n",
       "      <th></th>\n",
       "      <th></th>\n",
       "    </tr>\n",
       "  </thead>\n",
       "  <tbody>\n",
       "    <tr>\n",
       "      <th>2020</th>\n",
       "      <td>6459438</td>\n",
       "      <td>5052504</td>\n",
       "      <td>25700914</td>\n",
       "      <td>5902240</td>\n",
       "      <td>31114781</td>\n",
       "      <td>7184533</td>\n",
       "      <td>0</td>\n",
       "      <td>19739482</td>\n",
       "      <td>5138274</td>\n",
       "      <td>5851974</td>\n",
       "      <td>42943826</td>\n",
       "    </tr>\n",
       "    <tr>\n",
       "      <th>2021</th>\n",
       "      <td>9055907</td>\n",
       "      <td>6382934</td>\n",
       "      <td>30122283</td>\n",
       "      <td>7557419</td>\n",
       "      <td>39599309</td>\n",
       "      <td>8922001</td>\n",
       "      <td>0</td>\n",
       "      <td>27770055</td>\n",
       "      <td>6740792</td>\n",
       "      <td>7746886</td>\n",
       "      <td>52907915</td>\n",
       "    </tr>\n",
       "    <tr>\n",
       "      <th>2022</th>\n",
       "      <td>12630530</td>\n",
       "      <td>0</td>\n",
       "      <td>33191656</td>\n",
       "      <td>9448513</td>\n",
       "      <td>49577329</td>\n",
       "      <td>10994115</td>\n",
       "      <td>8619217</td>\n",
       "      <td>37899097</td>\n",
       "      <td>8588525</td>\n",
       "      <td>9936286</td>\n",
       "      <td>65181640</td>\n",
       "    </tr>\n",
       "    <tr>\n",
       "      <th>2023</th>\n",
       "      <td>16609633</td>\n",
       "      <td>0</td>\n",
       "      <td>36302333</td>\n",
       "      <td>11619149</td>\n",
       "      <td>60810219</td>\n",
       "      <td>13407927</td>\n",
       "      <td>11288411</td>\n",
       "      <td>51240281</td>\n",
       "      <td>11108099</td>\n",
       "      <td>11987019</td>\n",
       "      <td>78969117</td>\n",
       "    </tr>\n",
       "    <tr>\n",
       "      <th>2024</th>\n",
       "      <td>15435754</td>\n",
       "      <td>0</td>\n",
       "      <td>29116881</td>\n",
       "      <td>10364710</td>\n",
       "      <td>53906773</td>\n",
       "      <td>11812713</td>\n",
       "      <td>10372162</td>\n",
       "      <td>48374539</td>\n",
       "      <td>10149536</td>\n",
       "      <td>10615961</td>\n",
       "      <td>69106758</td>\n",
       "    </tr>\n",
       "  </tbody>\n",
       "</table>\n",
       "</div>"
      ],
      "text/plain": [
       "iso2_code        BR       CA        CN        DE        EU        GB  \\\n",
       "year                                                                   \n",
       "2020        6459438  5052504  25700914   5902240  31114781   7184533   \n",
       "2021        9055907  6382934  30122283   7557419  39599309   8922001   \n",
       "2022       12630530        0  33191656   9448513  49577329  10994115   \n",
       "2023       16609633        0  36302333  11619149  60810219  13407927   \n",
       "2024       15435754        0  29116881  10364710  53906773  11812713   \n",
       "\n",
       "iso2_code        ID        IN        JP        RU        US  \n",
       "year                                                         \n",
       "2020              0  19739482   5138274   5851974  42943826  \n",
       "2021              0  27770055   6740792   7746886  52907915  \n",
       "2022        8619217  37899097   8588525   9936286  65181640  \n",
       "2023       11288411  51240281  11108099  11987019  78969117  \n",
       "2024       10372162  48374539  10149536  10615961  69106758  "
      ]
     },
     "execution_count": 19,
     "metadata": {},
     "output_type": "execute_result"
    }
   ],
   "source": [
    "df_6_lenguaje10_unstack = df_6_lenguaje10.groupby(['year', \"iso2_code\"])['developers'].sum().unstack(fill_value=0)\n",
    "df_6_lenguaje10_unstack"
   ]
  },
  {
   "cell_type": "code",
   "execution_count": null,
   "metadata": {},
   "outputs": [],
   "source": []
  },
  {
   "cell_type": "code",
   "execution_count": null,
   "metadata": {},
   "outputs": [],
   "source": [
    "from matplotlib.ticker import FuncFormatter"
   ]
  },
  {
   "cell_type": "code",
   "execution_count": null,
   "metadata": {},
   "outputs": [
    {
     "data": {
      "image/png": "[encoded data removed]",
      "text/plain": [
       "<Figure size 1000x600 with 1 Axes>"
      ]
     },
     "metadata": {},
     "output_type": "display_data"
    }
   ],
   "source": [
    "grafica= df_6_lenguaje10_unstack.plot(kind='bar', stacked=True, figsize=(10, 6))\n",
    "grafica.legend(ncol=2)\n",
    "# Formatter function to display y-axis labels in millions\n",
    "def millions(x, pos):\n",
    "    return f'{x * 1e-6:.1f}M'  # Multiply by 1e-6 to convert to millions\n",
    "\n",
    "# Apply the formatter to the y-axis\n",
    "plt.gca().yaxis.set_major_formatter(FuncFormatter(millions))"
   ]
  }
 ],
 "metadata": {
  "kernelspec": {
   "display_name": "Python 3",
   "language": "python",
   "name": "python3"
  },
  "language_info": {
   "codemirror_mode": {
    "name": "ipython",
    "version": 3
   },
   "file_extension": ".py",
   "mimetype": "text/x-python",
   "name": "python",
   "nbconvert_exporter": "python",
   "pygments_lexer": "ipython3",
   "version": "3.11.9"
  },
  "orig_nbformat": 4
 },
 "nbformat": 4,
 "nbformat_minor": 2
}
