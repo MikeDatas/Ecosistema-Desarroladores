{
 "cells": [
  {
   "cell_type": "code",
   "execution_count": 2,
   "metadata": {},
   "outputs": [],
   "source": [
    "import numpy as np\n",
    "import pandas as pd\n",
    "import matplotlib.pyplot as plt\n",
    "import seaborn as sns\n"
   ]
  },
  {
   "cell_type": "code",
   "execution_count": 3,
   "metadata": {},
   "outputs": [],
   "source": [
    "\n",
    "df_7 = pd.read_csv('data/info2/job_skills.csv')\n",
    "fuente_7 = \"https://www.kaggle.com/datasets/asaniczka/data-science-job-postings-and-skills?select=job_skills.csv\"\n",
    "\n",
    "\n",
    "# fuente_7 =  https://github.com/madnight/githut\n",
    "# ..."
   ]
  },
  {
   "cell_type": "code",
   "execution_count": 4,
   "metadata": {},
   "outputs": [
    {
     "data": {
      "application/vnd.microsoft.datawrangler.viewer.v0+json": {
       "columns": [
        {
         "name": "index",
         "rawType": "int64",
         "type": "integer"
        },
        {
         "name": "job_link",
         "rawType": "object",
         "type": "string"
        },
        {
         "name": "job_skills",
         "rawType": "object",
         "type": "unknown"
        }
       ],
       "conversionMethod": "pd.DataFrame",
       "ref": "217c320c-191f-4be1-b0d0-0459aed210aa",
       "rows": [
        [
         "0",
         "https://www.linkedin.com/jobs/view/senior-machine-learning-engineer-at-jobs-for-humanity-3804053819",
         "Machine Learning, Programming, Python, Scala, Java, Data Engineering, Distributed Computing, Statistical Modeling, Optimization, Data Pipelines, Cloud Computing, DevOps, Software Development, Data Gathering, Data Preparation, Data Visualization, Machine Learning Frameworks, scikitlearn, PyTorch, Dask, Spark, TensorFlow, Distributed File Systems, Multi node Database Paradigms, Open Source ML Software, Responsible AI, Explainable AI"
        ],
        [
         "1",
         "https://www.linkedin.com/jobs/view/principal-software-engineer-ml-accelerators-at-aurora-3703455068",
         "C++, Python, PyTorch, TensorFlow, MXNet, CUDA, OpenCL, OpenVX, Halide, SIMD programming models, MLspecific accelerators, Linux/unix environments, Deep learning frameworks, Computer vision deep learning models, ML software and hardware technology, Inference on edge platforms, Cloud ML training pipelines, HPC experience, Performance troubleshooting, Profiling, Roofline model, Analytical skills, Communication skills"
        ],
        [
         "2",
         "https://www.linkedin.com/jobs/view/senior-etl-data-warehouse-specialist-at-adame-services-llc-3765023888",
         "ETL, Data Integration, Data Transformation, Data Warehousing, Business Intelligence, Data Modeling, Data Architecture, Data Quality, Data Validation, Data Cleansing, Performance Optimization, Performance Tuning, Troubleshooting, Documentation, Reporting, Data Analysis, Collaboration, Communication, SQL, Informatica, Talend, Apache NiFi, AWS Redshift, Azure SQL Data Warehouse, Financial/Banking, CloudBased Data Platforms, Regulatory Compliance"
        ],
        [
         "3",
         "https://www.linkedin.com/jobs/view/senior-data-warehouse-developer-architect-at-morph-enterprise-3794602483",
         "Data Lakes, Data Bricks, Azure Data Factory Pipelines, Spark, Python, Business Intelligence, Data Warehouse, SQL Server, Azure, ETL/ELT, SQL Server Integration Services, TSQL, Data Formatting, Data Capture, Data Search, Data Retrieval, Data Extraction, Data Classification, Information Filtering, Data Mining Architectures, Modeling Standards, Reporting, Data Analysis Methodologies, Data Engineering, Database File Systems Optimization, API's, Analytics as a Service, Relational Databases, Dimensional Databases, Entity Relationships, Data Warehousing, Facts, Dimensions, Star Schema Concepts, Star Schema Terminology, Project Management, Organizational Skills, Collaboration, Communication, Technical Presentaion Skills, 12+ Years of Relevant Experience"
        ],
        [
         "4",
         "https://www.linkedin.com/jobs/view/lead-data-engineer-at-dice-3805948138",
         "Java, Scala, Python, RDBMS, NoSQL, Redshift, Snowflake, Unit testing, Agile engineering, Big data technologies, Cloud computing (AWS Microsoft Azure Google Cloud), Distributed data/computing tools (MapReduce Hadoop Hive EMR Kafka Spark Gurobi MySQL), Realtime data and streaming applications, NoSQL implementation (Mongo Cassandra), Data warehousing (Redshift Snowflake), UNIX/Linux, Shell scripting"
        ],
        [
         "5",
         "https://www.linkedin.com/jobs/view/senior-data-engineer-at-university-of-chicago-3798206502",
         "Data Warehouse (DW), Extract/Transform/Load (ETL), Oracle, VPD, MuleSoft, Cloudera Apache Hadoop Ecosystem, Hadoop, Java, Python, R, AI/ML, Predictive Analytics, Business Objects, Tableau, OBIA/OBIEE, Oracle Cloud Financials, Power Designer, Erwin, UNIX, ODBC, JDBC, Perl DBI, Shell Scripting, PL/SQL, SQL Developer, SQL Plus, SQL Loader, TOAD, Data Profiling, SourceTarget Mapping, Transformations, Business Rules, OWB, ODI, Data Stage, Informatica, SQL, Unix Server, Windows Workstation, Windows Server, Microsoft Office, Excel, Analytic Skills, ProblemSolving, Communication Skills, Teamwork, Accountability, Attention to Detail, Accuracy"
        ],
        [
         "6",
         "https://www.linkedin.com/jobs/view/manager-cyber-risk-analysis-machine-learning-at-jobs-for-humanity-3792356406",
         "Machine Learning, Generative AI, Cloudbased services, Risk management, Project management, Process management, Data model, PRIME system, Lean, Green Belt Certification, CRISC, CISM, CRCM, CIPP, ABA Risk Management Certification, Compliance, Legal, Regulatory, Operations, Cybersecurity"
        ],
        [
         "7",
         "https://www.linkedin.com/jobs/view/principal-associate-data-loss-prevention-dlp-engineer-at-jobs-for-humanity-3789001363",
         "Data Loss Prevention (DLP), Cybersecurity, Web Proxy, Email, Endpoint Solutions, Symantec Data Loss Prevention (DLP), Agile Delivery, Public Cloud Security, MultiCloud Environments, IT Delivery Projects, JIRA, Cloud Certifications (AWS), Security Certifications (CISSP), Computer Science, Systems Engineering, Software Development Practices, Platform Engineering"
        ],
        [
         "8",
         "https://www.linkedin.com/jobs/view/senior-financial-data-analyst-at-the-walt-disney-company-3787686471",
         "Problem solving, Data analysis, Predictive analysis, Trend identification, Performance monitoring, Communication, Reporting, Financial risk management, Business process analysis, Excel, Visio, Smartsheet, SNOW, SAP, Tableau, SQL, R, Power BI, Collaboration, Leadership, Bachelor's degree, Professional certification, Graduate degree"
        ],
        [
         "9",
         "https://www.linkedin.com/jobs/view/machine-learning-infrastructure-engineer-at-l-t-technology-services-3784021144",
         "Machine Learning, System Design, Multimodal Input, Prototyping, Data Management, Scalability, Reliability, Performance, DevOps, Python, C++, Distributed Systems, Infrastructure Design, Complex Systems, Software Engineering, ML Pipeline Automation, ML Workflows, ML Systems"
        ],
        [
         "10",
         "https://www.linkedin.com/jobs/view/sr-workforce-management-data-analyst-at-wisemen-multimedia-llc-3756883410",
         "SQL, Database Administration, Advanced Statistical Analysis, Predictive Analytics, Forecasting Techniques, Data Abnormalities Detection, Contact Workforce Management, Crossfunctional Collaboration, Performance Analytics, Business Intelligence, Root Cause Analysis, Forecasting and Scheduling, Service Level Management, Hindsight Analysis, Business Communication, Problemsolving, Decisionmaking, Excel, ACD, BackOffice Work Routing, WFM Software, Bachelor's degree in business accounting finance statistics or economics"
        ],
        [
         "11",
         "https://www.linkedin.com/jobs/view/master-data-management-data-process-analyst-at-opentext-3737391805",
         "Master Data Analyst, Data/Master Data Experience, Polished People/Senior Stakeholder Engagement, Data Cleansing, Data Ingestion Pipelines, Business Process Workflow, Data Matching & Deduplication, Standardization, SemiAgile Delivery Framework, MDM Strategies, MDM Policies, MDM Functional Implementation, MDM Requirement Analysis, Deterministic Matching, Probabilistic Matching, Master Data Hierarchy Management, HighLevel Design, Data Profiling, Data Scorecard Development, Exception Management, LargeScale MDM Project Implementation, Thought Leadership, Data Quality Analysis, Data Governance Policies, Data Transformation, ETL Flows, SourcetoTarget Mapping, Requirements Gathering, Agile/Waterfall SDLC, Time Management, Business Communication, Analytical Skills, ProblemSolving, Informatica MDM/DG, SAP MDM, Data Enrichment, Dun & Bradstreet, SQL"
        ],
        [
         "12",
         "https://www.linkedin.com/jobs/view/4-corporate-associate-positions-amlaw-at-lhh-3798676411",
         "Corporate Law, Private Equity, Venture Capital, M&A, Securities Law, SEC Periodic Reporting, Stock Exchange Rules, Corporate Governance, Capital Raising, Mergers and Acquisitions, Equity Offerings, Debt Offerings, Banking and Finance, Litigation, Collaborative Environment, Exchange Regulations"
        ],
        [
         "13",
         "https://www.linkedin.com/jobs/view/sr-database-administrator-at-dice-3805944749",
         "SQL, AWS, DBA case tools, SQL Server, SQL programming, Scripts, Structured query language, Algorithmic thinking, Programming languages API, Data backup, Data recovery, Data security, Data integrity, Database standards, End user applications, Database design, Database documentation, Database coding, Problemsolving, Attention to detail, Accuracy, Communication skills, Interpersonal skills"
        ],
        [
         "14",
         "https://www.linkedin.com/jobs/view/senior-mlops-engineer-at-recruiting-from-scratch-3783324565",
         "Machine Learning Operations (ML Ops), Engineering, Evaluation Experimentation, Monitoring Processes, ML Workflows, Data Engineering, ETL Pipelines, LLMs, NLP, Reinforcement Learning, Probabilistic Graphs, Deep Learning, Autonomy, Flexibility, Teamfirst Mentality, Mentoring, NYCbased, Hiring, Financial Workflows, Product Ownership"
        ],
        [
         "15",
         "https://uk.linkedin.com/jobs/view/data-engineer-manager-at-energy-jobline-3793277333",
         "Data Engineering, Data Analytics, Data Warehousing, Data Modelling, Data Pipeline Design, ETL (Extract Transform Load), Cloud Computing, Data Lake, Data Strategy, Data Management, Data Governance, SQL, Python, Advanced Statistics, Machine Learning, Team Leadership, Business Requirements Gathering, Business Intelligence, Reporting, Data Visualization, Data Quality, Data Security, Full UK Driving Licence"
        ],
        [
         "16",
         "https://ca.linkedin.com/jobs/view/data-analyst-part-time-at-toyandsons-3757203932",
         "Data Analysis, Data Visualization, Statistical Techniques, Machine Learning, Data Mining, SQL, Python, R, Tableau, Power BI, Data Modeling, Data Quality Management, Data Processing, A/B Testing, Statistical Modeling, Hypothesis Testing, Data Management, ETL Processes, Business Intelligence, DataDriven Decision Making"
        ],
        [
         "17",
         "https://www.linkedin.com/jobs/view/summer-2024-datacenter-hardware-validation-engineer-undergrad-co-op-intern-at-amd-3792253704",
         "Hardware Validation, ML/AI Frameworks, Test Execution, Automation Development, Debugging, GPU, HighPerformance Computing, Python, Linux, C/C++, Schematics, Circuit Design, Data Traffic Management, Electrical Laboratory Equipment, Computer Architecture, Processors, Interconnects, Firmware, ML/AI Models, Workloads"
        ],
        [
         "18",
         "https://www.linkedin.com/jobs/view/enterprise-data-manager-product-owner-at-dmvtek-3742043410",
         "Data governance, Data lineage, Data interdependencies, Data standards, Data consistency, Governance rules, Governance controls, Data quality, Data analytics, Business intelligence, Data lakes, Data Warehouse, Data gaps, Data flows, Data catalogues, Relational databases, Data transformations, Data mappings, Data modelling, Data findings, Data recommendations, Data consolidation, Agile Product Owner, Healthcare IT systems, Electronic Medical Record systems, EDW, Data Maturity Model, Tableau, Power BI, Data modernization, Data security, Data stewards, Dashboards, Data assets, Data feeds, Data privacy, Data governance policies, Data governance meetings, Third party data, First party data, Derivative data, Second party data, Product backlog, Product development, Product stakeholders, Health Informatics, Public Health, Data Science, Epidemiology, Biostatistics, Public Policy, Health Policy, Health Services Research, Health Information Sciences, Computer Science, Data governance efforts, Data sharing projects, Agile Product Owner, Enterprisewide data governance, Data lakes, Data maturity models, Health and human services"
        ],
        [
         "19",
         "https://www.linkedin.com/jobs/view/it-database-developer-senior-dba-admin-at-experis-3770918380",
         "SQL Server, SSIS, Power BI, Azure, AWS, Windows, Linux, PowerShell, SQL DBA, System Utilities, Debugging Tools, Monitoring Tools, Corporate Database Standards, Strategic Database Technologies, Data Management Principles, Data Management Techniques, Information Systems"
        ],
        [
         "20",
         "https://www.linkedin.com/jobs/view/contractor-epic-clarity-data-analyst-revenue-cycle-at-deloitte-3805724958",
         "Revenue Cycle, Healthcare Data Analysis, Data Visualization, Epic Clarity Reporting, SQL, Python, R, Analytic Methods, Statistical Methods, Project Management, Agile Development, Communication Skills, Technical Abilities, Epic Revenue Cycle Certification, Certified Health Data Analyst (CHDA) certification, Bachelor of Science degree, 4+ years of relevant experience, 2+ years of data analysis in healthcare, Strong grasp of analytic and statistical methods, Clinical Experience, Excellent written and oral communication skills, Excellent organizational and analytical skills, Strong technical abilities"
        ],
        [
         "21",
         "https://www.linkedin.com/jobs/view/data-engineering-architect-at-dice-3805941847",
         "Data Engineering, Data Architect, Data Infrastructure, Data Pipelines, AWS S3, AWS EMR, GraphQL API, Data Science, Data Analysis, SQL, NoSQL, DataFocused Programming Languages, Python, R, Scala, Petabytes of Data, Bachelor's Degree, Master's Degree, AWS Certified Cloud Data Engineer, ETL Systems, ELT Systems"
        ],
        [
         "22",
         "https://www.linkedin.com/jobs/view/staff-data-engineer-fleet-analytics-at-tesla-3737835058",
         "Data analytics, Data engineering, Data science, Data processing, Data pipelines, Data visualizations, Machine learning, Software engineering, Python, SQL, Scala, Hadoop Distributed File System (HDFS), Spark, Presto, Linux, Ansible, Docker, Kubernetes, Jupyter Notebooks, Pandas, Bokeh, Superset, Airflow, Statistics, Communication skills, Problemsolving skills"
        ],
        [
         "23",
         "https://uk.linkedin.com/jobs/view/senior-data-engineer-azure-python-scala-spark-at-templeton-and-partners-tech-recruitment-3662399726",
         "Azure, ADLS, Databricks, Stream Analytics, SQL DW, COSMOS DB, Analysis Services, Azure Functions, Serverless Architecture, ARM Templates, Python, SQL, Scala, SparkSQL, Hadoop, Spark, Kafka, Postgres, Cassandra, Azkaban, Luigi, Airflow, Storm"
        ],
        [
         "24",
         "https://www.linkedin.com/jobs/view/senior-data-engineer-public-company-at-recruiting-from-scratch-3744399380",
         "Data Engineering, Business Intelligence, Data Science, Python, Snowflake, Airflow, Kubernetes, Docker, Helm, Spark, pySpark, SQL, TDD, Pair Programming, Continuous Integration, Automated Testing, Deployment, StreamProcessing Systems, Kafka, Storm, SparkStreaming, Dimensional Data Modeling, Schema Design, ETL, Data Warehouses, Data Management Tools, Data Classification, Data Retention"
        ],
        [
         "25",
         "https://www.linkedin.com/jobs/view/it-data-lifecycle-manager-at-labella-associates-3745903864",
         "Data Lifecycle Management, File System Management, Data Governance, Network Share Management, Project Folder/File Structure Creation, Network Share/File/Folder Permissions Management, Large Data Set Migration, Legacy to Modern Systems Data Transfer, NonHomogenous File/Directory Structures Data Integration, Microsoft Distributed File Systems, Windows Server OS Administration, Microsoft Office 365, Active Directory, Granular NTFS File Permissions, Windows File ACLs, NFS Shares, CloudBased Storage Systems, Azure, AWS, Communication Skills, Troubleshooting, Organizational Skills, SQL"
        ],
        [
         "26",
         "https://www.linkedin.com/jobs/view/lead-software-engineer-full-stack-enterprise-data-at-jobs-for-humanity-3788699165",
         "Software Engineering, Microservices, Full Stack Development, Cloud Computing (AWS Microsoft Azure Google Cloud), Programming Languages (Python Go), AWS Tools and Services, Data Management, Data Compliance, Mentoring, Technical Problem Solving, Agile Practices, People Management, Open Source Frameworks (Airflow Spark Presto Snowflake), Regulatory Compliance"
        ],
        [
         "27",
         "https://www.linkedin.com/jobs/view/senior-architect-data-analytics-product-line-at-rsc2-inc-3619211106",
         "Senior Architect, Data Analytics, Product Line, Project Management, Design, Strategy, Agile Development, Collaboration, Presentation Skills, Leadership, Communication, Business Acumen, Master's Degree, Computer Science, Engineering, Math, Security Clearance, Washington DC"
        ],
        [
         "28",
         "https://www.linkedin.com/jobs/view/vcp-design-to-value-project-manager-and-data-analyst-mr-at-ge-healthcare-3804602326",
         "Variable Cost Productivity, Data Analytics, Costbenefit Analysis, Return on Investment Analysis, Product Configuration Management, Locally Sourced Items, Data Mining, LEAN, Six Sigma, ISO, CFDA, SQL, HTML, CSS, JavaScript, Python, C++, Java"
        ],
        [
         "29",
         "https://www.linkedin.com/jobs/view/lead-data-engineer-python-java-or-scala-at-dice-3805947503",
         "Python, Java, Scala, Agile, Data Modeling, Machine Learning, Distributed Microservices, Cloud Computing, AWS, Microsoft Azure, Google Cloud, Open Source RDBMS, NoSQL, Cloudbased Data Infrastructure, SQL, Hadoop, Hive, EMR, Kafka, Spark, Gurobi, MySQL, UNIX/Linux, Agile Engineering Practices"
        ],
        [
         "30",
         "https://www.linkedin.com/jobs/view/data-scientist-at-futran-solutions-3713035221",
         "Data science, Machine learning, Artificial intelligence, Data management, Data analysis, Data visualization, Business intelligence, Data mining, R, Python, Pytorch, Tensorflow, Model building"
        ],
        [
         "31",
         "https://uk.linkedin.com/jobs/view/senior-data-analyst-at-huws-gray-3806880530",
         "Data Analysis, Reporting, Team Management, Data Systems Improvement, SQL, Tableau, Excel, Leadership, Decision Making, Time Management, Communication, Team Work, Annual Leave, Benefits, Performance Bonus, Pension Scheme, Life Assurance, Colleague Discount, Training"
        ],
        [
         "32",
         "https://www.linkedin.com/jobs/view/data-visualization-business-intelligence-analyst-3019-at-smx-3760167341",
         "Data Visualization, Business Intelligence, Power BI, DAX, SQL, TransactSQL, OLTP, OLAP, ETL/ELT, Excel, Data Structures, Data Integrity, Software Development Lifecycle, Security, Privacy, Documentation, Communication, Interpersonal Skills, Presentation Skills, Critical Thinking, Problem Solving, Analytical Skills, Initiative, Teamwork, Time Management, Prioritization, DoD 8570, SECNAV 5239.2, Secret Clearance or ability to obtain, Bachelor's degree in Computer Science Information Systems or Computer Engineering, 4 years related experience, 3+ years of BI development using Power BI or equivalent tool, 3+ years of SQL and databases, 3+ years of Excel experience, Knowledge of ETL/ELT techniques and methodologies along with best practices, Exceptional analytical critical thinking and problemsolving abilities, Highly selfdirected, Takes initiative, Can work independently while being a strong contributor to a team, Effective prioritization and time management skills, Can thrive in a dynamic environment in which priorities might change frequently, Excellent communication and interpersonal skills, Strong documentation and presentation skills, Work requires CSWF certification, Security+ or CISSP"
        ],
        [
         "33",
         "https://www.linkedin.com/jobs/view/principal-associate-data-loss-prevention-dlp-engineer-at-jobs-for-humanity-3792318995",
         "Data Loss Prevention (DLP), Cybersecurity, DLP Controls, SaaS, IaaS, Information Security Policy, Standards, Web proxy, Email solutions, Endpoint solutions, Communication skills, Technical initiatives, Collaboration, Enterprise cybersecurity, Technical delivery, Product security, Software development practices, Platform engineering, Troubleshooting, Investigating, Configuring, Supporting, Data protection, Symantec Data Loss Prevention (DLP), High School Diploma, GED, Cybersecurity, Information technology, Agile delivery model, Public cloud security, Multicloud environments, JIRA, CISSP, GIAC, CISM, CCSP, CISA, Security+, AWS Cloud Practitioner, AWS Solution Architect  Associate, AWS Developer  Associate, AWS Security  Specialty, AWS Solution Architect  Professional, McLean VA, Performancebased incentive compensation, Health, Financial benefits, Capital One Careers website, Equal opportunity employer, Diversity and inclusion, Accommodation during the application process, Technical support, Recruiting process"
        ],
        [
         "34",
         "https://www.linkedin.com/jobs/view/data-scientist-at-rand-corporation-3799959396",
         "Data Management, Statistical Analysis, SAS, R, Simulation Modeling, AgentBased Modeling, Dynamic Modeling, Discrete Event Modeling, Data Science, Health Economics, Healthcare, Large Language Models, Longitudinal Surveys, Statistical Programming, Medicare, Medicaid, Marketscan Data, Problem Solving, Interpersonal Skills, Communication Skills, Teamwork, Statistics, Biostatistics, Quantitative Analysis, U.S. Citizenship, Security Clearance"
        ],
        [
         "35",
         "https://www.linkedin.com/jobs/view/senior-data-architect-at-uk-health-security-agency-3799458004",
         "Data Modelling, Data Architecture, Data Governance, Data Standards, Data Analysis, Data Synthesis, Data Profiling, Source System Analysis, Metadata Management, AWS, Azure, SQL Server, RedShift, JIRA, Confluence, Draw IO, Visio, Collibra, Informatica, Communicating between Technical and NonTechnical Subjects, Engaging Collaboratively with Stakeholders, Leading Process Development, Evaluating Existing Data Systems, Providing Comprehensive Documentation, Championing Opportunities for Enhancing Current Data Architecture, Designing Data Architecture that Deals with Problems Spanning Different Business Areas, Identifying Similarities between Problems to Devise Common Solutions, Understanding the Impact on the Organisation of Emerging Trends in Data Tools Analysis Techniques and Data Usage, Working within a Strategic Context and Communicating How Activities Meet Strategic Goals"
        ],
        [
         "36",
         "https://www.linkedin.com/jobs/view/senior-data-engineer-public-company-at-recruiting-from-scratch-3744387832",
         "Python, Data Engineering, Data Science, Business Intelligence, Snowflake, Airflow, Kubernetes, Docker, Helm, Spark, PySpark, SQL, Data Warehouses, Kafka, Storm, SparkStreaming, ETL, TDD, Pair Programming, Continuous Integration, Deployment, Agile Engineering Practices, Dimensional Data Modeling, Schema Design, Legal Compliance, Data Classification, Data Retention"
        ],
        [
         "37",
         "https://uk.linkedin.com/jobs/view/data-quality-manager-football-association-at-guardian-jobs-3801788021",
         "Data Quality Manager, Data Quality Standards, Data Quality Framework, Data Quality KPIs, Data Council, Data Owners, Data Stewards, Data Quality Issues, Data Quality Initiatives, Microsoft Purview, Data Quality Rules, Data Quality Processes, Data Quality Procedures, Data Quality Mindset, Best Practices, ProblemSolving, Analytical Abilities, Communication Skills, Collaboration Skills, SelfStarter, Initiative, Bachelor's Degree, Computer Science, Information Management, Statistics, Data Quality Management, Data Quality Concepts, Data Quality Methodologies, Data Quality Frameworks, Microsoft Purview, Data Quality Tools, Competitive Salary, Development Opportunities, Event Day Tickets, Internal Events, Free Lunches, Free Private Medical Cover, Contributory Pension Scheme, Additional Thank You Days, Volunteering Days, Annual Leave, Hybrid Working Model, Remote Work, Fixed Location, Wembley Stadium, St. George's Park, Processing Centre, Homebased Contract"
        ],
        [
         "38",
         "https://www.linkedin.com/jobs/view/senior-ml-engineer-at-cybercoders-3789459946",
         "Machine learning, Deep learning, Computer vision, Object detection, Python, C++, Linux, Git, Automotive AI, Medical device, Data pipelines, Design, Deployment, Algorithm optimization"
        ],
        [
         "39",
         "https://www.linkedin.com/jobs/view/director-ontology-and-data-modeling-at-jobs-for-humanity-3804059234",
         "Ontology, Data Modeling, Linked Data, SPARQL, Graph Databases, Python, R, JSON, OpenAPI/YAML, AVRO, SQL, Protégé, TopQuadrant, PoolParty, Stardog, AnzoGraph, Neptune, Data.World, Agile Principles, Processes, Methodologies, Amazon Web Services, Communication Skills, Project Management, ProblemSolving, DetailOrientation, Reading Comprehension, Writing Skills"
        ],
        [
         "40",
         "https://www.linkedin.com/jobs/view/sr-data-scientist-at-anser-3693346470",
         "Data Analytics, Data Engineering, Data Mining, Exploratory Analysis, Predictive Analysis, Statistical Analysis, Artificial Intelligence, Machine Learning, Data Visualization, Microsoft Office (Power BI), Tableau, R, Python, SQL, MultiINT Analytics, Automated Predictive Analytics, TS/SCI, Master's Degree, Bachelor's Degree, 12+ Years of Experience, 5+ Years of Related Experience"
        ],
        [
         "41",
         "https://www.linkedin.com/jobs/view/sr-data-engineer-etl-with-security-clearance-at-clearancejobs-3753445788",
         "ETL, Master Data Management, Data pipelines, Databricks, AWS services, Data quality, Data validation, Data cleansing, Data enrichment, Agile Scrum SDLC, Unit testing, Integration testing, User acceptance testing, Scala, Java, Apache Spark, AWS Glue, Data Lakehouse architecture, OpenSearch, Amazon S3, Amazon Redshift, Tika, Docker, ElasticSearch, NoSQL databases, AWS Lambda, SQS, NiFi"
        ],
        [
         "42",
         "https://uk.linkedin.com/jobs/view/assitant-vice-president-senior-database-sme-at-mufg-3777580139",
         "Database Platform Operations, Microsoft SQL Server, Oracle, Sybase ASE, MongoDB, Snowflake, Unix / Linux, Windows Server, Bash, PowerShell, Python, SQL, TSQL, PLSQL, Clustering, HighAvailability, Replication, Disaster Recovery, Backup and Recovery, SQL and Systems Performance Tuning, Network Optimization, Storage Optimization, Server Optimization, Virtualisation, Logical and Physical Database Design, CIS Security Hardening, Security and Auditing, AWX / Ansible Tower, Git, Ansible, Terraform, TeamCity, Serena Deployment Automation (SDA), Jenkins, Kubernetes, Docker, Infrastructure as Code, Continuous Integration (CI), Continuous Development (CD), Agile, Site Reliability Engineering, DevOps, Active Directory, LDAP, Kerberos, BMC ControlM, Oracle Cloud Control, IBM Tivoli / Netcool, Oracle ODA, Nutanix HCI, VMWare ESX, Networking Protocols (TCP/IP DNS DHCP VLAN’s), Cloud Computing, IaaS, PaaS, SaaS, Azure, AWS, GCP, Oracle, GDPR, SOX, Dell EMC PowerStore (SAN), Isilon (NAS), Rubrik, EMC Networker, Data Domain, IBM Tivoli Storage Manager, CyberArk, Splunk, Qualys, Cisco Tetration, ServiceNow, JIRA, Confluence, Communication, Interpersonal Skills, Pressure Handling, ProblemSolving Skills, ResultsDriven, Accountability, Proactive Approach, Motivation, Urgency Management, Prioritization, Structured Approach, Logical Approach, Attention to Detail, Accuracy, Performance Under Pressure, Conflict Management, Large Workload Management, Tight Deadline Management, Complex Technical Communication, Diversity and Inclusion"
        ],
        [
         "43",
         "https://www.linkedin.com/jobs/view/sr-analyst-it-data-science-at-reynolds-american-inc-3775205684",
         "Data Analysis, Machine Learning, Python, PySpark, SQL, Statistical Models, Analytics Environment, Data Science, Communication Skills, Collaboration Skills, Analytical Skills, Problem Solving Skills, Bachelor's Degree in Computer Science Computer Information Systems Mathematics Statistics or Economics, Experience in a Consumer Packaged Goods Company"
        ],
        [
         "44",
         "https://www.linkedin.com/jobs/view/electrical-data-center-project-manager-at-miller-electric-company-3793530333",
         "Electrical project management, Building Electrical systems, Electrical Distribution, Emergency Generators, Uninterruptible Power Supplies (UPS), High/Medium/Low voltage applications, Heating Ventilation Air Conditioning Plumbing, Critical Water systems, Fire/Life Safety Protection Systems, Root cause analysis, Computerbased estimating, OSHA Certification, College degree, Journeyman’s license, Master electrician’s license, Strong communication skills, Organizational skills, Teamwork skills"
        ],
        [
         "45",
         "https://www.linkedin.com/jobs/view/distinguished-engineer-card-tech-data-remote-elligble-at-jobs-for-humanity-3804057368",
         "Data Engineering, Real Time API design, Cloud native platforms, Serverless computing, High performance computing, Microservices, Data pipelines, Data Mesh, Data Fabric, Multitenancy, Data platform strategies, Software engineering, Problem solving, Operational platforms, Distributed operational systems, Resilience, Scalability, High availability, Data cleaning, Data transformation, Mentoring, Recruiting, Bachelor's Degree, Master's Degree, At least 7 years experience, At least 8 years experience, At least 10 years experience"
        ],
        [
         "46",
         "https://uk.linkedin.com/jobs/view/quality-coach-iqa-it-and-data-apprenticeships-at-km-education-recruitment-3790195005",
         "Remote work, IQA Award, IT industry qualification (Level 4 or above), Handson experience in IT/Data sector, Level 4 teaching qualification (or willingness to pursue one), Understanding of Ofsted EIF, Coaching and guidance, Performance reviews, Observation, Corrective actions, Performance management, Quality assurance, Compliance, Targets/KPIs, Strategy implementation, Teamwork, Communication, Motivation, Problemsolving"
        ],
        [
         "47",
         "https://www.linkedin.com/jobs/view/staff-data-scientist-financial-strategy-at-stripe-3785926208",
         "Data Science, Quantitative Field, Technical Leadership, Interdisciplinary Collaboration, Execution and Velocity, Research and Statistical Depth, Scalable Design, Mentorship and Development, Forecasting Systems, Marketplace Dynamics, Experimental Design and Analysis, Stakeholder Alignment, Metric Frameworks, Hybrid Work, Pay and Benefits"
        ],
        [
         "48",
         "https://www.linkedin.com/jobs/view/senior-counsel-data-privacy-and-cybersecurity-at-professional-diversity-network-3805988239",
         "Data privacy, Cybersecurity law, Contract law, Litigation, Legal compliance, Nondisclosure agreements, Sales and purchasing agreements, Distributor/reseller agreements, Supply agreements, Marketing and other service agreements, Commercial contracts, Employment law, Antitrust, Intellectual property, Export control, Environmental regulations, Diversity equity and inclusion, Communication skills, Multitasking, Teamwork, Travel, Spanish, Portuguese, Law school graduation, California law practice admission, 612 years corporate law department or law firm experience, Law"
        ],
        [
         "49",
         "https://www.linkedin.com/jobs/view/data-engineering-manager-san-antonio-at-argo-group-3805541206",
         "Data Engineering, Leadership, Project Management, Data Warehousing, P&C Insurance, SQL, Talend, ETL, AWS, Big Data, Orchestration, Cloud Computing, Data Security, Data Governance, Communication, Collaboration, Snowflake, Agile, Java, Python, Linux, Hadoop, Spark, NoSQL, Machine Learning, AI, Data Analytics, Business Intelligence, Bachelor's or Master's degree in Computer Science Data Engineering or a related field from an accredited college or university, Proven handson experience with Snowflake SQL Talend AWS and big data technologies, Indepth knowledge of the Property and Casualty (P&C) insurance domain, Experience leading and managing data engineering teams, Strong communication skills with the ability to collaborate effectively across departments, Certifications in Snowflake Talend AWS or related technologies, Familiarity with data governance security and compliance standards"
        ]
       ],
       "shape": {
        "columns": 2,
        "rows": 12217
       }
      },
      "text/html": [
       "<div>\n",
       "<style scoped>\n",
       "    .dataframe tbody tr th:only-of-type {\n",
       "        vertical-align: middle;\n",
       "    }\n",
       "\n",
       "    .dataframe tbody tr th {\n",
       "        vertical-align: top;\n",
       "    }\n",
       "\n",
       "    .dataframe thead th {\n",
       "        text-align: right;\n",
       "    }\n",
       "</style>\n",
       "<table border=\"1\" class=\"dataframe\">\n",
       "  <thead>\n",
       "    <tr style=\"text-align: right;\">\n",
       "      <th></th>\n",
       "      <th>job_link</th>\n",
       "      <th>job_skills</th>\n",
       "    </tr>\n",
       "  </thead>\n",
       "  <tbody>\n",
       "    <tr>\n",
       "      <th>0</th>\n",
       "      <td>https://www.linkedin.com/jobs/view/senior-mach...</td>\n",
       "      <td>Machine Learning, Programming, Python, Scala, ...</td>\n",
       "    </tr>\n",
       "    <tr>\n",
       "      <th>1</th>\n",
       "      <td>https://www.linkedin.com/jobs/view/principal-s...</td>\n",
       "      <td>C++, Python, PyTorch, TensorFlow, MXNet, CUDA,...</td>\n",
       "    </tr>\n",
       "    <tr>\n",
       "      <th>2</th>\n",
       "      <td>https://www.linkedin.com/jobs/view/senior-etl-...</td>\n",
       "      <td>ETL, Data Integration, Data Transformation, Da...</td>\n",
       "    </tr>\n",
       "    <tr>\n",
       "      <th>3</th>\n",
       "      <td>https://www.linkedin.com/jobs/view/senior-data...</td>\n",
       "      <td>Data Lakes, Data Bricks, Azure Data Factory Pi...</td>\n",
       "    </tr>\n",
       "    <tr>\n",
       "      <th>4</th>\n",
       "      <td>https://www.linkedin.com/jobs/view/lead-data-e...</td>\n",
       "      <td>Java, Scala, Python, RDBMS, NoSQL, Redshift, S...</td>\n",
       "    </tr>\n",
       "    <tr>\n",
       "      <th>...</th>\n",
       "      <td>...</td>\n",
       "      <td>...</td>\n",
       "    </tr>\n",
       "    <tr>\n",
       "      <th>12212</th>\n",
       "      <td>https://uk.linkedin.com/jobs/view/data-reporti...</td>\n",
       "      <td>Dashboard development, Reporting, Power BI, SQ...</td>\n",
       "    </tr>\n",
       "    <tr>\n",
       "      <th>12213</th>\n",
       "      <td>https://www.linkedin.com/jobs/view/corporate-a...</td>\n",
       "      <td>Investigation, Antimoney laundering, Fraud, Ba...</td>\n",
       "    </tr>\n",
       "    <tr>\n",
       "      <th>12214</th>\n",
       "      <td>https://www.linkedin.com/jobs/view/senior-data...</td>\n",
       "      <td>Data Science, Quantitative Modeling, SQL, Data...</td>\n",
       "    </tr>\n",
       "    <tr>\n",
       "      <th>12215</th>\n",
       "      <td>https://www.linkedin.com/jobs/view/senior-data...</td>\n",
       "      <td>Data Engineering, Data Quality, SQL, Python, T...</td>\n",
       "    </tr>\n",
       "    <tr>\n",
       "      <th>12216</th>\n",
       "      <td>https://www.linkedin.com/jobs/view/medical-tec...</td>\n",
       "      <td>Medical Technology, MLS, Microbiology, Clinica...</td>\n",
       "    </tr>\n",
       "  </tbody>\n",
       "</table>\n",
       "<p>12217 rows × 2 columns</p>\n",
       "</div>"
      ],
      "text/plain": [
       "                                                job_link  \\\n",
       "0      https://www.linkedin.com/jobs/view/senior-mach...   \n",
       "1      https://www.linkedin.com/jobs/view/principal-s...   \n",
       "2      https://www.linkedin.com/jobs/view/senior-etl-...   \n",
       "3      https://www.linkedin.com/jobs/view/senior-data...   \n",
       "4      https://www.linkedin.com/jobs/view/lead-data-e...   \n",
       "...                                                  ...   \n",
       "12212  https://uk.linkedin.com/jobs/view/data-reporti...   \n",
       "12213  https://www.linkedin.com/jobs/view/corporate-a...   \n",
       "12214  https://www.linkedin.com/jobs/view/senior-data...   \n",
       "12215  https://www.linkedin.com/jobs/view/senior-data...   \n",
       "12216  https://www.linkedin.com/jobs/view/medical-tec...   \n",
       "\n",
       "                                              job_skills  \n",
       "0      Machine Learning, Programming, Python, Scala, ...  \n",
       "1      C++, Python, PyTorch, TensorFlow, MXNet, CUDA,...  \n",
       "2      ETL, Data Integration, Data Transformation, Da...  \n",
       "3      Data Lakes, Data Bricks, Azure Data Factory Pi...  \n",
       "4      Java, Scala, Python, RDBMS, NoSQL, Redshift, S...  \n",
       "...                                                  ...  \n",
       "12212  Dashboard development, Reporting, Power BI, SQ...  \n",
       "12213  Investigation, Antimoney laundering, Fraud, Ba...  \n",
       "12214  Data Science, Quantitative Modeling, SQL, Data...  \n",
       "12215  Data Engineering, Data Quality, SQL, Python, T...  \n",
       "12216  Medical Technology, MLS, Microbiology, Clinica...  \n",
       "\n",
       "[12217 rows x 2 columns]"
      ]
     },
     "execution_count": 4,
     "metadata": {},
     "output_type": "execute_result"
    }
   ],
   "source": [
    "df_7"
   ]
  },
  {
   "cell_type": "code",
   "execution_count": 5,
   "metadata": {},
   "outputs": [
    {
     "name": "stdout",
     "output_type": "stream",
     "text": [
      "<class 'pandas.core.frame.DataFrame'>\n",
      "RangeIndex: 12217 entries, 0 to 12216\n",
      "Data columns (total 2 columns):\n",
      " #   Column      Non-Null Count  Dtype \n",
      "---  ------      --------------  ----- \n",
      " 0   job_link    12217 non-null  object\n",
      " 1   job_skills  12212 non-null  object\n",
      "dtypes: object(2)\n",
      "memory usage: 191.0+ KB\n"
     ]
    }
   ],
   "source": [
    "df_7.info()"
   ]
  },
  {
   "cell_type": "code",
   "execution_count": 6,
   "metadata": {},
   "outputs": [],
   "source": [
    "df_7 = df_7.dropna()"
   ]
  },
  {
   "cell_type": "code",
   "execution_count": 7,
   "metadata": {},
   "outputs": [
    {
     "name": "stderr",
     "output_type": "stream",
     "text": [
      "C:\\Users\\guill\\AppData\\Local\\Temp\\ipykernel_13768\\2272534376.py:1: SettingWithCopyWarning: \n",
      "A value is trying to be set on a copy of a slice from a DataFrame.\n",
      "Try using .loc[row_indexer,col_indexer] = value instead\n",
      "\n",
      "See the caveats in the documentation: https://pandas.pydata.org/pandas-docs/stable/user_guide/indexing.html#returning-a-view-versus-a-copy\n",
      "  df_7['skill_count'] = df_7['job_skills'].str.split(', ').apply(len)\n"
     ]
    },
    {
     "data": {
      "application/vnd.microsoft.datawrangler.viewer.v0+json": {
       "columns": [
        {
         "name": "index",
         "rawType": "int64",
         "type": "integer"
        },
        {
         "name": "job_link",
         "rawType": "object",
         "type": "string"
        },
        {
         "name": "job_skills",
         "rawType": "object",
         "type": "string"
        },
        {
         "name": "skill_count",
         "rawType": "int64",
         "type": "integer"
        }
       ],
       "conversionMethod": "pd.DataFrame",
       "ref": "e1444289-2286-4b25-9574-0d61bb5538c9",
       "rows": [
        [
         "0",
         "https://www.linkedin.com/jobs/view/senior-machine-learning-engineer-at-jobs-for-humanity-3804053819",
         "Machine Learning, Programming, Python, Scala, Java, Data Engineering, Distributed Computing, Statistical Modeling, Optimization, Data Pipelines, Cloud Computing, DevOps, Software Development, Data Gathering, Data Preparation, Data Visualization, Machine Learning Frameworks, scikitlearn, PyTorch, Dask, Spark, TensorFlow, Distributed File Systems, Multi node Database Paradigms, Open Source ML Software, Responsible AI, Explainable AI",
         "27"
        ],
        [
         "1",
         "https://www.linkedin.com/jobs/view/principal-software-engineer-ml-accelerators-at-aurora-3703455068",
         "C++, Python, PyTorch, TensorFlow, MXNet, CUDA, OpenCL, OpenVX, Halide, SIMD programming models, MLspecific accelerators, Linux/unix environments, Deep learning frameworks, Computer vision deep learning models, ML software and hardware technology, Inference on edge platforms, Cloud ML training pipelines, HPC experience, Performance troubleshooting, Profiling, Roofline model, Analytical skills, Communication skills",
         "23"
        ],
        [
         "2",
         "https://www.linkedin.com/jobs/view/senior-etl-data-warehouse-specialist-at-adame-services-llc-3765023888",
         "ETL, Data Integration, Data Transformation, Data Warehousing, Business Intelligence, Data Modeling, Data Architecture, Data Quality, Data Validation, Data Cleansing, Performance Optimization, Performance Tuning, Troubleshooting, Documentation, Reporting, Data Analysis, Collaboration, Communication, SQL, Informatica, Talend, Apache NiFi, AWS Redshift, Azure SQL Data Warehouse, Financial/Banking, CloudBased Data Platforms, Regulatory Compliance",
         "27"
        ],
        [
         "3",
         "https://www.linkedin.com/jobs/view/senior-data-warehouse-developer-architect-at-morph-enterprise-3794602483",
         "Data Lakes, Data Bricks, Azure Data Factory Pipelines, Spark, Python, Business Intelligence, Data Warehouse, SQL Server, Azure, ETL/ELT, SQL Server Integration Services, TSQL, Data Formatting, Data Capture, Data Search, Data Retrieval, Data Extraction, Data Classification, Information Filtering, Data Mining Architectures, Modeling Standards, Reporting, Data Analysis Methodologies, Data Engineering, Database File Systems Optimization, API's, Analytics as a Service, Relational Databases, Dimensional Databases, Entity Relationships, Data Warehousing, Facts, Dimensions, Star Schema Concepts, Star Schema Terminology, Project Management, Organizational Skills, Collaboration, Communication, Technical Presentaion Skills, 12+ Years of Relevant Experience",
         "41"
        ],
        [
         "4",
         "https://www.linkedin.com/jobs/view/lead-data-engineer-at-dice-3805948138",
         "Java, Scala, Python, RDBMS, NoSQL, Redshift, Snowflake, Unit testing, Agile engineering, Big data technologies, Cloud computing (AWS Microsoft Azure Google Cloud), Distributed data/computing tools (MapReduce Hadoop Hive EMR Kafka Spark Gurobi MySQL), Realtime data and streaming applications, NoSQL implementation (Mongo Cassandra), Data warehousing (Redshift Snowflake), UNIX/Linux, Shell scripting",
         "17"
        ],
        [
         "5",
         "https://www.linkedin.com/jobs/view/senior-data-engineer-at-university-of-chicago-3798206502",
         "Data Warehouse (DW), Extract/Transform/Load (ETL), Oracle, VPD, MuleSoft, Cloudera Apache Hadoop Ecosystem, Hadoop, Java, Python, R, AI/ML, Predictive Analytics, Business Objects, Tableau, OBIA/OBIEE, Oracle Cloud Financials, Power Designer, Erwin, UNIX, ODBC, JDBC, Perl DBI, Shell Scripting, PL/SQL, SQL Developer, SQL Plus, SQL Loader, TOAD, Data Profiling, SourceTarget Mapping, Transformations, Business Rules, OWB, ODI, Data Stage, Informatica, SQL, Unix Server, Windows Workstation, Windows Server, Microsoft Office, Excel, Analytic Skills, ProblemSolving, Communication Skills, Teamwork, Accountability, Attention to Detail, Accuracy",
         "49"
        ],
        [
         "6",
         "https://www.linkedin.com/jobs/view/manager-cyber-risk-analysis-machine-learning-at-jobs-for-humanity-3792356406",
         "Machine Learning, Generative AI, Cloudbased services, Risk management, Project management, Process management, Data model, PRIME system, Lean, Green Belt Certification, CRISC, CISM, CRCM, CIPP, ABA Risk Management Certification, Compliance, Legal, Regulatory, Operations, Cybersecurity",
         "20"
        ],
        [
         "7",
         "https://www.linkedin.com/jobs/view/principal-associate-data-loss-prevention-dlp-engineer-at-jobs-for-humanity-3789001363",
         "Data Loss Prevention (DLP), Cybersecurity, Web Proxy, Email, Endpoint Solutions, Symantec Data Loss Prevention (DLP), Agile Delivery, Public Cloud Security, MultiCloud Environments, IT Delivery Projects, JIRA, Cloud Certifications (AWS), Security Certifications (CISSP), Computer Science, Systems Engineering, Software Development Practices, Platform Engineering",
         "17"
        ],
        [
         "8",
         "https://www.linkedin.com/jobs/view/senior-financial-data-analyst-at-the-walt-disney-company-3787686471",
         "Problem solving, Data analysis, Predictive analysis, Trend identification, Performance monitoring, Communication, Reporting, Financial risk management, Business process analysis, Excel, Visio, Smartsheet, SNOW, SAP, Tableau, SQL, R, Power BI, Collaboration, Leadership, Bachelor's degree, Professional certification, Graduate degree",
         "23"
        ],
        [
         "9",
         "https://www.linkedin.com/jobs/view/machine-learning-infrastructure-engineer-at-l-t-technology-services-3784021144",
         "Machine Learning, System Design, Multimodal Input, Prototyping, Data Management, Scalability, Reliability, Performance, DevOps, Python, C++, Distributed Systems, Infrastructure Design, Complex Systems, Software Engineering, ML Pipeline Automation, ML Workflows, ML Systems",
         "18"
        ],
        [
         "10",
         "https://www.linkedin.com/jobs/view/sr-workforce-management-data-analyst-at-wisemen-multimedia-llc-3756883410",
         "SQL, Database Administration, Advanced Statistical Analysis, Predictive Analytics, Forecasting Techniques, Data Abnormalities Detection, Contact Workforce Management, Crossfunctional Collaboration, Performance Analytics, Business Intelligence, Root Cause Analysis, Forecasting and Scheduling, Service Level Management, Hindsight Analysis, Business Communication, Problemsolving, Decisionmaking, Excel, ACD, BackOffice Work Routing, WFM Software, Bachelor's degree in business accounting finance statistics or economics",
         "22"
        ],
        [
         "11",
         "https://www.linkedin.com/jobs/view/master-data-management-data-process-analyst-at-opentext-3737391805",
         "Master Data Analyst, Data/Master Data Experience, Polished People/Senior Stakeholder Engagement, Data Cleansing, Data Ingestion Pipelines, Business Process Workflow, Data Matching & Deduplication, Standardization, SemiAgile Delivery Framework, MDM Strategies, MDM Policies, MDM Functional Implementation, MDM Requirement Analysis, Deterministic Matching, Probabilistic Matching, Master Data Hierarchy Management, HighLevel Design, Data Profiling, Data Scorecard Development, Exception Management, LargeScale MDM Project Implementation, Thought Leadership, Data Quality Analysis, Data Governance Policies, Data Transformation, ETL Flows, SourcetoTarget Mapping, Requirements Gathering, Agile/Waterfall SDLC, Time Management, Business Communication, Analytical Skills, ProblemSolving, Informatica MDM/DG, SAP MDM, Data Enrichment, Dun & Bradstreet, SQL",
         "38"
        ],
        [
         "12",
         "https://www.linkedin.com/jobs/view/4-corporate-associate-positions-amlaw-at-lhh-3798676411",
         "Corporate Law, Private Equity, Venture Capital, M&A, Securities Law, SEC Periodic Reporting, Stock Exchange Rules, Corporate Governance, Capital Raising, Mergers and Acquisitions, Equity Offerings, Debt Offerings, Banking and Finance, Litigation, Collaborative Environment, Exchange Regulations",
         "16"
        ],
        [
         "13",
         "https://www.linkedin.com/jobs/view/sr-database-administrator-at-dice-3805944749",
         "SQL, AWS, DBA case tools, SQL Server, SQL programming, Scripts, Structured query language, Algorithmic thinking, Programming languages API, Data backup, Data recovery, Data security, Data integrity, Database standards, End user applications, Database design, Database documentation, Database coding, Problemsolving, Attention to detail, Accuracy, Communication skills, Interpersonal skills",
         "23"
        ],
        [
         "14",
         "https://www.linkedin.com/jobs/view/senior-mlops-engineer-at-recruiting-from-scratch-3783324565",
         "Machine Learning Operations (ML Ops), Engineering, Evaluation Experimentation, Monitoring Processes, ML Workflows, Data Engineering, ETL Pipelines, LLMs, NLP, Reinforcement Learning, Probabilistic Graphs, Deep Learning, Autonomy, Flexibility, Teamfirst Mentality, Mentoring, NYCbased, Hiring, Financial Workflows, Product Ownership",
         "20"
        ],
        [
         "15",
         "https://uk.linkedin.com/jobs/view/data-engineer-manager-at-energy-jobline-3793277333",
         "Data Engineering, Data Analytics, Data Warehousing, Data Modelling, Data Pipeline Design, ETL (Extract Transform Load), Cloud Computing, Data Lake, Data Strategy, Data Management, Data Governance, SQL, Python, Advanced Statistics, Machine Learning, Team Leadership, Business Requirements Gathering, Business Intelligence, Reporting, Data Visualization, Data Quality, Data Security, Full UK Driving Licence",
         "23"
        ],
        [
         "16",
         "https://ca.linkedin.com/jobs/view/data-analyst-part-time-at-toyandsons-3757203932",
         "Data Analysis, Data Visualization, Statistical Techniques, Machine Learning, Data Mining, SQL, Python, R, Tableau, Power BI, Data Modeling, Data Quality Management, Data Processing, A/B Testing, Statistical Modeling, Hypothesis Testing, Data Management, ETL Processes, Business Intelligence, DataDriven Decision Making",
         "20"
        ],
        [
         "17",
         "https://www.linkedin.com/jobs/view/summer-2024-datacenter-hardware-validation-engineer-undergrad-co-op-intern-at-amd-3792253704",
         "Hardware Validation, ML/AI Frameworks, Test Execution, Automation Development, Debugging, GPU, HighPerformance Computing, Python, Linux, C/C++, Schematics, Circuit Design, Data Traffic Management, Electrical Laboratory Equipment, Computer Architecture, Processors, Interconnects, Firmware, ML/AI Models, Workloads",
         "20"
        ],
        [
         "18",
         "https://www.linkedin.com/jobs/view/enterprise-data-manager-product-owner-at-dmvtek-3742043410",
         "Data governance, Data lineage, Data interdependencies, Data standards, Data consistency, Governance rules, Governance controls, Data quality, Data analytics, Business intelligence, Data lakes, Data Warehouse, Data gaps, Data flows, Data catalogues, Relational databases, Data transformations, Data mappings, Data modelling, Data findings, Data recommendations, Data consolidation, Agile Product Owner, Healthcare IT systems, Electronic Medical Record systems, EDW, Data Maturity Model, Tableau, Power BI, Data modernization, Data security, Data stewards, Dashboards, Data assets, Data feeds, Data privacy, Data governance policies, Data governance meetings, Third party data, First party data, Derivative data, Second party data, Product backlog, Product development, Product stakeholders, Health Informatics, Public Health, Data Science, Epidemiology, Biostatistics, Public Policy, Health Policy, Health Services Research, Health Information Sciences, Computer Science, Data governance efforts, Data sharing projects, Agile Product Owner, Enterprisewide data governance, Data lakes, Data maturity models, Health and human services",
         "62"
        ],
        [
         "19",
         "https://www.linkedin.com/jobs/view/it-database-developer-senior-dba-admin-at-experis-3770918380",
         "SQL Server, SSIS, Power BI, Azure, AWS, Windows, Linux, PowerShell, SQL DBA, System Utilities, Debugging Tools, Monitoring Tools, Corporate Database Standards, Strategic Database Technologies, Data Management Principles, Data Management Techniques, Information Systems",
         "17"
        ],
        [
         "20",
         "https://www.linkedin.com/jobs/view/contractor-epic-clarity-data-analyst-revenue-cycle-at-deloitte-3805724958",
         "Revenue Cycle, Healthcare Data Analysis, Data Visualization, Epic Clarity Reporting, SQL, Python, R, Analytic Methods, Statistical Methods, Project Management, Agile Development, Communication Skills, Technical Abilities, Epic Revenue Cycle Certification, Certified Health Data Analyst (CHDA) certification, Bachelor of Science degree, 4+ years of relevant experience, 2+ years of data analysis in healthcare, Strong grasp of analytic and statistical methods, Clinical Experience, Excellent written and oral communication skills, Excellent organizational and analytical skills, Strong technical abilities",
         "23"
        ],
        [
         "21",
         "https://www.linkedin.com/jobs/view/data-engineering-architect-at-dice-3805941847",
         "Data Engineering, Data Architect, Data Infrastructure, Data Pipelines, AWS S3, AWS EMR, GraphQL API, Data Science, Data Analysis, SQL, NoSQL, DataFocused Programming Languages, Python, R, Scala, Petabytes of Data, Bachelor's Degree, Master's Degree, AWS Certified Cloud Data Engineer, ETL Systems, ELT Systems",
         "21"
        ],
        [
         "22",
         "https://www.linkedin.com/jobs/view/staff-data-engineer-fleet-analytics-at-tesla-3737835058",
         "Data analytics, Data engineering, Data science, Data processing, Data pipelines, Data visualizations, Machine learning, Software engineering, Python, SQL, Scala, Hadoop Distributed File System (HDFS), Spark, Presto, Linux, Ansible, Docker, Kubernetes, Jupyter Notebooks, Pandas, Bokeh, Superset, Airflow, Statistics, Communication skills, Problemsolving skills",
         "26"
        ],
        [
         "23",
         "https://uk.linkedin.com/jobs/view/senior-data-engineer-azure-python-scala-spark-at-templeton-and-partners-tech-recruitment-3662399726",
         "Azure, ADLS, Databricks, Stream Analytics, SQL DW, COSMOS DB, Analysis Services, Azure Functions, Serverless Architecture, ARM Templates, Python, SQL, Scala, SparkSQL, Hadoop, Spark, Kafka, Postgres, Cassandra, Azkaban, Luigi, Airflow, Storm",
         "23"
        ],
        [
         "24",
         "https://www.linkedin.com/jobs/view/senior-data-engineer-public-company-at-recruiting-from-scratch-3744399380",
         "Data Engineering, Business Intelligence, Data Science, Python, Snowflake, Airflow, Kubernetes, Docker, Helm, Spark, pySpark, SQL, TDD, Pair Programming, Continuous Integration, Automated Testing, Deployment, StreamProcessing Systems, Kafka, Storm, SparkStreaming, Dimensional Data Modeling, Schema Design, ETL, Data Warehouses, Data Management Tools, Data Classification, Data Retention",
         "28"
        ],
        [
         "25",
         "https://www.linkedin.com/jobs/view/it-data-lifecycle-manager-at-labella-associates-3745903864",
         "Data Lifecycle Management, File System Management, Data Governance, Network Share Management, Project Folder/File Structure Creation, Network Share/File/Folder Permissions Management, Large Data Set Migration, Legacy to Modern Systems Data Transfer, NonHomogenous File/Directory Structures Data Integration, Microsoft Distributed File Systems, Windows Server OS Administration, Microsoft Office 365, Active Directory, Granular NTFS File Permissions, Windows File ACLs, NFS Shares, CloudBased Storage Systems, Azure, AWS, Communication Skills, Troubleshooting, Organizational Skills, SQL",
         "23"
        ],
        [
         "26",
         "https://www.linkedin.com/jobs/view/lead-software-engineer-full-stack-enterprise-data-at-jobs-for-humanity-3788699165",
         "Software Engineering, Microservices, Full Stack Development, Cloud Computing (AWS Microsoft Azure Google Cloud), Programming Languages (Python Go), AWS Tools and Services, Data Management, Data Compliance, Mentoring, Technical Problem Solving, Agile Practices, People Management, Open Source Frameworks (Airflow Spark Presto Snowflake), Regulatory Compliance",
         "14"
        ],
        [
         "27",
         "https://www.linkedin.com/jobs/view/senior-architect-data-analytics-product-line-at-rsc2-inc-3619211106",
         "Senior Architect, Data Analytics, Product Line, Project Management, Design, Strategy, Agile Development, Collaboration, Presentation Skills, Leadership, Communication, Business Acumen, Master's Degree, Computer Science, Engineering, Math, Security Clearance, Washington DC",
         "18"
        ],
        [
         "28",
         "https://www.linkedin.com/jobs/view/vcp-design-to-value-project-manager-and-data-analyst-mr-at-ge-healthcare-3804602326",
         "Variable Cost Productivity, Data Analytics, Costbenefit Analysis, Return on Investment Analysis, Product Configuration Management, Locally Sourced Items, Data Mining, LEAN, Six Sigma, ISO, CFDA, SQL, HTML, CSS, JavaScript, Python, C++, Java",
         "18"
        ],
        [
         "29",
         "https://www.linkedin.com/jobs/view/lead-data-engineer-python-java-or-scala-at-dice-3805947503",
         "Python, Java, Scala, Agile, Data Modeling, Machine Learning, Distributed Microservices, Cloud Computing, AWS, Microsoft Azure, Google Cloud, Open Source RDBMS, NoSQL, Cloudbased Data Infrastructure, SQL, Hadoop, Hive, EMR, Kafka, Spark, Gurobi, MySQL, UNIX/Linux, Agile Engineering Practices",
         "24"
        ],
        [
         "30",
         "https://www.linkedin.com/jobs/view/data-scientist-at-futran-solutions-3713035221",
         "Data science, Machine learning, Artificial intelligence, Data management, Data analysis, Data visualization, Business intelligence, Data mining, R, Python, Pytorch, Tensorflow, Model building",
         "13"
        ],
        [
         "31",
         "https://uk.linkedin.com/jobs/view/senior-data-analyst-at-huws-gray-3806880530",
         "Data Analysis, Reporting, Team Management, Data Systems Improvement, SQL, Tableau, Excel, Leadership, Decision Making, Time Management, Communication, Team Work, Annual Leave, Benefits, Performance Bonus, Pension Scheme, Life Assurance, Colleague Discount, Training",
         "19"
        ],
        [
         "32",
         "https://www.linkedin.com/jobs/view/data-visualization-business-intelligence-analyst-3019-at-smx-3760167341",
         "Data Visualization, Business Intelligence, Power BI, DAX, SQL, TransactSQL, OLTP, OLAP, ETL/ELT, Excel, Data Structures, Data Integrity, Software Development Lifecycle, Security, Privacy, Documentation, Communication, Interpersonal Skills, Presentation Skills, Critical Thinking, Problem Solving, Analytical Skills, Initiative, Teamwork, Time Management, Prioritization, DoD 8570, SECNAV 5239.2, Secret Clearance or ability to obtain, Bachelor's degree in Computer Science Information Systems or Computer Engineering, 4 years related experience, 3+ years of BI development using Power BI or equivalent tool, 3+ years of SQL and databases, 3+ years of Excel experience, Knowledge of ETL/ELT techniques and methodologies along with best practices, Exceptional analytical critical thinking and problemsolving abilities, Highly selfdirected, Takes initiative, Can work independently while being a strong contributor to a team, Effective prioritization and time management skills, Can thrive in a dynamic environment in which priorities might change frequently, Excellent communication and interpersonal skills, Strong documentation and presentation skills, Work requires CSWF certification, Security+ or CISSP",
         "45"
        ],
        [
         "33",
         "https://www.linkedin.com/jobs/view/principal-associate-data-loss-prevention-dlp-engineer-at-jobs-for-humanity-3792318995",
         "Data Loss Prevention (DLP), Cybersecurity, DLP Controls, SaaS, IaaS, Information Security Policy, Standards, Web proxy, Email solutions, Endpoint solutions, Communication skills, Technical initiatives, Collaboration, Enterprise cybersecurity, Technical delivery, Product security, Software development practices, Platform engineering, Troubleshooting, Investigating, Configuring, Supporting, Data protection, Symantec Data Loss Prevention (DLP), High School Diploma, GED, Cybersecurity, Information technology, Agile delivery model, Public cloud security, Multicloud environments, JIRA, CISSP, GIAC, CISM, CCSP, CISA, Security+, AWS Cloud Practitioner, AWS Solution Architect  Associate, AWS Developer  Associate, AWS Security  Specialty, AWS Solution Architect  Professional, McLean VA, Performancebased incentive compensation, Health, Financial benefits, Capital One Careers website, Equal opportunity employer, Diversity and inclusion, Accommodation during the application process, Technical support, Recruiting process",
         "53"
        ],
        [
         "34",
         "https://www.linkedin.com/jobs/view/data-scientist-at-rand-corporation-3799959396",
         "Data Management, Statistical Analysis, SAS, R, Simulation Modeling, AgentBased Modeling, Dynamic Modeling, Discrete Event Modeling, Data Science, Health Economics, Healthcare, Large Language Models, Longitudinal Surveys, Statistical Programming, Medicare, Medicaid, Marketscan Data, Problem Solving, Interpersonal Skills, Communication Skills, Teamwork, Statistics, Biostatistics, Quantitative Analysis, U.S. Citizenship, Security Clearance",
         "26"
        ],
        [
         "35",
         "https://www.linkedin.com/jobs/view/senior-data-architect-at-uk-health-security-agency-3799458004",
         "Data Modelling, Data Architecture, Data Governance, Data Standards, Data Analysis, Data Synthesis, Data Profiling, Source System Analysis, Metadata Management, AWS, Azure, SQL Server, RedShift, JIRA, Confluence, Draw IO, Visio, Collibra, Informatica, Communicating between Technical and NonTechnical Subjects, Engaging Collaboratively with Stakeholders, Leading Process Development, Evaluating Existing Data Systems, Providing Comprehensive Documentation, Championing Opportunities for Enhancing Current Data Architecture, Designing Data Architecture that Deals with Problems Spanning Different Business Areas, Identifying Similarities between Problems to Devise Common Solutions, Understanding the Impact on the Organisation of Emerging Trends in Data Tools Analysis Techniques and Data Usage, Working within a Strategic Context and Communicating How Activities Meet Strategic Goals",
         "29"
        ],
        [
         "36",
         "https://www.linkedin.com/jobs/view/senior-data-engineer-public-company-at-recruiting-from-scratch-3744387832",
         "Python, Data Engineering, Data Science, Business Intelligence, Snowflake, Airflow, Kubernetes, Docker, Helm, Spark, PySpark, SQL, Data Warehouses, Kafka, Storm, SparkStreaming, ETL, TDD, Pair Programming, Continuous Integration, Deployment, Agile Engineering Practices, Dimensional Data Modeling, Schema Design, Legal Compliance, Data Classification, Data Retention",
         "27"
        ],
        [
         "37",
         "https://uk.linkedin.com/jobs/view/data-quality-manager-football-association-at-guardian-jobs-3801788021",
         "Data Quality Manager, Data Quality Standards, Data Quality Framework, Data Quality KPIs, Data Council, Data Owners, Data Stewards, Data Quality Issues, Data Quality Initiatives, Microsoft Purview, Data Quality Rules, Data Quality Processes, Data Quality Procedures, Data Quality Mindset, Best Practices, ProblemSolving, Analytical Abilities, Communication Skills, Collaboration Skills, SelfStarter, Initiative, Bachelor's Degree, Computer Science, Information Management, Statistics, Data Quality Management, Data Quality Concepts, Data Quality Methodologies, Data Quality Frameworks, Microsoft Purview, Data Quality Tools, Competitive Salary, Development Opportunities, Event Day Tickets, Internal Events, Free Lunches, Free Private Medical Cover, Contributory Pension Scheme, Additional Thank You Days, Volunteering Days, Annual Leave, Hybrid Working Model, Remote Work, Fixed Location, Wembley Stadium, St. George's Park, Processing Centre, Homebased Contract",
         "48"
        ],
        [
         "38",
         "https://www.linkedin.com/jobs/view/senior-ml-engineer-at-cybercoders-3789459946",
         "Machine learning, Deep learning, Computer vision, Object detection, Python, C++, Linux, Git, Automotive AI, Medical device, Data pipelines, Design, Deployment, Algorithm optimization",
         "14"
        ],
        [
         "39",
         "https://www.linkedin.com/jobs/view/director-ontology-and-data-modeling-at-jobs-for-humanity-3804059234",
         "Ontology, Data Modeling, Linked Data, SPARQL, Graph Databases, Python, R, JSON, OpenAPI/YAML, AVRO, SQL, Protégé, TopQuadrant, PoolParty, Stardog, AnzoGraph, Neptune, Data.World, Agile Principles, Processes, Methodologies, Amazon Web Services, Communication Skills, Project Management, ProblemSolving, DetailOrientation, Reading Comprehension, Writing Skills",
         "28"
        ],
        [
         "40",
         "https://www.linkedin.com/jobs/view/sr-data-scientist-at-anser-3693346470",
         "Data Analytics, Data Engineering, Data Mining, Exploratory Analysis, Predictive Analysis, Statistical Analysis, Artificial Intelligence, Machine Learning, Data Visualization, Microsoft Office (Power BI), Tableau, R, Python, SQL, MultiINT Analytics, Automated Predictive Analytics, TS/SCI, Master's Degree, Bachelor's Degree, 12+ Years of Experience, 5+ Years of Related Experience",
         "21"
        ],
        [
         "41",
         "https://www.linkedin.com/jobs/view/sr-data-engineer-etl-with-security-clearance-at-clearancejobs-3753445788",
         "ETL, Master Data Management, Data pipelines, Databricks, AWS services, Data quality, Data validation, Data cleansing, Data enrichment, Agile Scrum SDLC, Unit testing, Integration testing, User acceptance testing, Scala, Java, Apache Spark, AWS Glue, Data Lakehouse architecture, OpenSearch, Amazon S3, Amazon Redshift, Tika, Docker, ElasticSearch, NoSQL databases, AWS Lambda, SQS, NiFi",
         "28"
        ],
        [
         "42",
         "https://uk.linkedin.com/jobs/view/assitant-vice-president-senior-database-sme-at-mufg-3777580139",
         "Database Platform Operations, Microsoft SQL Server, Oracle, Sybase ASE, MongoDB, Snowflake, Unix / Linux, Windows Server, Bash, PowerShell, Python, SQL, TSQL, PLSQL, Clustering, HighAvailability, Replication, Disaster Recovery, Backup and Recovery, SQL and Systems Performance Tuning, Network Optimization, Storage Optimization, Server Optimization, Virtualisation, Logical and Physical Database Design, CIS Security Hardening, Security and Auditing, AWX / Ansible Tower, Git, Ansible, Terraform, TeamCity, Serena Deployment Automation (SDA), Jenkins, Kubernetes, Docker, Infrastructure as Code, Continuous Integration (CI), Continuous Development (CD), Agile, Site Reliability Engineering, DevOps, Active Directory, LDAP, Kerberos, BMC ControlM, Oracle Cloud Control, IBM Tivoli / Netcool, Oracle ODA, Nutanix HCI, VMWare ESX, Networking Protocols (TCP/IP DNS DHCP VLAN’s), Cloud Computing, IaaS, PaaS, SaaS, Azure, AWS, GCP, Oracle, GDPR, SOX, Dell EMC PowerStore (SAN), Isilon (NAS), Rubrik, EMC Networker, Data Domain, IBM Tivoli Storage Manager, CyberArk, Splunk, Qualys, Cisco Tetration, ServiceNow, JIRA, Confluence, Communication, Interpersonal Skills, Pressure Handling, ProblemSolving Skills, ResultsDriven, Accountability, Proactive Approach, Motivation, Urgency Management, Prioritization, Structured Approach, Logical Approach, Attention to Detail, Accuracy, Performance Under Pressure, Conflict Management, Large Workload Management, Tight Deadline Management, Complex Technical Communication, Diversity and Inclusion",
         "95"
        ],
        [
         "43",
         "https://www.linkedin.com/jobs/view/sr-analyst-it-data-science-at-reynolds-american-inc-3775205684",
         "Data Analysis, Machine Learning, Python, PySpark, SQL, Statistical Models, Analytics Environment, Data Science, Communication Skills, Collaboration Skills, Analytical Skills, Problem Solving Skills, Bachelor's Degree in Computer Science Computer Information Systems Mathematics Statistics or Economics, Experience in a Consumer Packaged Goods Company",
         "14"
        ],
        [
         "44",
         "https://www.linkedin.com/jobs/view/electrical-data-center-project-manager-at-miller-electric-company-3793530333",
         "Electrical project management, Building Electrical systems, Electrical Distribution, Emergency Generators, Uninterruptible Power Supplies (UPS), High/Medium/Low voltage applications, Heating Ventilation Air Conditioning Plumbing, Critical Water systems, Fire/Life Safety Protection Systems, Root cause analysis, Computerbased estimating, OSHA Certification, College degree, Journeyman’s license, Master electrician’s license, Strong communication skills, Organizational skills, Teamwork skills",
         "18"
        ],
        [
         "45",
         "https://www.linkedin.com/jobs/view/distinguished-engineer-card-tech-data-remote-elligble-at-jobs-for-humanity-3804057368",
         "Data Engineering, Real Time API design, Cloud native platforms, Serverless computing, High performance computing, Microservices, Data pipelines, Data Mesh, Data Fabric, Multitenancy, Data platform strategies, Software engineering, Problem solving, Operational platforms, Distributed operational systems, Resilience, Scalability, High availability, Data cleaning, Data transformation, Mentoring, Recruiting, Bachelor's Degree, Master's Degree, At least 7 years experience, At least 8 years experience, At least 10 years experience",
         "27"
        ],
        [
         "46",
         "https://uk.linkedin.com/jobs/view/quality-coach-iqa-it-and-data-apprenticeships-at-km-education-recruitment-3790195005",
         "Remote work, IQA Award, IT industry qualification (Level 4 or above), Handson experience in IT/Data sector, Level 4 teaching qualification (or willingness to pursue one), Understanding of Ofsted EIF, Coaching and guidance, Performance reviews, Observation, Corrective actions, Performance management, Quality assurance, Compliance, Targets/KPIs, Strategy implementation, Teamwork, Communication, Motivation, Problemsolving",
         "19"
        ],
        [
         "47",
         "https://www.linkedin.com/jobs/view/staff-data-scientist-financial-strategy-at-stripe-3785926208",
         "Data Science, Quantitative Field, Technical Leadership, Interdisciplinary Collaboration, Execution and Velocity, Research and Statistical Depth, Scalable Design, Mentorship and Development, Forecasting Systems, Marketplace Dynamics, Experimental Design and Analysis, Stakeholder Alignment, Metric Frameworks, Hybrid Work, Pay and Benefits",
         "15"
        ],
        [
         "48",
         "https://www.linkedin.com/jobs/view/senior-counsel-data-privacy-and-cybersecurity-at-professional-diversity-network-3805988239",
         "Data privacy, Cybersecurity law, Contract law, Litigation, Legal compliance, Nondisclosure agreements, Sales and purchasing agreements, Distributor/reseller agreements, Supply agreements, Marketing and other service agreements, Commercial contracts, Employment law, Antitrust, Intellectual property, Export control, Environmental regulations, Diversity equity and inclusion, Communication skills, Multitasking, Teamwork, Travel, Spanish, Portuguese, Law school graduation, California law practice admission, 612 years corporate law department or law firm experience, Law",
         "27"
        ],
        [
         "49",
         "https://www.linkedin.com/jobs/view/data-engineering-manager-san-antonio-at-argo-group-3805541206",
         "Data Engineering, Leadership, Project Management, Data Warehousing, P&C Insurance, SQL, Talend, ETL, AWS, Big Data, Orchestration, Cloud Computing, Data Security, Data Governance, Communication, Collaboration, Snowflake, Agile, Java, Python, Linux, Hadoop, Spark, NoSQL, Machine Learning, AI, Data Analytics, Business Intelligence, Bachelor's or Master's degree in Computer Science Data Engineering or a related field from an accredited college or university, Proven handson experience with Snowflake SQL Talend AWS and big data technologies, Indepth knowledge of the Property and Casualty (P&C) insurance domain, Experience leading and managing data engineering teams, Strong communication skills with the ability to collaborate effectively across departments, Certifications in Snowflake Talend AWS or related technologies, Familiarity with data governance security and compliance standards",
         "35"
        ]
       ],
       "shape": {
        "columns": 3,
        "rows": 12212
       }
      },
      "text/html": [
       "<div>\n",
       "<style scoped>\n",
       "    .dataframe tbody tr th:only-of-type {\n",
       "        vertical-align: middle;\n",
       "    }\n",
       "\n",
       "    .dataframe tbody tr th {\n",
       "        vertical-align: top;\n",
       "    }\n",
       "\n",
       "    .dataframe thead th {\n",
       "        text-align: right;\n",
       "    }\n",
       "</style>\n",
       "<table border=\"1\" class=\"dataframe\">\n",
       "  <thead>\n",
       "    <tr style=\"text-align: right;\">\n",
       "      <th></th>\n",
       "      <th>job_link</th>\n",
       "      <th>job_skills</th>\n",
       "      <th>skill_count</th>\n",
       "    </tr>\n",
       "  </thead>\n",
       "  <tbody>\n",
       "    <tr>\n",
       "      <th>0</th>\n",
       "      <td>https://www.linkedin.com/jobs/view/senior-mach...</td>\n",
       "      <td>Machine Learning, Programming, Python, Scala, ...</td>\n",
       "      <td>27</td>\n",
       "    </tr>\n",
       "    <tr>\n",
       "      <th>1</th>\n",
       "      <td>https://www.linkedin.com/jobs/view/principal-s...</td>\n",
       "      <td>C++, Python, PyTorch, TensorFlow, MXNet, CUDA,...</td>\n",
       "      <td>23</td>\n",
       "    </tr>\n",
       "    <tr>\n",
       "      <th>2</th>\n",
       "      <td>https://www.linkedin.com/jobs/view/senior-etl-...</td>\n",
       "      <td>ETL, Data Integration, Data Transformation, Da...</td>\n",
       "      <td>27</td>\n",
       "    </tr>\n",
       "    <tr>\n",
       "      <th>3</th>\n",
       "      <td>https://www.linkedin.com/jobs/view/senior-data...</td>\n",
       "      <td>Data Lakes, Data Bricks, Azure Data Factory Pi...</td>\n",
       "      <td>41</td>\n",
       "    </tr>\n",
       "    <tr>\n",
       "      <th>4</th>\n",
       "      <td>https://www.linkedin.com/jobs/view/lead-data-e...</td>\n",
       "      <td>Java, Scala, Python, RDBMS, NoSQL, Redshift, S...</td>\n",
       "      <td>17</td>\n",
       "    </tr>\n",
       "    <tr>\n",
       "      <th>...</th>\n",
       "      <td>...</td>\n",
       "      <td>...</td>\n",
       "      <td>...</td>\n",
       "    </tr>\n",
       "    <tr>\n",
       "      <th>12212</th>\n",
       "      <td>https://uk.linkedin.com/jobs/view/data-reporti...</td>\n",
       "      <td>Dashboard development, Reporting, Power BI, SQ...</td>\n",
       "      <td>18</td>\n",
       "    </tr>\n",
       "    <tr>\n",
       "      <th>12213</th>\n",
       "      <td>https://www.linkedin.com/jobs/view/corporate-a...</td>\n",
       "      <td>Investigation, Antimoney laundering, Fraud, Ba...</td>\n",
       "      <td>62</td>\n",
       "    </tr>\n",
       "    <tr>\n",
       "      <th>12214</th>\n",
       "      <td>https://www.linkedin.com/jobs/view/senior-data...</td>\n",
       "      <td>Data Science, Quantitative Modeling, SQL, Data...</td>\n",
       "      <td>14</td>\n",
       "    </tr>\n",
       "    <tr>\n",
       "      <th>12215</th>\n",
       "      <td>https://www.linkedin.com/jobs/view/senior-data...</td>\n",
       "      <td>Data Engineering, Data Quality, SQL, Python, T...</td>\n",
       "      <td>31</td>\n",
       "    </tr>\n",
       "    <tr>\n",
       "      <th>12216</th>\n",
       "      <td>https://www.linkedin.com/jobs/view/medical-tec...</td>\n",
       "      <td>Medical Technology, MLS, Microbiology, Clinica...</td>\n",
       "      <td>17</td>\n",
       "    </tr>\n",
       "  </tbody>\n",
       "</table>\n",
       "<p>12212 rows × 3 columns</p>\n",
       "</div>"
      ],
      "text/plain": [
       "                                                job_link  \\\n",
       "0      https://www.linkedin.com/jobs/view/senior-mach...   \n",
       "1      https://www.linkedin.com/jobs/view/principal-s...   \n",
       "2      https://www.linkedin.com/jobs/view/senior-etl-...   \n",
       "3      https://www.linkedin.com/jobs/view/senior-data...   \n",
       "4      https://www.linkedin.com/jobs/view/lead-data-e...   \n",
       "...                                                  ...   \n",
       "12212  https://uk.linkedin.com/jobs/view/data-reporti...   \n",
       "12213  https://www.linkedin.com/jobs/view/corporate-a...   \n",
       "12214  https://www.linkedin.com/jobs/view/senior-data...   \n",
       "12215  https://www.linkedin.com/jobs/view/senior-data...   \n",
       "12216  https://www.linkedin.com/jobs/view/medical-tec...   \n",
       "\n",
       "                                              job_skills  skill_count  \n",
       "0      Machine Learning, Programming, Python, Scala, ...           27  \n",
       "1      C++, Python, PyTorch, TensorFlow, MXNet, CUDA,...           23  \n",
       "2      ETL, Data Integration, Data Transformation, Da...           27  \n",
       "3      Data Lakes, Data Bricks, Azure Data Factory Pi...           41  \n",
       "4      Java, Scala, Python, RDBMS, NoSQL, Redshift, S...           17  \n",
       "...                                                  ...          ...  \n",
       "12212  Dashboard development, Reporting, Power BI, SQ...           18  \n",
       "12213  Investigation, Antimoney laundering, Fraud, Ba...           62  \n",
       "12214  Data Science, Quantitative Modeling, SQL, Data...           14  \n",
       "12215  Data Engineering, Data Quality, SQL, Python, T...           31  \n",
       "12216  Medical Technology, MLS, Microbiology, Clinica...           17  \n",
       "\n",
       "[12212 rows x 3 columns]"
      ]
     },
     "execution_count": 7,
     "metadata": {},
     "output_type": "execute_result"
    }
   ],
   "source": [
    "df_7['skill_count'] = df_7['job_skills'].str.split(', ').apply(len)\n",
    "df_7"
   ]
  },
  {
   "cell_type": "code",
   "execution_count": null,
   "metadata": {},
   "outputs": [],
   "source": [
    "# Convertimos los skills a minúsculas\n",
    "\n",
    "skills = ''\n",
    "for skill in df_7.job_skills:\n",
    "    skills += skill.lower()"
   ]
  },
  {
   "cell_type": "code",
   "execution_count": null,
   "metadata": {},
   "outputs": [
    {
     "data": {
      "text/plain": [
       "['machine learning',\n",
       " 'programming',\n",
       " 'python',\n",
       " 'scala',\n",
       " 'java',\n",
       " 'data engineering',\n",
       " 'distributed computing',\n",
       " 'statistical modeling',\n",
       " 'optimization',\n",
       " 'data pipelines']"
      ]
     },
     "execution_count": 9,
     "metadata": {},
     "output_type": "execute_result"
    }
   ],
   "source": [
    "# Separamos cada skill mediante split\n",
    "\n",
    "skills = skills.split(', ')\n",
    "skills[:10]"
   ]
  },
  {
   "cell_type": "code",
   "execution_count": 10,
   "metadata": {},
   "outputs": [],
   "source": [
    "df = pd.DataFrame(skills)"
   ]
  },
  {
   "cell_type": "code",
   "execution_count": 11,
   "metadata": {},
   "outputs": [
    {
     "name": "stdout",
     "output_type": "stream",
     "text": [
      "<class 'pandas.core.frame.DataFrame'>\n",
      "RangeIndex: 302739 entries, 0 to 302738\n",
      "Data columns (total 1 columns):\n",
      " #   Column  Non-Null Count   Dtype \n",
      "---  ------  --------------   ----- \n",
      " 0   0       302739 non-null  object\n",
      "dtypes: object(1)\n",
      "memory usage: 2.3+ MB\n"
     ]
    }
   ],
   "source": [
    "df.info()"
   ]
  },
  {
   "cell_type": "code",
   "execution_count": 12,
   "metadata": {},
   "outputs": [
    {
     "data": {
      "text/plain": [
       "[('python', 4400),\n",
       " ('sql', 4220),\n",
       " ('communication', 2428),\n",
       " ('data analysis', 2334),\n",
       " ('data visualization', 2259),\n",
       " ('machine learning', 2026),\n",
       " ('tableau', 1644),\n",
       " ('aws', 1615),\n",
       " ('communication skills', 1607),\n",
       " ('project management', 1572),\n",
       " ('r', 1505),\n",
       " ('data modeling', 1427),\n",
       " ('spark', 1372),\n",
       " ('problem solving', 1363),\n",
       " ('data warehousing', 1316)]"
      ]
     },
     "execution_count": 12,
     "metadata": {},
     "output_type": "execute_result"
    }
   ],
   "source": [
    "from collections import Counter\n",
    "counts = Counter(skills) \n",
    "common_skills = counts.most_common(15)\n",
    "common_skills"
   ]
  },
  {
   "cell_type": "code",
   "execution_count": 13,
   "metadata": {},
   "outputs": [
    {
     "data": {
      "application/vnd.microsoft.datawrangler.viewer.v0+json": {
       "columns": [
        {
         "name": "index",
         "rawType": "int64",
         "type": "integer"
        },
        {
         "name": "skill",
         "rawType": "object",
         "type": "string"
        },
        {
         "name": "count",
         "rawType": "int64",
         "type": "integer"
        }
       ],
       "conversionMethod": "pd.DataFrame",
       "ref": "1c0916e7-8573-4e0d-a617-6272aab3187f",
       "rows": [
        [
         "9",
         "python",
         "4400"
        ],
        [
         "12",
         "sql",
         "4220"
        ],
        [
         "1",
         "communication",
         "4035"
        ],
        [
         "2",
         "data analysis",
         "2334"
        ],
        [
         "4",
         "data visualization",
         "2259"
        ],
        [
         "6",
         "machine learning",
         "2026"
        ],
        [
         "13",
         "tableau",
         "1644"
        ],
        [
         "0",
         "aws",
         "1615"
        ],
        [
         "8",
         "project management",
         "1572"
        ],
        [
         "10",
         "r",
         "1505"
        ],
        [
         "3",
         "data modeling",
         "1427"
        ],
        [
         "11",
         "spark",
         "1372"
        ],
        [
         "7",
         "problem solving",
         "1363"
        ],
        [
         "5",
         "data warehousing",
         "1316"
        ]
       ],
       "shape": {
        "columns": 2,
        "rows": 14
       }
      },
      "text/html": [
       "<div>\n",
       "<style scoped>\n",
       "    .dataframe tbody tr th:only-of-type {\n",
       "        vertical-align: middle;\n",
       "    }\n",
       "\n",
       "    .dataframe tbody tr th {\n",
       "        vertical-align: top;\n",
       "    }\n",
       "\n",
       "    .dataframe thead th {\n",
       "        text-align: right;\n",
       "    }\n",
       "</style>\n",
       "<table border=\"1\" class=\"dataframe\">\n",
       "  <thead>\n",
       "    <tr style=\"text-align: right;\">\n",
       "      <th></th>\n",
       "      <th>skill</th>\n",
       "      <th>count</th>\n",
       "    </tr>\n",
       "  </thead>\n",
       "  <tbody>\n",
       "    <tr>\n",
       "      <th>9</th>\n",
       "      <td>python</td>\n",
       "      <td>4400</td>\n",
       "    </tr>\n",
       "    <tr>\n",
       "      <th>12</th>\n",
       "      <td>sql</td>\n",
       "      <td>4220</td>\n",
       "    </tr>\n",
       "    <tr>\n",
       "      <th>1</th>\n",
       "      <td>communication</td>\n",
       "      <td>4035</td>\n",
       "    </tr>\n",
       "    <tr>\n",
       "      <th>2</th>\n",
       "      <td>data analysis</td>\n",
       "      <td>2334</td>\n",
       "    </tr>\n",
       "    <tr>\n",
       "      <th>4</th>\n",
       "      <td>data visualization</td>\n",
       "      <td>2259</td>\n",
       "    </tr>\n",
       "    <tr>\n",
       "      <th>6</th>\n",
       "      <td>machine learning</td>\n",
       "      <td>2026</td>\n",
       "    </tr>\n",
       "    <tr>\n",
       "      <th>13</th>\n",
       "      <td>tableau</td>\n",
       "      <td>1644</td>\n",
       "    </tr>\n",
       "    <tr>\n",
       "      <th>0</th>\n",
       "      <td>aws</td>\n",
       "      <td>1615</td>\n",
       "    </tr>\n",
       "    <tr>\n",
       "      <th>8</th>\n",
       "      <td>project management</td>\n",
       "      <td>1572</td>\n",
       "    </tr>\n",
       "    <tr>\n",
       "      <th>10</th>\n",
       "      <td>r</td>\n",
       "      <td>1505</td>\n",
       "    </tr>\n",
       "    <tr>\n",
       "      <th>3</th>\n",
       "      <td>data modeling</td>\n",
       "      <td>1427</td>\n",
       "    </tr>\n",
       "    <tr>\n",
       "      <th>11</th>\n",
       "      <td>spark</td>\n",
       "      <td>1372</td>\n",
       "    </tr>\n",
       "    <tr>\n",
       "      <th>7</th>\n",
       "      <td>problem solving</td>\n",
       "      <td>1363</td>\n",
       "    </tr>\n",
       "    <tr>\n",
       "      <th>5</th>\n",
       "      <td>data warehousing</td>\n",
       "      <td>1316</td>\n",
       "    </tr>\n",
       "  </tbody>\n",
       "</table>\n",
       "</div>"
      ],
      "text/plain": [
       "                 skill  count\n",
       "9               python   4400\n",
       "12                 sql   4220\n",
       "1        communication   4035\n",
       "2        data analysis   2334\n",
       "4   data visualization   2259\n",
       "6     machine learning   2026\n",
       "13             tableau   1644\n",
       "0                  aws   1615\n",
       "8   project management   1572\n",
       "10                   r   1505\n",
       "3        data modeling   1427\n",
       "11               spark   1372\n",
       "7      problem solving   1363\n",
       "5     data warehousing   1316"
      ]
     },
     "execution_count": 13,
     "metadata": {},
     "output_type": "execute_result"
    }
   ],
   "source": [
    "# Create DataFrame\n",
    "df = pd.DataFrame(common_skills, columns=['skill', 'count'])\n",
    "\n",
    "# Normalize skill names\n",
    "df['skill'] = df['skill'].replace({\n",
    "    'communication skills': 'communication'\n",
    "})\n",
    "\n",
    "# Group by skill and sum counts\n",
    "grouped_df = df.groupby('skill', as_index=False)['count'].sum()\n",
    "\n",
    "# Sort by count descending (optional)\n",
    "grouped_df = grouped_df.sort_values(by='count', ascending=False)\n",
    "\n",
    "grouped_df"
   ]
  },
  {
   "cell_type": "code",
   "execution_count": 14,
   "metadata": {},
   "outputs": [
    {
     "data": {
      "image/png": "[encoded data removed]",
      "text/plain": [
       "<Figure size 1200x800 with 1 Axes>"
      ]
     },
     "metadata": {},
     "output_type": "display_data"
    }
   ],
   "source": [
    "# Define a list of colors (you can use a colormap or a custom list)\n",
    "colors = plt.cm.viridis(np.linspace(0, 1, len(grouped_df)))\n",
    "\n",
    "# Plot horizontal bar chart with different colors for each bar\n",
    "plt.figure(figsize=(12, 8))  # Wider frame for the plot\n",
    "bars = plt.barh(grouped_df['skill'], grouped_df['count'], color=colors)\n",
    "\n",
    "# Annotate count on the right-hand side of each bar\n",
    "for bar in bars:\n",
    "    plt.text(bar.get_width() + 50, bar.get_y() + bar.get_height() / 2, \n",
    "             str(int(bar.get_width())), va='center', ha='left', fontsize=10)\n",
    "\n",
    "plt.xlabel('Suma')\n",
    "plt.title('Habilidades demandadas')\n",
    "plt.gca().invert_yaxis()  # Optional: highest count on top\n",
    "plt.tight_layout()\n",
    "plt.show()"
   ]
  }
 ],
 "metadata": {
  "kernelspec": {
   "display_name": "Python 3",
   "language": "python",
   "name": "python3"
  },
  "language_info": {
   "codemirror_mode": {
    "name": "ipython",
    "version": 3
   },
   "file_extension": ".py",
   "mimetype": "text/x-python",
   "name": "python",
   "nbconvert_exporter": "python",
   "pygments_lexer": "ipython3",
   "version": "3.11.9"
  },
  "orig_nbformat": 4
 },
 "nbformat": 4,
 "nbformat_minor": 2
}
