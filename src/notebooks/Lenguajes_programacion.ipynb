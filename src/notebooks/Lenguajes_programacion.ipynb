{
 "cells": [
  {
   "cell_type": "code",
   "execution_count": 1,
   "metadata": {},
   "outputs": [],
   "source": [
    "import numpy as np\n",
    "import pandas as pd\n",
    "import matplotlib.pyplot as plt\n",
    "import seaborn as sns\n"
   ]
  },
  {
   "cell_type": "code",
   "execution_count": 2,
   "metadata": {},
   "outputs": [],
   "source": [
    "\n",
    "\n",
    "#Segunda fuente(Fuente oficial)\n",
    "\n",
    "df_4 = pd.read_csv('../data/languages.csv')\n",
    "fuente_4 = \"https://github.com/github/innovationgraph/tree/main\"\n",
    "\n",
    "\n",
    "# ..."
   ]
  },
  {
   "cell_type": "markdown",
   "metadata": {},
   "source": [
    "Muestra mediante un head() los principales datasets con los que vas a trabajar"
   ]
  },
  {
   "cell_type": "code",
   "execution_count": 22,
   "metadata": {},
   "outputs": [
    {
     "data": {
      "application/vnd.microsoft.datawrangler.viewer.v0+json": {
       "columns": [
        {
         "name": "index",
         "rawType": "int64",
         "type": "integer"
        },
        {
         "name": "num_pushers",
         "rawType": "int64",
         "type": "integer"
        },
        {
         "name": "language",
         "rawType": "object",
         "type": "string"
        },
        {
         "name": "language_type",
         "rawType": "object",
         "type": "string"
        },
        {
         "name": "iso2_code",
         "rawType": "object",
         "type": "string"
        },
        {
         "name": "year",
         "rawType": "int64",
         "type": "integer"
        },
        {
         "name": "quarter",
         "rawType": "int64",
         "type": "integer"
        }
       ],
       "conversionMethod": "pd.DataFrame",
       "ref": "37f22d6c-5494-477a-9d64-ca4f71d08a94",
       "rows": [
        [
         "0",
         "2066",
         "HTML",
         "markup",
         "AE",
         "2020",
         "1"
        ],
        [
         "1",
         "1627",
         "CSS",
         "markup",
         "AE",
         "2020",
         "1"
        ],
        [
         "2",
         "288",
         "Jupyter Notebook",
         "markup",
         "AE",
         "2020",
         "1"
        ],
        [
         "3",
         "108",
         "Vue",
         "markup",
         "AE",
         "2020",
         "1"
        ],
        [
         "4",
         "1734",
         "JavaScript",
         "programming",
         "AE",
         "2020",
         "1"
        ],
        [
         "5",
         "816",
         "Python",
         "programming",
         "AE",
         "2020",
         "1"
        ],
        [
         "6",
         "712",
         "Shell",
         "programming",
         "AE",
         "2020",
         "1"
        ],
        [
         "7",
         "685",
         "Java",
         "programming",
         "AE",
         "2020",
         "1"
        ],
        [
         "8",
         "377",
         "Ruby",
         "programming",
         "AE",
         "2020",
         "1"
        ],
        [
         "9",
         "373",
         "Dockerfile",
         "programming",
         "AE",
         "2020",
         "1"
        ]
       ],
       "shape": {
        "columns": 6,
        "rows": 10
       }
      },
      "text/html": [
       "<div>\n",
       "<style scoped>\n",
       "    .dataframe tbody tr th:only-of-type {\n",
       "        vertical-align: middle;\n",
       "    }\n",
       "\n",
       "    .dataframe tbody tr th {\n",
       "        vertical-align: top;\n",
       "    }\n",
       "\n",
       "    .dataframe thead th {\n",
       "        text-align: right;\n",
       "    }\n",
       "</style>\n",
       "<table border=\"1\" class=\"dataframe\">\n",
       "  <thead>\n",
       "    <tr style=\"text-align: right;\">\n",
       "      <th></th>\n",
       "      <th>num_pushers</th>\n",
       "      <th>language</th>\n",
       "      <th>language_type</th>\n",
       "      <th>iso2_code</th>\n",
       "      <th>year</th>\n",
       "      <th>quarter</th>\n",
       "    </tr>\n",
       "  </thead>\n",
       "  <tbody>\n",
       "    <tr>\n",
       "      <th>0</th>\n",
       "      <td>2066</td>\n",
       "      <td>HTML</td>\n",
       "      <td>markup</td>\n",
       "      <td>AE</td>\n",
       "      <td>2020</td>\n",
       "      <td>1</td>\n",
       "    </tr>\n",
       "    <tr>\n",
       "      <th>1</th>\n",
       "      <td>1627</td>\n",
       "      <td>CSS</td>\n",
       "      <td>markup</td>\n",
       "      <td>AE</td>\n",
       "      <td>2020</td>\n",
       "      <td>1</td>\n",
       "    </tr>\n",
       "    <tr>\n",
       "      <th>2</th>\n",
       "      <td>288</td>\n",
       "      <td>Jupyter Notebook</td>\n",
       "      <td>markup</td>\n",
       "      <td>AE</td>\n",
       "      <td>2020</td>\n",
       "      <td>1</td>\n",
       "    </tr>\n",
       "    <tr>\n",
       "      <th>3</th>\n",
       "      <td>108</td>\n",
       "      <td>Vue</td>\n",
       "      <td>markup</td>\n",
       "      <td>AE</td>\n",
       "      <td>2020</td>\n",
       "      <td>1</td>\n",
       "    </tr>\n",
       "    <tr>\n",
       "      <th>4</th>\n",
       "      <td>1734</td>\n",
       "      <td>JavaScript</td>\n",
       "      <td>programming</td>\n",
       "      <td>AE</td>\n",
       "      <td>2020</td>\n",
       "      <td>1</td>\n",
       "    </tr>\n",
       "    <tr>\n",
       "      <th>5</th>\n",
       "      <td>816</td>\n",
       "      <td>Python</td>\n",
       "      <td>programming</td>\n",
       "      <td>AE</td>\n",
       "      <td>2020</td>\n",
       "      <td>1</td>\n",
       "    </tr>\n",
       "    <tr>\n",
       "      <th>6</th>\n",
       "      <td>712</td>\n",
       "      <td>Shell</td>\n",
       "      <td>programming</td>\n",
       "      <td>AE</td>\n",
       "      <td>2020</td>\n",
       "      <td>1</td>\n",
       "    </tr>\n",
       "    <tr>\n",
       "      <th>7</th>\n",
       "      <td>685</td>\n",
       "      <td>Java</td>\n",
       "      <td>programming</td>\n",
       "      <td>AE</td>\n",
       "      <td>2020</td>\n",
       "      <td>1</td>\n",
       "    </tr>\n",
       "    <tr>\n",
       "      <th>8</th>\n",
       "      <td>377</td>\n",
       "      <td>Ruby</td>\n",
       "      <td>programming</td>\n",
       "      <td>AE</td>\n",
       "      <td>2020</td>\n",
       "      <td>1</td>\n",
       "    </tr>\n",
       "    <tr>\n",
       "      <th>9</th>\n",
       "      <td>373</td>\n",
       "      <td>Dockerfile</td>\n",
       "      <td>programming</td>\n",
       "      <td>AE</td>\n",
       "      <td>2020</td>\n",
       "      <td>1</td>\n",
       "    </tr>\n",
       "  </tbody>\n",
       "</table>\n",
       "</div>"
      ],
      "text/plain": [
       "   num_pushers          language language_type iso2_code  year  quarter\n",
       "0         2066              HTML        markup        AE  2020        1\n",
       "1         1627               CSS        markup        AE  2020        1\n",
       "2          288  Jupyter Notebook        markup        AE  2020        1\n",
       "3          108               Vue        markup        AE  2020        1\n",
       "4         1734        JavaScript   programming        AE  2020        1\n",
       "5          816            Python   programming        AE  2020        1\n",
       "6          712             Shell   programming        AE  2020        1\n",
       "7          685              Java   programming        AE  2020        1\n",
       "8          377              Ruby   programming        AE  2020        1\n",
       "9          373        Dockerfile   programming        AE  2020        1"
      ]
     },
     "execution_count": 22,
     "metadata": {},
     "output_type": "execute_result"
    }
   ],
   "source": [
    "# Siguiente dataset... Languages\n",
    "df_4.head(10)"
   ]
  },
  {
   "cell_type": "code",
   "execution_count": 23,
   "metadata": {},
   "outputs": [
    {
     "name": "stdout",
     "output_type": "stream",
     "text": [
      "<class 'pandas.core.frame.DataFrame'>\n",
      "RangeIndex: 128129 entries, 0 to 128128\n",
      "Data columns (total 6 columns):\n",
      " #   Column         Non-Null Count   Dtype \n",
      "---  ------         --------------   ----- \n",
      " 0   num_pushers    128129 non-null  int64 \n",
      " 1   language       128129 non-null  object\n",
      " 2   language_type  128129 non-null  object\n",
      " 3   iso2_code      128083 non-null  object\n",
      " 4   year           128129 non-null  int64 \n",
      " 5   quarter        128129 non-null  int64 \n",
      "dtypes: int64(3), object(3)\n",
      "memory usage: 5.9+ MB\n"
     ]
    }
   ],
   "source": [
    "df_4.info()"
   ]
  },
  {
   "cell_type": "code",
   "execution_count": 24,
   "metadata": {},
   "outputs": [
    {
     "data": {
      "text/plain": [
       "array(['markup', 'programming', 'data', 'prose'], dtype=object)"
      ]
     },
     "execution_count": 24,
     "metadata": {},
     "output_type": "execute_result"
    }
   ],
   "source": [
    "# Miro cuantos tipos de language_type existen\n",
    "\n",
    "df_4[\"language_type\"].unique()"
   ]
  },
  {
   "cell_type": "code",
   "execution_count": 25,
   "metadata": {},
   "outputs": [
    {
     "data": {
      "application/vnd.microsoft.datawrangler.viewer.v0+json": {
       "columns": [
        {
         "name": "index",
         "rawType": "int64",
         "type": "integer"
        },
        {
         "name": "num_pushers",
         "rawType": "int64",
         "type": "integer"
        },
        {
         "name": "language",
         "rawType": "object",
         "type": "string"
        },
        {
         "name": "language_type",
         "rawType": "object",
         "type": "string"
        },
        {
         "name": "iso2_code",
         "rawType": "object",
         "type": "unknown"
        },
        {
         "name": "year",
         "rawType": "int64",
         "type": "integer"
        },
        {
         "name": "quarter",
         "rawType": "int64",
         "type": "integer"
        }
       ],
       "conversionMethod": "pd.DataFrame",
       "ref": "5ff5b34e-b7ea-49e9-9454-b9b901627108",
       "rows": [
        [
         "0",
         "2066",
         "HTML",
         "markup",
         "AE",
         "2020",
         "1"
        ],
        [
         "1",
         "1627",
         "CSS",
         "markup",
         "AE",
         "2020",
         "1"
        ],
        [
         "2",
         "288",
         "Jupyter Notebook",
         "markup",
         "AE",
         "2020",
         "1"
        ],
        [
         "3",
         "108",
         "Vue",
         "markup",
         "AE",
         "2020",
         "1"
        ],
        [
         "4",
         "1734",
         "JavaScript",
         "programming",
         "AE",
         "2020",
         "1"
        ],
        [
         "5",
         "816",
         "Python",
         "programming",
         "AE",
         "2020",
         "1"
        ],
        [
         "6",
         "712",
         "Shell",
         "programming",
         "AE",
         "2020",
         "1"
        ],
        [
         "7",
         "685",
         "Java",
         "programming",
         "AE",
         "2020",
         "1"
        ],
        [
         "8",
         "377",
         "Ruby",
         "programming",
         "AE",
         "2020",
         "1"
        ],
        [
         "9",
         "373",
         "Dockerfile",
         "programming",
         "AE",
         "2020",
         "1"
        ],
        [
         "10",
         "354",
         "PHP",
         "programming",
         "AE",
         "2020",
         "1"
        ],
        [
         "11",
         "308",
         "TypeScript",
         "programming",
         "AE",
         "2020",
         "1"
        ],
        [
         "12",
         "295",
         "C#",
         "programming",
         "AE",
         "2020",
         "1"
        ],
        [
         "13",
         "242",
         "Makefile",
         "programming",
         "AE",
         "2020",
         "1"
        ],
        [
         "14",
         "238",
         "C++",
         "programming",
         "AE",
         "2020",
         "1"
        ],
        [
         "15",
         "195",
         "Objective-C",
         "programming",
         "AE",
         "2020",
         "1"
        ],
        [
         "16",
         "192",
         "C",
         "programming",
         "AE",
         "2020",
         "1"
        ],
        [
         "17",
         "178",
         "Swift",
         "programming",
         "AE",
         "2020",
         "1"
        ],
        [
         "18",
         "157",
         "Kotlin",
         "programming",
         "AE",
         "2020",
         "1"
        ],
        [
         "19",
         "139",
         "Batchfile",
         "programming",
         "AE",
         "2020",
         "1"
        ],
        [
         "20",
         "129",
         "TSQL",
         "programming",
         "AE",
         "2020",
         "1"
        ],
        [
         "21",
         "122",
         "PowerShell",
         "programming",
         "AE",
         "2020",
         "1"
        ],
        [
         "22",
         "118",
         "Go",
         "programming",
         "AE",
         "2020",
         "1"
        ],
        [
         "23",
         "101",
         "HTML",
         "markup",
         "AF",
         "2020",
         "1"
        ],
        [
         "24",
         "983",
         "HTML",
         "markup",
         "AL",
         "2020",
         "1"
        ],
        [
         "25",
         "855",
         "CSS",
         "markup",
         "AL",
         "2020",
         "1"
        ],
        [
         "26",
         "847",
         "JavaScript",
         "programming",
         "AL",
         "2020",
         "1"
        ],
        [
         "27",
         "339",
         "Java",
         "programming",
         "AL",
         "2020",
         "1"
        ],
        [
         "28",
         "238",
         "PHP",
         "programming",
         "AL",
         "2020",
         "1"
        ],
        [
         "29",
         "194",
         "Python",
         "programming",
         "AL",
         "2020",
         "1"
        ],
        [
         "30",
         "167",
         "TypeScript",
         "programming",
         "AL",
         "2020",
         "1"
        ],
        [
         "31",
         "153",
         "Shell",
         "programming",
         "AL",
         "2020",
         "1"
        ],
        [
         "32",
         "140",
         "C#",
         "programming",
         "AL",
         "2020",
         "1"
        ],
        [
         "33",
         "1867",
         "HTML",
         "markup",
         "AM",
         "2020",
         "1"
        ],
        [
         "34",
         "1454",
         "CSS",
         "markup",
         "AM",
         "2020",
         "1"
        ],
        [
         "35",
         "175",
         "Vue",
         "markup",
         "AM",
         "2020",
         "1"
        ],
        [
         "36",
         "107",
         "Jupyter Notebook",
         "markup",
         "AM",
         "2020",
         "1"
        ],
        [
         "37",
         "1624",
         "JavaScript",
         "programming",
         "AM",
         "2020",
         "1"
        ],
        [
         "38",
         "508",
         "Java",
         "programming",
         "AM",
         "2020",
         "1"
        ],
        [
         "39",
         "468",
         "Python",
         "programming",
         "AM",
         "2020",
         "1"
        ],
        [
         "40",
         "376",
         "PHP",
         "programming",
         "AM",
         "2020",
         "1"
        ],
        [
         "41",
         "313",
         "Shell",
         "programming",
         "AM",
         "2020",
         "1"
        ],
        [
         "42",
         "250",
         "TypeScript",
         "programming",
         "AM",
         "2020",
         "1"
        ],
        [
         "43",
         "214",
         "C#",
         "programming",
         "AM",
         "2020",
         "1"
        ],
        [
         "44",
         "183",
         "C++",
         "programming",
         "AM",
         "2020",
         "1"
        ],
        [
         "45",
         "171",
         "Ruby",
         "programming",
         "AM",
         "2020",
         "1"
        ],
        [
         "46",
         "141",
         "Dockerfile",
         "programming",
         "AM",
         "2020",
         "1"
        ],
        [
         "47",
         "130",
         "Makefile",
         "programming",
         "AM",
         "2020",
         "1"
        ],
        [
         "48",
         "121",
         "TSQL",
         "programming",
         "AM",
         "2020",
         "1"
        ],
        [
         "49",
         "116",
         "C",
         "programming",
         "AM",
         "2020",
         "1"
        ]
       ],
       "shape": {
        "columns": 6,
        "rows": 128129
       }
      },
      "text/html": [
       "<div>\n",
       "<style scoped>\n",
       "    .dataframe tbody tr th:only-of-type {\n",
       "        vertical-align: middle;\n",
       "    }\n",
       "\n",
       "    .dataframe tbody tr th {\n",
       "        vertical-align: top;\n",
       "    }\n",
       "\n",
       "    .dataframe thead th {\n",
       "        text-align: right;\n",
       "    }\n",
       "</style>\n",
       "<table border=\"1\" class=\"dataframe\">\n",
       "  <thead>\n",
       "    <tr style=\"text-align: right;\">\n",
       "      <th></th>\n",
       "      <th>num_pushers</th>\n",
       "      <th>language</th>\n",
       "      <th>language_type</th>\n",
       "      <th>iso2_code</th>\n",
       "      <th>year</th>\n",
       "      <th>quarter</th>\n",
       "    </tr>\n",
       "  </thead>\n",
       "  <tbody>\n",
       "    <tr>\n",
       "      <th>0</th>\n",
       "      <td>2066</td>\n",
       "      <td>HTML</td>\n",
       "      <td>markup</td>\n",
       "      <td>AE</td>\n",
       "      <td>2020</td>\n",
       "      <td>1</td>\n",
       "    </tr>\n",
       "    <tr>\n",
       "      <th>1</th>\n",
       "      <td>1627</td>\n",
       "      <td>CSS</td>\n",
       "      <td>markup</td>\n",
       "      <td>AE</td>\n",
       "      <td>2020</td>\n",
       "      <td>1</td>\n",
       "    </tr>\n",
       "    <tr>\n",
       "      <th>2</th>\n",
       "      <td>288</td>\n",
       "      <td>Jupyter Notebook</td>\n",
       "      <td>markup</td>\n",
       "      <td>AE</td>\n",
       "      <td>2020</td>\n",
       "      <td>1</td>\n",
       "    </tr>\n",
       "    <tr>\n",
       "      <th>3</th>\n",
       "      <td>108</td>\n",
       "      <td>Vue</td>\n",
       "      <td>markup</td>\n",
       "      <td>AE</td>\n",
       "      <td>2020</td>\n",
       "      <td>1</td>\n",
       "    </tr>\n",
       "    <tr>\n",
       "      <th>4</th>\n",
       "      <td>1734</td>\n",
       "      <td>JavaScript</td>\n",
       "      <td>programming</td>\n",
       "      <td>AE</td>\n",
       "      <td>2020</td>\n",
       "      <td>1</td>\n",
       "    </tr>\n",
       "    <tr>\n",
       "      <th>...</th>\n",
       "      <td>...</td>\n",
       "      <td>...</td>\n",
       "      <td>...</td>\n",
       "      <td>...</td>\n",
       "      <td>...</td>\n",
       "      <td>...</td>\n",
       "    </tr>\n",
       "    <tr>\n",
       "      <th>128124</th>\n",
       "      <td>186</td>\n",
       "      <td>Java</td>\n",
       "      <td>programming</td>\n",
       "      <td>ZW</td>\n",
       "      <td>2024</td>\n",
       "      <td>3</td>\n",
       "    </tr>\n",
       "    <tr>\n",
       "      <th>128125</th>\n",
       "      <td>179</td>\n",
       "      <td>Nix</td>\n",
       "      <td>programming</td>\n",
       "      <td>ZW</td>\n",
       "      <td>2024</td>\n",
       "      <td>3</td>\n",
       "    </tr>\n",
       "    <tr>\n",
       "      <th>128126</th>\n",
       "      <td>177</td>\n",
       "      <td>PHP</td>\n",
       "      <td>programming</td>\n",
       "      <td>ZW</td>\n",
       "      <td>2024</td>\n",
       "      <td>3</td>\n",
       "    </tr>\n",
       "    <tr>\n",
       "      <th>128127</th>\n",
       "      <td>123</td>\n",
       "      <td>C</td>\n",
       "      <td>programming</td>\n",
       "      <td>ZW</td>\n",
       "      <td>2024</td>\n",
       "      <td>3</td>\n",
       "    </tr>\n",
       "    <tr>\n",
       "      <th>128128</th>\n",
       "      <td>102</td>\n",
       "      <td>C++</td>\n",
       "      <td>programming</td>\n",
       "      <td>ZW</td>\n",
       "      <td>2024</td>\n",
       "      <td>3</td>\n",
       "    </tr>\n",
       "  </tbody>\n",
       "</table>\n",
       "<p>128129 rows × 6 columns</p>\n",
       "</div>"
      ],
      "text/plain": [
       "        num_pushers          language language_type iso2_code  year  quarter\n",
       "0              2066              HTML        markup        AE  2020        1\n",
       "1              1627               CSS        markup        AE  2020        1\n",
       "2               288  Jupyter Notebook        markup        AE  2020        1\n",
       "3               108               Vue        markup        AE  2020        1\n",
       "4              1734        JavaScript   programming        AE  2020        1\n",
       "...             ...               ...           ...       ...   ...      ...\n",
       "128124          186              Java   programming        ZW  2024        3\n",
       "128125          179               Nix   programming        ZW  2024        3\n",
       "128126          177               PHP   programming        ZW  2024        3\n",
       "128127          123                 C   programming        ZW  2024        3\n",
       "128128          102               C++   programming        ZW  2024        3\n",
       "\n",
       "[128129 rows x 6 columns]"
      ]
     },
     "execution_count": 25,
     "metadata": {},
     "output_type": "execute_result"
    }
   ],
   "source": [
    "df_4"
   ]
  },
  {
   "cell_type": "code",
   "execution_count": 26,
   "metadata": {},
   "outputs": [],
   "source": [
    "# Decido únicamente quedarme con language programing. Para ello lo filtro mediante una máscara\n",
    "\n",
    "df_4_programming = df_4[df_4[\"language_type\"]== \"programming\"]"
   ]
  },
  {
   "cell_type": "code",
   "execution_count": 27,
   "metadata": {},
   "outputs": [
    {
     "data": {
      "application/vnd.microsoft.datawrangler.viewer.v0+json": {
       "columns": [
        {
         "name": "index",
         "rawType": "int64",
         "type": "integer"
        },
        {
         "name": "num_pushers",
         "rawType": "int64",
         "type": "integer"
        },
        {
         "name": "language",
         "rawType": "object",
         "type": "string"
        },
        {
         "name": "language_type",
         "rawType": "object",
         "type": "string"
        },
        {
         "name": "iso2_code",
         "rawType": "object",
         "type": "string"
        },
        {
         "name": "year",
         "rawType": "int64",
         "type": "integer"
        },
        {
         "name": "quarter",
         "rawType": "int64",
         "type": "integer"
        }
       ],
       "conversionMethod": "pd.DataFrame",
       "ref": "64bdf54b-76e7-40db-a8af-0d7f434d0216",
       "rows": [
        [
         "4",
         "1734",
         "JavaScript",
         "programming",
         "AE",
         "2020",
         "1"
        ],
        [
         "5",
         "816",
         "Python",
         "programming",
         "AE",
         "2020",
         "1"
        ],
        [
         "6",
         "712",
         "Shell",
         "programming",
         "AE",
         "2020",
         "1"
        ],
        [
         "7",
         "685",
         "Java",
         "programming",
         "AE",
         "2020",
         "1"
        ],
        [
         "8",
         "377",
         "Ruby",
         "programming",
         "AE",
         "2020",
         "1"
        ]
       ],
       "shape": {
        "columns": 6,
        "rows": 5
       }
      },
      "text/html": [
       "<div>\n",
       "<style scoped>\n",
       "    .dataframe tbody tr th:only-of-type {\n",
       "        vertical-align: middle;\n",
       "    }\n",
       "\n",
       "    .dataframe tbody tr th {\n",
       "        vertical-align: top;\n",
       "    }\n",
       "\n",
       "    .dataframe thead th {\n",
       "        text-align: right;\n",
       "    }\n",
       "</style>\n",
       "<table border=\"1\" class=\"dataframe\">\n",
       "  <thead>\n",
       "    <tr style=\"text-align: right;\">\n",
       "      <th></th>\n",
       "      <th>num_pushers</th>\n",
       "      <th>language</th>\n",
       "      <th>language_type</th>\n",
       "      <th>iso2_code</th>\n",
       "      <th>year</th>\n",
       "      <th>quarter</th>\n",
       "    </tr>\n",
       "  </thead>\n",
       "  <tbody>\n",
       "    <tr>\n",
       "      <th>4</th>\n",
       "      <td>1734</td>\n",
       "      <td>JavaScript</td>\n",
       "      <td>programming</td>\n",
       "      <td>AE</td>\n",
       "      <td>2020</td>\n",
       "      <td>1</td>\n",
       "    </tr>\n",
       "    <tr>\n",
       "      <th>5</th>\n",
       "      <td>816</td>\n",
       "      <td>Python</td>\n",
       "      <td>programming</td>\n",
       "      <td>AE</td>\n",
       "      <td>2020</td>\n",
       "      <td>1</td>\n",
       "    </tr>\n",
       "    <tr>\n",
       "      <th>6</th>\n",
       "      <td>712</td>\n",
       "      <td>Shell</td>\n",
       "      <td>programming</td>\n",
       "      <td>AE</td>\n",
       "      <td>2020</td>\n",
       "      <td>1</td>\n",
       "    </tr>\n",
       "    <tr>\n",
       "      <th>7</th>\n",
       "      <td>685</td>\n",
       "      <td>Java</td>\n",
       "      <td>programming</td>\n",
       "      <td>AE</td>\n",
       "      <td>2020</td>\n",
       "      <td>1</td>\n",
       "    </tr>\n",
       "    <tr>\n",
       "      <th>8</th>\n",
       "      <td>377</td>\n",
       "      <td>Ruby</td>\n",
       "      <td>programming</td>\n",
       "      <td>AE</td>\n",
       "      <td>2020</td>\n",
       "      <td>1</td>\n",
       "    </tr>\n",
       "  </tbody>\n",
       "</table>\n",
       "</div>"
      ],
      "text/plain": [
       "   num_pushers    language language_type iso2_code  year  quarter\n",
       "4         1734  JavaScript   programming        AE  2020        1\n",
       "5          816      Python   programming        AE  2020        1\n",
       "6          712       Shell   programming        AE  2020        1\n",
       "7          685        Java   programming        AE  2020        1\n",
       "8          377        Ruby   programming        AE  2020        1"
      ]
     },
     "execution_count": 27,
     "metadata": {},
     "output_type": "execute_result"
    }
   ],
   "source": [
    "df_4_programming.head()"
   ]
  },
  {
   "cell_type": "code",
   "execution_count": 28,
   "metadata": {},
   "outputs": [
    {
     "name": "stdout",
     "output_type": "stream",
     "text": [
      "<class 'pandas.core.frame.DataFrame'>\n",
      "Index: 102586 entries, 4 to 128128\n",
      "Data columns (total 6 columns):\n",
      " #   Column         Non-Null Count   Dtype \n",
      "---  ------         --------------   ----- \n",
      " 0   num_pushers    102586 non-null  int64 \n",
      " 1   language       102586 non-null  object\n",
      " 2   language_type  102586 non-null  object\n",
      " 3   iso2_code      102570 non-null  object\n",
      " 4   year           102586 non-null  int64 \n",
      " 5   quarter        102586 non-null  int64 \n",
      "dtypes: int64(3), object(3)\n",
      "memory usage: 5.5+ MB\n"
     ]
    }
   ],
   "source": [
    "df_4_programming.info()"
   ]
  },
  {
   "cell_type": "code",
   "execution_count": 29,
   "metadata": {},
   "outputs": [],
   "source": [
    "# Agrupamos los valores por year y language y sumamos los num_pushers, así evitamos tenerlo por quarter. \n",
    "# groupby(['year', 'name']): Agrupa el dataframe por las columnas year y name.\n",
    "# ['count'].sum(): Para cada grupo, suma los valores de la columna count.\n",
    "# .reset_index(): Restablece el índice para que los grupos se conviertan en columnas nuevamente.\n",
    "\n"
   ]
  },
  {
   "cell_type": "code",
   "execution_count": 30,
   "metadata": {},
   "outputs": [
    {
     "data": {
      "application/vnd.microsoft.datawrangler.viewer.v0+json": {
       "columns": [
        {
         "name": "index",
         "rawType": "int64",
         "type": "integer"
        },
        {
         "name": "year",
         "rawType": "int64",
         "type": "integer"
        },
        {
         "name": "quarter",
         "rawType": "int64",
         "type": "integer"
        },
        {
         "name": "language",
         "rawType": "object",
         "type": "string"
        },
        {
         "name": "num_pushers",
         "rawType": "int64",
         "type": "integer"
        }
       ],
       "conversionMethod": "pd.DataFrame",
       "ref": "aa2006a6-afd7-4e30-b05f-3f494af52890",
       "rows": [
        [
         "0",
         "2020",
         "1",
         "1C Enterprise",
         "667"
        ],
        [
         "1",
         "2020",
         "1",
         "AGS Script",
         "640"
        ],
        [
         "2",
         "2020",
         "1",
         "AMPL",
         "1788"
        ],
        [
         "3",
         "2020",
         "1",
         "ANTLR",
         "7842"
        ],
        [
         "4",
         "2020",
         "1",
         "ActionScript",
         "2249"
        ],
        [
         "5",
         "2020",
         "1",
         "Ada",
         "4428"
        ],
        [
         "6",
         "2020",
         "1",
         "Agda",
         "116"
        ],
        [
         "7",
         "2020",
         "1",
         "AngelScript",
         "1117"
        ],
        [
         "8",
         "2020",
         "1",
         "Apex",
         "1426"
        ],
        [
         "9",
         "2020",
         "1",
         "AppleScript",
         "4721"
        ],
        [
         "10",
         "2020",
         "1",
         "Arc",
         "745"
        ],
        [
         "11",
         "2020",
         "1",
         "AspectJ",
         "1063"
        ],
        [
         "12",
         "2020",
         "1",
         "Assembly",
         "75836"
        ],
        [
         "13",
         "2020",
         "1",
         "Asymptote",
         "114"
        ],
        [
         "14",
         "2020",
         "1",
         "AutoHotkey",
         "1678"
        ],
        [
         "15",
         "2020",
         "1",
         "AutoIt",
         "169"
        ],
        [
         "16",
         "2020",
         "1",
         "Awk",
         "26476"
        ],
        [
         "17",
         "2020",
         "1",
         "Ballerina",
         "168"
        ],
        [
         "18",
         "2020",
         "1",
         "Batchfile",
         "216159"
        ],
        [
         "19",
         "2020",
         "1",
         "BitBake",
         "631"
        ],
        [
         "20",
         "2020",
         "1",
         "BlitzBasic",
         "149"
        ],
        [
         "21",
         "2020",
         "1",
         "Brainfuck",
         "986"
        ],
        [
         "22",
         "2020",
         "1",
         "C",
         "357637"
        ],
        [
         "23",
         "2020",
         "1",
         "C#",
         "297141"
        ],
        [
         "24",
         "2020",
         "1",
         "C++",
         "405616"
        ],
        [
         "25",
         "2020",
         "1",
         "CLIPS",
         "157"
        ],
        [
         "26",
         "2020",
         "1",
         "CMake",
         "132038"
        ],
        [
         "27",
         "2020",
         "1",
         "COBOL",
         "257"
        ],
        [
         "28",
         "2020",
         "1",
         "CWeb",
         "125"
        ],
        [
         "29",
         "2020",
         "1",
         "Cap'n Proto",
         "340"
        ],
        [
         "30",
         "2020",
         "1",
         "CartoCSS",
         "171"
        ],
        [
         "31",
         "2020",
         "1",
         "ChucK",
         "102"
        ],
        [
         "32",
         "2020",
         "1",
         "Clarion",
         "170"
        ],
        [
         "33",
         "2020",
         "1",
         "Clean",
         "113"
        ],
        [
         "34",
         "2020",
         "1",
         "Clojure",
         "12156"
        ],
        [
         "35",
         "2020",
         "1",
         "CoffeeScript",
         "37666"
        ],
        [
         "36",
         "2020",
         "1",
         "ColdFusion",
         "344"
        ],
        [
         "37",
         "2020",
         "1",
         "Common Lisp",
         "7875"
        ],
        [
         "38",
         "2020",
         "1",
         "Common Workflow Language",
         "183"
        ],
        [
         "39",
         "2020",
         "1",
         "Component Pascal",
         "111"
        ],
        [
         "40",
         "2020",
         "1",
         "Cool",
         "566"
        ],
        [
         "41",
         "2020",
         "1",
         "Coq",
         "2597"
        ],
        [
         "42",
         "2020",
         "1",
         "Crystal",
         "1650"
        ],
        [
         "43",
         "2020",
         "1",
         "Cuda",
         "15271"
        ],
        [
         "44",
         "2020",
         "1",
         "Cycript",
         "164"
        ],
        [
         "45",
         "2020",
         "1",
         "D",
         "4667"
        ],
        [
         "46",
         "2020",
         "1",
         "DIGITAL Command Language",
         "6399"
        ],
        [
         "47",
         "2020",
         "1",
         "DM",
         "803"
        ],
        [
         "48",
         "2020",
         "1",
         "DTrace",
         "4422"
        ],
        [
         "49",
         "2020",
         "1",
         "Dart",
         "41969"
        ]
       ],
       "shape": {
        "columns": 4,
        "rows": 5207
       }
      },
      "text/html": [
       "<div>\n",
       "<style scoped>\n",
       "    .dataframe tbody tr th:only-of-type {\n",
       "        vertical-align: middle;\n",
       "    }\n",
       "\n",
       "    .dataframe tbody tr th {\n",
       "        vertical-align: top;\n",
       "    }\n",
       "\n",
       "    .dataframe thead th {\n",
       "        text-align: right;\n",
       "    }\n",
       "</style>\n",
       "<table border=\"1\" class=\"dataframe\">\n",
       "  <thead>\n",
       "    <tr style=\"text-align: right;\">\n",
       "      <th></th>\n",
       "      <th>year</th>\n",
       "      <th>quarter</th>\n",
       "      <th>language</th>\n",
       "      <th>num_pushers</th>\n",
       "    </tr>\n",
       "  </thead>\n",
       "  <tbody>\n",
       "    <tr>\n",
       "      <th>0</th>\n",
       "      <td>2020</td>\n",
       "      <td>1</td>\n",
       "      <td>1C Enterprise</td>\n",
       "      <td>667</td>\n",
       "    </tr>\n",
       "    <tr>\n",
       "      <th>1</th>\n",
       "      <td>2020</td>\n",
       "      <td>1</td>\n",
       "      <td>AGS Script</td>\n",
       "      <td>640</td>\n",
       "    </tr>\n",
       "    <tr>\n",
       "      <th>2</th>\n",
       "      <td>2020</td>\n",
       "      <td>1</td>\n",
       "      <td>AMPL</td>\n",
       "      <td>1788</td>\n",
       "    </tr>\n",
       "    <tr>\n",
       "      <th>3</th>\n",
       "      <td>2020</td>\n",
       "      <td>1</td>\n",
       "      <td>ANTLR</td>\n",
       "      <td>7842</td>\n",
       "    </tr>\n",
       "    <tr>\n",
       "      <th>4</th>\n",
       "      <td>2020</td>\n",
       "      <td>1</td>\n",
       "      <td>ActionScript</td>\n",
       "      <td>2249</td>\n",
       "    </tr>\n",
       "    <tr>\n",
       "      <th>...</th>\n",
       "      <td>...</td>\n",
       "      <td>...</td>\n",
       "      <td>...</td>\n",
       "      <td>...</td>\n",
       "    </tr>\n",
       "    <tr>\n",
       "      <th>5202</th>\n",
       "      <td>2024</td>\n",
       "      <td>3</td>\n",
       "      <td>mcfunction</td>\n",
       "      <td>553</td>\n",
       "    </tr>\n",
       "    <tr>\n",
       "      <th>5203</th>\n",
       "      <td>2024</td>\n",
       "      <td>3</td>\n",
       "      <td>nesC</td>\n",
       "      <td>341</td>\n",
       "    </tr>\n",
       "    <tr>\n",
       "      <th>5204</th>\n",
       "      <td>2024</td>\n",
       "      <td>3</td>\n",
       "      <td>q</td>\n",
       "      <td>743</td>\n",
       "    </tr>\n",
       "    <tr>\n",
       "      <th>5205</th>\n",
       "      <td>2024</td>\n",
       "      <td>3</td>\n",
       "      <td>sed</td>\n",
       "      <td>21404</td>\n",
       "    </tr>\n",
       "    <tr>\n",
       "      <th>5206</th>\n",
       "      <td>2024</td>\n",
       "      <td>3</td>\n",
       "      <td>xBase</td>\n",
       "      <td>1277</td>\n",
       "    </tr>\n",
       "  </tbody>\n",
       "</table>\n",
       "<p>5207 rows × 4 columns</p>\n",
       "</div>"
      ],
      "text/plain": [
       "      year  quarter       language  num_pushers\n",
       "0     2020        1  1C Enterprise          667\n",
       "1     2020        1     AGS Script          640\n",
       "2     2020        1           AMPL         1788\n",
       "3     2020        1          ANTLR         7842\n",
       "4     2020        1   ActionScript         2249\n",
       "...    ...      ...            ...          ...\n",
       "5202  2024        3     mcfunction          553\n",
       "5203  2024        3           nesC          341\n",
       "5204  2024        3              q          743\n",
       "5205  2024        3            sed        21404\n",
       "5206  2024        3          xBase         1277\n",
       "\n",
       "[5207 rows x 4 columns]"
      ]
     },
     "execution_count": 30,
     "metadata": {},
     "output_type": "execute_result"
    }
   ],
   "source": [
    "df_4_q_grouped =df_4_programming.groupby(['year', \"quarter\",'language'])['num_pushers'].sum().reset_index()\n",
    "df_4_q_grouped"
   ]
  },
  {
   "cell_type": "code",
   "execution_count": 31,
   "metadata": {},
   "outputs": [],
   "source": [
    "# Los ordenamos por year y num_pushers. \n",
    "\n"
   ]
  },
  {
   "cell_type": "code",
   "execution_count": 32,
   "metadata": {},
   "outputs": [
    {
     "data": {
      "application/vnd.microsoft.datawrangler.viewer.v0+json": {
       "columns": [
        {
         "name": "index",
         "rawType": "int64",
         "type": "integer"
        },
        {
         "name": "year",
         "rawType": "int64",
         "type": "integer"
        },
        {
         "name": "quarter",
         "rawType": "int64",
         "type": "integer"
        },
        {
         "name": "language",
         "rawType": "object",
         "type": "string"
        },
        {
         "name": "num_pushers",
         "rawType": "int64",
         "type": "integer"
        }
       ],
       "conversionMethod": "pd.DataFrame",
       "ref": "0626dec5-196d-4867-9d17-e7e9a7eba00a",
       "rows": [
        [
         "94",
         "2020",
         "1",
         "JavaScript",
         "1674530"
        ],
        [
         "154",
         "2020",
         "1",
         "Python",
         "977900"
        ],
        [
         "181",
         "2020",
         "1",
         "Shell",
         "803568"
        ],
        [
         "93",
         "2020",
         "1",
         "Java",
         "720340"
        ],
        [
         "24",
         "2020",
         "1",
         "C++",
         "405616"
        ],
        [
         "51",
         "2020",
         "1",
         "Dockerfile",
         "374932"
        ],
        [
         "113",
         "2020",
         "1",
         "Makefile",
         "369767"
        ],
        [
         "138",
         "2020",
         "1",
         "PHP",
         "359337"
        ],
        [
         "22",
         "2020",
         "1",
         "C",
         "357637"
        ],
        [
         "169",
         "2020",
         "1",
         "Ruby",
         "328975"
        ],
        [
         "200",
         "2020",
         "1",
         "TypeScript",
         "306095"
        ],
        [
         "23",
         "2020",
         "1",
         "C#",
         "297141"
        ],
        [
         "18",
         "2020",
         "1",
         "Batchfile",
         "216159"
        ],
        [
         "196",
         "2020",
         "1",
         "TSQL",
         "190295"
        ],
        [
         "132",
         "2020",
         "1",
         "Objective-C",
         "188836"
        ],
        [
         "26",
         "2020",
         "1",
         "CMake",
         "132038"
        ],
        [
         "75",
         "2020",
         "1",
         "Go",
         "126005"
        ],
        [
         "97",
         "2020",
         "1",
         "Kotlin",
         "101046"
        ],
        [
         "148",
         "2020",
         "1",
         "PowerShell",
         "99179"
        ],
        [
         "145",
         "2020",
         "1",
         "Perl",
         "94235"
        ],
        [
         "193",
         "2020",
         "1",
         "Swift",
         "89259"
        ],
        [
         "157",
         "2020",
         "1",
         "R",
         "77481"
        ],
        [
         "12",
         "2020",
         "1",
         "Assembly",
         "75836"
        ],
        [
         "79",
         "2020",
         "1",
         "Hack",
         "74047"
        ],
        [
         "209",
         "2020",
         "1",
         "Vim Script",
         "67976"
        ],
        [
         "107",
         "2020",
         "1",
         "Lua",
         "49830"
        ],
        [
         "185",
         "2020",
         "1",
         "Smarty",
         "47933"
        ],
        [
         "214",
         "2020",
         "1",
         "XSLT",
         "47704"
        ],
        [
         "109",
         "2020",
         "1",
         "M4",
         "45674"
        ],
        [
         "110",
         "2020",
         "1",
         "MATLAB",
         "45391"
        ],
        [
         "76",
         "2020",
         "1",
         "Groovy",
         "43743"
        ],
        [
         "49",
         "2020",
         "1",
         "Dart",
         "41969"
        ],
        [
         "180",
         "2020",
         "1",
         "ShaderLab",
         "40988"
        ],
        [
         "78",
         "2020",
         "1",
         "HLSL",
         "38240"
        ],
        [
         "170",
         "2020",
         "1",
         "Rust",
         "38012"
        ],
        [
         "35",
         "2020",
         "1",
         "CoffeeScript",
         "37666"
        ],
        [
         "71",
         "2020",
         "1",
         "GLSL",
         "36816"
        ],
        [
         "177",
         "2020",
         "1",
         "Scala",
         "32233"
        ],
        [
         "56",
         "2020",
         "1",
         "Emacs Lisp",
         "31343"
        ],
        [
         "140",
         "2020",
         "1",
         "PLpgSQL",
         "30879"
        ],
        [
         "73",
         "2020",
         "1",
         "Gherkin",
         "28908"
        ],
        [
         "190",
         "2020",
         "1",
         "Starlark",
         "28313"
        ],
        [
         "77",
         "2020",
         "1",
         "HCL",
         "27283"
        ],
        [
         "16",
         "2020",
         "1",
         "Awk",
         "26476"
        ],
        [
         "217",
         "2020",
         "1",
         "Yacc",
         "24483"
        ],
        [
         "156",
         "2020",
         "1",
         "QMake",
         "22912"
        ],
        [
         "133",
         "2020",
         "1",
         "Objective-C++",
         "22285"
        ],
        [
         "101",
         "2020",
         "1",
         "Lex",
         "21910"
        ],
        [
         "139",
         "2020",
         "1",
         "PLSQL",
         "19854"
        ],
        [
         "197",
         "2020",
         "1",
         "Tcl",
         "19664"
        ]
       ],
       "shape": {
        "columns": 4,
        "rows": 5207
       }
      },
      "text/html": [
       "<div>\n",
       "<style scoped>\n",
       "    .dataframe tbody tr th:only-of-type {\n",
       "        vertical-align: middle;\n",
       "    }\n",
       "\n",
       "    .dataframe tbody tr th {\n",
       "        vertical-align: top;\n",
       "    }\n",
       "\n",
       "    .dataframe thead th {\n",
       "        text-align: right;\n",
       "    }\n",
       "</style>\n",
       "<table border=\"1\" class=\"dataframe\">\n",
       "  <thead>\n",
       "    <tr style=\"text-align: right;\">\n",
       "      <th></th>\n",
       "      <th>year</th>\n",
       "      <th>quarter</th>\n",
       "      <th>language</th>\n",
       "      <th>num_pushers</th>\n",
       "    </tr>\n",
       "  </thead>\n",
       "  <tbody>\n",
       "    <tr>\n",
       "      <th>94</th>\n",
       "      <td>2020</td>\n",
       "      <td>1</td>\n",
       "      <td>JavaScript</td>\n",
       "      <td>1674530</td>\n",
       "    </tr>\n",
       "    <tr>\n",
       "      <th>154</th>\n",
       "      <td>2020</td>\n",
       "      <td>1</td>\n",
       "      <td>Python</td>\n",
       "      <td>977900</td>\n",
       "    </tr>\n",
       "    <tr>\n",
       "      <th>181</th>\n",
       "      <td>2020</td>\n",
       "      <td>1</td>\n",
       "      <td>Shell</td>\n",
       "      <td>803568</td>\n",
       "    </tr>\n",
       "    <tr>\n",
       "      <th>93</th>\n",
       "      <td>2020</td>\n",
       "      <td>1</td>\n",
       "      <td>Java</td>\n",
       "      <td>720340</td>\n",
       "    </tr>\n",
       "    <tr>\n",
       "      <th>24</th>\n",
       "      <td>2020</td>\n",
       "      <td>1</td>\n",
       "      <td>C++</td>\n",
       "      <td>405616</td>\n",
       "    </tr>\n",
       "    <tr>\n",
       "      <th>...</th>\n",
       "      <td>...</td>\n",
       "      <td>...</td>\n",
       "      <td>...</td>\n",
       "      <td>...</td>\n",
       "    </tr>\n",
       "    <tr>\n",
       "      <th>5043</th>\n",
       "      <td>2024</td>\n",
       "      <td>3</td>\n",
       "      <td>Lasso</td>\n",
       "      <td>114</td>\n",
       "    </tr>\n",
       "    <tr>\n",
       "      <th>5076</th>\n",
       "      <td>2024</td>\n",
       "      <td>3</td>\n",
       "      <td>Nearley</td>\n",
       "      <td>113</td>\n",
       "    </tr>\n",
       "    <tr>\n",
       "      <th>4956</th>\n",
       "      <td>2024</td>\n",
       "      <td>3</td>\n",
       "      <td>ChucK</td>\n",
       "      <td>105</td>\n",
       "    </tr>\n",
       "    <tr>\n",
       "      <th>5150</th>\n",
       "      <td>2024</td>\n",
       "      <td>3</td>\n",
       "      <td>Smali</td>\n",
       "      <td>105</td>\n",
       "    </tr>\n",
       "    <tr>\n",
       "      <th>5038</th>\n",
       "      <td>2024</td>\n",
       "      <td>3</td>\n",
       "      <td>KakouneScript</td>\n",
       "      <td>101</td>\n",
       "    </tr>\n",
       "  </tbody>\n",
       "</table>\n",
       "<p>5207 rows × 4 columns</p>\n",
       "</div>"
      ],
      "text/plain": [
       "      year  quarter       language  num_pushers\n",
       "94    2020        1     JavaScript      1674530\n",
       "154   2020        1         Python       977900\n",
       "181   2020        1          Shell       803568\n",
       "93    2020        1           Java       720340\n",
       "24    2020        1            C++       405616\n",
       "...    ...      ...            ...          ...\n",
       "5043  2024        3          Lasso          114\n",
       "5076  2024        3        Nearley          113\n",
       "4956  2024        3          ChucK          105\n",
       "5150  2024        3          Smali          105\n",
       "5038  2024        3  KakouneScript          101\n",
       "\n",
       "[5207 rows x 4 columns]"
      ]
     },
     "execution_count": 32,
     "metadata": {},
     "output_type": "execute_result"
    }
   ],
   "source": [
    "df_4_q_grouped_sorted = df_4_q_grouped.sort_values(by=['year', \"quarter\",'num_pushers'], ascending=[True, True, False])\n",
    "df_4_q_grouped_sorted"
   ]
  },
  {
   "cell_type": "code",
   "execution_count": 33,
   "metadata": {},
   "outputs": [],
   "source": [
    "# Creo una columna con un indice para saber el orden del lenguaje de programación más utilizado por año\n"
   ]
  },
  {
   "cell_type": "code",
   "execution_count": 34,
   "metadata": {},
   "outputs": [
    {
     "data": {
      "application/vnd.microsoft.datawrangler.viewer.v0+json": {
       "columns": [
        {
         "name": "index",
         "rawType": "int64",
         "type": "integer"
        },
        {
         "name": "year",
         "rawType": "int64",
         "type": "integer"
        },
        {
         "name": "quarter",
         "rawType": "int64",
         "type": "integer"
        },
        {
         "name": "language",
         "rawType": "object",
         "type": "string"
        },
        {
         "name": "num_pushers",
         "rawType": "int64",
         "type": "integer"
        },
        {
         "name": "indice",
         "rawType": "int64",
         "type": "integer"
        }
       ],
       "conversionMethod": "pd.DataFrame",
       "ref": "4877382b-37f9-401a-b40e-35d87be16ff2",
       "rows": [
        [
         "94",
         "2020",
         "1",
         "JavaScript",
         "1674530",
         "1"
        ],
        [
         "154",
         "2020",
         "1",
         "Python",
         "977900",
         "2"
        ],
        [
         "181",
         "2020",
         "1",
         "Shell",
         "803568",
         "3"
        ],
        [
         "93",
         "2020",
         "1",
         "Java",
         "720340",
         "4"
        ],
        [
         "24",
         "2020",
         "1",
         "C++",
         "405616",
         "5"
        ],
        [
         "51",
         "2020",
         "1",
         "Dockerfile",
         "374932",
         "6"
        ],
        [
         "113",
         "2020",
         "1",
         "Makefile",
         "369767",
         "7"
        ],
        [
         "138",
         "2020",
         "1",
         "PHP",
         "359337",
         "8"
        ],
        [
         "22",
         "2020",
         "1",
         "C",
         "357637",
         "9"
        ],
        [
         "169",
         "2020",
         "1",
         "Ruby",
         "328975",
         "10"
        ],
        [
         "200",
         "2020",
         "1",
         "TypeScript",
         "306095",
         "11"
        ],
        [
         "23",
         "2020",
         "1",
         "C#",
         "297141",
         "12"
        ],
        [
         "18",
         "2020",
         "1",
         "Batchfile",
         "216159",
         "13"
        ],
        [
         "196",
         "2020",
         "1",
         "TSQL",
         "190295",
         "14"
        ],
        [
         "132",
         "2020",
         "1",
         "Objective-C",
         "188836",
         "15"
        ],
        [
         "26",
         "2020",
         "1",
         "CMake",
         "132038",
         "16"
        ],
        [
         "75",
         "2020",
         "1",
         "Go",
         "126005",
         "17"
        ],
        [
         "97",
         "2020",
         "1",
         "Kotlin",
         "101046",
         "18"
        ],
        [
         "148",
         "2020",
         "1",
         "PowerShell",
         "99179",
         "19"
        ],
        [
         "145",
         "2020",
         "1",
         "Perl",
         "94235",
         "20"
        ],
        [
         "193",
         "2020",
         "1",
         "Swift",
         "89259",
         "21"
        ],
        [
         "157",
         "2020",
         "1",
         "R",
         "77481",
         "22"
        ],
        [
         "12",
         "2020",
         "1",
         "Assembly",
         "75836",
         "23"
        ],
        [
         "79",
         "2020",
         "1",
         "Hack",
         "74047",
         "24"
        ],
        [
         "209",
         "2020",
         "1",
         "Vim Script",
         "67976",
         "25"
        ],
        [
         "107",
         "2020",
         "1",
         "Lua",
         "49830",
         "26"
        ],
        [
         "185",
         "2020",
         "1",
         "Smarty",
         "47933",
         "27"
        ],
        [
         "214",
         "2020",
         "1",
         "XSLT",
         "47704",
         "28"
        ],
        [
         "109",
         "2020",
         "1",
         "M4",
         "45674",
         "29"
        ],
        [
         "110",
         "2020",
         "1",
         "MATLAB",
         "45391",
         "30"
        ],
        [
         "76",
         "2020",
         "1",
         "Groovy",
         "43743",
         "31"
        ],
        [
         "49",
         "2020",
         "1",
         "Dart",
         "41969",
         "32"
        ],
        [
         "180",
         "2020",
         "1",
         "ShaderLab",
         "40988",
         "33"
        ],
        [
         "78",
         "2020",
         "1",
         "HLSL",
         "38240",
         "34"
        ],
        [
         "170",
         "2020",
         "1",
         "Rust",
         "38012",
         "35"
        ],
        [
         "35",
         "2020",
         "1",
         "CoffeeScript",
         "37666",
         "36"
        ],
        [
         "71",
         "2020",
         "1",
         "GLSL",
         "36816",
         "37"
        ],
        [
         "177",
         "2020",
         "1",
         "Scala",
         "32233",
         "38"
        ],
        [
         "56",
         "2020",
         "1",
         "Emacs Lisp",
         "31343",
         "39"
        ],
        [
         "140",
         "2020",
         "1",
         "PLpgSQL",
         "30879",
         "40"
        ],
        [
         "73",
         "2020",
         "1",
         "Gherkin",
         "28908",
         "41"
        ],
        [
         "190",
         "2020",
         "1",
         "Starlark",
         "28313",
         "42"
        ],
        [
         "77",
         "2020",
         "1",
         "HCL",
         "27283",
         "43"
        ],
        [
         "16",
         "2020",
         "1",
         "Awk",
         "26476",
         "44"
        ],
        [
         "217",
         "2020",
         "1",
         "Yacc",
         "24483",
         "45"
        ],
        [
         "156",
         "2020",
         "1",
         "QMake",
         "22912",
         "46"
        ],
        [
         "133",
         "2020",
         "1",
         "Objective-C++",
         "22285",
         "47"
        ],
        [
         "101",
         "2020",
         "1",
         "Lex",
         "21910",
         "48"
        ],
        [
         "139",
         "2020",
         "1",
         "PLSQL",
         "19854",
         "49"
        ],
        [
         "197",
         "2020",
         "1",
         "Tcl",
         "19664",
         "50"
        ]
       ],
       "shape": {
        "columns": 5,
        "rows": 5207
       }
      },
      "text/html": [
       "<div>\n",
       "<style scoped>\n",
       "    .dataframe tbody tr th:only-of-type {\n",
       "        vertical-align: middle;\n",
       "    }\n",
       "\n",
       "    .dataframe tbody tr th {\n",
       "        vertical-align: top;\n",
       "    }\n",
       "\n",
       "    .dataframe thead th {\n",
       "        text-align: right;\n",
       "    }\n",
       "</style>\n",
       "<table border=\"1\" class=\"dataframe\">\n",
       "  <thead>\n",
       "    <tr style=\"text-align: right;\">\n",
       "      <th></th>\n",
       "      <th>year</th>\n",
       "      <th>quarter</th>\n",
       "      <th>language</th>\n",
       "      <th>num_pushers</th>\n",
       "      <th>indice</th>\n",
       "    </tr>\n",
       "  </thead>\n",
       "  <tbody>\n",
       "    <tr>\n",
       "      <th>94</th>\n",
       "      <td>2020</td>\n",
       "      <td>1</td>\n",
       "      <td>JavaScript</td>\n",
       "      <td>1674530</td>\n",
       "      <td>1</td>\n",
       "    </tr>\n",
       "    <tr>\n",
       "      <th>154</th>\n",
       "      <td>2020</td>\n",
       "      <td>1</td>\n",
       "      <td>Python</td>\n",
       "      <td>977900</td>\n",
       "      <td>2</td>\n",
       "    </tr>\n",
       "    <tr>\n",
       "      <th>181</th>\n",
       "      <td>2020</td>\n",
       "      <td>1</td>\n",
       "      <td>Shell</td>\n",
       "      <td>803568</td>\n",
       "      <td>3</td>\n",
       "    </tr>\n",
       "    <tr>\n",
       "      <th>93</th>\n",
       "      <td>2020</td>\n",
       "      <td>1</td>\n",
       "      <td>Java</td>\n",
       "      <td>720340</td>\n",
       "      <td>4</td>\n",
       "    </tr>\n",
       "    <tr>\n",
       "      <th>24</th>\n",
       "      <td>2020</td>\n",
       "      <td>1</td>\n",
       "      <td>C++</td>\n",
       "      <td>405616</td>\n",
       "      <td>5</td>\n",
       "    </tr>\n",
       "    <tr>\n",
       "      <th>...</th>\n",
       "      <td>...</td>\n",
       "      <td>...</td>\n",
       "      <td>...</td>\n",
       "      <td>...</td>\n",
       "      <td>...</td>\n",
       "    </tr>\n",
       "    <tr>\n",
       "      <th>5043</th>\n",
       "      <td>2024</td>\n",
       "      <td>3</td>\n",
       "      <td>Lasso</td>\n",
       "      <td>114</td>\n",
       "      <td>291</td>\n",
       "    </tr>\n",
       "    <tr>\n",
       "      <th>5076</th>\n",
       "      <td>2024</td>\n",
       "      <td>3</td>\n",
       "      <td>Nearley</td>\n",
       "      <td>113</td>\n",
       "      <td>292</td>\n",
       "    </tr>\n",
       "    <tr>\n",
       "      <th>4956</th>\n",
       "      <td>2024</td>\n",
       "      <td>3</td>\n",
       "      <td>ChucK</td>\n",
       "      <td>105</td>\n",
       "      <td>293</td>\n",
       "    </tr>\n",
       "    <tr>\n",
       "      <th>5150</th>\n",
       "      <td>2024</td>\n",
       "      <td>3</td>\n",
       "      <td>Smali</td>\n",
       "      <td>105</td>\n",
       "      <td>294</td>\n",
       "    </tr>\n",
       "    <tr>\n",
       "      <th>5038</th>\n",
       "      <td>2024</td>\n",
       "      <td>3</td>\n",
       "      <td>KakouneScript</td>\n",
       "      <td>101</td>\n",
       "      <td>295</td>\n",
       "    </tr>\n",
       "  </tbody>\n",
       "</table>\n",
       "<p>5207 rows × 5 columns</p>\n",
       "</div>"
      ],
      "text/plain": [
       "      year  quarter       language  num_pushers  indice\n",
       "94    2020        1     JavaScript      1674530       1\n",
       "154   2020        1         Python       977900       2\n",
       "181   2020        1          Shell       803568       3\n",
       "93    2020        1           Java       720340       4\n",
       "24    2020        1            C++       405616       5\n",
       "...    ...      ...            ...          ...     ...\n",
       "5043  2024        3          Lasso          114     291\n",
       "5076  2024        3        Nearley          113     292\n",
       "4956  2024        3          ChucK          105     293\n",
       "5150  2024        3          Smali          105     294\n",
       "5038  2024        3  KakouneScript          101     295\n",
       "\n",
       "[5207 rows x 5 columns]"
      ]
     },
     "execution_count": 34,
     "metadata": {},
     "output_type": "execute_result"
    }
   ],
   "source": [
    "df_4_q_grouped_sorted['indice'] = df_4_q_grouped_sorted.groupby(['year',\"quarter\"]).cumcount() + 1\n",
    "df_4_q_grouped_sorted"
   ]
  },
  {
   "cell_type": "code",
   "execution_count": 35,
   "metadata": {},
   "outputs": [
    {
     "data": {
      "application/vnd.microsoft.datawrangler.viewer.v0+json": {
       "columns": [
        {
         "name": "index",
         "rawType": "int64",
         "type": "integer"
        },
        {
         "name": "year",
         "rawType": "int64",
         "type": "integer"
        },
        {
         "name": "quarter",
         "rawType": "int64",
         "type": "integer"
        },
        {
         "name": "language",
         "rawType": "object",
         "type": "string"
        },
        {
         "name": "num_pushers",
         "rawType": "int64",
         "type": "integer"
        },
        {
         "name": "indice",
         "rawType": "int64",
         "type": "integer"
        }
       ],
       "conversionMethod": "pd.DataFrame",
       "ref": "5fcb4746-ea59-4649-82ea-82509366a3de",
       "rows": [
        [
         "94",
         "2020",
         "1",
         "JavaScript",
         "1674530",
         "1"
        ],
        [
         "154",
         "2020",
         "1",
         "Python",
         "977900",
         "2"
        ],
        [
         "181",
         "2020",
         "1",
         "Shell",
         "803568",
         "3"
        ],
        [
         "93",
         "2020",
         "1",
         "Java",
         "720340",
         "4"
        ],
        [
         "24",
         "2020",
         "1",
         "C++",
         "405616",
         "5"
        ],
        [
         "51",
         "2020",
         "1",
         "Dockerfile",
         "374932",
         "6"
        ],
        [
         "113",
         "2020",
         "1",
         "Makefile",
         "369767",
         "7"
        ],
        [
         "138",
         "2020",
         "1",
         "PHP",
         "359337",
         "8"
        ],
        [
         "22",
         "2020",
         "1",
         "C",
         "357637",
         "9"
        ],
        [
         "169",
         "2020",
         "1",
         "Ruby",
         "328975",
         "10"
        ],
        [
         "200",
         "2020",
         "1",
         "TypeScript",
         "306095",
         "11"
        ],
        [
         "23",
         "2020",
         "1",
         "C#",
         "297141",
         "12"
        ],
        [
         "18",
         "2020",
         "1",
         "Batchfile",
         "216159",
         "13"
        ],
        [
         "196",
         "2020",
         "1",
         "TSQL",
         "190295",
         "14"
        ],
        [
         "132",
         "2020",
         "1",
         "Objective-C",
         "188836",
         "15"
        ],
        [
         "322",
         "2020",
         "2",
         "JavaScript",
         "1905586",
         "1"
        ],
        [
         "386",
         "2020",
         "2",
         "Python",
         "1132551",
         "2"
        ],
        [
         "414",
         "2020",
         "2",
         "Shell",
         "976206",
         "3"
        ],
        [
         "321",
         "2020",
         "2",
         "Java",
         "778731",
         "4"
        ],
        [
         "402",
         "2020",
         "2",
         "Ruby",
         "448573",
         "5"
        ],
        [
         "252",
         "2020",
         "2",
         "C++",
         "443303",
         "6"
        ],
        [
         "280",
         "2020",
         "2",
         "Dockerfile",
         "430890",
         "7"
        ],
        [
         "342",
         "2020",
         "2",
         "Makefile",
         "400132",
         "8"
        ],
        [
         "370",
         "2020",
         "2",
         "PHP",
         "397642",
         "9"
        ],
        [
         "250",
         "2020",
         "2",
         "C",
         "387316",
         "10"
        ],
        [
         "434",
         "2020",
         "2",
         "TypeScript",
         "367805",
         "11"
        ],
        [
         "251",
         "2020",
         "2",
         "C#",
         "316024",
         "12"
        ],
        [
         "246",
         "2020",
         "2",
         "Batchfile",
         "238282",
         "13"
        ],
        [
         "430",
         "2020",
         "2",
         "TSQL",
         "219552",
         "14"
        ],
        [
         "362",
         "2020",
         "2",
         "Objective-C",
         "215504",
         "15"
        ],
        [
         "560",
         "2020",
         "3",
         "JavaScript",
         "1840880",
         "1"
        ],
        [
         "624",
         "2020",
         "3",
         "Python",
         "1059882",
         "2"
        ],
        [
         "654",
         "2020",
         "3",
         "Shell",
         "997145",
         "3"
        ],
        [
         "559",
         "2020",
         "3",
         "Java",
         "687704",
         "4"
        ],
        [
         "641",
         "2020",
         "3",
         "Ruby",
         "429450",
         "5"
        ],
        [
         "517",
         "2020",
         "3",
         "Dockerfile",
         "413092",
         "6"
        ],
        [
         "490",
         "2020",
         "3",
         "C++",
         "401423",
         "7"
        ],
        [
         "582",
         "2020",
         "3",
         "Makefile",
         "374086",
         "8"
        ],
        [
         "673",
         "2020",
         "3",
         "TypeScript",
         "372279",
         "9"
        ],
        [
         "609",
         "2020",
         "3",
         "PHP",
         "364263",
         "10"
        ],
        [
         "488",
         "2020",
         "3",
         "C",
         "351960",
         "11"
        ],
        [
         "489",
         "2020",
         "3",
         "C#",
         "278553",
         "12"
        ],
        [
         "484",
         "2020",
         "3",
         "Batchfile",
         "228689",
         "13"
        ],
        [
         "602",
         "2020",
         "3",
         "Objective-C",
         "203453",
         "14"
        ],
        [
         "541",
         "2020",
         "3",
         "Go",
         "144890",
         "15"
        ],
        [
         "806",
         "2020",
         "4",
         "JavaScript",
         "1944738",
         "1"
        ],
        [
         "876",
         "2020",
         "4",
         "Python",
         "1170038",
         "2"
        ],
        [
         "908",
         "2020",
         "4",
         "Shell",
         "1123467",
         "3"
        ],
        [
         "805",
         "2020",
         "4",
         "Java",
         "754043",
         "4"
        ],
        [
         "731",
         "2020",
         "4",
         "C++",
         "462320",
         "5"
        ]
       ],
       "shape": {
        "columns": 5,
        "rows": 285
       }
      },
      "text/html": [
       "<div>\n",
       "<style scoped>\n",
       "    .dataframe tbody tr th:only-of-type {\n",
       "        vertical-align: middle;\n",
       "    }\n",
       "\n",
       "    .dataframe tbody tr th {\n",
       "        vertical-align: top;\n",
       "    }\n",
       "\n",
       "    .dataframe thead th {\n",
       "        text-align: right;\n",
       "    }\n",
       "</style>\n",
       "<table border=\"1\" class=\"dataframe\">\n",
       "  <thead>\n",
       "    <tr style=\"text-align: right;\">\n",
       "      <th></th>\n",
       "      <th>year</th>\n",
       "      <th>quarter</th>\n",
       "      <th>language</th>\n",
       "      <th>num_pushers</th>\n",
       "      <th>indice</th>\n",
       "    </tr>\n",
       "  </thead>\n",
       "  <tbody>\n",
       "    <tr>\n",
       "      <th>94</th>\n",
       "      <td>2020</td>\n",
       "      <td>1</td>\n",
       "      <td>JavaScript</td>\n",
       "      <td>1674530</td>\n",
       "      <td>1</td>\n",
       "    </tr>\n",
       "    <tr>\n",
       "      <th>154</th>\n",
       "      <td>2020</td>\n",
       "      <td>1</td>\n",
       "      <td>Python</td>\n",
       "      <td>977900</td>\n",
       "      <td>2</td>\n",
       "    </tr>\n",
       "    <tr>\n",
       "      <th>181</th>\n",
       "      <td>2020</td>\n",
       "      <td>1</td>\n",
       "      <td>Shell</td>\n",
       "      <td>803568</td>\n",
       "      <td>3</td>\n",
       "    </tr>\n",
       "    <tr>\n",
       "      <th>93</th>\n",
       "      <td>2020</td>\n",
       "      <td>1</td>\n",
       "      <td>Java</td>\n",
       "      <td>720340</td>\n",
       "      <td>4</td>\n",
       "    </tr>\n",
       "    <tr>\n",
       "      <th>24</th>\n",
       "      <td>2020</td>\n",
       "      <td>1</td>\n",
       "      <td>C++</td>\n",
       "      <td>405616</td>\n",
       "      <td>5</td>\n",
       "    </tr>\n",
       "    <tr>\n",
       "      <th>...</th>\n",
       "      <td>...</td>\n",
       "      <td>...</td>\n",
       "      <td>...</td>\n",
       "      <td>...</td>\n",
       "      <td>...</td>\n",
       "    </tr>\n",
       "    <tr>\n",
       "      <th>4944</th>\n",
       "      <td>2024</td>\n",
       "      <td>3</td>\n",
       "      <td>C#</td>\n",
       "      <td>398623</td>\n",
       "      <td>11</td>\n",
       "    </tr>\n",
       "    <tr>\n",
       "      <th>5132</th>\n",
       "      <td>2024</td>\n",
       "      <td>3</td>\n",
       "      <td>Ruby</td>\n",
       "      <td>330110</td>\n",
       "      <td>12</td>\n",
       "    </tr>\n",
       "    <tr>\n",
       "      <th>4948</th>\n",
       "      <td>2024</td>\n",
       "      <td>3</td>\n",
       "      <td>CMake</td>\n",
       "      <td>322478</td>\n",
       "      <td>13</td>\n",
       "    </tr>\n",
       "    <tr>\n",
       "      <th>4937</th>\n",
       "      <td>2024</td>\n",
       "      <td>3</td>\n",
       "      <td>Batchfile</td>\n",
       "      <td>312833</td>\n",
       "      <td>14</td>\n",
       "    </tr>\n",
       "    <tr>\n",
       "      <th>5039</th>\n",
       "      <td>2024</td>\n",
       "      <td>3</td>\n",
       "      <td>Kotlin</td>\n",
       "      <td>260575</td>\n",
       "      <td>15</td>\n",
       "    </tr>\n",
       "  </tbody>\n",
       "</table>\n",
       "<p>285 rows × 5 columns</p>\n",
       "</div>"
      ],
      "text/plain": [
       "      year  quarter    language  num_pushers  indice\n",
       "94    2020        1  JavaScript      1674530       1\n",
       "154   2020        1      Python       977900       2\n",
       "181   2020        1       Shell       803568       3\n",
       "93    2020        1        Java       720340       4\n",
       "24    2020        1         C++       405616       5\n",
       "...    ...      ...         ...          ...     ...\n",
       "4944  2024        3          C#       398623      11\n",
       "5132  2024        3        Ruby       330110      12\n",
       "4948  2024        3       CMake       322478      13\n",
       "4937  2024        3   Batchfile       312833      14\n",
       "5039  2024        3      Kotlin       260575      15\n",
       "\n",
       "[285 rows x 5 columns]"
      ]
     },
     "execution_count": 35,
     "metadata": {},
     "output_type": "execute_result"
    }
   ],
   "source": [
    "# Limitamos el estudio a los 10 lenguajes más utilizados, para ello creamos una máscara con los indices menores o igual que 10\n",
    "df_4_q_lenguaje10 = df_4_q_grouped_sorted[df_4_q_grouped_sorted[\"indice\"] <= 15]\n",
    "df_4_q_lenguaje10"
   ]
  },
  {
   "cell_type": "code",
   "execution_count": 36,
   "metadata": {},
   "outputs": [
    {
     "name": "stderr",
     "output_type": "stream",
     "text": [
      "C:\\Users\\guill\\AppData\\Local\\Temp\\ipykernel_9648\\510195182.py:1: SettingWithCopyWarning: \n",
      "A value is trying to be set on a copy of a slice from a DataFrame.\n",
      "Try using .loc[row_indexer,col_indexer] = value instead\n",
      "\n",
      "See the caveats in the documentation: https://pandas.pydata.org/pandas-docs/stable/user_guide/indexing.html#returning-a-view-versus-a-copy\n",
      "  df_4_q_lenguaje10[\"year_quarter\"] = df_4_q_lenguaje10[\"year\"].astype(\"str\") +\"-Q\"+  df_4_q_lenguaje10 [\"quarter\"].astype(\"str\")\n"
     ]
    },
    {
     "data": {
      "application/vnd.microsoft.datawrangler.viewer.v0+json": {
       "columns": [
        {
         "name": "index",
         "rawType": "int64",
         "type": "integer"
        },
        {
         "name": "year",
         "rawType": "int64",
         "type": "integer"
        },
        {
         "name": "quarter",
         "rawType": "int64",
         "type": "integer"
        },
        {
         "name": "language",
         "rawType": "object",
         "type": "string"
        },
        {
         "name": "num_pushers",
         "rawType": "int64",
         "type": "integer"
        },
        {
         "name": "indice",
         "rawType": "int64",
         "type": "integer"
        },
        {
         "name": "year_quarter",
         "rawType": "object",
         "type": "string"
        }
       ],
       "conversionMethod": "pd.DataFrame",
       "ref": "e20fc9b1-242a-4072-b1be-9cfec2b59e70",
       "rows": [
        [
         "94",
         "2020",
         "1",
         "JavaScript",
         "1674530",
         "1",
         "2020-Q1"
        ],
        [
         "154",
         "2020",
         "1",
         "Python",
         "977900",
         "2",
         "2020-Q1"
        ],
        [
         "181",
         "2020",
         "1",
         "Shell",
         "803568",
         "3",
         "2020-Q1"
        ],
        [
         "93",
         "2020",
         "1",
         "Java",
         "720340",
         "4",
         "2020-Q1"
        ],
        [
         "24",
         "2020",
         "1",
         "C++",
         "405616",
         "5",
         "2020-Q1"
        ],
        [
         "51",
         "2020",
         "1",
         "Dockerfile",
         "374932",
         "6",
         "2020-Q1"
        ],
        [
         "113",
         "2020",
         "1",
         "Makefile",
         "369767",
         "7",
         "2020-Q1"
        ],
        [
         "138",
         "2020",
         "1",
         "PHP",
         "359337",
         "8",
         "2020-Q1"
        ],
        [
         "22",
         "2020",
         "1",
         "C",
         "357637",
         "9",
         "2020-Q1"
        ],
        [
         "169",
         "2020",
         "1",
         "Ruby",
         "328975",
         "10",
         "2020-Q1"
        ],
        [
         "200",
         "2020",
         "1",
         "TypeScript",
         "306095",
         "11",
         "2020-Q1"
        ],
        [
         "23",
         "2020",
         "1",
         "C#",
         "297141",
         "12",
         "2020-Q1"
        ],
        [
         "18",
         "2020",
         "1",
         "Batchfile",
         "216159",
         "13",
         "2020-Q1"
        ],
        [
         "196",
         "2020",
         "1",
         "TSQL",
         "190295",
         "14",
         "2020-Q1"
        ],
        [
         "132",
         "2020",
         "1",
         "Objective-C",
         "188836",
         "15",
         "2020-Q1"
        ],
        [
         "322",
         "2020",
         "2",
         "JavaScript",
         "1905586",
         "1",
         "2020-Q2"
        ],
        [
         "386",
         "2020",
         "2",
         "Python",
         "1132551",
         "2",
         "2020-Q2"
        ],
        [
         "414",
         "2020",
         "2",
         "Shell",
         "976206",
         "3",
         "2020-Q2"
        ],
        [
         "321",
         "2020",
         "2",
         "Java",
         "778731",
         "4",
         "2020-Q2"
        ],
        [
         "402",
         "2020",
         "2",
         "Ruby",
         "448573",
         "5",
         "2020-Q2"
        ],
        [
         "252",
         "2020",
         "2",
         "C++",
         "443303",
         "6",
         "2020-Q2"
        ],
        [
         "280",
         "2020",
         "2",
         "Dockerfile",
         "430890",
         "7",
         "2020-Q2"
        ],
        [
         "342",
         "2020",
         "2",
         "Makefile",
         "400132",
         "8",
         "2020-Q2"
        ],
        [
         "370",
         "2020",
         "2",
         "PHP",
         "397642",
         "9",
         "2020-Q2"
        ],
        [
         "250",
         "2020",
         "2",
         "C",
         "387316",
         "10",
         "2020-Q2"
        ],
        [
         "434",
         "2020",
         "2",
         "TypeScript",
         "367805",
         "11",
         "2020-Q2"
        ],
        [
         "251",
         "2020",
         "2",
         "C#",
         "316024",
         "12",
         "2020-Q2"
        ],
        [
         "246",
         "2020",
         "2",
         "Batchfile",
         "238282",
         "13",
         "2020-Q2"
        ],
        [
         "430",
         "2020",
         "2",
         "TSQL",
         "219552",
         "14",
         "2020-Q2"
        ],
        [
         "362",
         "2020",
         "2",
         "Objective-C",
         "215504",
         "15",
         "2020-Q2"
        ],
        [
         "560",
         "2020",
         "3",
         "JavaScript",
         "1840880",
         "1",
         "2020-Q3"
        ],
        [
         "624",
         "2020",
         "3",
         "Python",
         "1059882",
         "2",
         "2020-Q3"
        ],
        [
         "654",
         "2020",
         "3",
         "Shell",
         "997145",
         "3",
         "2020-Q3"
        ],
        [
         "559",
         "2020",
         "3",
         "Java",
         "687704",
         "4",
         "2020-Q3"
        ],
        [
         "641",
         "2020",
         "3",
         "Ruby",
         "429450",
         "5",
         "2020-Q3"
        ],
        [
         "517",
         "2020",
         "3",
         "Dockerfile",
         "413092",
         "6",
         "2020-Q3"
        ],
        [
         "490",
         "2020",
         "3",
         "C++",
         "401423",
         "7",
         "2020-Q3"
        ],
        [
         "582",
         "2020",
         "3",
         "Makefile",
         "374086",
         "8",
         "2020-Q3"
        ],
        [
         "673",
         "2020",
         "3",
         "TypeScript",
         "372279",
         "9",
         "2020-Q3"
        ],
        [
         "609",
         "2020",
         "3",
         "PHP",
         "364263",
         "10",
         "2020-Q3"
        ],
        [
         "488",
         "2020",
         "3",
         "C",
         "351960",
         "11",
         "2020-Q3"
        ],
        [
         "489",
         "2020",
         "3",
         "C#",
         "278553",
         "12",
         "2020-Q3"
        ],
        [
         "484",
         "2020",
         "3",
         "Batchfile",
         "228689",
         "13",
         "2020-Q3"
        ],
        [
         "602",
         "2020",
         "3",
         "Objective-C",
         "203453",
         "14",
         "2020-Q3"
        ],
        [
         "541",
         "2020",
         "3",
         "Go",
         "144890",
         "15",
         "2020-Q3"
        ],
        [
         "806",
         "2020",
         "4",
         "JavaScript",
         "1944738",
         "1",
         "2020-Q4"
        ],
        [
         "876",
         "2020",
         "4",
         "Python",
         "1170038",
         "2",
         "2020-Q4"
        ],
        [
         "908",
         "2020",
         "4",
         "Shell",
         "1123467",
         "3",
         "2020-Q4"
        ],
        [
         "805",
         "2020",
         "4",
         "Java",
         "754043",
         "4",
         "2020-Q4"
        ],
        [
         "731",
         "2020",
         "4",
         "C++",
         "462320",
         "5",
         "2020-Q4"
        ]
       ],
       "shape": {
        "columns": 6,
        "rows": 285
       }
      },
      "text/html": [
       "<div>\n",
       "<style scoped>\n",
       "    .dataframe tbody tr th:only-of-type {\n",
       "        vertical-align: middle;\n",
       "    }\n",
       "\n",
       "    .dataframe tbody tr th {\n",
       "        vertical-align: top;\n",
       "    }\n",
       "\n",
       "    .dataframe thead th {\n",
       "        text-align: right;\n",
       "    }\n",
       "</style>\n",
       "<table border=\"1\" class=\"dataframe\">\n",
       "  <thead>\n",
       "    <tr style=\"text-align: right;\">\n",
       "      <th></th>\n",
       "      <th>year</th>\n",
       "      <th>quarter</th>\n",
       "      <th>language</th>\n",
       "      <th>num_pushers</th>\n",
       "      <th>indice</th>\n",
       "      <th>year_quarter</th>\n",
       "    </tr>\n",
       "  </thead>\n",
       "  <tbody>\n",
       "    <tr>\n",
       "      <th>94</th>\n",
       "      <td>2020</td>\n",
       "      <td>1</td>\n",
       "      <td>JavaScript</td>\n",
       "      <td>1674530</td>\n",
       "      <td>1</td>\n",
       "      <td>2020-Q1</td>\n",
       "    </tr>\n",
       "    <tr>\n",
       "      <th>154</th>\n",
       "      <td>2020</td>\n",
       "      <td>1</td>\n",
       "      <td>Python</td>\n",
       "      <td>977900</td>\n",
       "      <td>2</td>\n",
       "      <td>2020-Q1</td>\n",
       "    </tr>\n",
       "    <tr>\n",
       "      <th>181</th>\n",
       "      <td>2020</td>\n",
       "      <td>1</td>\n",
       "      <td>Shell</td>\n",
       "      <td>803568</td>\n",
       "      <td>3</td>\n",
       "      <td>2020-Q1</td>\n",
       "    </tr>\n",
       "    <tr>\n",
       "      <th>93</th>\n",
       "      <td>2020</td>\n",
       "      <td>1</td>\n",
       "      <td>Java</td>\n",
       "      <td>720340</td>\n",
       "      <td>4</td>\n",
       "      <td>2020-Q1</td>\n",
       "    </tr>\n",
       "    <tr>\n",
       "      <th>24</th>\n",
       "      <td>2020</td>\n",
       "      <td>1</td>\n",
       "      <td>C++</td>\n",
       "      <td>405616</td>\n",
       "      <td>5</td>\n",
       "      <td>2020-Q1</td>\n",
       "    </tr>\n",
       "    <tr>\n",
       "      <th>...</th>\n",
       "      <td>...</td>\n",
       "      <td>...</td>\n",
       "      <td>...</td>\n",
       "      <td>...</td>\n",
       "      <td>...</td>\n",
       "      <td>...</td>\n",
       "    </tr>\n",
       "    <tr>\n",
       "      <th>4944</th>\n",
       "      <td>2024</td>\n",
       "      <td>3</td>\n",
       "      <td>C#</td>\n",
       "      <td>398623</td>\n",
       "      <td>11</td>\n",
       "      <td>2024-Q3</td>\n",
       "    </tr>\n",
       "    <tr>\n",
       "      <th>5132</th>\n",
       "      <td>2024</td>\n",
       "      <td>3</td>\n",
       "      <td>Ruby</td>\n",
       "      <td>330110</td>\n",
       "      <td>12</td>\n",
       "      <td>2024-Q3</td>\n",
       "    </tr>\n",
       "    <tr>\n",
       "      <th>4948</th>\n",
       "      <td>2024</td>\n",
       "      <td>3</td>\n",
       "      <td>CMake</td>\n",
       "      <td>322478</td>\n",
       "      <td>13</td>\n",
       "      <td>2024-Q3</td>\n",
       "    </tr>\n",
       "    <tr>\n",
       "      <th>4937</th>\n",
       "      <td>2024</td>\n",
       "      <td>3</td>\n",
       "      <td>Batchfile</td>\n",
       "      <td>312833</td>\n",
       "      <td>14</td>\n",
       "      <td>2024-Q3</td>\n",
       "    </tr>\n",
       "    <tr>\n",
       "      <th>5039</th>\n",
       "      <td>2024</td>\n",
       "      <td>3</td>\n",
       "      <td>Kotlin</td>\n",
       "      <td>260575</td>\n",
       "      <td>15</td>\n",
       "      <td>2024-Q3</td>\n",
       "    </tr>\n",
       "  </tbody>\n",
       "</table>\n",
       "<p>285 rows × 6 columns</p>\n",
       "</div>"
      ],
      "text/plain": [
       "      year  quarter    language  num_pushers  indice year_quarter\n",
       "94    2020        1  JavaScript      1674530       1      2020-Q1\n",
       "154   2020        1      Python       977900       2      2020-Q1\n",
       "181   2020        1       Shell       803568       3      2020-Q1\n",
       "93    2020        1        Java       720340       4      2020-Q1\n",
       "24    2020        1         C++       405616       5      2020-Q1\n",
       "...    ...      ...         ...          ...     ...          ...\n",
       "4944  2024        3          C#       398623      11      2024-Q3\n",
       "5132  2024        3        Ruby       330110      12      2024-Q3\n",
       "4948  2024        3       CMake       322478      13      2024-Q3\n",
       "4937  2024        3   Batchfile       312833      14      2024-Q3\n",
       "5039  2024        3      Kotlin       260575      15      2024-Q3\n",
       "\n",
       "[285 rows x 6 columns]"
      ]
     },
     "execution_count": 36,
     "metadata": {},
     "output_type": "execute_result"
    }
   ],
   "source": [
    "df_4_q_lenguaje10[\"year_quarter\"] = df_4_q_lenguaje10[\"year\"].astype(\"str\") +\"-Q\"+  df_4_q_lenguaje10 [\"quarter\"].astype(\"str\")\n",
    "df_4_q_lenguaje10"
   ]
  },
  {
   "cell_type": "code",
   "execution_count": 37,
   "metadata": {},
   "outputs": [
    {
     "name": "stderr",
     "output_type": "stream",
     "text": [
      "C:\\Users\\guill\\AppData\\Local\\Temp\\ipykernel_9648\\2610796605.py:3: DeprecationWarning: DataFrameGroupBy.apply operated on the grouping columns. This behavior is deprecated, and in a future version of pandas the grouping columns will be excluded from the operation. Either pass `include_groups=False` to exclude the groupings or explicitly select the grouping columns after groupby to silence this warning.\n",
      "  latest_values = df_4_q_lenguaje10.groupby('language').apply(\n"
     ]
    },
    {
     "data": {
      "image/png": "[encoded data removed]",
      "text/plain": [
       "<Figure size 1400x700 with 1 Axes>"
      ]
     },
     "metadata": {},
     "output_type": "display_data"
    }
   ],
   "source": [
    "from matplotlib.ticker import FuncFormatter\n",
    "# Step 1: Obtener el valor máximo de 'num_pushers' al final de la serie temporal para cada lenguaje\n",
    "latest_values = df_4_q_lenguaje10.groupby('language').apply(\n",
    "    lambda x: x.loc[x['year_quarter'].idxmax(), 'num_pushers']\n",
    ").sort_values(ascending=False)\n",
    "\n",
    "# Step 2: Obtener el orden de los lenguajes basado en el valor máximo de 'num_pushers'\n",
    "ordered_languages = latest_values.index\n",
    "\n",
    "# Create a custom formatter function to display values in millions\n",
    "def millions(x, pos):\n",
    "    return f'{x * 1e-6:.1f}M'  # Divide by 1e6 to convert to millions and format to one decimal place\n",
    "\n",
    "# Create the line plot\n",
    "plt.figure(figsize=(14, 7))\n",
    "\n",
    "sns.lineplot(data=df_4_q_lenguaje10, x='year_quarter', y='num_pushers', hue='language', \n",
    "             linewidth=2, hue_order=ordered_languages)\n",
    "\n",
    "# Customize labels and title\n",
    "plt.xlabel('Año Trimestre')\n",
    "plt.ylabel('Git push por desarrollador (en millones)')\n",
    "plt.title('Evolución de lenguajes de programación')\n",
    "\n",
    "# Rotate the x-tick labels for better readability\n",
    "plt.xticks(rotation=-45, ha='right')\n",
    "\n",
    "# Apply the custom y-axis formatter to display values in millions\n",
    "plt.gca().yaxis.set_major_formatter(FuncFormatter(millions))\n",
    "\n",
    "# Optional: Adjust the legend if needed\n",
    "plt.legend(title='Lenguajes', loc='upper left', bbox_to_anchor=(1.05, 1), prop={'size': 15})\n",
    "\n",
    "# Show gridlines for better visualization\n",
    "plt.grid(True, linestyle=\"--\", alpha=0.6)\n",
    "\n",
    "# Tight layout to prevent overlap\n",
    "plt.tight_layout()\n",
    "\n",
    "# Display the plot\n",
    "plt.show()\n"
   ]
  },
  {
   "cell_type": "code",
   "execution_count": 38,
   "metadata": {},
   "outputs": [
    {
     "data": {
      "image/png": "[encoded data removed]",
      "text/plain": [
       "<Figure size 1400x700 with 1 Axes>"
      ]
     },
     "metadata": {},
     "output_type": "display_data"
    }
   ],
   "source": [
    "# Crear la figura\n",
    "plt.figure(figsize=(14, 7))\n",
    "\n",
    "# Graficar cada lenguaje individualmente\n",
    "for language in df_4_q_lenguaje10[\"language\"].unique():\n",
    "    subset = df_4_q_lenguaje10[df_4_q_lenguaje10[\"language\"] == language]\n",
    "    plt.plot(subset[\"year_quarter\"], subset[\"indice\"], marker=\"o\", label=language, linewidth=2)\n",
    "\n",
    "# Invertir el eje Y para que 1 sea el top ranking\n",
    "plt.gca().invert_yaxis()\n",
    "\n",
    "# Personalizar ejes y leyenda\n",
    "plt.xlabel(\"Año\")\n",
    "plt.ylabel(\"Ranking\")\n",
    "plt.title(\"Tendencia de Ranking de Lenguajes de Programación\")\n",
    "plt.xticks(df_4_q_lenguaje10[\"year_quarter\"].unique(),rotation=-45)  # Asegurar que todos los años están en el eje X\n",
    "plt.yticks(range(1, 16))\n",
    "plt.legend(loc=\"upper right\", bbox_to_anchor=(1.2, 1), title=\"Lenguaje\")\n",
    "plt.grid(True, linestyle=\"--\", alpha=0.6)"
   ]
  }
 ],
 "metadata": {
  "kernelspec": {
   "display_name": "Python 3",
   "language": "python",
   "name": "python3"
  },
  "language_info": {
   "codemirror_mode": {
    "name": "ipython",
    "version": 3
   },
   "file_extension": ".py",
   "mimetype": "text/x-python",
   "name": "python",
   "nbconvert_exporter": "python",
   "pygments_lexer": "ipython3",
   "version": "3.11.9"
  },
  "orig_nbformat": 4
 },
 "nbformat": 4,
 "nbformat_minor": 2
}
